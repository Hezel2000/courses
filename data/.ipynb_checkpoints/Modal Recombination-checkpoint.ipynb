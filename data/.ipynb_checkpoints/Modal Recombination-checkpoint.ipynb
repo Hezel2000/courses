{
 "cells": [
  {
   "cell_type": "markdown",
   "metadata": {},
   "source": [
    "# Modal Recombination"
   ]
  },
  {
   "cell_type": "markdown",
   "metadata": {},
   "source": [
    "x e.g.  counted pixels in an image"
   ]
  },
  {
   "cell_type": "code",
   "execution_count": 33,
   "metadata": {},
   "outputs": [
    {
     "name": "stdout",
     "output_type": "stream",
     "text": [
      "12.643585127743545\n"
     ]
    }
   ],
   "source": [
    "X1 = 294\n",
    "c1 = 22.7\n",
    "\n",
    "X2 = 7294\n",
    "c2 = 9.3\n",
    "\n",
    "X3 = 4204\n",
    "c3 = 11.4\n",
    "\n",
    "\n",
    "c = (X1 * c1 + X2 * c2 + X3 * c3) /(X1 + X2 + X3)\n",
    "\n",
    "print(c)"
   ]
  },
  {
   "cell_type": "code",
   "execution_count": 34,
   "metadata": {},
   "outputs": [
    {
     "name": "stdout",
     "output_type": "stream",
     "text": [
      "12.643585127743545\n"
     ]
    }
   ],
   "source": [
    "l = [[2945, 22.7], [7294, 9.3], [4204, 11.4]]\n",
    "\n",
    "nomTotal = 0\n",
    "denomTotal = 0\n",
    "\n",
    "for x in l:\n",
    "    nom = x[0] * x[1]\n",
    "    nomTotal = nomTotal + nom\n",
    "    denom = x[0]\n",
    "    denomTotal = denomTotal + denom\n",
    "    res = nomTotal/denomTotal\n",
    "    \n",
    "print(res)"
   ]
  },
  {
   "cell_type": "markdown",
   "metadata": {},
   "source": [
    "# Including a Density Correction"
   ]
  },
  {
   "cell_type": "code",
   "execution_count": 35,
   "metadata": {},
   "outputs": [
    {
     "name": "stdout",
     "output_type": "stream",
     "text": [
      "10.389867591795717\n"
     ]
    }
   ],
   "source": [
    "X1 = 294\n",
    "c1 = 22.7\n",
    "d1 = 4.3    #e.g. sulphide\n",
    "\n",
    "X2 = 7294\n",
    "c2 = 9.3\n",
    "d2 = 3.4    #e.g. olivine\n",
    "\n",
    "X3 = 4204\n",
    "c3 = 11.4\n",
    "d3 = 2.7    #e.g. feldspar\n",
    "\n",
    "\n",
    "c = (X1 * c1 * d1 + X2 * c2 * d2 + X3 * c3 * d3) /(X1 * d1 + X2 * d2 + X3 * d3)\n",
    "\n",
    "print(c)"
   ]
  },
  {
   "cell_type": "code",
   "execution_count": 37,
   "metadata": {},
   "outputs": [
    {
     "name": "stdout",
     "output_type": "stream",
     "text": [
      "10.389867591795717\n"
     ]
    }
   ],
   "source": [
    "l = [[294, 22.7, 4.3], [7294, 9.3, 3.4], [4204, 11.4, 2.7]]\n",
    "\n",
    "nomTotal = 0\n",
    "denomTotal = 0\n",
    "\n",
    "for x in l:\n",
    "    nom = x[0] * x[1] * x[2]\n",
    "    nomTotal = nomTotal + nom\n",
    "    denom = x[0] * x[2]\n",
    "    denomTotal = denomTotal + denom\n",
    "    res = nomTotal/denomTotal\n",
    "    \n",
    "print(res)"
   ]
  },
  {
   "cell_type": "markdown",
   "metadata": {},
   "source": [
    "# Written as a Command"
   ]
  },
  {
   "cell_type": "code",
   "execution_count": 40,
   "metadata": {},
   "outputs": [],
   "source": [
    "def modalRecombination(list):\n",
    "    nomTotal = 0\n",
    "    denomTotal = 0\n",
    "\n",
    "    for x in l:\n",
    "        nom = x[0] * x[1] * x[2]\n",
    "        nomTotal = nomTotal + nom\n",
    "        denom = x[0] * x[2]\n",
    "        denomTotal = denomTotal + denom\n",
    "        res = nomTotal/denomTotal\n",
    "        \n",
    "    return res"
   ]
  },
  {
   "cell_type": "code",
   "execution_count": 41,
   "metadata": {},
   "outputs": [
    {
     "data": {
      "text/plain": [
       "10.389867591795717"
      ]
     },
     "execution_count": 41,
     "metadata": {},
     "output_type": "execute_result"
    }
   ],
   "source": [
    "l = [[294, 22.7, 4.3], [7294, 9.3, 3.4], [4204, 11.4, 2.7]]\n",
    "\n",
    "modalRecombination(l)"
   ]
  }
 ],
 "metadata": {
  "kernelspec": {
   "display_name": "Python 3",
   "language": "python",
   "name": "python3"
  },
  "language_info": {
   "codemirror_mode": {
    "name": "ipython",
    "version": 3
   },
   "file_extension": ".py",
   "mimetype": "text/x-python",
   "name": "python",
   "nbconvert_exporter": "python",
   "pygments_lexer": "ipython3",
   "version": "3.8.5"
  }
 },
 "nbformat": 4,
 "nbformat_minor": 4
}
