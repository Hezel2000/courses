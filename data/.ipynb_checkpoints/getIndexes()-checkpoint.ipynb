{
 "cells": [
  {
   "cell_type": "code",
   "execution_count": 3,
   "metadata": {},
   "outputs": [],
   "source": [
    "def getIndexes(dfObj, value):\n",
    "\n",
    "    # Empty list\n",
    "    listOfPos = []\n",
    "\n",
    "    # isin() method will return a dataframe with\n",
    "    # boolean values, True at the positions\n",
    "    # where element exists\n",
    "    result = dfObj.isin([value])\n",
    "\n",
    "    # any() method will return\n",
    "    # a boolean series\n",
    "    seriesObj = result.any()\n",
    "\n",
    "    # Get list of column names where\n",
    "    # element exists\n",
    "    columnNames = list(seriesObj[seriesObj == True].index)\n",
    "\n",
    "    # Iterate over the list of columns and\n",
    "    # extract the row index where element exists\n",
    "    for col in columnNames:\n",
    "        rows = list(result[col][result[col] == True].index)\n",
    "\n",
    "        for row in rows:\n",
    "            listOfPos.append((row, col))\n",
    "\n",
    "    # This list contains a list tuples with\n",
    "    # the index of element in the dataframe\n",
    "    return listOfPos\n",
    "\n"
   ]
  },
  {
   "cell_type": "code",
   "execution_count": 5,
   "metadata": {},
   "outputs": [
    {
     "data": {
      "text/plain": [
       "[(25, 'Symbol')]"
      ]
     },
     "execution_count": 5,
     "metadata": {},
     "output_type": "execute_result"
    }
   ],
   "source": [
    "import pandas as pd\n",
    "\n",
    "imp = pd.read_excel('Atomic Masses.xlsx')\n",
    "\n",
    "getIndexes(imp, \"Fe\")"
   ]
  }
 ],
 "metadata": {
  "kernelspec": {
   "display_name": "Python 3",
   "language": "python",
   "name": "python3"
  },
  "language_info": {
   "codemirror_mode": {
    "name": "ipython",
    "version": 3
   },
   "file_extension": ".py",
   "mimetype": "text/x-python",
   "name": "python",
   "nbconvert_exporter": "python",
   "pygments_lexer": "ipython3",
   "version": "3.8.5"
  }
 },
 "nbformat": 4,
 "nbformat_minor": 4
}
