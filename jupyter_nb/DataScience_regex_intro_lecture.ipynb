{
  "nbformat": 4,
  "nbformat_minor": 0,
  "metadata": {
    "colab": {
      "provenance": [],
      "toc_visible": true
    },
    "kernelspec": {
      "name": "python3",
      "display_name": "Python 3"
    },
    "language_info": {
      "name": "python"
    }
  },
  "cells": [
    {
      "cell_type": "markdown",
      "source": [
        "## Basics"
      ],
      "metadata": {
        "id": "qvVKc6WLqzsN"
      }
    },
    {
      "cell_type": "code",
      "source": [
        "import re\n",
        "\n",
        "TEXT= 'Hallo Welt!'\n",
        "\n",
        "pattern = re.compile(\"\\W\")  #any word char\n",
        "print(pattern.findall(TEXT))\n"
      ],
      "metadata": {
        "id": "rnLDs3e4qxxD"
      },
      "execution_count": null,
      "outputs": []
    },
    {
      "cell_type": "code",
      "source": [
        "import re\n",
        "\n",
        "TEXT= 'Hallo Welt!'\n",
        "\n",
        "pattern = re.compile(\"\\w*\") #any word char, 0-inf times (consecutively)\n",
        "print(pattern.findall(TEXT))\n"
      ],
      "metadata": {
        "id": "jMxmGgvkrecS"
      },
      "execution_count": null,
      "outputs": []
    },
    {
      "cell_type": "code",
      "source": [
        "import re\n",
        "\n",
        "TEXT= 'Hallo Welt!'\n",
        "\n",
        "pattern = re.compile(\"\\!\")  #exclamation sign (escaped!)\n",
        "print(pattern.findall(TEXT))\n"
      ],
      "metadata": {
        "id": "SXHhLG7yrmSQ"
      },
      "execution_count": null,
      "outputs": []
    },
    {
      "cell_type": "code",
      "source": [
        "import re\n",
        "\n",
        "TEXT= 'Hallo Welt!'\n",
        "\n",
        "pattern = re.compile(\"\\w\\s\\w\") #any word, any whitespace, any word\n",
        "print(pattern.findall(TEXT))\n"
      ],
      "metadata": {
        "id": "lR5_XnL5rqAI"
      },
      "execution_count": null,
      "outputs": []
    },
    {
      "cell_type": "code",
      "source": [
        "import re\n",
        "\n",
        "TEXT= 'Hallo Welt!'\n",
        "\n",
        "pattern = re.compile(\"\\w*\\s\\w*\") #any word (0-inf), any whitespace, any word (0-inf)\n",
        "print(pattern.findall(TEXT))\n"
      ],
      "metadata": {
        "id": "hz2VxO22ruCY"
      },
      "execution_count": null,
      "outputs": []
    },
    {
      "cell_type": "code",
      "execution_count": null,
      "metadata": {
        "id": "yTodLZzfT0Wo"
      },
      "outputs": [],
      "source": [
        "import re\n",
        "\n",
        "TEXT = '''Lorem ipsum dolor sit amet, consectetur adipiscing elit, (a@a.de) sed do eiusmod tempor incididunt ut labore et dolore magna aliqua. Ut enim ad minim veniam, quis nostrud exercitation ullamco laboris nisi ut aliquip ex ea commodo consequat. Duis aute irure test@test.com dolor in reprehenderit in voluptate velit esse cillum dolore eu fugiat nulla pariatur. Excepteur sint occaecat cupidatat non proident, sunt in culpa qui officia deserunt mollit anim id est laborum.'''\n",
        "\n",
        "pattern = re.compile(\"\\w+\\@\\w+\\.\\w+\") #any word (1-inf), @ sign, any word (1-inf), dot (escaped!), any word (1-inf)\n",
        "print(pattern.findall(TEXT))"
      ]
    },
    {
      "cell_type": "code",
      "source": [
        "TEXT = '(Much) more information than the TEXT in Basics1'\n",
        "\n",
        "pattern = re.compile(\"\\(.*\\)\")  # open round bracket (escaped!), anything (dot) 0-inf times (*), close round bracket (escaped!),\n",
        "print(pattern.findall(TEXT))"
      ],
      "metadata": {
        "id": "2sMBQgCVr8gi"
      },
      "execution_count": null,
      "outputs": []
    },
    {
      "cell_type": "code",
      "source": [
        "TEXT = '(Much) more information than the TEXT in Basics1'\n",
        "\n",
        "pattern = re.compile(\"[A-Z]\")  # anything from A-Z (once!)\n",
        "print(pattern.findall(TEXT))"
      ],
      "metadata": {
        "id": "Vy3UomPcLADd"
      },
      "execution_count": null,
      "outputs": []
    },
    {
      "cell_type": "code",
      "source": [
        "TEXT = '(Much) more information than the TEXT in Basics1'\n",
        "\n",
        "pattern = re.compile(\"[A-Z]{2,}\")  # anything from A-Z, 2-inf times\n",
        "print(pattern.findall(TEXT))"
      ],
      "metadata": {
        "id": "5oa6soqHLEPO"
      },
      "execution_count": null,
      "outputs": []
    },
    {
      "cell_type": "code",
      "source": [
        "TEXT = '(Much) more information than the TEXT in Basics1'\n",
        "\n",
        "pattern = re.compile(\"[A-Z]\\w+[\\d\\)]\")  # anything from A-Z (once), any word (1-inf), either a digit or a closing round bracket (once)\n",
        "print(pattern.findall(TEXT))"
      ],
      "metadata": {
        "id": "6GSpLIr2vQ2a"
      },
      "execution_count": null,
      "outputs": []
    },
    {
      "cell_type": "code",
      "source": [
        "TEXT = '(Much) more information than the TEXT in Basics1'\n",
        "\n",
        "pattern = re.compile(\"[A-Z]{2,10}\") # any char from A-Z (upper case!) for 2-10 times {2,10}\n",
        "print(pattern.findall(TEXT))"
      ],
      "metadata": {
        "id": "Q0KhK3wnsX_2"
      },
      "execution_count": null,
      "outputs": []
    },
    {
      "cell_type": "code",
      "source": [
        "TEXT = '(Much) more information than the TEXT in Basics1'\n",
        "\n",
        "pattern = re.compile(\"[a-z]{6,}\") # any char from a-z (lower case!) for 6-inf times {6,}\n",
        "print(pattern.findall(TEXT))"
      ],
      "metadata": {
        "id": "fn1zljEpspex"
      },
      "execution_count": null,
      "outputs": []
    },
    {
      "cell_type": "code",
      "source": [
        "TEXT = '(Much) more information than the TEXT in Basics1'\n",
        "\n",
        "pattern = re.compile(\"Basics\\s\\d{1,3}\") # literally \"Basics\", any whitespace (once), digit for 1-3 times {1,3}\n",
        "print(pattern.findall(TEXT))"
      ],
      "metadata": {
        "id": "7nkVwHLdtwvP"
      },
      "execution_count": null,
      "outputs": []
    },
    {
      "cell_type": "code",
      "source": [
        "TEXT = '(Much) more information than the TEXT in Basics1'\n",
        "\n",
        "pattern = re.compile(\"Basics\\s(\\d{,3})\") # same as above, but see the round brackets (not escaped!) --> capture group\n",
        "print(pattern.findall(TEXT))"
      ],
      "metadata": {
        "id": "lQo9teoxt3wi"
      },
      "execution_count": null,
      "outputs": []
    },
    {
      "cell_type": "code",
      "source": [
        "TEXT = '(Much) more information than the TEXT in Basics1'\n",
        "\n",
        "pattern = re.compile(\"([A-Z]{2,}).*Basics\\s(\\d{,3})\") #same as above, added a 2nd capture group\n",
        "print(pattern.findall(TEXT))"
      ],
      "metadata": {
        "id": "2Apkb6O4uEBQ"
      },
      "execution_count": null,
      "outputs": []
    },
    {
      "cell_type": "code",
      "source": [],
      "metadata": {
        "id": "nBS5aKG0OsLC"
      },
      "execution_count": null,
      "outputs": []
    },
    {
      "cell_type": "code",
      "source": [],
      "metadata": {
        "id": "RpyQI2h_RP45"
      },
      "execution_count": null,
      "outputs": []
    }
  ]
}