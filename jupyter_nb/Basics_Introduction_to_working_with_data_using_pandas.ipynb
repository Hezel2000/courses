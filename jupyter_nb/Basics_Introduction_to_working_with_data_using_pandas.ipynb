{
 "cells": [
  {
   "cell_type": "markdown",
   "metadata": {},
   "source": [
    "# Basics- Introduction to working with data using pandas"
   ]
  },
  {
   "cell_type": "markdown",
   "metadata": {},
   "source": [
    "## import pandas"
   ]
  },
  {
   "cell_type": "code",
   "execution_count": 2,
   "metadata": {},
   "outputs": [],
   "source": [
    "import pandas as pd"
   ]
  },
  {
   "cell_type": "markdown",
   "metadata": {},
   "source": [
    "## display the data"
   ]
  },
  {
   "cell_type": "code",
   "execution_count": 17,
   "metadata": {},
   "outputs": [
    {
     "name": "stdout",
     "output_type": "stream",
     "text": [
      "(25, 28)\n",
      "Index(['mineral', 'oxygens', 'sample', 'no.', 'SiO2', 'TiO2', 'Al2O3', 'Cr2O3',\n",
      "       'FeO', 'MnO', 'NiO', 'MgO', 'CaO', 'Na2O', 'K2O', 'total oxides', 'Si',\n",
      "       'Ti', 'Al', 'Cr', 'Fe', 'Mn', 'Ni', 'Mg', 'Ca', 'Na', 'K',\n",
      "       'total cations'],\n",
      "      dtype='object')\n"
     ]
    }
   ],
   "source": [
    "df = pd.read_excel('data/Mineral Data.xlsx')\n",
    "\n",
    "pd.set_option('display.max_rows', df.shape[0])\n",
    "pd.set_option('display.max_columns', df.shape[1])\n",
    "\n",
    "print(df.shape)\n",
    "\n",
    "print(df.columns)"
   ]
  },
  {
   "cell_type": "markdown",
   "metadata": {},
   "source": [
    "## Select the data of a single categorie"
   ]
  },
  {
   "cell_type": "code",
   "execution_count": 19,
   "metadata": {},
   "outputs": [
    {
     "data": {
      "text/plain": [
       "0     42.51\n",
       "1     42.16\n",
       "2     52.33\n",
       "3     51.54\n",
       "4     57.09\n",
       "5     59.19\n",
       "6     58.33\n",
       "7     53.87\n",
       "8     47.10\n",
       "9     47.72\n",
       "10    42.72\n",
       "11    42.83\n",
       "12    40.43\n",
       "13    42.46\n",
       "14    45.09\n",
       "15    46.72\n",
       "16    46.36\n",
       "17    47.78\n",
       "18     0.59\n",
       "19    35.13\n",
       "20    35.52\n",
       "21     3.24\n",
       "22     0.16\n",
       "23    51.72\n",
       "24    32.79\n",
       "Name: SiO2, dtype: float64"
      ]
     },
     "execution_count": 19,
     "metadata": {},
     "output_type": "execute_result"
    }
   ],
   "source": [
    "df['SiO2']"
   ]
  },
  {
   "cell_type": "code",
   "execution_count": 21,
   "metadata": {},
   "outputs": [
    {
     "data": {
      "text/plain": [
       "0          ol\n",
       "2         cpx\n",
       "4         opx\n",
       "8          fs\n",
       "16    fsp/mes\n",
       "18         sp\n",
       "19      ol/sp\n",
       "Name: mineral, dtype: object"
      ]
     },
     "execution_count": 21,
     "metadata": {},
     "output_type": "execute_result"
    }
   ],
   "source": [
    "df['mineral'].drop_duplicates()"
   ]
  },
  {
   "cell_type": "code",
   "execution_count": 24,
   "metadata": {},
   "outputs": [
    {
     "data": {
      "text/html": [
       "<div>\n",
       "<style scoped>\n",
       "    .dataframe tbody tr th:only-of-type {\n",
       "        vertical-align: middle;\n",
       "    }\n",
       "\n",
       "    .dataframe tbody tr th {\n",
       "        vertical-align: top;\n",
       "    }\n",
       "\n",
       "    .dataframe thead th {\n",
       "        text-align: right;\n",
       "    }\n",
       "</style>\n",
       "<table border=\"1\" class=\"dataframe\">\n",
       "  <thead>\n",
       "    <tr style=\"text-align: right;\">\n",
       "      <th></th>\n",
       "      <th>mineral</th>\n",
       "      <th>oxygens</th>\n",
       "      <th>sample</th>\n",
       "      <th>no.</th>\n",
       "      <th>SiO2</th>\n",
       "      <th>TiO2</th>\n",
       "      <th>Al2O3</th>\n",
       "      <th>Cr2O3</th>\n",
       "      <th>FeO</th>\n",
       "      <th>MnO</th>\n",
       "      <th>NiO</th>\n",
       "      <th>MgO</th>\n",
       "      <th>CaO</th>\n",
       "      <th>Na2O</th>\n",
       "      <th>K2O</th>\n",
       "      <th>total oxides</th>\n",
       "      <th>Si</th>\n",
       "      <th>Ti</th>\n",
       "      <th>Al</th>\n",
       "      <th>Cr</th>\n",
       "      <th>Fe</th>\n",
       "      <th>Mn</th>\n",
       "      <th>Ni</th>\n",
       "      <th>Mg</th>\n",
       "      <th>Ca</th>\n",
       "      <th>Na</th>\n",
       "      <th>K</th>\n",
       "      <th>total cations</th>\n",
       "    </tr>\n",
       "  </thead>\n",
       "  <tbody>\n",
       "    <tr>\n",
       "      <th>0</th>\n",
       "      <td>ol</td>\n",
       "      <td>4</td>\n",
       "      <td>chd#2</td>\n",
       "      <td>1</td>\n",
       "      <td>42.51</td>\n",
       "      <td>0.04</td>\n",
       "      <td>0.07</td>\n",
       "      <td>0.04</td>\n",
       "      <td>0.18</td>\n",
       "      <td>0.00</td>\n",
       "      <td>0.00</td>\n",
       "      <td>55.26</td>\n",
       "      <td>1.58</td>\n",
       "      <td>0.0</td>\n",
       "      <td>0.0</td>\n",
       "      <td>99.68</td>\n",
       "      <td>1.003</td>\n",
       "      <td>0.001</td>\n",
       "      <td>0.002</td>\n",
       "      <td>0.001</td>\n",
       "      <td>0.004</td>\n",
       "      <td>0.000</td>\n",
       "      <td>0.0</td>\n",
       "      <td>1.944</td>\n",
       "      <td>0.040</td>\n",
       "      <td>0.0</td>\n",
       "      <td>0.0</td>\n",
       "      <td>2.995</td>\n",
       "    </tr>\n",
       "    <tr>\n",
       "      <th>11</th>\n",
       "      <td>ol</td>\n",
       "      <td>4</td>\n",
       "      <td>chd#3</td>\n",
       "      <td>17</td>\n",
       "      <td>42.83</td>\n",
       "      <td>0.03</td>\n",
       "      <td>0.11</td>\n",
       "      <td>0.16</td>\n",
       "      <td>0.45</td>\n",
       "      <td>0.00</td>\n",
       "      <td>0.01</td>\n",
       "      <td>56.10</td>\n",
       "      <td>0.46</td>\n",
       "      <td>0.0</td>\n",
       "      <td>0.0</td>\n",
       "      <td>100.15</td>\n",
       "      <td>1.004</td>\n",
       "      <td>0.001</td>\n",
       "      <td>0.003</td>\n",
       "      <td>0.003</td>\n",
       "      <td>0.009</td>\n",
       "      <td>0.000</td>\n",
       "      <td>0.0</td>\n",
       "      <td>1.961</td>\n",
       "      <td>0.012</td>\n",
       "      <td>0.0</td>\n",
       "      <td>0.0</td>\n",
       "      <td>2.992</td>\n",
       "    </tr>\n",
       "    <tr>\n",
       "      <th>13</th>\n",
       "      <td>ol</td>\n",
       "      <td>4</td>\n",
       "      <td>chd#3</td>\n",
       "      <td>21</td>\n",
       "      <td>42.46</td>\n",
       "      <td>0.05</td>\n",
       "      <td>0.27</td>\n",
       "      <td>0.10</td>\n",
       "      <td>0.32</td>\n",
       "      <td>0.03</td>\n",
       "      <td>0.01</td>\n",
       "      <td>55.26</td>\n",
       "      <td>0.57</td>\n",
       "      <td>0.0</td>\n",
       "      <td>0.0</td>\n",
       "      <td>99.07</td>\n",
       "      <td>1.006</td>\n",
       "      <td>0.001</td>\n",
       "      <td>0.008</td>\n",
       "      <td>0.002</td>\n",
       "      <td>0.006</td>\n",
       "      <td>0.001</td>\n",
       "      <td>0.0</td>\n",
       "      <td>1.951</td>\n",
       "      <td>0.014</td>\n",
       "      <td>0.0</td>\n",
       "      <td>0.0</td>\n",
       "      <td>2.989</td>\n",
       "    </tr>\n",
       "  </tbody>\n",
       "</table>\n",
       "</div>"
      ],
      "text/plain": [
       "   mineral  oxygens sample  no.   SiO2  TiO2  Al2O3  Cr2O3   FeO   MnO   NiO  \\\n",
       "0       ol        4  chd#2    1  42.51  0.04   0.07   0.04  0.18  0.00  0.00   \n",
       "11      ol        4  chd#3   17  42.83  0.03   0.11   0.16  0.45  0.00  0.01   \n",
       "13      ol        4  chd#3   21  42.46  0.05   0.27   0.10  0.32  0.03  0.01   \n",
       "\n",
       "      MgO   CaO  Na2O  K2O  total oxides     Si     Ti     Al     Cr     Fe  \\\n",
       "0   55.26  1.58   0.0  0.0         99.68  1.003  0.001  0.002  0.001  0.004   \n",
       "11  56.10  0.46   0.0  0.0        100.15  1.004  0.001  0.003  0.003  0.009   \n",
       "13  55.26  0.57   0.0  0.0         99.07  1.006  0.001  0.008  0.002  0.006   \n",
       "\n",
       "       Mn   Ni     Mg     Ca   Na    K  total cations  \n",
       "0   0.000  0.0  1.944  0.040  0.0  0.0          2.995  \n",
       "11  0.000  0.0  1.961  0.012  0.0  0.0          2.992  \n",
       "13  0.001  0.0  1.951  0.014  0.0  0.0          2.989  "
      ]
     },
     "execution_count": 24,
     "metadata": {},
     "output_type": "execute_result"
    }
   ],
   "source": [
    "filter = (df['MgO'] > 50) & (df['MgO'] > 55)\n",
    "\n",
    "df[filter]"
   ]
  }
 ],
 "metadata": {
  "kernelspec": {
   "display_name": "Python 3",
   "language": "python",
   "name": "python3"
  },
  "language_info": {
   "codemirror_mode": {
    "name": "ipython",
    "version": 3
   },
   "file_extension": ".py",
   "mimetype": "text/x-python",
   "name": "python",
   "nbconvert_exporter": "python",
   "pygments_lexer": "ipython3",
   "version": "3.8.5"
  }
 },
 "nbformat": 4,
 "nbformat_minor": 4
}
