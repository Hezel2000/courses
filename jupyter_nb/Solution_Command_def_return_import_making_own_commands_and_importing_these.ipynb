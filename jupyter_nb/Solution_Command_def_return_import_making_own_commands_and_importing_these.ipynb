{
 "cells": [
  {
   "cell_type": "markdown",
   "metadata": {},
   "source": [
    "# Solution- def, return, import & making own commands and importing these "
   ]
  },
  {
   "cell_type": "markdown",
   "metadata": {},
   "source": [
    "## Instant Review & Quiz"
   ]
  },
  {
   "cell_type": "markdown",
   "metadata": {},
   "source": [
    "I1. What is the main purpose of 'def'?"
   ]
  },
  {
   "cell_type": "markdown",
   "metadata": {},
   "source": [
    "<font color = darkgreen><b>\n",
    "    Defining own commands.\n",
    "</b></font>"
   ]
  },
  {
   "cell_type": "markdown",
   "metadata": {},
   "source": [
    "I2. Provide a brief explanation of what a 'library' is."
   ]
  },
  {
   "cell_type": "markdown",
   "metadata": {},
   "source": [
    "<font color = darkgreen><b>\n",
    "    A library contains a collection of e.g., commands.\n",
    "</b></font>"
   ]
  },
  {
   "cell_type": "markdown",
   "metadata": {},
   "source": [
    "Q1. The length of code within the def command is limited.<br>\n",
    "True<br>\n",
    "False"
   ]
  },
  {
   "cell_type": "markdown",
   "metadata": {},
   "source": [
    "<font color = darkgreen><b>\n",
    "    False\n",
    "</b></font>"
   ]
  },
  {
   "cell_type": "markdown",
   "metadata": {},
   "source": [
    "Q2. It is possible to only import individual commandsfrom a library<br>\n",
    "True<br>\n",
    "False"
   ]
  },
  {
   "cell_type": "markdown",
   "metadata": {},
   "source": [
    "<font color = darkgreen><b>\n",
    "    True\n",
    "</b></font>"
   ]
  },
  {
   "cell_type": "markdown",
   "metadata": {},
   "source": [
    "## Practise"
   ]
  },
  {
   "cell_type": "markdown",
   "metadata": {},
   "source": [
    "We start with a command that multiplies the two given (or any other two) numbers together, and returns the result with two decimals.<br>\n",
    "Name the command 'multiplyTwo'."
   ]
  },
  {
   "cell_type": "code",
   "execution_count": null,
   "metadata": {},
   "outputs": [],
   "source": [
    "nr1 = 0.87498435\n",
    "nr2 = 1.3987872\n",
    "\n",
    "def multiplyTwo(number_1, number_2):\n",
    "    return round(number_1 * number_2, 2)\n",
    "\n",
    "multiplyTwo(nr1, nr2)"
   ]
  },
  {
   "cell_type": "markdown",
   "metadata": {},
   "source": [
    "<b>A little challenge:</b><br>\n",
    "We have a list of Cr concentrations and want a command that multiplies each element with a user defined number.<br>\n",
    "The output shall be a list, in which each value has 2 decimals.<br>\n",
    "Name the command 'multiplyEachBy'."
   ]
  },
  {
   "cell_type": "code",
   "execution_count": null,
   "metadata": {},
   "outputs": [],
   "source": [
    "crData = [1.8273403, 2.7294852, 1.0824893, 2.1934598]\n",
    "\n",
    "def multiplyEachBy(inputList, multiplier):\n",
    "    newList = []\n",
    "    for i in inputList:\n",
    "        res = round(multiplier * i, 2)\n",
    "        newList.append(res)\n",
    "    return newList\n",
    "\n",
    "\n",
    "multiplyEachBy(crData, 10)"
   ]
  },
  {
   "cell_type": "markdown",
   "metadata": {},
   "source": [
    "Another challenge (if the previous was difficult, look up the result, and try this one)<br>\n",
    "You measured oxygen isotope ratios given in the list. The standard V-SMOW ratio is also given. Now code a command named 'delta_values' with which you can calculate the 18/16 and 17/16 delta-values of your measured ratios and depending on wich ratios are input.<br>\n",
    "In case you forgot, the formula is: delta = ((sample_ratio / standard_ratio) - 1) * 1000"
   ]
  },
  {
   "cell_type": "code",
   "execution_count": null,
   "metadata": {},
   "outputs": [],
   "source": [
    "smpRatios18_16 = [0.002010, 0.0020041, 0.0019910, 0.0019983, 0.0020079, 0.0020051]\n",
    "smpRatios17_16 = [0.00038036, 0.0003798, 0.0003786, 0.00037924, 0.00038016, 0.00037989]\n",
    "vSMOWRatio18_16 = 0.0020052\n",
    "vSMOWRatio17_16 = 0.0003799\n",
    "\n",
    "\n",
    "def delta_values(inputList, standard_ratio):\n",
    "    newList = []\n",
    "    for i in inputList:\n",
    "        res = round(((i / standard_ratio) - 1) * 1000, 2)\n",
    "        newList.append(res)\n",
    "    return newList\n",
    "\n",
    "print(delta_values(smpRatios18_16, vSMOWRatio18_16))\n",
    "print(delta_values(smpRatios17_16, vSMOWRatio17_16))"
   ]
  },
  {
   "cell_type": "markdown",
   "metadata": {},
   "source": [
    "Finally store this formule in your mineralogyModule by simply open your module as a Jupyter Notebook and copy and paste this command into it.<br>\n",
    "First, import your module and use the formula.<br>\n",
    "To check whether it really works, choos in the Menu 'Kernel', and there 'Restart & Clear Output'"
   ]
  },
  {
   "cell_type": "code",
   "execution_count": 8,
   "metadata": {},
   "outputs": [],
   "source": [
    "import modules.mineralogyModule as mi"
   ]
  },
  {
   "cell_type": "code",
   "execution_count": 9,
   "metadata": {},
   "outputs": [
    {
     "name": "stdout",
     "output_type": "stream",
     "text": [
      "[2.39, -0.55, -7.08, -3.44, 1.35, -0.05]\n",
      "[1.21, -0.26, -3.42, -1.74, 0.68, -0.03]\n"
     ]
    }
   ],
   "source": [
    "smpRatios18_16 = [0.002010, 0.0020041, 0.0019910, 0.0019983, 0.0020079, 0.0020051]\n",
    "smpRatios17_16 = [0.00038036, 0.0003798, 0.0003786, 0.00037924, 0.00038016, 0.00037989]\n",
    "vSMOWRatio18_16 = 0.0020052\n",
    "vSMOWRatio17_16 = 0.0003799\n",
    "\n",
    "\n",
    "print(mi.delta_values(smpRatios18_16, vSMOWRatio18_16))\n",
    "print(mi.delta_values(smpRatios17_16, vSMOWRatio17_16))"
   ]
  }
 ],
 "metadata": {
  "kernelspec": {
   "display_name": "Python 3",
   "language": "python",
   "name": "python3"
  },
  "language_info": {
   "codemirror_mode": {
    "name": "ipython",
    "version": 3
   },
   "file_extension": ".py",
   "mimetype": "text/x-python",
   "name": "python",
   "nbconvert_exporter": "python",
   "pygments_lexer": "ipython3",
   "version": "3.8.5"
  }
 },
 "nbformat": 4,
 "nbformat_minor": 4
}
