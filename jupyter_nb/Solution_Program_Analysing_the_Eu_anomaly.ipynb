{
 "cells": [
  {
   "cell_type": "markdown",
   "metadata": {},
   "source": [
    "# Solution- Analysing the Eu-anomaly"
   ]
  },
  {
   "cell_type": "markdown",
   "metadata": {},
   "source": [
    "## Instant Review & Quiz"
   ]
  },
  {
   "cell_type": "markdown",
   "metadata": {},
   "source": [
    "<b>I1. <font color = brown>Opinion–:</font><br>With regard to a program like analysing the Eu-anomaly: how much time and skill do you think is requried to preciscly define the calculation and how it is executed? and how much time and skill do you think is required to write the code?</b>"
   ]
  },
  {
   "cell_type": "markdown",
   "metadata": {},
   "source": [
    "<font color = darkgreen><b>\n",
    "    I think that understanding and preparing the actual calculation, i.e., everything before coding requires great attention and time. The code might still also take some time. But without concentrated preparation, coding will quickly become futile.\n",
    "</b></font>"
   ]
  },
  {
   "cell_type": "markdown",
   "metadata": {},
   "source": [
    "<b>Q1. In the .dropna() method: how do you delete all datasets that have at least one value?</b><br>\n",
    ".dropna(0, 'all')<br>\n",
    ".dropna(0)"
   ]
  },
  {
   "cell_type": "markdown",
   "metadata": {},
   "source": [
    "<font color = darkgreen><b>\n",
    "    .dropna(0)\n",
    "</b></font>"
   ]
  },
  {
   "cell_type": "markdown",
   "metadata": {},
   "source": [
    "## Practise"
   ]
  },
  {
   "cell_type": "markdown",
   "metadata": {},
   "source": [
    "We now want to calculate the anomaly of every REE element.<br>\n",
    "The element of interest shall be selectable from a drop-down menu.<br>\n",
    "Start with importing the required libraries and/or commands."
   ]
  },
  {
   "cell_type": "code",
   "execution_count": 147,
   "metadata": {},
   "outputs": [],
   "source": [
    "import pandas as pd"
   ]
  },
  {
   "cell_type": "markdown",
   "metadata": {},
   "source": [
    "Below we will ned the REE CI concentrations. We will start with extracting these.<br>\n",
    "To do this, read in the CI data from 'chondrite element abundances.xlsx' into the variable 'cIdf'.<br>\n",
    "Define a command to find the index of a specific element."
   ]
  },
  {
   "cell_type": "code",
   "execution_count": 150,
   "metadata": {},
   "outputs": [],
   "source": [
    "cIdf = pd.read_excel('data/chondrite element abundances.xlsx')\n",
    "\n",
    "\n",
    "def posRow(name):\n",
    "    return cIdf.index[cIdf['Element'] == name][0]"
   ]
  },
  {
   "cell_type": "markdown",
   "metadata": {},
   "source": [
    "Store this handy posRow() command in your 'mineralogyModule.py'."
   ]
  },
  {
   "cell_type": "markdown",
   "metadata": {},
   "source": [
    "Use this command to select only the datasates with the SEE."
   ]
  },
  {
   "cell_type": "code",
   "execution_count": 151,
   "metadata": {},
   "outputs": [
    {
     "data": {
      "text/html": [
       "<div>\n",
       "<style scoped>\n",
       "    .dataframe tbody tr th:only-of-type {\n",
       "        vertical-align: middle;\n",
       "    }\n",
       "\n",
       "    .dataframe tbody tr th {\n",
       "        vertical-align: top;\n",
       "    }\n",
       "\n",
       "    .dataframe thead th {\n",
       "        text-align: right;\n",
       "    }\n",
       "</style>\n",
       "<table border=\"1\" class=\"dataframe\">\n",
       "  <thead>\n",
       "    <tr style=\"text-align: right;\">\n",
       "      <th></th>\n",
       "      <th>z</th>\n",
       "      <th>Element</th>\n",
       "      <th>Einheit</th>\n",
       "      <th>CI</th>\n",
       "      <th>CM</th>\n",
       "      <th>CV</th>\n",
       "      <th>CO</th>\n",
       "      <th>CK</th>\n",
       "      <th>CR</th>\n",
       "      <th>CH</th>\n",
       "      <th>H</th>\n",
       "      <th>L</th>\n",
       "      <th>LL</th>\n",
       "      <th>EH</th>\n",
       "      <th>EL</th>\n",
       "      <th>R</th>\n",
       "      <th>K</th>\n",
       "    </tr>\n",
       "  </thead>\n",
       "  <tbody>\n",
       "    <tr>\n",
       "      <th>56</th>\n",
       "      <td>57</td>\n",
       "      <td>La</td>\n",
       "      <td>ppm</td>\n",
       "      <td>0.235</td>\n",
       "      <td>0.320</td>\n",
       "      <td>0.469</td>\n",
       "      <td>0.380</td>\n",
       "      <td>0.460</td>\n",
       "      <td>0.310</td>\n",
       "      <td>0.290</td>\n",
       "      <td>0.301</td>\n",
       "      <td>0.318</td>\n",
       "      <td>0.330</td>\n",
       "      <td>0.240</td>\n",
       "      <td>0.196</td>\n",
       "      <td>0.310</td>\n",
       "      <td>0.320</td>\n",
       "    </tr>\n",
       "    <tr>\n",
       "      <th>57</th>\n",
       "      <td>58</td>\n",
       "      <td>Ce</td>\n",
       "      <td>ppm</td>\n",
       "      <td>0.620</td>\n",
       "      <td>0.940</td>\n",
       "      <td>1.190</td>\n",
       "      <td>1.140</td>\n",
       "      <td>1.270</td>\n",
       "      <td>0.750</td>\n",
       "      <td>0.870</td>\n",
       "      <td>0.763</td>\n",
       "      <td>0.970</td>\n",
       "      <td>0.880</td>\n",
       "      <td>0.650</td>\n",
       "      <td>0.580</td>\n",
       "      <td>0.830</td>\n",
       "      <td>NaN</td>\n",
       "    </tr>\n",
       "    <tr>\n",
       "      <th>58</th>\n",
       "      <td>59</td>\n",
       "      <td>Pr</td>\n",
       "      <td>ppm</td>\n",
       "      <td>0.094</td>\n",
       "      <td>0.137</td>\n",
       "      <td>0.174</td>\n",
       "      <td>0.140</td>\n",
       "      <td>NaN</td>\n",
       "      <td>NaN</td>\n",
       "      <td>NaN</td>\n",
       "      <td>0.120</td>\n",
       "      <td>0.140</td>\n",
       "      <td>0.130</td>\n",
       "      <td>0.100</td>\n",
       "      <td>0.070</td>\n",
       "      <td>NaN</td>\n",
       "      <td>NaN</td>\n",
       "    </tr>\n",
       "    <tr>\n",
       "      <th>59</th>\n",
       "      <td>60</td>\n",
       "      <td>Nd</td>\n",
       "      <td>ppm</td>\n",
       "      <td>0.460</td>\n",
       "      <td>0.626</td>\n",
       "      <td>0.919</td>\n",
       "      <td>0.850</td>\n",
       "      <td>0.990</td>\n",
       "      <td>0.790</td>\n",
       "      <td>NaN</td>\n",
       "      <td>0.581</td>\n",
       "      <td>0.700</td>\n",
       "      <td>0.650</td>\n",
       "      <td>0.440</td>\n",
       "      <td>0.370</td>\n",
       "      <td>NaN</td>\n",
       "      <td>NaN</td>\n",
       "    </tr>\n",
       "    <tr>\n",
       "      <th>60</th>\n",
       "      <td>61</td>\n",
       "      <td>Pm</td>\n",
       "      <td>NaN</td>\n",
       "      <td>NaN</td>\n",
       "      <td>NaN</td>\n",
       "      <td>NaN</td>\n",
       "      <td>NaN</td>\n",
       "      <td>NaN</td>\n",
       "      <td>NaN</td>\n",
       "      <td>NaN</td>\n",
       "      <td>NaN</td>\n",
       "      <td>NaN</td>\n",
       "      <td>NaN</td>\n",
       "      <td>NaN</td>\n",
       "      <td>NaN</td>\n",
       "      <td>NaN</td>\n",
       "      <td>NaN</td>\n",
       "    </tr>\n",
       "    <tr>\n",
       "      <th>61</th>\n",
       "      <td>62</td>\n",
       "      <td>Sm</td>\n",
       "      <td>ppm</td>\n",
       "      <td>0.150</td>\n",
       "      <td>0.204</td>\n",
       "      <td>0.294</td>\n",
       "      <td>0.250</td>\n",
       "      <td>0.290</td>\n",
       "      <td>0.230</td>\n",
       "      <td>0.185</td>\n",
       "      <td>0.194</td>\n",
       "      <td>0.203</td>\n",
       "      <td>0.205</td>\n",
       "      <td>0.140</td>\n",
       "      <td>0.149</td>\n",
       "      <td>0.180</td>\n",
       "      <td>0.200</td>\n",
       "    </tr>\n",
       "    <tr>\n",
       "      <th>62</th>\n",
       "      <td>63</td>\n",
       "      <td>Eu</td>\n",
       "      <td>ppm</td>\n",
       "      <td>0.057</td>\n",
       "      <td>0.078</td>\n",
       "      <td>0.105</td>\n",
       "      <td>0.096</td>\n",
       "      <td>0.110</td>\n",
       "      <td>0.080</td>\n",
       "      <td>0.076</td>\n",
       "      <td>0.074</td>\n",
       "      <td>0.080</td>\n",
       "      <td>0.078</td>\n",
       "      <td>0.052</td>\n",
       "      <td>0.054</td>\n",
       "      <td>0.072</td>\n",
       "      <td>0.080</td>\n",
       "    </tr>\n",
       "    <tr>\n",
       "      <th>63</th>\n",
       "      <td>64</td>\n",
       "      <td>Gd</td>\n",
       "      <td>ppm</td>\n",
       "      <td>0.200</td>\n",
       "      <td>0.290</td>\n",
       "      <td>0.405</td>\n",
       "      <td>0.390</td>\n",
       "      <td>0.440</td>\n",
       "      <td>0.320</td>\n",
       "      <td>0.290</td>\n",
       "      <td>0.275</td>\n",
       "      <td>0.317</td>\n",
       "      <td>0.290</td>\n",
       "      <td>0.210</td>\n",
       "      <td>0.196</td>\n",
       "      <td>NaN</td>\n",
       "      <td>NaN</td>\n",
       "    </tr>\n",
       "    <tr>\n",
       "      <th>64</th>\n",
       "      <td>65</td>\n",
       "      <td>Tb</td>\n",
       "      <td>ppm</td>\n",
       "      <td>0.037</td>\n",
       "      <td>0.051</td>\n",
       "      <td>0.071</td>\n",
       "      <td>0.060</td>\n",
       "      <td>NaN</td>\n",
       "      <td>0.050</td>\n",
       "      <td>0.050</td>\n",
       "      <td>0.049</td>\n",
       "      <td>0.059</td>\n",
       "      <td>0.054</td>\n",
       "      <td>0.034</td>\n",
       "      <td>0.032</td>\n",
       "      <td>NaN</td>\n",
       "      <td>NaN</td>\n",
       "    </tr>\n",
       "    <tr>\n",
       "      <th>65</th>\n",
       "      <td>66</td>\n",
       "      <td>Dy</td>\n",
       "      <td>ppm</td>\n",
       "      <td>0.250</td>\n",
       "      <td>0.332</td>\n",
       "      <td>0.454</td>\n",
       "      <td>0.420</td>\n",
       "      <td>0.490</td>\n",
       "      <td>0.280</td>\n",
       "      <td>0.310</td>\n",
       "      <td>0.305</td>\n",
       "      <td>0.372</td>\n",
       "      <td>0.360</td>\n",
       "      <td>0.230</td>\n",
       "      <td>0.245</td>\n",
       "      <td>0.029</td>\n",
       "      <td>NaN</td>\n",
       "    </tr>\n",
       "    <tr>\n",
       "      <th>66</th>\n",
       "      <td>67</td>\n",
       "      <td>Ho</td>\n",
       "      <td>ppm</td>\n",
       "      <td>0.056</td>\n",
       "      <td>0.077</td>\n",
       "      <td>0.097</td>\n",
       "      <td>0.096</td>\n",
       "      <td>0.100</td>\n",
       "      <td>0.100</td>\n",
       "      <td>0.070</td>\n",
       "      <td>0.074</td>\n",
       "      <td>0.089</td>\n",
       "      <td>0.082</td>\n",
       "      <td>0.050</td>\n",
       "      <td>0.051</td>\n",
       "      <td>0.059</td>\n",
       "      <td>NaN</td>\n",
       "    </tr>\n",
       "    <tr>\n",
       "      <th>67</th>\n",
       "      <td>68</td>\n",
       "      <td>Er</td>\n",
       "      <td>ppm</td>\n",
       "      <td>0.160</td>\n",
       "      <td>0.221</td>\n",
       "      <td>0.277</td>\n",
       "      <td>0.305</td>\n",
       "      <td>0.350</td>\n",
       "      <td>NaN</td>\n",
       "      <td>NaN</td>\n",
       "      <td>0.213</td>\n",
       "      <td>0.252</td>\n",
       "      <td>0.240</td>\n",
       "      <td>0.160</td>\n",
       "      <td>0.160</td>\n",
       "      <td>NaN</td>\n",
       "      <td>NaN</td>\n",
       "    </tr>\n",
       "    <tr>\n",
       "      <th>68</th>\n",
       "      <td>69</td>\n",
       "      <td>Tm</td>\n",
       "      <td>ppm</td>\n",
       "      <td>0.025</td>\n",
       "      <td>0.035</td>\n",
       "      <td>0.048</td>\n",
       "      <td>0.040</td>\n",
       "      <td>NaN</td>\n",
       "      <td>NaN</td>\n",
       "      <td>0.040</td>\n",
       "      <td>0.033</td>\n",
       "      <td>0.038</td>\n",
       "      <td>0.035</td>\n",
       "      <td>0.024</td>\n",
       "      <td>0.023</td>\n",
       "      <td>NaN</td>\n",
       "      <td>NaN</td>\n",
       "    </tr>\n",
       "    <tr>\n",
       "      <th>69</th>\n",
       "      <td>70</td>\n",
       "      <td>Yb</td>\n",
       "      <td>ppm</td>\n",
       "      <td>0.160</td>\n",
       "      <td>0.215</td>\n",
       "      <td>0.312</td>\n",
       "      <td>0.270</td>\n",
       "      <td>0.320</td>\n",
       "      <td>0.220</td>\n",
       "      <td>0.210</td>\n",
       "      <td>0.203</td>\n",
       "      <td>0.226</td>\n",
       "      <td>0.230</td>\n",
       "      <td>0.154</td>\n",
       "      <td>0.157</td>\n",
       "      <td>0.216</td>\n",
       "      <td>0.215</td>\n",
       "    </tr>\n",
       "    <tr>\n",
       "      <th>70</th>\n",
       "      <td>71</td>\n",
       "      <td>Lu</td>\n",
       "      <td>ppm</td>\n",
       "      <td>0.025</td>\n",
       "      <td>0.033</td>\n",
       "      <td>0.046</td>\n",
       "      <td>0.039</td>\n",
       "      <td>0.046</td>\n",
       "      <td>0.032</td>\n",
       "      <td>0.030</td>\n",
       "      <td>0.033</td>\n",
       "      <td>0.034</td>\n",
       "      <td>0.034</td>\n",
       "      <td>0.025</td>\n",
       "      <td>0.025</td>\n",
       "      <td>0.032</td>\n",
       "      <td>0.033</td>\n",
       "    </tr>\n",
       "  </tbody>\n",
       "</table>\n",
       "</div>"
      ],
      "text/plain": [
       "     z Element Einheit     CI     CM     CV     CO     CK     CR     CH  \\\n",
       "56  57      La     ppm  0.235  0.320  0.469  0.380  0.460  0.310  0.290   \n",
       "57  58      Ce     ppm  0.620  0.940  1.190  1.140  1.270  0.750  0.870   \n",
       "58  59      Pr     ppm  0.094  0.137  0.174  0.140    NaN    NaN    NaN   \n",
       "59  60      Nd     ppm  0.460  0.626  0.919  0.850  0.990  0.790    NaN   \n",
       "60  61      Pm     NaN    NaN    NaN    NaN    NaN    NaN    NaN    NaN   \n",
       "61  62      Sm     ppm  0.150  0.204  0.294  0.250  0.290  0.230  0.185   \n",
       "62  63      Eu     ppm  0.057  0.078  0.105  0.096  0.110  0.080  0.076   \n",
       "63  64      Gd     ppm  0.200  0.290  0.405  0.390  0.440  0.320  0.290   \n",
       "64  65      Tb     ppm  0.037  0.051  0.071  0.060    NaN  0.050  0.050   \n",
       "65  66      Dy     ppm  0.250  0.332  0.454  0.420  0.490  0.280  0.310   \n",
       "66  67      Ho     ppm  0.056  0.077  0.097  0.096  0.100  0.100  0.070   \n",
       "67  68      Er     ppm  0.160  0.221  0.277  0.305  0.350    NaN    NaN   \n",
       "68  69      Tm     ppm  0.025  0.035  0.048  0.040    NaN    NaN  0.040   \n",
       "69  70      Yb     ppm  0.160  0.215  0.312  0.270  0.320  0.220  0.210   \n",
       "70  71      Lu     ppm  0.025  0.033  0.046  0.039  0.046  0.032  0.030   \n",
       "\n",
       "        H      L     LL     EH    EL       R      K  \n",
       "56  0.301  0.318  0.330  0.240  0.196  0.310  0.320  \n",
       "57  0.763  0.970  0.880  0.650  0.580  0.830    NaN  \n",
       "58  0.120  0.140  0.130  0.100  0.070    NaN    NaN  \n",
       "59  0.581  0.700  0.650  0.440  0.370    NaN    NaN  \n",
       "60    NaN    NaN    NaN    NaN    NaN    NaN    NaN  \n",
       "61  0.194  0.203  0.205  0.140  0.149  0.180  0.200  \n",
       "62  0.074  0.080  0.078  0.052  0.054  0.072  0.080  \n",
       "63  0.275  0.317  0.290  0.210  0.196    NaN    NaN  \n",
       "64  0.049  0.059  0.054  0.034  0.032    NaN    NaN  \n",
       "65  0.305  0.372  0.360  0.230  0.245  0.029    NaN  \n",
       "66  0.074  0.089  0.082  0.050  0.051  0.059    NaN  \n",
       "67  0.213  0.252  0.240  0.160  0.160    NaN    NaN  \n",
       "68  0.033  0.038  0.035  0.024  0.023    NaN    NaN  \n",
       "69  0.203  0.226  0.230  0.154  0.157  0.216  0.215  \n",
       "70  0.033  0.034  0.034  0.025  0.025  0.032  0.033  "
      ]
     },
     "execution_count": 151,
     "metadata": {},
     "output_type": "execute_result"
    }
   ],
   "source": [
    "cIdf.loc[posRow('La'):posRow('Lu')]"
   ]
  },
  {
   "cell_type": "markdown",
   "metadata": {},
   "source": [
    "Extract the CI SEE (-> from La to Lu) concentrations as a list from the imported chondrite element abundances file. Make sure you extracted the correct values.<br>\n",
    "Delete Pm from this list."
   ]
  },
  {
   "cell_type": "code",
   "execution_count": 152,
   "metadata": {},
   "outputs": [
    {
     "data": {
      "text/plain": [
       "[0.235,\n",
       " 0.62,\n",
       " 0.094,\n",
       " 0.46,\n",
       " 0.15,\n",
       " 0.057,\n",
       " 0.2,\n",
       " 0.037,\n",
       " 0.25,\n",
       " 0.056,\n",
       " 0.16,\n",
       " 0.025,\n",
       " 0.16,\n",
       " 0.025]"
      ]
     },
     "execution_count": 152,
     "metadata": {},
     "output_type": "execute_result"
    }
   ],
   "source": [
    "cIREE = cIdf.loc[posRow('La'):posRow('Lu'), 'CI'].tolist()\n",
    "\n",
    "cIREE.pop(4)\n",
    "\n",
    "cIREE"
   ]
  },
  {
   "cell_type": "markdown",
   "metadata": {},
   "source": [
    "Below follows the program from the corresponding unit. Convert this program into a command called 'calcREEAnomaly'. Input to the command shall only be the REE element for which the anomlay shall be calculated, and the dataset, for which the anomaly shall be calculated<br>\n",
    "As this is not trivial, I will provide a step by step solution below – or you could try it for yourself."
   ]
  },
  {
   "cell_type": "code",
   "execution_count": 153,
   "metadata": {},
   "outputs": [],
   "source": [
    "cISmEuGd = [.15, .057, .2]\n",
    "smEuGdData = df.loc[:, ['Sm', 'Eu', 'Gd']].dropna(0) / cISmEuGd\n",
    "\n",
    "res = []\n",
    "\n",
    "for n in range(len(smEuGdData)):\n",
    "    l = smEuGdData.iloc[n].tolist()\n",
    "    euAn = ((l[1] / ((l[0] + l[2]) / 2)) - 1) * 100\n",
    "    res.append(round(euAn))"
   ]
  },
  {
   "cell_type": "markdown",
   "metadata": {},
   "source": [
    "As we only have the REE for which the anomaly shall be calculated, we first need modify the program to accomodate for this.<br>\n",
    "First, produce a list of the names of the REE without Pm."
   ]
  },
  {
   "cell_type": "code",
   "execution_count": 170,
   "metadata": {},
   "outputs": [
    {
     "data": {
      "text/plain": [
       "['La',\n",
       " 'Ce',\n",
       " 'Pr',\n",
       " 'Nd',\n",
       " 'Sm',\n",
       " 'Eu',\n",
       " 'Gd',\n",
       " 'Tb',\n",
       " 'Dy',\n",
       " 'Ho',\n",
       " 'Er',\n",
       " 'Tm',\n",
       " 'Yb',\n",
       " 'Lu']"
      ]
     },
     "execution_count": 170,
     "metadata": {},
     "output_type": "execute_result"
    }
   ],
   "source": [
    "ree = cIdf.loc[posRow('La'):posRow('Lu'), 'Element'].tolist()\n",
    "\n",
    "ree.pop(4)\n",
    "\n",
    "ree"
   ]
  },
  {
   "cell_type": "markdown",
   "metadata": {},
   "source": [
    "Using the input REE, produce the list of the 3 REE called 'threeREE' required for calculating the anomaly."
   ]
  },
  {
   "cell_type": "code",
   "execution_count": 171,
   "metadata": {},
   "outputs": [
    {
     "name": "stdout",
     "output_type": "stream",
     "text": [
      "['Sm', 'Eu', 'Gd']\n",
      "['Sm', 'Eu', 'Gd']\n"
     ]
    }
   ],
   "source": [
    "# input REE\n",
    "el = 'Eu'\n",
    "\n",
    "# either\n",
    "\n",
    "leftREE = ree[ree.index(el) - 1]\n",
    "rightREE =ree[ree.index(el) + 1]\n",
    "\n",
    "threeREE = [leftREE, el, rightREE]\n",
    "print(threeREE)\n",
    "\n",
    "\n",
    "# or\n",
    "threeREE = [ree[ree.index(el) - 1], el, ree[ree.index(el) + 1]]\n",
    "\n",
    "print(threeREE)"
   ]
  },
  {
   "cell_type": "markdown",
   "metadata": {},
   "source": [
    "You can now do the same with the cIREE list, i.e., selcet the REE values for these elements.<br>\n",
    "Now modify the program above:<br>\n",
    "(i) so that the 3 REE are now automaticall chosen depending on the single REE input.\n",
    "(ii) so that the 3 REE CI concentrations are now automaticall chosen depending on the single REE input."
   ]
  },
  {
   "cell_type": "code",
   "execution_count": 172,
   "metadata": {},
   "outputs": [],
   "source": [
    "el = 'Eu'\n",
    "\n",
    "cISmEuGd = [cIREE[ree.index(el) - 1], cIREE[ree.index(el)], cIREE[ree.index(el) + 1]]\n",
    "threeREE = [ree[ree.index(el) - 1], el, ree[ree.index(el) + 1]]\n",
    "\n",
    "smEuGdData = df.loc[:, threeREE].dropna(0) / cISmEuGd\n",
    "\n",
    "res = []\n",
    "\n",
    "for n in range(len(smEuGdData)):\n",
    "    l = smEuGdData.iloc[n].tolist()\n",
    "    euAn = ((l[1] / ((l[0] + l[2]) / 2)) - 1) * 100\n",
    "    res.append(round(euAn))"
   ]
  },
  {
   "cell_type": "markdown",
   "metadata": {},
   "source": [
    "Finally you can convert this program into the command 'calcREEAnomaly' that calculates the anomaly of every REE (except for two, do you know which?), depending on user input.<br>"
   ]
  },
  {
   "cell_type": "code",
   "execution_count": 173,
   "metadata": {},
   "outputs": [],
   "source": [
    "def calcREEAnomaly(el):\n",
    "    cISmEuGd = [cIREE[ree.index(el) - 1], cIREE[ree.index(el)], cIREE[ree.index(el) + 1]]\n",
    "    threeREE = [ree[ree.index(el) - 1], el, ree[ree.index(el) + 1]]\n",
    "\n",
    "    smEuGdData = df.loc[:, threeREE].dropna(0) / cISmEuGd\n",
    "\n",
    "    res = []\n",
    "\n",
    "    for n in range(len(smEuGdData)):\n",
    "        l = smEuGdData.iloc[n].tolist()\n",
    "        euAn = ((l[1] / ((l[0] + l[2]) / 2)) - 1) * 100\n",
    "        res.append(round(euAn))\n",
    "    \n",
    "    return res"
   ]
  },
  {
   "cell_type": "markdown",
   "metadata": {},
   "source": [
    "Read in the 'West African Cratons.csv' dataset as df."
   ]
  },
  {
   "cell_type": "code",
   "execution_count": 174,
   "metadata": {},
   "outputs": [],
   "source": [
    "df = pd.read_csv('data/West African Craton.csv')"
   ]
  },
  {
   "cell_type": "markdown",
   "metadata": {},
   "source": [
    "Finally test your freshly defined command with e.g., calcREEAnomaly('Eu')."
   ]
  },
  {
   "cell_type": "code",
   "execution_count": 175,
   "metadata": {},
   "outputs": [
    {
     "data": {
      "text/plain": [
       "[-13,\n",
       " 2,\n",
       " 6,\n",
       " 21,\n",
       " -65,\n",
       " -11,\n",
       " -23,\n",
       " 15,\n",
       " -64,\n",
       " -46,\n",
       " 12,\n",
       " -5,\n",
       " 13,\n",
       " 12,\n",
       " 12,\n",
       " 10,\n",
       " 0,\n",
       " 7,\n",
       " -2,\n",
       " -5,\n",
       " 12,\n",
       " -3,\n",
       " -1]"
      ]
     },
     "execution_count": 175,
     "metadata": {},
     "output_type": "execute_result"
    }
   ],
   "source": [
    "calcREEAnomaly('Eu')"
   ]
  },
  {
   "cell_type": "markdown",
   "metadata": {},
   "source": [
    "Expand your command so it displays a graph rather than a list of values."
   ]
  },
  {
   "cell_type": "code",
   "execution_count": 176,
   "metadata": {},
   "outputs": [],
   "source": [
    "import matplotlib.pyplot as plt"
   ]
  },
  {
   "cell_type": "code",
   "execution_count": 177,
   "metadata": {},
   "outputs": [],
   "source": [
    "def calcREEAnomaly(el):\n",
    "    cISmEuGd = [cIREE[ree.index(el) - 1], cIREE[ree.index(el)], cIREE[ree.index(el) + 1]]\n",
    "    threeREE = [ree[ree.index(el) - 1], el, ree[ree.index(el) + 1]]\n",
    "\n",
    "    smEuGdData = df.loc[:, threeREE].dropna(0) / cISmEuGd\n",
    "\n",
    "    res = []\n",
    "\n",
    "    for n in range(len(smEuGdData)):\n",
    "        l = smEuGdData.iloc[n].tolist()\n",
    "        euAn = ((l[1] / ((l[0] + l[2]) / 2)) - 1) * 100\n",
    "        res.append(round(euAn))\n",
    "    \n",
    "    plt.plot(res)\n",
    "    \n",
    "    return plt.show()"
   ]
  },
  {
   "cell_type": "markdown",
   "metadata": {},
   "source": [
    "Test wheter it works."
   ]
  },
  {
   "cell_type": "code",
   "execution_count": 178,
   "metadata": {},
   "outputs": [
    {
     "data": {
      "image/png": "[encoded data removed]",
      "text/plain": [
       "<Figure size 432x288 with 1 Axes>"
      ]
     },
     "metadata": {
      "needs_background": "light"
     },
     "output_type": "display_data"
    }
   ],
   "source": [
    "calcREEAnomaly('Sm')"
   ]
  },
  {
   "cell_type": "markdown",
   "metadata": {},
   "source": [
    "Add this command to your 'mineralogyModule'."
   ]
  },
  {
   "cell_type": "markdown",
   "metadata": {},
   "source": [
    "And for easier usage, make it interactive, where you can choose the element from a drop-down menu – that displays only thos elements, for which anomalies can be calculated.<br>\n",
    "(You might occassionally get an error, don't worry, just try another element. Most should work. The error is most likely because of some missing or zero values. These could be avoided with accoriding 'if' statements and some kind of informative message.)"
   ]
  },
  {
   "cell_type": "code",
   "execution_count": 163,
   "metadata": {},
   "outputs": [],
   "source": [
    "from ipywidgets import interact"
   ]
  },
  {
   "cell_type": "code",
   "execution_count": 164,
   "metadata": {},
   "outputs": [
    {
     "data": {
      "application/vnd.jupyter.widget-view+json": {
       "model_id": "1372ae7db9e9484a96f019319e3b6345",
       "version_major": 2,
       "version_minor": 0
      },
      "text/plain": [
       "interactive(children=(Dropdown(description='el', options=('Ce', 'Pr', 'Nd', 'Sm', 'Eu', 'Gd', 'Tb', 'Dy', 'Ho'…"
      ]
     },
     "metadata": {},
     "output_type": "display_data"
    },
    {
     "data": {
      "text/plain": [
       "<function __main__.calcREEAnomaly(el)>"
      ]
     },
     "execution_count": 164,
     "metadata": {},
     "output_type": "execute_result"
    }
   ],
   "source": [
    "interact(calcREEAnomaly, el = ['Ce', 'Pr', 'Nd', 'Sm', 'Eu', 'Gd', 'Tb', 'Dy', 'Ho', 'Er', 'Tm', 'Yb'])"
   ]
  },
  {
   "cell_type": "markdown",
   "metadata": {},
   "source": [
    "Of course, now it might be intersting to add the REE plot beside the anomaly plot, etc. The fun just starts to begin (or at least the idea of it, which would be sufficient)."
   ]
  },
  {
   "cell_type": "markdown",
   "metadata": {},
   "source": [
    "## What's wrong with this code?"
   ]
  },
  {
   "cell_type": "markdown",
   "metadata": {},
   "source": [
    "### <font color = brown><b>Answer before executing the code!</b></font>"
   ]
  },
  {
   "cell_type": "code",
   "execution_count": 165,
   "metadata": {},
   "outputs": [
    {
     "ename": "NameError",
     "evalue": "name 'plot' is not defined",
     "output_type": "error",
     "traceback": [
      "\u001b[0;31m---------------------------------------------------------------------------\u001b[0m",
      "\u001b[0;31mNameError\u001b[0m                                 Traceback (most recent call last)",
      "\u001b[0;32m<ipython-input-165-78d7cd42ce3c>\u001b[0m in \u001b[0;36m<module>\u001b[0;34m\u001b[0m\n\u001b[1;32m      4\u001b[0m \u001b[0myData\u001b[0m \u001b[0;34m=\u001b[0m \u001b[0;34m[\u001b[0m\u001b[0;36m6\u001b[0m\u001b[0;34m,\u001b[0m \u001b[0;36m2\u001b[0m\u001b[0;34m,\u001b[0m \u001b[0;36m7\u001b[0m\u001b[0;34m,\u001b[0m \u001b[0;36m4\u001b[0m\u001b[0;34m,\u001b[0m \u001b[0;36m1\u001b[0m\u001b[0;34m]\u001b[0m\u001b[0;34m\u001b[0m\u001b[0;34m\u001b[0m\u001b[0m\n\u001b[1;32m      5\u001b[0m \u001b[0;34m\u001b[0m\u001b[0m\n\u001b[0;32m----> 6\u001b[0;31m \u001b[0mplot\u001b[0m\u001b[0;34m(\u001b[0m\u001b[0mxData\u001b[0m\u001b[0;34m,\u001b[0m \u001b[0myData\u001b[0m\u001b[0;34m)\u001b[0m\u001b[0;34m\u001b[0m\u001b[0;34m\u001b[0m\u001b[0m\n\u001b[0m\u001b[1;32m      7\u001b[0m \u001b[0;34m\u001b[0m\u001b[0m\n\u001b[1;32m      8\u001b[0m \u001b[0mshow\u001b[0m\u001b[0;34m(\u001b[0m\u001b[0;34m)\u001b[0m\u001b[0;34m\u001b[0m\u001b[0;34m\u001b[0m\u001b[0m\n",
      "\u001b[0;31mNameError\u001b[0m: name 'plot' is not defined"
     ]
    }
   ],
   "source": [
    "import matplotlib.pyplot as plt\n",
    "\n",
    "xData = [2, 5, 3, 6, 9]\n",
    "yData = [6, 2, 7, 4, 1]\n",
    "\n",
    "plot(xData, yData)\n",
    "\n",
    "show()"
   ]
  },
  {
   "cell_type": "markdown",
   "metadata": {},
   "source": [
    "'plt.' is missing before 'plot(...)' and 'show()'"
   ]
  },
  {
   "cell_type": "code",
   "execution_count": 166,
   "metadata": {},
   "outputs": [
    {
     "ename": "TypeError",
     "evalue": "'builtin_function_or_method' object is not subscriptable",
     "output_type": "error",
     "traceback": [
      "\u001b[0;31m---------------------------------------------------------------------------\u001b[0m",
      "\u001b[0;31mTypeError\u001b[0m                                 Traceback (most recent call last)",
      "\u001b[0;32m<ipython-input-166-d398e360b51f>\u001b[0m in \u001b[0;36m<module>\u001b[0;34m\u001b[0m\n\u001b[1;32m      1\u001b[0m \u001b[0ml\u001b[0m \u001b[0;34m=\u001b[0m \u001b[0;34m[\u001b[0m\u001b[0;36m4\u001b[0m\u001b[0;34m,\u001b[0m \u001b[0;36m5\u001b[0m\u001b[0;34m,\u001b[0m \u001b[0;36m7\u001b[0m\u001b[0;34m,\u001b[0m \u001b[0;36m2\u001b[0m\u001b[0;34m,\u001b[0m \u001b[0;36m1\u001b[0m\u001b[0;34m]\u001b[0m\u001b[0;34m\u001b[0m\u001b[0;34m\u001b[0m\u001b[0m\n\u001b[1;32m      2\u001b[0m \u001b[0;34m\u001b[0m\u001b[0m\n\u001b[0;32m----> 3\u001b[0;31m \u001b[0;32mfor\u001b[0m \u001b[0mi\u001b[0m \u001b[0;32min\u001b[0m \u001b[0mrange\u001b[0m\u001b[0;34m[\u001b[0m\u001b[0mlen\u001b[0m\u001b[0;34m[\u001b[0m\u001b[0ml\u001b[0m\u001b[0;34m]\u001b[0m\u001b[0;34m]\u001b[0m\u001b[0;34m:\u001b[0m\u001b[0;34m\u001b[0m\u001b[0;34m\u001b[0m\u001b[0m\n\u001b[0m\u001b[1;32m      4\u001b[0m     \u001b[0mprint\u001b[0m\u001b[0;34m(\u001b[0m\u001b[0mi\u001b[0m \u001b[0;34m+\u001b[0m \u001b[0;36m4\u001b[0m\u001b[0;34m)\u001b[0m\u001b[0;34m\u001b[0m\u001b[0;34m\u001b[0m\u001b[0m\n",
      "\u001b[0;31mTypeError\u001b[0m: 'builtin_function_or_method' object is not subscriptable"
     ]
    }
   ],
   "source": [
    "l = [4, 5, 7, 2, 1]\n",
    "\n",
    "for i in range[len[l]]:\n",
    "    print(i + 4)"
   ]
  },
  {
   "cell_type": "markdown",
   "metadata": {},
   "source": [
    "range and len need round brackets -> range(len(l))"
   ]
  }
 ],
 "metadata": {
  "kernelspec": {
   "display_name": "Python 3 (ipykernel)",
   "language": "python",
   "name": "python3"
  },
  "language_info": {
   "codemirror_mode": {
    "name": "ipython",
    "version": 3
   },
   "file_extension": ".py",
   "mimetype": "text/x-python",
   "name": "python",
   "nbconvert_exporter": "python",
   "pygments_lexer": "ipython3",
   "version": "3.9.12"
  }
 },
 "nbformat": 4,
 "nbformat_minor": 4
}
