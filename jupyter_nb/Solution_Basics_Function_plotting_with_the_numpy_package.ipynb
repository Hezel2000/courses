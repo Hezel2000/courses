{
 "cells": [
  {
   "cell_type": "markdown",
   "metadata": {},
   "source": [
    "# Solution- Function plotting with the numpy package"
   ]
  },
  {
   "cell_type": "markdown",
   "metadata": {},
   "source": [
    "## Instant Review & Quiz"
   ]
  },
  {
   "cell_type": "markdown",
   "metadata": {},
   "source": [
    "<b>I1. Describe the principle how functions are plotted.</b>"
   ]
  },
  {
   "cell_type": "markdown",
   "metadata": {},
   "source": [
    "<font color = darkgreen><b>\n",
    "    First, x-axis values are defined, e.g., using the numpy .linspace() method. Second, the y-axis values are calculated using the function, applied to the just defined the x-axis vlaues.\n",
    "</b></font>"
   ]
  },
  {
   "cell_type": "markdown",
   "metadata": {},
   "source": [
    "<b>Q1. The 'warnings' package allows to suppres calculations such as dividing by 0.</b><br>\n",
    "True<br>\n",
    "False"
   ]
  },
  {
   "cell_type": "markdown",
   "metadata": {},
   "source": [
    "<font color = darkgreen><b>\n",
    "    False. It simply allows to suppress the warning that a calculation such as dividing by 0 occurred.\n",
    "</b></font>"
   ]
  },
  {
   "cell_type": "markdown",
   "metadata": {},
   "source": [
    "<b>Q2. A function is plotted on the interval defined by plt.xlim(<i>xmin</i>, <i>xmax</i>)</b><br>\n",
    "True<br>\n",
    "False"
   ]
  },
  {
   "cell_type": "markdown",
   "metadata": {},
   "source": [
    "<font color = darkgreen><b>\n",
    "    False. It is plotted on the interval defined by the x-axis values, e.g.: .linspace(0, 10)\n",
    "</b></font>"
   ]
  },
  {
   "cell_type": "markdown",
   "metadata": {},
   "source": [
    "## What's wrong with this code?"
   ]
  },
  {
   "cell_type": "markdown",
   "metadata": {},
   "source": [
    "### <font color = brown><b>Answer before executing the code!</b></font>"
   ]
  },
  {
   "cell_type": "markdown",
   "metadata": {},
   "source": [
    "The goal is to plot the batch melting function, with the melt degree F along the x-axis. The equation for batch melting is:\n",
    "\n",
    "$$ c_l = \\frac{c_0}{F + D * (1 - F)}$$"
   ]
  },
  {
   "cell_type": "code",
   "execution_count": null,
   "metadata": {},
   "outputs": [],
   "source": [
    "import numpy as np\n",
    "import matplotlib.pyplot as plt\n",
    "\n",
    "c0 = 23.86\n",
    "D = 3.2\n",
    "\n",
    "x = linspace(0, 1, 75)\n",
    "y = c0 / (F + D * (1 - F))\n",
    "\n",
    "plt.plot(x, y)\n",
    "\n",
    "show(plt)"
   ]
  },
  {
   "cell_type": "markdown",
   "metadata": {},
   "source": [
    "## Practise"
   ]
  },
  {
   "cell_type": "markdown",
   "metadata": {},
   "source": [
    "Search for the equation for the radioactive decay and plot this function.<br>\n",
    "Add x- and y-labels to the plot."
   ]
  },
  {
   "cell_type": "markdown",
   "metadata": {},
   "source": [
    "Decay equation:\n",
    "$$ N = N_0 e^{-\\lambda \\cdot t} $$"
   ]
  },
  {
   "cell_type": "code",
   "execution_count": 14,
   "metadata": {},
   "outputs": [
    {
     "name": "stdout",
     "output_type": "stream",
     "text": [
      "2.718281828459045\n"
     ]
    },
    {
     "data": {
      "image/png": "[encoded data removed]",
      "text/plain": [
       "<Figure size 432x288 with 1 Axes>"
      ]
     },
     "metadata": {
      "needs_background": "light"
     },
     "output_type": "display_data"
    }
   ],
   "source": [
    "import numpy as np\n",
    "import matplotlib.pyplot as plt\n",
    "\n",
    "Rb87HalfLife = 48.8  #in Ga\n",
    "Rb87lambda = np.log(2)/Rb87HalfLife #log in numpy is Ln!! \n",
    "\n",
    "#Euler's number in numpy is 'exp' – as can be seen with this example:\n",
    "print(np.exp(1))\n",
    "\n",
    "t = np.linspace(0, 100, 200)\n",
    "y = np.exp(-Rb87lambda * t)\n",
    "\n",
    "plt.plot(t, y)\n",
    "plt.xlabel('t (Ga)')\n",
    "plt.ylabel('Remaining $^{87}$Rb')\n",
    "\n",
    "plt.show()"
   ]
  }
 ],
 "metadata": {
  "kernelspec": {
   "display_name": "Python 3",
   "language": "python",
   "name": "python3"
  },
  "language_info": {
   "codemirror_mode": {
    "name": "ipython",
    "version": 3
   },
   "file_extension": ".py",
   "mimetype": "text/x-python",
   "name": "python",
   "nbconvert_exporter": "python",
   "pygments_lexer": "ipython3",
   "version": "3.8.5"
  }
 },
 "nbformat": 4,
 "nbformat_minor": 4
}
