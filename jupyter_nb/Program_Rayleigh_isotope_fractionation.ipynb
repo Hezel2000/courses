{
 "cells": [
  {
   "cell_type": "markdown",
   "metadata": {},
   "source": [
    "# Program- Rayleigh isotope fractionation"
   ]
  },
  {
   "cell_type": "markdown",
   "metadata": {},
   "source": [
    "Describes the isotope composition of the various phases during evaporation and condensation, with the following parameters:<br>\n",
    "f (0...1): Fraction of the gas (condensation) or liquid (evaporation)<br>\n",
    "$\\alpha$: Fraction factor<br>\n",
    "R<sub>l,0</sub>: Initial bulk liquid composition<br>\n",
    "R<sub>v,0</sub>: Initial bulk gas composition<br>\n",
    "R<sub>v</sub>: Composition in the remining gas<br>\n",
    "R<sub>l</sub>: Composition of the current liquid<br>\n",
    "R<sub>v,0</sub>: Initial bulk gas composition<br>\n",
    "<SPAN STYLE=\"text-decoration:overline\">R</SPAN><sub>l</sub>: Composition of the entire, condensed liquid"
   ]
  },
  {
   "cell_type": "markdown",
   "metadata": {},
   "source": [
    "## Evaporation Equations"
   ]
  },
  {
   "cell_type": "markdown",
   "metadata": {},
   "source": [
    "Isotope ratio of the remaining liquid: $$ R_l = R_{l_0} f^{\\frac{1}{\\alpha} -1}$$\n",
    "Isotope ratio of the currently evaporating gas: $$ R_v = R_{l_0} \\frac{1}{\\alpha} f^{\\frac{1}{\\alpha} -1}$$\n",
    "Isotope ratio of the evaporated gas so far: $$ \\overline{R_v} = R_{l_0} \\frac{1 - f^{\\frac{1} {\\alpha}}} {1 - f} $$"
   ]
  },
  {
   "cell_type": "markdown",
   "metadata": {},
   "source": [
    "## Condensation Equations"
   ]
  },
  {
   "cell_type": "markdown",
   "metadata": {},
   "source": [
    "Isotope ratio of the remaining gas phase: $$ R_v = R_{v_0} f^{\\alpha -1}$$\n",
    "Isotope ratio of the currently evaporating liquid: $$ R_l = R_{v_0} \\alpha f^{\\alpha -1}$$\n",
    "Isotope ratio of the evaporated liquid so far: $$ \\overline{R_l} = R_{v_0} \\frac{1 - f^\\alpha} {1 - f} $$"
   ]
  },
  {
   "cell_type": "code",
   "execution_count": 31,
   "metadata": {},
   "outputs": [],
   "source": [
    "import numpy as np\n",
    "import matplotlib.pyplot as plt\n",
    "from ipywidgets import interact\n",
    "\n",
    "import warnings\n",
    "warnings.filterwarnings('ignore')\n",
    "#warnings.filterwarnings(action='once')"
   ]
  },
  {
   "cell_type": "code",
   "execution_count": 32,
   "metadata": {},
   "outputs": [
    {
     "data": {
      "application/vnd.jupyter.widget-view+json": {
       "model_id": "5c295536db5e4c4499fc2f3aa62dbca1",
       "version_major": 2,
       "version_minor": 0
      },
      "text/plain": [
       "interactive(children=(FloatSlider(value=1.05, description='alpha', max=2.0, min=0.1), IntSlider(value=2, descr…"
      ]
     },
     "metadata": {},
     "output_type": "display_data"
    },
    {
     "data": {
      "text/plain": [
       "<function __main__.pEvapCond(alpha, Rl0)>"
      ]
     },
     "execution_count": 32,
     "metadata": {},
     "output_type": "execute_result"
    }
   ],
   "source": [
    "def pEvapCond(alpha, Rl0):\n",
    "    f = np.linspace(0, 1, 2000)\n",
    "    \n",
    "    yEvap1 = Rl0 * np.power(f, (1/alpha - 1))\n",
    "    yEvap2 = Rl0 * (1/alpha) *np.power(f, (1/alpha - 1))\n",
    "    yEvap3 = R0 * (1 - np.power(f, 1/alpha))/(1 - f)\n",
    "    yCond1 = R0 * np.power(f, alpha - 1)\n",
    "    yCond2 = R0 * alpha * np.power(f, alpha - 1)\n",
    "    yCond3 = R0 * (1 - np.power(f, alpha))/(1 - f)\n",
    "\n",
    "    fig, (ax1, ax2) = plt.subplots(1, 2, sharey = True, figsize = (9, 6))\n",
    "    \n",
    "    ax1 = plt.subplot(2, 2, 1)\n",
    "    ax2 = plt.subplot(2, 2, 2)\n",
    "    \n",
    "    ax1.plot(f, yEvap1, f, yEvap2, f, yEvap3)\n",
    "    ax2.plot(f, yCond1, f, yCond2, f, yCond3)\n",
    "    \n",
    "    ax1.set_xlim(0, 1)\n",
    "    ax2.set_xlim(0, 1)\n",
    "    ax1.set_ylim(0, 2)\n",
    "    ax2.set_ylim(0, 2)\n",
    "    \n",
    "    ax1.set_xlabel('f (fraction liquid)')\n",
    "    ax2.set_xlabel('f (fraction gas)')\n",
    "    ax1.set_ylabel('isotope ratio')\n",
    "    ax1.set_title('Evaporation', color = 'b')\n",
    "    ax2.set_title('Condensation', color = 'b')\n",
    "\n",
    "    ax1.legend(['remaining liquid', 'currently evap. gas', 'bulk evap. gas'])\n",
    "    ax2.legend(['remaining gas', 'currently cond. liquid', 'bulk cond. liquid'])\n",
    "    \n",
    "    ax1.axhline(y = 1, color = 'grey', linestyle = '--', lw = 1)\n",
    "    ax2.axhline(y = 1, color = 'grey', linestyle = '--', lw = 1)\n",
    "\n",
    "    return plt.show()\n",
    "\n",
    "interact(pEvapCond, alpha = (.1, 2), Rl0 = (0, 5))"
   ]
  }
 ],
 "metadata": {
  "kernelspec": {
   "display_name": "Python 3 (ipykernel)",
   "language": "python",
   "name": "python3"
  },
  "language_info": {
   "codemirror_mode": {
    "name": "ipython",
    "version": 3
   },
   "file_extension": ".py",
   "mimetype": "text/x-python",
   "name": "python",
   "nbconvert_exporter": "python",
   "pygments_lexer": "ipython3",
   "version": "3.9.12"
  }
 },
 "nbformat": 4,
 "nbformat_minor": 4
}
