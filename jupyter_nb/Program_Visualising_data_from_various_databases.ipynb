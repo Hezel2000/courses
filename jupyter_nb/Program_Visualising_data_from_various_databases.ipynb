{
 "cells": [
  {
   "cell_type": "markdown",
   "metadata": {},
   "source": [
    "# Program- Visualising data from various databases"
   ]
  },
  {
   "cell_type": "code",
   "execution_count": 57,
   "metadata": {},
   "outputs": [],
   "source": [
    "import pandas as pd\n",
    "import matplotlib.pyplot as plt\n",
    "from ipywidgets import interact"
   ]
  },
  {
   "cell_type": "code",
   "execution_count": 75,
   "metadata": {},
   "outputs": [],
   "source": [
    "def pltData(locality, x_data, y_data, x_ppm, y_ppm):\n",
    "    \n",
    "    df = pd.read_csv('data/' + locality +'.csv')\n",
    "\n",
    "    if x_ppm == True:\n",
    "        plt.xlabel(x_data + ' (wt-ppm)')\n",
    "        xConv = 1\n",
    "    else:\n",
    "        plt.xlabel(x_data + ' (wt-%)')\n",
    "        xConv = .00001\n",
    "        \n",
    "    if y_ppm == True:\n",
    "        plt.ylabel(y_data + ' (wt-ppm)')\n",
    "        yConv = 1\n",
    "    else:\n",
    "        plt.ylabel(y_data + ' (wt-%)')\n",
    "        yConv = .00001\n",
    "    \n",
    "    plt.scatter(df[x_data] * xConv, df[y_data] * yConv, label = locality)\n",
    "    \n",
    "    plt.legend(loc = 'lower right')\n",
    "    \n",
    "    return plt.show()"
   ]
  },
  {
   "cell_type": "code",
   "execution_count": 76,
   "metadata": {},
   "outputs": [
    {
     "data": {
      "application/vnd.jupyter.widget-view+json": {
       "model_id": "6062a319e1af413a965c8a1491a242ab",
       "version_major": 2,
       "version_minor": 0
      },
      "text/plain": [
       "interactive(children=(Dropdown(description='locality', options=('Bastar Craton', 'West African Craton', 'Tanza…"
      ]
     },
     "metadata": {},
     "output_type": "display_data"
    },
    {
     "data": {
      "text/plain": [
       "<function __main__.pltData(locality, x_data, y_data, x_ppm, y_ppm)>"
      ]
     },
     "execution_count": 76,
     "metadata": {},
     "output_type": "execute_result"
    }
   ],
   "source": [
    "elements = ['Mg', 'Si', 'Al', 'Na', 'Eu']\n",
    "localities = ['Bastar Craton', 'West African Craton', 'Tanzania Craton Archean']\n",
    "\n",
    "interact(pltData, locality = localities, x_data = elements, y_data = elements, x_ppm = False, y_ppm = False)"
   ]
  }
 ],
 "metadata": {
  "kernelspec": {
   "display_name": "Python 3",
   "language": "python",
   "name": "python3"
  },
  "language_info": {
   "codemirror_mode": {
    "name": "ipython",
    "version": 3
   },
   "file_extension": ".py",
   "mimetype": "text/x-python",
   "name": "python",
   "nbconvert_exporter": "python",
   "pygments_lexer": "ipython3",
   "version": "3.8.5"
  }
 },
 "nbformat": 4,
 "nbformat_minor": 4
}
