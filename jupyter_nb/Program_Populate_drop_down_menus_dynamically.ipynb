{
 "cells": [
  {
   "cell_type": "markdown",
   "metadata": {},
   "source": [
    "# Populate drop-down menus dynamically"
   ]
  },
  {
   "cell_type": "code",
   "execution_count": 33,
   "metadata": {},
   "outputs": [],
   "source": [
    "import pandas as pd\n",
    "import matplotlib.pyplot as plt\n",
    "from ipywidgets import interact\n",
    "import os"
   ]
  },
  {
   "cell_type": "code",
   "execution_count": 23,
   "metadata": {
    "collapsed": true
   },
   "outputs": [
    {
     "data": {
      "text/plain": [
       "['Si',\n",
       " 'Ti',\n",
       " 'B',\n",
       " 'Al',\n",
       " 'Cr',\n",
       " 'Fe3+',\n",
       " 'Fe2+',\n",
       " 'Fetot(2+)',\n",
       " 'Ca',\n",
       " 'Mg',\n",
       " 'Mn',\n",
       " 'Ni',\n",
       " 'K',\n",
       " 'Na',\n",
       " 'P',\n",
       " 'H2O',\n",
       " 'H2OP',\n",
       " 'H2OM',\n",
       " 'H2Otot',\n",
       " 'CO2',\n",
       " 'CO',\n",
       " 'F',\n",
       " 'Cl',\n",
       " 'Cl2',\n",
       " 'OH',\n",
       " 'CH4',\n",
       " 'SO2',\n",
       " 'SO3',\n",
       " 'SO4',\n",
       " 'S',\n",
       " 'LOI',\n",
       " 'Volatiles',\n",
       " 'O',\n",
       " 'Others',\n",
       " 'HE(CCM/G)',\n",
       " 'HE(CCMSTP/G)',\n",
       " 'HE3(CCMSTP/G)',\n",
       " 'HE3(AT/G)',\n",
       " 'HE4(CCM/G)',\n",
       " 'HE4(CCMSTP/G)',\n",
       " 'HE4(AT/G)',\n",
       " 'HE4(MOLE/G)',\n",
       " 'HE4(NCC/G)',\n",
       " 'HE(NCC/G)',\n",
       " 'Li',\n",
       " 'Be',\n",
       " 'B.1',\n",
       " 'C',\n",
       " 'CO2.1',\n",
       " 'F.1',\n",
       " 'Na.1',\n",
       " 'Al.1',\n",
       " 'P.1',\n",
       " 'S.1',\n",
       " 'Cl.1',\n",
       " 'K.1',\n",
       " 'Ca.1',\n",
       " 'Sc',\n",
       " 'Ti.1',\n",
       " 'V',\n",
       " 'Cr.1',\n",
       " 'Mn.1',\n",
       " 'Fe',\n",
       " 'Co',\n",
       " 'Ni.1',\n",
       " 'Cu',\n",
       " 'Zn',\n",
       " 'Ga',\n",
       " 'Ge',\n",
       " 'As',\n",
       " 'Se',\n",
       " 'Br',\n",
       " 'Rb',\n",
       " 'Sr',\n",
       " 'Y',\n",
       " 'Zr',\n",
       " 'Nb',\n",
       " 'Mo',\n",
       " 'Ru',\n",
       " 'Rh',\n",
       " 'Pd',\n",
       " 'Ag',\n",
       " 'Cd',\n",
       " 'In',\n",
       " 'Sn',\n",
       " 'Sb',\n",
       " 'Te',\n",
       " 'I',\n",
       " 'Cs',\n",
       " 'Ba',\n",
       " 'La',\n",
       " 'Ce',\n",
       " 'Pr',\n",
       " 'Nd',\n",
       " 'Sm',\n",
       " 'Eu',\n",
       " 'Gd',\n",
       " 'Tb',\n",
       " 'Dy',\n",
       " 'Ho',\n",
       " 'Er',\n",
       " 'Tm',\n",
       " 'Yb',\n",
       " 'Lu',\n",
       " 'Hf',\n",
       " 'Ta',\n",
       " 'W',\n",
       " 'Re',\n",
       " 'Os',\n",
       " 'Ir',\n",
       " 'Pt',\n",
       " 'Au',\n",
       " 'Hg',\n",
       " 'Tl',\n",
       " 'Pb',\n",
       " 'Bi',\n",
       " 'Th',\n",
       " 'U']"
      ]
     },
     "execution_count": 23,
     "metadata": {},
     "output_type": "execute_result"
    }
   ],
   "source": [
    "cat = df.columns.tolist()\n",
    "elList = cat[cat.index('Si'):cat.index('U') + 1]\n",
    "elList"
   ]
  },
  {
   "cell_type": "code",
   "execution_count": 56,
   "metadata": {},
   "outputs": [],
   "source": [
    "os.listdir('data/georoc data')\n",
    "\n",
    "def dirFiles(fDir, ending):\n",
    "    fNames = []\n",
    "    for i in os.listdir(fDir):\n",
    "        if i.endswith(ending):\n",
    "            fNames.append(i)\n",
    "    return fNames\n",
    "\n",
    "dataFiles = dirFiles('data/georoc data', 'csv')"
   ]
  },
  {
   "cell_type": "code",
   "execution_count": 54,
   "metadata": {},
   "outputs": [],
   "source": [
    "def pData(selData, xEl, yEl):\n",
    "    df = pd.read_csv('data/georoc data/' + selData)\n",
    "    plt.scatter(df[xEl], df[yEl])\n",
    "    plt.show()"
   ]
  },
  {
   "cell_type": "code",
   "execution_count": 55,
   "metadata": {},
   "outputs": [
    {
     "data": {
      "application/vnd.jupyter.widget-view+json": {
       "model_id": "c77d46830c61477a8501edb8af81741c",
       "version_major": 2,
       "version_minor": 0
      },
      "text/plain": [
       "interactive(children=(Dropdown(description='selData', options=('Bastar Craton.csv', 'Easter Seamount Chain Sal…"
      ]
     },
     "metadata": {},
     "output_type": "display_data"
    },
    {
     "data": {
      "text/plain": [
       "<function __main__.pData(selData, xEl, yEl)>"
      ]
     },
     "execution_count": 55,
     "metadata": {},
     "output_type": "execute_result"
    }
   ],
   "source": [
    "interact(pData, selData = dataFiles, xEl = elList, yEl = elList)"
   ]
  }
 ],
 "metadata": {
  "kernelspec": {
   "display_name": "Python 3",
   "language": "python",
   "name": "python3"
  },
  "language_info": {
   "codemirror_mode": {
    "name": "ipython",
    "version": 3
   },
   "file_extension": ".py",
   "mimetype": "text/x-python",
   "name": "python",
   "nbconvert_exporter": "python",
   "pygments_lexer": "ipython3",
   "version": "3.8.5"
  }
 },
 "nbformat": 4,
 "nbformat_minor": 4
}
