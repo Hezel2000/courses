{
 "cells": [
  {
   "cell_type": "markdown",
   "metadata": {},
   "source": [
    "# API requests"
   ]
  },
  {
   "cell_type": "code",
   "execution_count": 35,
   "metadata": {},
   "outputs": [],
   "source": [
    "import requests, json"
   ]
  },
  {
   "cell_type": "code",
   "execution_count": 52,
   "metadata": {},
   "outputs": [
    {
     "data": {
      "text/plain": [
       "<Response [200]>"
      ]
     },
     "execution_count": 52,
     "metadata": {},
     "output_type": "execute_result"
    }
   ],
   "source": [
    "city = 'Frankfurt'\n",
    "\n",
    "url = 'http://api.openweathermap.org/data/2.5/weather?q=' + city + '&appid={apikey}'   #you need to get your own api!\n",
    "\n",
    "r = requests.get(url)\n",
    "\n",
    "r"
   ]
  },
  {
   "cell_type": "code",
   "execution_count": 40,
   "metadata": {},
   "outputs": [
    {
     "name": "stdout",
     "output_type": "stream",
     "text": [
      "{\"coord\":{\"lon\":-0.1257,\"lat\":51.5085},\"weather\":[{\"id\":800,\"main\":\"Clear\",\"description\":\"clear sky\",\"icon\":\"01d\"}],\"base\":\"stations\",\"main\":{\"temp\":295.01,\"feels_like\":294.82,\"temp_min\":293.35,\"temp_max\":297.42,\"pressure\":1016,\"humidity\":60},\"visibility\":10000,\"wind\":{\"speed\":4.12,\"deg\":240},\"clouds\":{\"all\":0},\"dt\":1632489589,\"sys\":{\"type\":2,\"id\":268730,\"country\":\"GB\",\"sunrise\":1632462593,\"sunset\":1632506107},\"timezone\":3600,\"id\":2643743,\"name\":\"London\",\"cod\":200}\n"
     ]
    }
   ],
   "source": [
    "print(r.text)"
   ]
  },
  {
   "cell_type": "code",
   "execution_count": 53,
   "metadata": {},
   "outputs": [
    {
     "data": {
      "text/plain": [
       "{'coord': {'lon': 8.6833, 'lat': 50.1167},\n",
       " 'weather': [{'id': 803,\n",
       "   'main': 'Clouds',\n",
       "   'description': 'broken clouds',\n",
       "   'icon': '04d'}],\n",
       " 'base': 'stations',\n",
       " 'main': {'temp': 294.1,\n",
       "  'feels_like': 293.79,\n",
       "  'temp_min': 292.04,\n",
       "  'temp_max': 296.35,\n",
       "  'pressure': 1016,\n",
       "  'humidity': 59},\n",
       " 'visibility': 10000,\n",
       " 'wind': {'speed': 1.79, 'deg': 9, 'gust': 3.58},\n",
       " 'clouds': {'all': 75},\n",
       " 'dt': 1632490211,\n",
       " 'sys': {'type': 2,\n",
       "  'id': 54759,\n",
       "  'country': 'DE',\n",
       "  'sunrise': 1632460478,\n",
       "  'sunset': 1632503995},\n",
       " 'timezone': 7200,\n",
       " 'id': 2925533,\n",
       " 'name': 'Frankfurt am Main',\n",
       " 'cod': 200}"
      ]
     },
     "execution_count": 53,
     "metadata": {},
     "output_type": "execute_result"
    }
   ],
   "source": [
    "res = r.json()\n",
    "\n",
    "res"
   ]
  },
  {
   "cell_type": "code",
   "execution_count": 43,
   "metadata": {},
   "outputs": [
    {
     "data": {
      "text/plain": [
       "21.860000000000014"
      ]
     },
     "execution_count": 43,
     "metadata": {},
     "output_type": "execute_result"
    }
   ],
   "source": [
    "res['main']['temp'] - 273.15"
   ]
  },
  {
   "cell_type": "code",
   "execution_count": 54,
   "metadata": {},
   "outputs": [
    {
     "name": "stdout",
     "output_type": "stream",
     "text": [
      "The weather in Frankfurt is:\n",
      "Temperature: 21.0\n",
      "Wind Speed: 1.79 m/s\n",
      "The sky looks: broken clouds...\n"
     ]
    }
   ],
   "source": [
    "print('The weather in ' + city + ' is:')\n",
    "print('Temperature: ' + str(round(res['main']['temp'] - 273.15, 1)))\n",
    "print('Wind Speed: ' + str(res['wind']['speed']) + ' m/s')\n",
    "print('The sky looks: ' + str(res['weather'][0]['description']) + '...')"
   ]
  },
  {
   "cell_type": "code",
   "execution_count": 60,
   "metadata": {},
   "outputs": [
    {
     "data": {
      "text/plain": [
       "{'sampleId': 110359,\n",
       " 'collectionMethod': 'Coring',\n",
       " 'collectionMethodDescr': 'H: The APC is a hydraullically actuated piston corer designed to recover undisturbed core samples from soft sediments.  It is designed to be delivered through the drill string to the sediment to be cored whether at the sea floor or hundreds of meters below it',\n",
       " 'collector': 'Curator',\n",
       " 'collectorDetail': 'Texas A&M University, Integrated Ocean Drilling Program, College Station, TX, 77845, USA',\n",
       " 'cruiseFieldPrgrm': 'ODP Leg 117',\n",
       " 'currentArchive': 'Integrated Ocean Drilling Program (IODP)',\n",
       " 'currentArchiveContact': 'Curator',\n",
       " 'elevation': -1059.9,\n",
       " 'elevationUnit': 'meters',\n",
       " 'externalSampleId': 'Core 117-730A-3H',\n",
       " 'igsn': 'ODP010C9M',\n",
       " 'latitude': 17.7314,\n",
       " 'longitude': 57.692,\n",
       " 'name': 'Core 117-730A-3H',\n",
       " 'originalArchive': 'Texas A&M University, Integrated Ocean Drilling Program, College Station, TX, 77845, USA',\n",
       " 'originalArchiveContact': 'Curator',\n",
       " 'platformType': 'Ship',\n",
       " 'publishDate': '2010-12-10',\n",
       " 'registrationDate': '2006-03-23',\n",
       " 'parentIGSN': 'ODP010C9J',\n",
       " 'childIGSN': ['ODP01B5N7',\n",
       "  'ODP01B5NJ',\n",
       "  'ODP01B5NB',\n",
       "  'ODP01B5NF',\n",
       "  'ODP01B5NN',\n",
       "  'ODP01B5NR',\n",
       "  'ODP01B5MV',\n",
       "  'ODP01B5MZ',\n",
       "  'ODP01B5N3'],\n",
       " 'siblingIGSN': ['ODP010CA2',\n",
       "  'ODP010C9Z',\n",
       "  'ODP010CA0',\n",
       "  'ODP010CAB',\n",
       "  'ODP010CAD',\n",
       "  'ODP010CAF',\n",
       "  'ODP010CAN',\n",
       "  'ODP010CAM',\n",
       "  'ODP010C9K',\n",
       "  'ODP010C9N',\n",
       "  'ODP010C9T',\n",
       "  'ODP010C9O',\n",
       "  'ODP010C9R',\n",
       "  'ODP010C9S',\n",
       "  'ODP010C9V',\n",
       "  'ODP010CA3',\n",
       "  'ODP010C9U',\n",
       "  'ODP010C9W',\n",
       "  'ODP010C9X',\n",
       "  'ODP010CA5',\n",
       "  'ODP010CA9',\n",
       "  'ODP010CA6',\n",
       "  'ODP010CA4',\n",
       "  'ODP010CA8',\n",
       "  'ODP010CAO',\n",
       "  'ODP010CAC',\n",
       "  'ODP010CAE',\n",
       "  'ODP010C9P',\n",
       "  'ODP010CAJ',\n",
       "  'ODP010CAK',\n",
       "  'ODP010CAL',\n",
       "  'ODP010CAI',\n",
       "  'ODP010C9Q',\n",
       "  'ODP010C9L',\n",
       "  'ODP010C9Y',\n",
       "  'ODP010CA1',\n",
       "  'ODP010CAG',\n",
       "  'ODP010CA7',\n",
       "  'ODP010CAA',\n",
       "  'ODP010CAH',\n",
       "  'ODP010CAP'],\n",
       " 'sampleType': 'Core',\n",
       " 'sesarUserCode': 'ODP',\n",
       " 'status': 'Public'}"
      ]
     },
     "execution_count": 60,
     "metadata": {},
     "output_type": "execute_result"
    }
   ],
   "source": [
    "nr = 109359\n",
    "\n",
    "url = 'https://api.geosamples.org/v1/sample/id/' + str(1000 + nr)\n",
    "\n",
    "r = requests.get(url)\n",
    "\n",
    "res = r.json()\n",
    "\n",
    "res"
   ]
  },
  {
   "cell_type": "code",
   "execution_count": 58,
   "metadata": {},
   "outputs": [
    {
     "name": "stdout",
     "output_type": "stream",
     "text": [
      "{'sampleId': 1000, 'collectionMethod': 'Manipulator', 'collectionStartDate': '2004-09-05', 'collector': 'Gill_James', 'cruiseFieldPrgrm': 'WF2983', 'currentArchive': 'Not Provided', 'externalSampleId': '261770', 'igsn': 'MGD0002Q8', 'latitude': 47.964699, 'launchPlatformName': 'Tiburon', 'longitude': -129.087054, 'name': 'T739-G26', 'platformName': 'Tiburon', 'platformType': 'Ship', 'primaryLocationName': 'JdF:Endeavour', 'primaryLocationType': 'FocusSite', 'publishDate': '2010-12-10', 'registrationDate': '2007-09-21', 'sampleComment': '2106-2185m tape 7. sampling lobate flow that underlies the pillows.', 'size': ' ', 'material': 'Rock', 'launchTypeName': 'ROV', 'navigationType': 'USBL', 'sampleType': 'Individual Sample', 'sesarUserCode': 'MGD', 'status': 'Public'}\n",
      "{'sampleId': 1001, 'collectionMethod': 'Manipulator', 'collectionStartDate': '2004-09-05', 'collector': 'Gill_James', 'cruiseFieldPrgrm': 'WF2983', 'currentArchive': 'Not Provided', 'externalSampleId': '261771', 'igsn': 'MGD0002Q9', 'latitude': 47.964673, 'launchPlatformName': 'Tiburon', 'longitude': -129.087108, 'name': 'T739-G27', 'platformName': 'Tiburon', 'platformType': 'Ship', 'primaryLocationName': 'JdF:Endeavour', 'primaryLocationType': 'FocusSite', 'publishDate': '2010-12-10', 'registrationDate': '2007-09-21', 'sampleComment': '2121-2182m; from a pillow pile', 'size': ' ', 'material': 'Rock', 'launchTypeName': 'ROV', 'navigationType': 'USBL', 'sampleType': 'Individual Sample', 'sesarUserCode': 'MGD', 'status': 'Public'}\n",
      "{'sampleId': 1002, 'collectionMethod': 'Manipulator', 'collectionStartDate': '2004-09-05', 'collector': 'Gill_James', 'cruiseFieldPrgrm': 'WF2983', 'currentArchive': 'Not Provided', 'externalSampleId': '261772', 'igsn': 'MGD0002R0', 'latitude': 47.96466, 'launchPlatformName': 'Tiburon', 'longitude': -129.087149, 'name': 'T739-G28', 'platformName': 'Tiburon', 'platformType': 'Ship', 'primaryLocationName': 'JdF:Endeavour', 'primaryLocationType': 'FocusSite', 'publishDate': '2010-12-10', 'registrationDate': '2007-09-21', 'sampleComment': '2145 - 2185m, collected sample on pillowed ridge', 'size': ' ', 'material': 'Rock', 'launchTypeName': 'ROV', 'navigationType': 'USBL', 'sampleType': 'Individual Sample', 'sesarUserCode': 'MGD', 'status': 'Public'}\n",
      "{'sampleId': 1003, 'collectionMethod': 'Manipulator', 'collectionStartDate': '2004-09-05', 'collector': 'Gill_James', 'cruiseFieldPrgrm': 'WF2983', 'currentArchive': 'Not Provided', 'externalSampleId': '261773', 'igsn': 'MGD0002R1', 'latitude': 47.964681, 'launchPlatformName': 'Tiburon', 'longitude': -129.087163, 'name': 'T739-G29', 'platformName': 'Tiburon', 'platformType': 'Ship', 'primaryLocationName': 'JdF:Endeavour', 'primaryLocationType': 'FocusSite', 'publishDate': '2010-12-10', 'registrationDate': '2007-09-21', 'sampleComment': '2157 - 2181m, collected sample from thin crust of a lobate.', 'size': ' ', 'material': 'Rock', 'launchTypeName': 'ROV', 'navigationType': 'USBL', 'sampleType': 'Individual Sample', 'sesarUserCode': 'MGD', 'status': 'Public'}\n",
      "{'sampleId': 1004, 'collectionMethod': 'Manipulator', 'collectionStartDate': '2004-09-05', 'collector': 'Gill_James', 'cruiseFieldPrgrm': 'WF2983', 'currentArchive': 'Not Provided', 'externalSampleId': '261820', 'igsn': 'MGD0002R2', 'latitude': 47.964702, 'launchPlatformName': 'Tiburon', 'longitude': -129.087305, 'name': 'T739-G30', 'platformName': 'Tiburon', 'platformType': 'Ship', 'primaryLocationName': 'JdF:Endeavour', 'primaryLocationType': 'FocusSite', 'publishDate': '2010-12-10', 'registrationDate': '2007-09-21', 'sampleComment': '2208 - 2193m, collected a piece of sheet flow, has ropy texture on one side.', 'size': ' ', 'material': 'Rock', 'launchTypeName': 'ROV', 'navigationType': 'USBL', 'sampleType': 'Individual Sample', 'sesarUserCode': 'MGD', 'status': 'Public'}\n",
      "{'sampleId': 1005, 'collectionMethod': 'Manipulator', 'collectionStartDate': '2004-09-05', 'collector': 'Gill_James', 'cruiseFieldPrgrm': 'WF2983', 'currentArchive': 'Not Provided', 'externalSampleId': '261795', 'igsn': 'MGD0002R3', 'latitude': 47.965032, 'launchPlatformName': 'Tiburon', 'longitude': -129.087803, 'name': 'T739-G31', 'platformName': 'Tiburon', 'platformType': 'Ship', 'primaryLocationName': 'JdF:Endeavour', 'primaryLocationType': 'FocusSite', 'publishDate': '2010-12-10', 'registrationDate': '2007-09-21', 'sampleComment': '2235 - we could be here, collecting sample, 2179m.', 'size': ' ', 'material': 'Rock', 'launchTypeName': 'ROV', 'navigationType': 'USBL', 'sampleType': 'Individual Sample', 'sesarUserCode': 'MGD', 'status': 'Public'}\n",
      "{'sampleId': 1006, 'collectionMethod': 'Manipulator', 'collectionStartDate': '2004-09-05', 'collector': 'Gill_James', 'cruiseFieldPrgrm': 'WF2983', 'currentArchive': 'Not Provided', 'externalSampleId': '261763', 'igsn': 'MGD0002R4', 'latitude': 47.965032, 'launchPlatformName': 'Tiburon', 'longitude': -129.087912, 'name': 'T739-G32', 'platformName': 'Tiburon', 'platformType': 'Ship', 'primaryLocationName': 'JdF:Endeavour', 'primaryLocationType': 'FocusSite', 'publishDate': '2010-12-10', 'registrationDate': '2007-09-21', 'sampleComment': '2246 do not know  where we are north or south of ship, but think we are roughly right EW', 'size': ' ', 'material': 'Rock', 'launchTypeName': 'ROV', 'navigationType': 'USBL', 'sampleType': 'Individual Sample', 'sesarUserCode': 'MGD', 'status': 'Public'}\n",
      "{'sampleId': 1007, 'collectionMethod': 'Manipulator', 'collectionStartDate': '2004-09-05', 'collector': 'Gill_James', 'cruiseFieldPrgrm': 'WF2983', 'currentArchive': 'Not Provided', 'externalSampleId': '261797', 'igsn': 'MGD0002R5', 'latitude': 47.964981, 'launchPlatformName': 'Tiburon', 'longitude': -129.088033, 'name': 'T739-G33', 'platformName': 'Tiburon', 'platformType': 'Ship', 'primaryLocationName': 'JdF:Endeavour', 'primaryLocationType': 'FocusSite', 'publishDate': '2010-12-10', 'registrationDate': '2007-09-21', 'sampleComment': '2165m collect 2 slabs of uppermost drapery fold.', 'size': ' ', 'material': 'Rock', 'launchTypeName': 'ROV', 'navigationType': 'USBL', 'sampleType': 'Individual Sample', 'sesarUserCode': 'MGD', 'status': 'Public'}\n",
      "{'sampleId': 1008, 'collectionMethod': 'Manipulator', 'collectionStartDate': '2004-09-05', 'collector': 'Gill_James', 'cruiseFieldPrgrm': 'WF2983', 'currentArchive': 'Not Provided', 'externalSampleId': '261798', 'igsn': 'MGD0002R6', 'latitude': 47.964998, 'launchPlatformName': 'Tiburon', 'longitude': -129.088084, 'name': 'T739-G34', 'platformName': 'Tiburon', 'platformType': 'Ship', 'primaryLocationName': 'JdF:Endeavour', 'primaryLocationType': 'FocusSite', 'publishDate': '2010-12-10', 'registrationDate': '2007-09-21', 'sampleComment': '2187m small lobate crust sample.', 'size': ' ', 'material': 'Rock', 'launchTypeName': 'ROV', 'navigationType': 'USBL', 'sampleType': 'Individual Sample', 'sesarUserCode': 'MGD', 'status': 'Public'}\n",
      "{'sampleId': 1009, 'collectionMethod': 'Manipulator', 'collectionStartDate': '2004-09-05', 'collector': 'Gill_James', 'cruiseFieldPrgrm': 'WF2983', 'currentArchive': 'Not Provided', 'externalSampleId': '261799', 'igsn': 'MGD0002R7', 'latitude': 47.965043, 'launchPlatformName': 'Tiburon', 'longitude': -129.088031, 'name': 'T739-G35', 'platformName': 'Tiburon', 'platformType': 'Ship', 'primaryLocationName': 'JdF:Endeavour', 'primaryLocationType': 'FocusSite', 'publishDate': '2010-12-10', 'registrationDate': '2007-09-21', 'sampleComment': '2201m rov likely to south and a little east of ship', 'size': ' ', 'material': 'Rock', 'launchTypeName': 'ROV', 'navigationType': 'USBL', 'sampleType': 'Individual Sample', 'sesarUserCode': 'MGD', 'status': 'Public'}\n"
     ]
    }
   ],
   "source": [
    "#nr = 109359\n",
    "\n",
    "for nr in range(10):\n",
    "    url = 'https://api.geosamples.org/v1/sample/id/' + str(1000 + nr)\n",
    "\n",
    "    r = requests.get(url)\n",
    "\n",
    "    print(r.json())"
   ]
  }
 ],
 "metadata": {
  "kernelspec": {
   "display_name": "Python 3",
   "language": "python",
   "name": "python3"
  },
  "language_info": {
   "codemirror_mode": {
    "name": "ipython",
    "version": 3
   },
   "file_extension": ".py",
   "mimetype": "text/x-python",
   "name": "python",
   "nbconvert_exporter": "python",
   "pygments_lexer": "ipython3",
   "version": "3.8.5"
  }
 },
 "nbformat": 4,
 "nbformat_minor": 4
}
