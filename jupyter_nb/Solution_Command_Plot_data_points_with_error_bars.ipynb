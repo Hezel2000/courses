{
 "cells": [
  {
   "cell_type": "markdown",
   "metadata": {},
   "source": [
    "# Solution- Plot data points with error bars"
   ]
  },
  {
   "cell_type": "markdown",
   "metadata": {},
   "source": [
    "## Instant Review & Quiz"
   ]
  },
  {
   "cell_type": "markdown",
   "metadata": {},
   "source": [
    "<b>I1. How do .scatter() and .errorbar() differe from each other?</b>"
   ]
  },
  {
   "cell_type": "markdown",
   "metadata": {},
   "source": [
    "<font color = darkgreen><b>\n",
    "    The basic structure is actually very similar. In fact, replacing .scatter() by .errorbar() does not change anything. The difference is that .errobar() takes additional arguments such as xerr, yerr and styling arguments for the error bars.\n",
    "</b></font>"
   ]
  },
  {
   "cell_type": "markdown",
   "metadata": {},
   "source": [
    "<b>Q1. Error bars can only be absolute or relative.</b><br>\n",
    "True<br>\n",
    "False"
   ]
  },
  {
   "cell_type": "markdown",
   "metadata": {},
   "source": [
    "<font color = darkgreen><b>\n",
    "    True\n",
    "</b></font>"
   ]
  },
  {
   "cell_type": "markdown",
   "metadata": {},
   "source": [
    "<b>Q2. The method 'errorbar' requires the import of scipy.</b><br>\n",
    "True<br>\n",
    "False"
   ]
  },
  {
   "cell_type": "markdown",
   "metadata": {},
   "source": [
    "<font color = darkgreen><b>\n",
    "    False. It is part of matplotlib\n",
    "</b></font>"
   ]
  },
  {
   "cell_type": "markdown",
   "metadata": {},
   "source": [
    "## What's wrong with this code?"
   ]
  },
  {
   "cell_type": "markdown",
   "metadata": {},
   "source": [
    "### <font color = brown><b>Answer before executing the code!</b></font>"
   ]
  },
  {
   "cell_type": "markdown",
   "metadata": {},
   "source": [
    "<b>First problem</b>"
   ]
  },
  {
   "cell_type": "code",
   "execution_count": null,
   "metadata": {},
   "outputs": [],
   "source": [
    "import requests, json\n",
    "\n",
    "city = 'Frankfurt'\n",
    "url = 'api.openweathermap.org/data/2.5/weather?q=' + city + '&appid={apikey}'   #you need to have an apikey, of course\n",
    "r = requests.get()\n",
    "res = json()\n",
    "\n",
    "res"
   ]
  },
  {
   "cell_type": "markdown",
   "metadata": {},
   "source": [
    "<b>Second problem</b>"
   ]
  },
  {
   "cell_type": "code",
   "execution_count": null,
   "metadata": {},
   "outputs": [],
   "source": [
    "import modules.mineralogyModule as mm\n",
    "\n",
    "plusOne(4)"
   ]
  },
  {
   "cell_type": "markdown",
   "metadata": {},
   "source": [
    "## Practise"
   ]
  },
  {
   "cell_type": "markdown",
   "metadata": {},
   "source": [
    "Make an interactive plot in wich you can select a csv-file out of all csv-files from a folder using a drop-dwon menu.<br>\n",
    "Make drop-downs for the REE that you extract from one file.<br>\n",
    "Plot the data with errorbars. The error shall be selectable with a slider. The error shall be a relative error, between 0 and 20% of the data value."
   ]
  },
  {
   "cell_type": "code",
   "execution_count": 1,
   "metadata": {},
   "outputs": [],
   "source": [
    "import pandas as pd\n",
    "import matplotlib.pyplot as plt\n",
    "from ipywidgets import interact, Combobox\n",
    "import modules.mineralogyModule as mm"
   ]
  },
  {
   "cell_type": "code",
   "execution_count": null,
   "metadata": {},
   "outputs": [],
   "source": [
    "filesList = mm.dirFiles('data/georoc data', 'csv')\n",
    "elList = pd.read_csv('data/georoc data/'  + filesList[0]).columns.tolist()[118:132]\n",
    "\n",
    "def dataWithRegression(file, el1, el2, err):\n",
    "    df = pd.read_csv('data/georoc data/' + file)\n",
    "\n",
    "    plt.errorbar(df[el1], df[el1]\n",
    "             ,xerr = err * df[el1]\n",
    "             ,yerr = err * df[el1]\n",
    "             ,fmt = 'o'\n",
    "             ,color = 'black'\n",
    "             ,elinewidth = .6\n",
    "             ,capsize = 2\n",
    "             , zorder = 2)\n",
    "\n",
    "    plt.xlabel(el1)\n",
    "    plt.ylabel(el2)\n",
    "    return plt.show()\n",
    "\n",
    "#I imported Combobox as an additional method from ipywidgets above\n",
    "#It is not necessary, but starting with La vor x and y produces an error\n",
    "el2Start = Combobox(options = elList, value = \"Ce\")\n",
    "\n",
    "interact(dataWithRegression, file = filesList, el1 = elList, el2 = el2Start, err = (0, .2, .01))"
   ]
  }
 ],
 "metadata": {
  "kernelspec": {
   "display_name": "Python 3",
   "language": "python",
   "name": "python3"
  },
  "language_info": {
   "codemirror_mode": {
    "name": "ipython",
    "version": 3
   },
   "file_extension": ".py",
   "mimetype": "text/x-python",
   "name": "python",
   "nbconvert_exporter": "python",
   "pygments_lexer": "ipython3",
   "version": "3.8.5"
  }
 },
 "nbformat": 4,
 "nbformat_minor": 4
}
