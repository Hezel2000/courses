{
 "cells": [
  {
   "cell_type": "markdown",
   "metadata": {},
   "source": [
    "# Solution- Linear Regression"
   ]
  },
  {
   "cell_type": "markdown",
   "metadata": {},
   "source": [
    "## Instant Review & Quiz"
   ]
  },
  {
   "cell_type": "markdown",
   "metadata": {},
   "source": [
    "<b>I1. What is the result of: pi, val, param = [3.141, 31.432, 'imaginative']</b>"
   ]
  },
  {
   "cell_type": "markdown",
   "metadata": {},
   "source": [
    "<font color = darkgreen><b>\n",
    "    The value 3.141 is assigened to the variable pi, the value 31.432 is assigened to the variable val, and the string 'imaginative' is assigened to the variable param. \n",
    "</b></font>"
   ]
  },
  {
   "cell_type": "markdown",
   "metadata": {},
   "source": [
    "<b>Q1. stats is a Python Package.</b><br>\n",
    "True<br>\n",
    "False"
   ]
  },
  {
   "cell_type": "markdown",
   "metadata": {},
   "source": [
    "<font color = darkgreen><b>\n",
    "    False. It is a method from the scipy package.\n",
    "</b></font>"
   ]
  },
  {
   "cell_type": "markdown",
   "metadata": {},
   "source": [
    "<b>Q2. What is the argument called to define the layer on which data are drawn?</b><br>\n",
    "order<br>\n",
    "xorder<br>\n",
    "yorder<br>\n",
    "zorder"
   ]
  },
  {
   "cell_type": "markdown",
   "metadata": {},
   "source": [
    "<font color = darkgreen><b>\n",
    "    zorder\n",
    "</b></font>"
   ]
  },
  {
   "cell_type": "markdown",
   "metadata": {},
   "source": [
    "## What's wrong with this code?"
   ]
  },
  {
   "cell_type": "markdown",
   "metadata": {},
   "source": [
    "### <font color = brown><b>Answer before executing the code! Also, first try to find out what the code tries to do.</b></font>"
   ]
  },
  {
   "cell_type": "code",
   "execution_count": null,
   "metadata": {},
   "outputs": [],
   "source": [
    "import pandas as pd\n",
    "import matplotlib.pyplot as plt\n",
    "\n",
    "df = pd.read_csv('data/georoc data/Hyblean or Iblean Plateau, Sicily')\n",
    "\n",
    "df.iloc[:, ('Mn', 'Al')].dropna"
   ]
  },
  {
   "cell_type": "code",
   "execution_count": null,
   "metadata": {},
   "outputs": [],
   "source": [
    "a, b, c = [3, 1, 7]\n",
    "\n",
    "if a == 3:\n",
    "    print(b)\n",
    "else c = 4:\n",
    "    print(b)\n",
    "else b > a\n",
    "    print('what a stupid code')"
   ]
  },
  {
   "cell_type": "code",
   "execution_count": null,
   "metadata": {},
   "outputs": [],
   "source": [
    "for i in range.4:\n",
    "    def addTwo(i)\n",
    "        i + 2\n",
    "    return i"
   ]
  },
  {
   "cell_type": "markdown",
   "metadata": {},
   "source": [
    "## Practise"
   ]
  },
  {
   "cell_type": "markdown",
   "metadata": {},
   "source": [
    "<b>A challenge:</b><br>\n",
    "Make an interactive plot in wich you can select a csv-file out of all csv-files from a folder using a drop-dwon menu.<br>\n",
    "Make drop-downs for the REE that you extract from one file.<br>\n",
    "Also plot a regression through the data."
   ]
  },
  {
   "cell_type": "code",
   "execution_count": 89,
   "metadata": {},
   "outputs": [],
   "source": [
    "import pandas as pd\n",
    "import numpy as np\n",
    "import matplotlib.pyplot as plt\n",
    "from ipywidgets import interact, Combobox\n",
    "from scipy import stats\n",
    "import modules.mineralogyModule as mm"
   ]
  },
  {
   "cell_type": "code",
   "execution_count": null,
   "metadata": {},
   "outputs": [],
   "source": [
    "filesList = mm.dirFiles('data/georoc data', 'csv')\n",
    "elList = pd.read_csv('data/georoc data/'  + filesList[0]).columns.tolist()[118:132]\n",
    "\n",
    "def dataWithRegression(file, el1, el2):\n",
    "    df = pd.read_csv('data/georoc data/' + file)\n",
    "    \n",
    "    #dropna is critical, as regression does not work, should there be cells with no data\n",
    "    data = df.loc[:, [el1, el2]].dropna()\n",
    "\n",
    "    xAxis = data[el1]\n",
    "    yAxis = data[el2]\n",
    "\n",
    "    #Using these min and max methods makes the code even more flexible\n",
    "    xAxisValues = np.linspace(min(xAxis), max(xAxis)) \n",
    "\n",
    "    slope, intercept, rvalue, pvalue, stderr = stats.linregress(xAxis, yAxis)\n",
    "\n",
    "    plt.scatter(xAxis, yAxis, marker = 6, s = 70, color = 'teal', zorder = 2)\n",
    "    plt.plot(xAxisValues, slope * xAxisValues + intercept, '--', color = 'grey', zorder = 1)\n",
    "    plt.xlabel(el1)\n",
    "    plt.ylabel(el2)\n",
    "    return plt.show()\n",
    "\n",
    "#I imported Combobox as an additional method from ipywidgets above\n",
    "#It is not necessary, but starting with La vor x and y produces an error\n",
    "el2Start = Combobox(options = elList, value = \"Ce\")\n",
    "\n",
    "interact(dataWithRegression, file = filesList, el1 = elList, el2 = el2Start)"
   ]
  }
 ],
 "metadata": {
  "kernelspec": {
   "display_name": "Python 3",
   "language": "python",
   "name": "python3"
  },
  "language_info": {
   "codemirror_mode": {
    "name": "ipython",
    "version": 3
   },
   "file_extension": ".py",
   "mimetype": "text/x-python",
   "name": "python",
   "nbconvert_exporter": "python",
   "pygments_lexer": "ipython3",
   "version": "3.8.5"
  }
 },
 "nbformat": 4,
 "nbformat_minor": 4
}
