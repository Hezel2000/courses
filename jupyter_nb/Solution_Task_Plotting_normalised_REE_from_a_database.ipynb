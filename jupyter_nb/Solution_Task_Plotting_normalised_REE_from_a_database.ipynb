{
 "cells": [
  {
   "cell_type": "markdown",
   "metadata": {},
   "source": [
    "# Task- Plotting normalised REE from a database"
   ]
  },
  {
   "cell_type": "code",
   "execution_count": 1,
   "metadata": {},
   "outputs": [],
   "source": [
    "import pandas as pd\n",
    "import matplotlib.pyplot as plt\n",
    "from ipywidgets import interact"
   ]
  },
  {
   "cell_type": "code",
   "execution_count": 6,
   "metadata": {},
   "outputs": [],
   "source": [
    "df = pd.read_csv('data/West African Craton.csv')\n",
    "dfChondrites = pd.read_excel(\"data/chondrite element abundances.xlsx\")"
   ]
  },
  {
   "cell_type": "code",
   "execution_count": 12,
   "metadata": {},
   "outputs": [
    {
     "name": "stdout",
     "output_type": "stream",
     "text": [
      "[0.235, 0.62, 0.094, 0.46, 0.15, 0.057, 0.2, 0.037, 0.25, 0.056, 0.16, 0.025, 0.16, 0.025]\n"
     ]
    }
   ],
   "source": [
    "cIValues = dfChondrites.iloc[56:71, 3].tolist()\n",
    "cIValues.pop(4)  # removes Pm\n",
    "\n",
    "print(cIValues)"
   ]
  },
  {
   "cell_type": "markdown",
   "metadata": {},
   "source": [
    "## Plot REE"
   ]
  },
  {
   "cell_type": "code",
   "execution_count": 16,
   "metadata": {},
   "outputs": [],
   "source": [
    "ree = ['La', 'Ce', 'Pr', 'Nd', 'Sm', 'Eu', 'Gd', 'Tb', 'Dy', 'Ho', 'Er', 'Tm', 'Yb', 'Lu']\n",
    "\n",
    "fil = df['Rock Type'] == 'VOLCANIC ROCK'\n",
    "\n",
    "def plotREE(normalised):\n",
    "    global data\n",
    "    if normalised == True:\n",
    "        data = df.loc[fil, ree].dropna(0, 'all') / cIValues   # .dropna() deletes all rows with no values\n",
    "        plt.ylabel('normalised abundances (mass-ratios)')\n",
    "    else:\n",
    "        data = df.loc[fil, ree].dropna(0, 'all')\n",
    "        plt.ylabel('concentrations (wt-ppm)')\n",
    "\n",
    "    plt.plot(data.T)  # .T transposes the data\n",
    "    plt.yscale('log')\n",
    "\n",
    "    return plt.show()"
   ]
  },
  {
   "cell_type": "code",
   "execution_count": 17,
   "metadata": {},
   "outputs": [
    {
     "data": {
      "application/vnd.jupyter.widget-view+json": {
       "model_id": "be66ad964e964fc0a14de706362b43a7",
       "version_major": 2,
       "version_minor": 0
      },
      "text/plain": [
       "interactive(children=(Checkbox(value=True, description='normalised'), Output()), _dom_classes=('widget-interac…"
      ]
     },
     "metadata": {},
     "output_type": "display_data"
    },
    {
     "data": {
      "text/plain": [
       "<function __main__.plotREE(normalised)>"
      ]
     },
     "execution_count": 17,
     "metadata": {},
     "output_type": "execute_result"
    }
   ],
   "source": [
    "interact(plotREE, normalised = True)"
   ]
  },
  {
   "cell_type": "code",
   "execution_count": 18,
   "metadata": {},
   "outputs": [
    {
     "data": {
      "text/plain": [
       "23"
      ]
     },
     "execution_count": 18,
     "metadata": {},
     "output_type": "execute_result"
    }
   ],
   "source": [
    "len(data)"
   ]
  },
  {
   "cell_type": "code",
   "execution_count": null,
   "metadata": {},
   "outputs": [],
   "source": []
  }
 ],
 "metadata": {
  "kernelspec": {
   "display_name": "Python 3 (ipykernel)",
   "language": "python",
   "name": "python3"
  },
  "language_info": {
   "codemirror_mode": {
    "name": "ipython",
    "version": 3
   },
   "file_extension": ".py",
   "mimetype": "text/x-python",
   "name": "python",
   "nbconvert_exporter": "python",
   "pygments_lexer": "ipython3",
   "version": "3.9.12"
  }
 },
 "nbformat": 4,
 "nbformat_minor": 4
}
