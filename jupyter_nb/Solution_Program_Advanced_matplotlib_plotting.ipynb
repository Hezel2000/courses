{
 "cells": [
  {
   "cell_type": "markdown",
   "metadata": {},
   "source": [
    "# Solution- Advanced matplotlib plotting"
   ]
  },
  {
   "cell_type": "markdown",
   "metadata": {},
   "source": [
    "## Instant Review & Quiz"
   ]
  },
  {
   "cell_type": "markdown",
   "metadata": {},
   "source": [
    "<b>I1. What is the difference between 'fig' and 'plt'?</b>"
   ]
  },
  {
   "cell_type": "markdown",
   "metadata": {},
   "source": [
    "<font color = darkgreen><b>\n",
    "    A figure (fig) can contain multiple plots. A plot (plt) represents only a single plot.\n",
    "</b></font>"
   ]
  },
  {
   "cell_type": "markdown",
   "metadata": {},
   "source": [
    "<b>Q1. Multiple plots can share axes scaling.</b><br>\n",
    "True<br>\n",
    "False"
   ]
  },
  {
   "cell_type": "markdown",
   "metadata": {},
   "source": [
    "<font color = darkgreen><b>\n",
    "    True\n",
    "</b></font>"
   ]
  },
  {
   "cell_type": "markdown",
   "metadata": {},
   "source": [
    "<b>Q2. The x-/y-axes of multiple plots need to display the same e.g., chemical elements, respectively</b><br>\n",
    "True<br>\n",
    "False"
   ]
  },
  {
   "cell_type": "markdown",
   "metadata": {},
   "source": [
    "<font color = darkgreen><b>\n",
    "    False.\n",
    "</b></font>"
   ]
  },
  {
   "cell_type": "markdown",
   "metadata": {},
   "source": [
    "# Practise"
   ]
  },
  {
   "cell_type": "markdown",
   "metadata": {},
   "source": [
    "## Selecting a Plot"
   ]
  },
  {
   "cell_type": "markdown",
   "metadata": {},
   "source": [
    "Prodcue a figure with 4 individual plots that share the y-axis.<br>\n",
    "Define a variable 'sel', and depending on its value make the plots with space between all of them, or no sapace between the plots in the columns."
   ]
  },
  {
   "cell_type": "code",
   "execution_count": null,
   "metadata": {},
   "outputs": [],
   "source": [
    "import matplotlib.pyplot as plt\n",
    "\n",
    "space = True\n",
    "\n",
    "if space == True:\n",
    "    wsWidth = .1\n",
    "else:\n",
    "    wsWidth = 0\n",
    "\n",
    "fig, ((ax1, ax2), (ax3, ax4)) = plt.subplots(2, 2, sharey = True)\n",
    "fig.subplots_adjust(hspace = 0, wspace = wsWidth)\n",
    "\n",
    "ax1.scatter([1,2,3], [4,5,6])\n",
    "ax2.scatter([7,8,9], [1,2,3])\n",
    "ax3.scatter([4,5,6], [7,8,9])\n",
    "ax4.scatter([3,2,1], [4,5,6])\n",
    "\n",
    "plt.show()"
   ]
  },
  {
   "cell_type": "markdown",
   "metadata": {},
   "source": [
    "## What's wrong with this code?"
   ]
  },
  {
   "cell_type": "markdown",
   "metadata": {},
   "source": [
    "### <font color = brown><b>Answer before executing the code!</b></font>"
   ]
  },
  {
   "cell_type": "markdown",
   "metadata": {},
   "source": [
    "The goal is have 6 plots in one figure in 2 rows, and then save the entire figure."
   ]
  },
  {
   "cell_type": "code",
   "execution_count": null,
   "metadata": {},
   "outputs": [],
   "source": [
    "import matplotlib.pyplot as plt\n",
    "\n",
    "fig, ((ax1, ax2, ax3), (ax4, ax5, ax6)) = plt.subplots(3, 2, shareX = True, shareY = True)\n",
    "fig.subplots_adjust(hspace = 0, wspace = 0)\n",
    "\n",
    "ax1.scatter([1,2,3], [4,5,6])\n",
    "ax2.scatter([7,8,9], [1,2,3])\n",
    "ax3.scatter([4,5,6], [7,8,9])\n",
    "ax4.scatter([3,2,1], [4,5,6])\n",
    "ax5.scatter([9,8,7], [1,2,3])\n",
    "ax3.scatter([6,5,4], [7,8,9])\n",
    "\n",
    "plt.show\n",
    "\n",
    "plt.savefig('test')"
   ]
  },
  {
   "cell_type": "code",
   "execution_count": null,
   "metadata": {},
   "outputs": [],
   "source": [
    "import matplotlib.pyplot as plt\n",
    "\n",
    "fig, ((ax1, ax2, ax3), (ax4, ax5, ax6)) = plt.subplots(2, 3, sharex = True, sharey = True)\n",
    "fig.subplots_adjust(hspace = 0, wspace = 0)\n",
    "\n",
    "ax1.scatter([1,2,3], [4,5,6])\n",
    "ax2.scatter([7,8,9], [1,2,3])\n",
    "ax3.scatter([4,5,6], [7,8,9])\n",
    "ax4.scatter([3,2,1], [4,5,6])\n",
    "ax5.scatter([9,8,7], [1,2,3])\n",
    "ax6.scatter([6,5,4], [7,8,9])\n",
    "\n",
    "plt.show()\n",
    "\n",
    "fig.savefig('test.pdf')"
   ]
  }
 ],
 "metadata": {
  "kernelspec": {
   "display_name": "Python 3",
   "language": "python",
   "name": "python3"
  },
  "language_info": {
   "codemirror_mode": {
    "name": "ipython",
    "version": 3
   },
   "file_extension": ".py",
   "mimetype": "text/x-python",
   "name": "python",
   "nbconvert_exporter": "python",
   "pygments_lexer": "ipython3",
   "version": "3.8.5"
  }
 },
 "nbformat": 4,
 "nbformat_minor": 4
}
