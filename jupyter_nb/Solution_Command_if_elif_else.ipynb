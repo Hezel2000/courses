{
 "cells": [
  {
   "cell_type": "markdown",
   "metadata": {},
   "source": [
    "# Solution- Command- if, elif, else"
   ]
  },
  {
   "cell_type": "markdown",
   "metadata": {},
   "source": [
    "## Instant Review & Quiz"
   ]
  },
  {
   "cell_type": "markdown",
   "metadata": {},
   "source": [
    "<b>I1. Describe the basic concept of if/elif/else</b>"
   ]
  },
  {
   "cell_type": "markdown",
   "metadata": {},
   "source": [
    "<font color = darkgreen><b>\n",
    "    These are conditions, i.e., a condition is checked (e.g., if a variable is larger, smaller or equal to a certain value, or, whehter a variable has True/False as its value), and depending on whether the condition is True or False, either an output is created, or an additional condition is checked using elif.\n",
    "</b></font>"
   ]
  },
  {
   "cell_type": "markdown",
   "metadata": {},
   "source": [
    "<b>Q1. What is the result of the following code: (don't execute before answering!)<br>"
   ]
  },
  {
   "cell_type": "code",
   "execution_count": 2,
   "metadata": {},
   "outputs": [
    {
     "name": "stdout",
     "output_type": "stream",
     "text": [
      "22.13\n"
     ]
    }
   ],
   "source": [
    "mg = 22.13\n",
    "\n",
    "if mg < 0.03\n",
    "    print('below d.l.')\n",
    "else:\n",
    "    print(mg)"
   ]
  },
  {
   "cell_type": "markdown",
   "metadata": {},
   "source": [
    "22.13<br>\n",
    "below d.l.<br>\n",
    "code is incomplete"
   ]
  },
  {
   "cell_type": "markdown",
   "metadata": {},
   "source": [
    "<font color = darkgreen><b>\n",
    "    code is incomplete (colon missing after 'if mg < 0.03')\n",
    "</b></font>"
   ]
  },
  {
   "cell_type": "markdown",
   "metadata": {},
   "source": [
    "<b>Q2. The if/elif/else command can be used with interactive elements.</b><br>\n",
    "True<br>\n",
    "False"
   ]
  },
  {
   "cell_type": "markdown",
   "metadata": {},
   "source": [
    "<font color = darkgreen><b>\n",
    "    True\n",
    "</b></font>"
   ]
  },
  {
   "cell_type": "markdown",
   "metadata": {},
   "source": [
    "## Practise"
   ]
  },
  {
   "cell_type": "markdown",
   "metadata": {},
   "source": [
    "An interactive plot has the opiton of ticking whether wt% or wt-ppm is shown on an axis. The value from the tick box is either True or False. In case of True, the output shall be wt%.<br>\n",
    "In the first step, we do not want a plot, but only the output of either 'wt%' or 'wt-ppm'. "
   ]
  },
  {
   "cell_type": "code",
   "execution_count": 8,
   "metadata": {},
   "outputs": [
    {
     "name": "stdout",
     "output_type": "stream",
     "text": [
      "wt%\n"
     ]
    }
   ],
   "source": [
    "unit = True\n",
    "\n",
    "if unit == True:  # this needs to be '==' as no value is assigned, but test is performed.\n",
    "    print('wt%')\n",
    "else:\n",
    "    print('wt-ppm')"
   ]
  },
  {
   "cell_type": "markdown",
   "metadata": {},
   "source": [
    "Now make the simplest plot possible using the provided data, but depending on the value of unit, display 'wt%' or 'wt-ppm' on the y-axis."
   ]
  },
  {
   "cell_type": "code",
   "execution_count": null,
   "metadata": {},
   "outputs": [],
   "source": [
    "import matplotlib.pyplot as plt"
   ]
  },
  {
   "cell_type": "code",
   "execution_count": 12,
   "metadata": {},
   "outputs": [
    {
     "data": {
      "image/png": "[encoded data removed]",
      "text/plain": [
       "<Figure size 432x288 with 1 Axes>"
      ]
     },
     "metadata": {
      "needs_background": "light"
     },
     "output_type": "display_data"
    }
   ],
   "source": [
    "data = [1, 5, 2, 5, 6]\n",
    "\n",
    "unit = True\n",
    "\n",
    "if unit == True:  # this needs to be '==' as no value is assigned, but test is performed.\n",
    "    plotUnit = '( wt%)'\n",
    "else:\n",
    "    plotUnit = ' (wt-ppm)'\n",
    "\n",
    "plt.plot(data)\n",
    "plt.ylabel('MgO' + plotUnit)\n",
    "\n",
    "plt.show()"
   ]
  },
  {
   "cell_type": "markdown",
   "metadata": {},
   "source": [
    "Expand the unit selection on the previous plot by the following two options: 'wt-ppb' and 'wt-ppt'.<br>\n",
    "This is challenging, as you cant use True/False any longer."
   ]
  },
  {
   "cell_type": "code",
   "execution_count": 19,
   "metadata": {},
   "outputs": [
    {
     "data": {
      "image/png": "[encoded data removed]",
      "text/plain": [
       "<Figure size 432x288 with 1 Axes>"
      ]
     },
     "metadata": {
      "needs_background": "light"
     },
     "output_type": "display_data"
    }
   ],
   "source": [
    "data = [1, 5, 2, 5, 6]\n",
    "\n",
    "unit = 2\n",
    "\n",
    "if unit == 1:  # this needs to be '==' as no value is assigned, but test is performed.\n",
    "    plotUnit = '( wt%)'\n",
    "\n",
    "elif unit == 2:\n",
    "    plotUnit = ' (wt-ppm)'\n",
    "    \n",
    "elif unit == 3:\n",
    "    plotUnit = ' (wt-ppb)'\n",
    "\n",
    "else:\n",
    "    plotUnit = ' (wt-ppt)'\n",
    "\n",
    "plt.plot(data)\n",
    "plt.ylabel('MgO' + plotUnit)\n",
    "\n",
    "plt.show()"
   ]
  },
  {
   "cell_type": "markdown",
   "metadata": {},
   "source": [
    "If you still want to go one step further, try and combine this with interact. It is a challenge, and not yet expected to solve."
   ]
  },
  {
   "cell_type": "code",
   "execution_count": 18,
   "metadata": {},
   "outputs": [],
   "source": [
    "from ipywidgets import interact"
   ]
  },
  {
   "cell_type": "code",
   "execution_count": 23,
   "metadata": {},
   "outputs": [],
   "source": [
    "def pltData(unit):\n",
    "    if unit == 1:  # this needs to be '==' as no value is assigned, but test is performed.\n",
    "        plotUnit = '( wt%)'\n",
    "    elif unit == 2:\n",
    "        plotUnit = ' (wt-ppm)'\n",
    "    elif unit == 3:\n",
    "        plotUnit = ' (wt-ppb)'\n",
    "    else:\n",
    "        plotUnit = ' (wt-ppt)'\n",
    "    \n",
    "    plt.plot(data)\n",
    "    plt.ylabel('MgO' + plotUnit)\n",
    "\n",
    "    return plt.show()"
   ]
  },
  {
   "cell_type": "code",
   "execution_count": 28,
   "metadata": {},
   "outputs": [
    {
     "data": {
      "application/vnd.jupyter.widget-view+json": {
       "model_id": "fc5899b900764be794784f993c4bc0ef",
       "version_major": 2,
       "version_minor": 0
      },
      "text/plain": [
       "interactive(children=(Dropdown(description='unit', options=(1, 2, 3, 4), value=1), Output()), _dom_classes=('w…"
      ]
     },
     "metadata": {},
     "output_type": "display_data"
    },
    {
     "data": {
      "text/plain": [
       "<function __main__.pltData(unit)>"
      ]
     },
     "execution_count": 28,
     "metadata": {},
     "output_type": "execute_result"
    }
   ],
   "source": [
    "data = [1, 5, 2, 5, 6]\n",
    "\n",
    "interact(pltData, unit = [1, 2, 3, 4])"
   ]
  }
 ],
 "metadata": {
  "kernelspec": {
   "display_name": "Python 3",
   "language": "python",
   "name": "python3"
  },
  "language_info": {
   "codemirror_mode": {
    "name": "ipython",
    "version": 3
   },
   "file_extension": ".py",
   "mimetype": "text/x-python",
   "name": "python",
   "nbconvert_exporter": "python",
   "pygments_lexer": "ipython3",
   "version": "3.8.5"
  }
 },
 "nbformat": 4,
 "nbformat_minor": 4
}
