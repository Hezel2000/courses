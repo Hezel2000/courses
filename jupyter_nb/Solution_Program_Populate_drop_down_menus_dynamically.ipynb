{
 "cells": [
  {
   "cell_type": "markdown",
   "metadata": {},
   "source": [
    "# Solution- Populate drop-down menus dynamically"
   ]
  },
  {
   "cell_type": "markdown",
   "metadata": {},
   "source": [
    "## Instant Review & Quiz"
   ]
  },
  {
   "cell_type": "markdown",
   "metadata": {},
   "source": [
    "<b>I1. Under what circumstances can the categories from one database be used in a drop-down menu – when selections from this drop-down menu shall also work for other databases?</b>"
   ]
  },
  {
   "cell_type": "markdown",
   "metadata": {},
   "source": [
    "<font color = darkgreen><b>\n",
    "    This will always work as long as the category names of all the other databasees are the same – independet from the sorting of the data columns.\n",
    "</b></font>"
   ]
  },
  {
   "cell_type": "markdown",
   "metadata": {},
   "source": [
    "<b>Q1. Which package needs to be imported to read the file names of a directory?</b><br>\n",
    "os<br>\n",
    "dir<br>\n",
    "directory<br>\n",
    "files"
   ]
  },
  {
   "cell_type": "markdown",
   "metadata": {},
   "source": [
    "<font color = darkgreen><b>\n",
    "    os -> import os\n",
    "</b></font>"
   ]
  },
  {
   "cell_type": "markdown",
   "metadata": {},
   "source": [
    "<b>Q2. The Python-Command 'dirFiles()' reads the file names with a specific ending from a folder.</b><br>\n",
    "true<br>\n",
    "false"
   ]
  },
  {
   "cell_type": "markdown",
   "metadata": {},
   "source": [
    "<font color = darkgreen><b>\n",
    "    False. This is not a Python command, but one we defined ourselves. So it might be a mineralogyModule command.\n",
    "</b></font>"
   ]
  },
  {
   "cell_type": "markdown",
   "metadata": {},
   "source": [
    "## Practise"
   ]
  },
  {
   "cell_type": "markdown",
   "metadata": {},
   "source": [
    "Transfer the 'dirFiles()' command to your mineralogyModule.<br>\n",
    "Load the dirFiles command from your mineralogyModule and list all excel files from the directory 'data/georoc data/'"
   ]
  },
  {
   "cell_type": "code",
   "execution_count": null,
   "metadata": {},
   "outputs": [],
   "source": [
    "import modules.mineralogyModule as mm\n",
    "\n",
    "mm.dirFiles('data/georoc data', 'xlsx')"
   ]
  },
  {
   "cell_type": "markdown",
   "metadata": {},
   "source": [
    "## What's wrong with this code?"
   ]
  },
  {
   "cell_type": "markdown",
   "metadata": {},
   "source": [
    "### <font color = brown><b>Answer before executing the code!</b></font>"
   ]
  },
  {
   "cell_type": "markdown",
   "metadata": {},
   "source": [
    "The goal of the code is to obtain mean values for Cr for each of the imported files.<br>\n",
    "What is the general problem with this code?"
   ]
  },
  {
   "cell_type": "code",
   "execution_count": null,
   "metadata": {},
   "outputs": [],
   "source": [
    "fileList = ['Bastar Craton.csv', 'Ninetyeast Ridge.csv', 'Emeishan.csv', 'Karoo Province - Africa.csv']\n",
    "\n",
    "for files in fileList:\n",
    "    res.append(read_csv('data/georoc data' + fileList[1])[Cr].mean)\n",
    "\n",
    "res   "
   ]
  },
  {
   "cell_type": "code",
   "execution_count": 27,
   "metadata": {},
   "outputs": [
    {
     "data": {
      "text/plain": [
       "[424.4321909834874, 424.4321909834874, 424.4321909834874, 424.4321909834874]"
      ]
     },
     "execution_count": 27,
     "metadata": {},
     "output_type": "execute_result"
    }
   ],
   "source": [
    "import pandas as pd\n",
    "\n",
    "fileList = ['Bastar Craton.csv', 'Ninetyeast Ridge.csv', 'Emeishan.csv', 'Karoo Province - Africa.csv']\n",
    "\n",
    "res =[]\n",
    "for files in fileList:\n",
    "    res.append(pd.read_csv('data/georoc data/' + fileList[1])['Cr'].mean())\n",
    "\n",
    "res\n",
    "    "
   ]
  }
 ],
 "metadata": {
  "kernelspec": {
   "display_name": "Python 3",
   "language": "python",
   "name": "python3"
  },
  "language_info": {
   "codemirror_mode": {
    "name": "ipython",
    "version": 3
   },
   "file_extension": ".py",
   "mimetype": "text/x-python",
   "name": "python",
   "nbconvert_exporter": "python",
   "pygments_lexer": "ipython3",
   "version": "3.8.5"
  }
 },
 "nbformat": 4,
 "nbformat_minor": 4
}
