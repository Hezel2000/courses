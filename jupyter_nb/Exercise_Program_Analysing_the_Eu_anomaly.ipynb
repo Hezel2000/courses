{
 "cells": [
  {
   "cell_type": "markdown",
   "metadata": {},
   "source": [
    "# Exercise- Analysing the Eu-anomaly"
   ]
  },
  {
   "cell_type": "markdown",
   "metadata": {},
   "source": [
    "## Instant Review & Quiz"
   ]
  },
  {
   "cell_type": "markdown",
   "metadata": {},
   "source": [
    "<b>I1. <font color = brown>Opinion–:</font><br>With regard to a program like analysing the Eu-anomaly: how much time and skill do you think is requried to preciscly define the calculation and how it is executed? and how much time and skill do you think is required to write the code?</b>"
   ]
  },
  {
   "cell_type": "markdown",
   "metadata": {},
   "source": [
    "<font color = darkgreen><b>\n",
    "    Insert your solution here.\n",
    "</b></font>"
   ]
  },
  {
   "cell_type": "markdown",
   "metadata": {},
   "source": [
    "<b>Q1. In the .dropna() method: how do you delete all datasets that have at least one value?</b><br>\n",
    ".dropna(0, 'all')<br>\n",
    ".dropna(0)"
   ]
  },
  {
   "cell_type": "markdown",
   "metadata": {},
   "source": [
    "<font color = darkgreen><b>\n",
    "    Insert your solution here.\n",
    "</b></font>"
   ]
  },
  {
   "cell_type": "markdown",
   "metadata": {},
   "source": [
    "## Practise"
   ]
  },
  {
   "cell_type": "markdown",
   "metadata": {},
   "source": [
    "We now want to calculate the anomaly of every REE element.<br>\n",
    "The element of interest shall be selectable from a drop-down menu.<br>\n",
    "Start with importing the required libraries and/or commands."
   ]
  },
  {
   "cell_type": "code",
   "execution_count": null,
   "metadata": {},
   "outputs": [],
   "source": []
  },
  {
   "cell_type": "markdown",
   "metadata": {},
   "source": [
    "Below we will ned the REE CI concentrations. We will start with extracting these.<br>\n",
    "To do this, read in the CI data from 'chondrite element abundances.xlsx' into the variable 'cIdf'.<br>\n",
    "Define a command to find the index of a specific element."
   ]
  },
  {
   "cell_type": "code",
   "execution_count": null,
   "metadata": {},
   "outputs": [],
   "source": []
  },
  {
   "cell_type": "markdown",
   "metadata": {},
   "source": [
    "Store this handy posRow() command in your 'mineralogyModule.py'."
   ]
  },
  {
   "cell_type": "markdown",
   "metadata": {},
   "source": [
    "Use this command to select only the datasates with the SEE."
   ]
  },
  {
   "cell_type": "code",
   "execution_count": null,
   "metadata": {},
   "outputs": [],
   "source": []
  },
  {
   "cell_type": "markdown",
   "metadata": {},
   "source": [
    "Extract the CI SEE (-> from La to Lu) concentrations as a list from the imported chondrite element abundances file. Make sure you extracted the correct values.<br>\n",
    "Delete Pm from this list."
   ]
  },
  {
   "cell_type": "code",
   "execution_count": null,
   "metadata": {},
   "outputs": [],
   "source": []
  },
  {
   "cell_type": "markdown",
   "metadata": {},
   "source": [
    "Below follows the program from the corresponding unit. Convert this program into a command called 'calcREEAnomaly'. Input to the command shall only be the REE element for which the anomlay shall be calculated, and the dataset, for which the anomaly shall be calculated<br>\n",
    "As this is not trivial, I will provide a step by step solution below – or you could try it for yourself."
   ]
  },
  {
   "cell_type": "code",
   "execution_count": 153,
   "metadata": {},
   "outputs": [],
   "source": [
    "cISmEuGd = [.15, .057, .2]\n",
    "smEuGdData = df.loc[:, ['Sm', 'Eu', 'Gd']].dropna(0) / cISmEuGd\n",
    "\n",
    "res = []\n",
    "\n",
    "for n in range(len(smEuGdData)):\n",
    "    l = smEuGdData.iloc[n].tolist()\n",
    "    euAn = ((l[1] / ((l[0] + l[2]) / 2)) - 1) * 100\n",
    "    res.append(round(euAn))"
   ]
  },
  {
   "cell_type": "markdown",
   "metadata": {},
   "source": [
    "As we only have the REE for which the anomaly shall be calculated, we first need modify the program to accomodate for this.<br>\n",
    "First, produce a list of the names of the REE without Pm."
   ]
  },
  {
   "cell_type": "code",
   "execution_count": null,
   "metadata": {},
   "outputs": [],
   "source": []
  },
  {
   "cell_type": "markdown",
   "metadata": {},
   "source": [
    "Using the input REE, produce the list of the 3 REE called 'threeREE' required for calculating the anomaly."
   ]
  },
  {
   "cell_type": "code",
   "execution_count": null,
   "metadata": {},
   "outputs": [],
   "source": []
  },
  {
   "cell_type": "markdown",
   "metadata": {},
   "source": [
    "You can now do the same with the cIREE list, i.e., selcet the REE values for these elements.<br>\n",
    "Now modify the program above:<br>\n",
    "(i) so that the 3 REE are now automaticall chosen depending on the single REE input.\n",
    "(ii) so that the 3 REE CI concentrations are now automaticall chosen depending on the single REE input."
   ]
  },
  {
   "cell_type": "code",
   "execution_count": null,
   "metadata": {},
   "outputs": [],
   "source": []
  },
  {
   "cell_type": "markdown",
   "metadata": {},
   "source": [
    "Finally you can convert this program into the command 'calcREEAnomaly' that calculates the anomaly of every REE (except for two, do you know which?), depending on user input.<br>"
   ]
  },
  {
   "cell_type": "code",
   "execution_count": null,
   "metadata": {},
   "outputs": [],
   "source": []
  },
  {
   "cell_type": "markdown",
   "metadata": {},
   "source": [
    "Read in the 'West African Craton.csv' dataset as 'df'."
   ]
  },
  {
   "cell_type": "code",
   "execution_count": null,
   "metadata": {},
   "outputs": [],
   "source": []
  },
  {
   "cell_type": "markdown",
   "metadata": {},
   "source": [
    "Finally test your freshly defined command with e.g., calcREEAnomaly('Eu')."
   ]
  },
  {
   "cell_type": "code",
   "execution_count": null,
   "metadata": {},
   "outputs": [],
   "source": []
  },
  {
   "cell_type": "markdown",
   "metadata": {},
   "source": [
    "Expand your command so it displays a graph rather than a list of values."
   ]
  },
  {
   "cell_type": "code",
   "execution_count": null,
   "metadata": {},
   "outputs": [],
   "source": []
  },
  {
   "cell_type": "code",
   "execution_count": null,
   "metadata": {},
   "outputs": [],
   "source": []
  },
  {
   "cell_type": "markdown",
   "metadata": {},
   "source": [
    "Test wheter it works."
   ]
  },
  {
   "cell_type": "code",
   "execution_count": null,
   "metadata": {},
   "outputs": [],
   "source": []
  },
  {
   "cell_type": "markdown",
   "metadata": {},
   "source": [
    "Add this command to your 'mineralogyModule'."
   ]
  },
  {
   "cell_type": "markdown",
   "metadata": {},
   "source": [
    "And for easier usage, make it interactive, where you can choose the element from a drop-down menu – that displays only thos elements, for which anomalies can be calculated.<br>\n",
    "(You might occassionally get an error, don't worry, just try another element. Most should work. The error is most likely because of some missing or zero values. These could be avoided with accoriding 'if' statements and some kind of informative message.)"
   ]
  },
  {
   "cell_type": "code",
   "execution_count": null,
   "metadata": {},
   "outputs": [],
   "source": []
  },
  {
   "cell_type": "code",
   "execution_count": null,
   "metadata": {},
   "outputs": [],
   "source": []
  },
  {
   "cell_type": "markdown",
   "metadata": {},
   "source": [
    "Of course, now it might be intersting to add the REE plot beside the anomaly plot, etc. The fun just starts to begin (or at least the idea of it, which would be sufficient)."
   ]
  },
  {
   "cell_type": "markdown",
   "metadata": {},
   "source": [
    "## What's wrong with this code?"
   ]
  },
  {
   "cell_type": "markdown",
   "metadata": {},
   "source": [
    "### <font color = brown><b>Answer before executing the code!</b></font>"
   ]
  },
  {
   "cell_type": "code",
   "execution_count": null,
   "metadata": {},
   "outputs": [],
   "source": [
    "import matplotlib.pyplot as plt\n",
    "\n",
    "xData = [2, 5, 3, 6, 9]\n",
    "yData = [6, 2, 7, 4, 1]\n",
    "\n",
    "plot(xData, yData)\n",
    "\n",
    "show()"
   ]
  },
  {
   "cell_type": "markdown",
   "metadata": {},
   "source": [
    "'plt.' is missing before 'plot(...)' and 'show()'"
   ]
  },
  {
   "cell_type": "code",
   "execution_count": null,
   "metadata": {},
   "outputs": [],
   "source": [
    "l = [4, 5, 7, 2, 1]\n",
    "\n",
    "for i in range[len[l]]:\n",
    "    print(i + 4)"
   ]
  },
  {
   "cell_type": "markdown",
   "metadata": {},
   "source": [
    "range and len need round brackets -> range(len(l))"
   ]
  }
 ],
 "metadata": {
  "kernelspec": {
   "display_name": "Python 3",
   "language": "python",
   "name": "python3"
  },
  "language_info": {
   "codemirror_mode": {
    "name": "ipython",
    "version": 3
   },
   "file_extension": ".py",
   "mimetype": "text/x-python",
   "name": "python",
   "nbconvert_exporter": "python",
   "pygments_lexer": "ipython3",
   "version": "3.8.5"
  }
 },
 "nbformat": 4,
 "nbformat_minor": 4
}
