{
 "cells": [
  {
   "cell_type": "markdown",
   "metadata": {},
   "source": [
    "# Analysing the Eu-anomaly"
   ]
  },
  {
   "cell_type": "markdown",
   "metadata": {},
   "source": [
    "## 1. Import libraries and read the file"
   ]
  },
  {
   "cell_type": "code",
   "execution_count": 32,
   "metadata": {},
   "outputs": [],
   "source": [
    "import pandas as pd\n",
    "import matplotlib.pyplot as plt"
   ]
  },
  {
   "cell_type": "code",
   "execution_count": 68,
   "metadata": {},
   "outputs": [],
   "source": [
    "df = pd.read_csv('data/Tanzania Craton Archean.csv')"
   ]
  },
  {
   "cell_type": "markdown",
   "metadata": {},
   "source": [
    "## 2. Data selection and clean-up"
   ]
  },
  {
   "cell_type": "code",
   "execution_count": 70,
   "metadata": {
    "scrolled": true
   },
   "outputs": [
    {
     "data": {
      "text/html": [
       "<div>\n",
       "<style scoped>\n",
       "    .dataframe tbody tr th:only-of-type {\n",
       "        vertical-align: middle;\n",
       "    }\n",
       "\n",
       "    .dataframe tbody tr th {\n",
       "        vertical-align: top;\n",
       "    }\n",
       "\n",
       "    .dataframe thead th {\n",
       "        text-align: right;\n",
       "    }\n",
       "</style>\n",
       "<table border=\"1\" class=\"dataframe\">\n",
       "  <thead>\n",
       "    <tr style=\"text-align: right;\">\n",
       "      <th></th>\n",
       "      <th>Sm</th>\n",
       "      <th>Eu</th>\n",
       "      <th>Gd</th>\n",
       "    </tr>\n",
       "  </thead>\n",
       "  <tbody>\n",
       "    <tr>\n",
       "      <th>11</th>\n",
       "      <td>34.600000</td>\n",
       "      <td>25.789474</td>\n",
       "      <td>21.10</td>\n",
       "    </tr>\n",
       "    <tr>\n",
       "      <th>12</th>\n",
       "      <td>28.066667</td>\n",
       "      <td>19.649123</td>\n",
       "      <td>19.80</td>\n",
       "    </tr>\n",
       "    <tr>\n",
       "      <th>13</th>\n",
       "      <td>41.933333</td>\n",
       "      <td>29.473684</td>\n",
       "      <td>27.35</td>\n",
       "    </tr>\n",
       "    <tr>\n",
       "      <th>14</th>\n",
       "      <td>49.266667</td>\n",
       "      <td>32.280702</td>\n",
       "      <td>30.60</td>\n",
       "    </tr>\n",
       "    <tr>\n",
       "      <th>15</th>\n",
       "      <td>26.800000</td>\n",
       "      <td>20.526316</td>\n",
       "      <td>18.50</td>\n",
       "    </tr>\n",
       "    <tr>\n",
       "      <th>...</th>\n",
       "      <td>...</td>\n",
       "      <td>...</td>\n",
       "      <td>...</td>\n",
       "    </tr>\n",
       "    <tr>\n",
       "      <th>230</th>\n",
       "      <td>49.200000</td>\n",
       "      <td>33.508772</td>\n",
       "      <td>28.60</td>\n",
       "    </tr>\n",
       "    <tr>\n",
       "      <th>231</th>\n",
       "      <td>54.200000</td>\n",
       "      <td>37.017544</td>\n",
       "      <td>28.55</td>\n",
       "    </tr>\n",
       "    <tr>\n",
       "      <th>232</th>\n",
       "      <td>52.400000</td>\n",
       "      <td>34.035088</td>\n",
       "      <td>29.15</td>\n",
       "    </tr>\n",
       "    <tr>\n",
       "      <th>233</th>\n",
       "      <td>47.800000</td>\n",
       "      <td>30.877193</td>\n",
       "      <td>27.25</td>\n",
       "    </tr>\n",
       "    <tr>\n",
       "      <th>234</th>\n",
       "      <td>45.333333</td>\n",
       "      <td>28.947368</td>\n",
       "      <td>25.55</td>\n",
       "    </tr>\n",
       "  </tbody>\n",
       "</table>\n",
       "<p>206 rows × 3 columns</p>\n",
       "</div>"
      ],
      "text/plain": [
       "            Sm         Eu     Gd\n",
       "11   34.600000  25.789474  21.10\n",
       "12   28.066667  19.649123  19.80\n",
       "13   41.933333  29.473684  27.35\n",
       "14   49.266667  32.280702  30.60\n",
       "15   26.800000  20.526316  18.50\n",
       "..         ...        ...    ...\n",
       "230  49.200000  33.508772  28.60\n",
       "231  54.200000  37.017544  28.55\n",
       "232  52.400000  34.035088  29.15\n",
       "233  47.800000  30.877193  27.25\n",
       "234  45.333333  28.947368  25.55\n",
       "\n",
       "[206 rows x 3 columns]"
      ]
     },
     "execution_count": 70,
     "metadata": {},
     "output_type": "execute_result"
    }
   ],
   "source": [
    "cISmEuGd = [.15, .057, .2]\n",
    "\n",
    "smEuGdData = df.loc[:, ['Sm', 'Eu', 'Gd']].dropna(0) / cISmEuGd\n",
    "\n",
    "smEuGdData"
   ]
  },
  {
   "cell_type": "code",
   "execution_count": 71,
   "metadata": {},
   "outputs": [
    {
     "data": {
      "text/plain": [
       "206"
      ]
     },
     "execution_count": 71,
     "metadata": {},
     "output_type": "execute_result"
    }
   ],
   "source": [
    "len(smEuGdData)"
   ]
  },
  {
   "cell_type": "markdown",
   "metadata": {},
   "source": [
    "## 3. Calculate the anomaly and convert to a pandas dataframe"
   ]
  },
  {
   "cell_type": "code",
   "execution_count": 72,
   "metadata": {},
   "outputs": [
    {
     "data": {
      "text/plain": [
       "[-7,\n",
       " -18,\n",
       " -15,\n",
       " -19,\n",
       " -9,\n",
       " -9,\n",
       " -17,\n",
       " -11,\n",
       " -12,\n",
       " -4,\n",
       " -10,\n",
       " -3,\n",
       " -15,\n",
       " -9,\n",
       " -8,\n",
       " -15,\n",
       " -12,\n",
       " -10,\n",
       " -17,\n",
       " -11,\n",
       " -14,\n",
       " -10,\n",
       " 0,\n",
       " -11,\n",
       " -15,\n",
       " -10,\n",
       " -17,\n",
       " -21,\n",
       " -7,\n",
       " -15,\n",
       " -12,\n",
       " -8,\n",
       " -13,\n",
       " -12,\n",
       " -10,\n",
       " -18,\n",
       " -19,\n",
       " -14,\n",
       " -10,\n",
       " -22,\n",
       " -22,\n",
       " -17,\n",
       " 1,\n",
       " 1,\n",
       " -60,\n",
       " 0,\n",
       " -3,\n",
       " 5,\n",
       " -4,\n",
       " -9,\n",
       " 1,\n",
       " 1,\n",
       " 0,\n",
       " 6,\n",
       " 0,\n",
       " 7,\n",
       " 11,\n",
       " -14,\n",
       " -3,\n",
       " -3,\n",
       " 0,\n",
       " -1,\n",
       " 5,\n",
       " -7,\n",
       " -5,\n",
       " 13,\n",
       " 1,\n",
       " -6,\n",
       " -3,\n",
       " 1,\n",
       " 14,\n",
       " -20,\n",
       " 14,\n",
       " 42,\n",
       " 0,\n",
       " 7,\n",
       " -19,\n",
       " 58,\n",
       " 8,\n",
       " 6,\n",
       " 7,\n",
       " 3,\n",
       " -8,\n",
       " 8,\n",
       " -16,\n",
       " 7,\n",
       " 22,\n",
       " -2,\n",
       " 0,\n",
       " 35,\n",
       " 3,\n",
       " 10,\n",
       " -31,\n",
       " -29,\n",
       " -15,\n",
       " -11,\n",
       " -7,\n",
       " -5,\n",
       " -3,\n",
       " -7,\n",
       " 13,\n",
       " 12,\n",
       " -6,\n",
       " -7,\n",
       " -2,\n",
       " 3,\n",
       " 1,\n",
       " 3,\n",
       " 0,\n",
       " -3,\n",
       " -25,\n",
       " -36,\n",
       " -4,\n",
       " -9,\n",
       " -38,\n",
       " -33,\n",
       " -38,\n",
       " -14,\n",
       " -41,\n",
       " -29,\n",
       " -24,\n",
       " -36,\n",
       " -26,\n",
       " -21,\n",
       " -9,\n",
       " -32,\n",
       " -48,\n",
       " -22,\n",
       " -15,\n",
       " -35,\n",
       " -43,\n",
       " -20,\n",
       " 22,\n",
       " -19,\n",
       " -27,\n",
       " -10,\n",
       " -11,\n",
       " -1,\n",
       " -92,\n",
       " -98,\n",
       " -98,\n",
       " -83,\n",
       " 6,\n",
       " -2,\n",
       " 6,\n",
       " -2,\n",
       " 17,\n",
       " 7,\n",
       " 0,\n",
       " 8,\n",
       " 8,\n",
       " -1,\n",
       " 12,\n",
       " -2,\n",
       " 3,\n",
       " 3,\n",
       " -1,\n",
       " -12,\n",
       " -4,\n",
       " 23,\n",
       " 9,\n",
       " 7,\n",
       " 12,\n",
       " -3,\n",
       " 18,\n",
       " 19,\n",
       " 20,\n",
       " 4,\n",
       " 6,\n",
       " 1,\n",
       " 3,\n",
       " 13,\n",
       " -10,\n",
       " -5,\n",
       " 14,\n",
       " -25,\n",
       " -34,\n",
       " -56,\n",
       " -44,\n",
       " 9,\n",
       " -73,\n",
       " -70,\n",
       " -52,\n",
       " -38,\n",
       " -25,\n",
       " -31,\n",
       " -54,\n",
       " -33,\n",
       " -42,\n",
       " -68,\n",
       " -11,\n",
       " -48,\n",
       " -12,\n",
       " -20,\n",
       " -33,\n",
       " -48,\n",
       " -54,\n",
       " -52,\n",
       " -59,\n",
       " -13,\n",
       " -8,\n",
       " -14,\n",
       " -11,\n",
       " -17,\n",
       " -18,\n",
       " -18]"
      ]
     },
     "execution_count": 72,
     "metadata": {},
     "output_type": "execute_result"
    }
   ],
   "source": [
    "res = []\n",
    "\n",
    "for n in range(len(smEuGdData)):\n",
    "    l = smEuGdData.iloc[n].tolist()\n",
    "    euAn = ((l[1] / ((l[0] + l[2]) / 2)) - 1) * 100\n",
    "    res.append(round(euAn))\n",
    "\n",
    "\n",
    "res"
   ]
  },
  {
   "cell_type": "markdown",
   "metadata": {},
   "source": [
    "## 4. Visualise the data"
   ]
  },
  {
   "cell_type": "code",
   "execution_count": 73,
   "metadata": {},
   "outputs": [
    {
     "data": {
      "text/plain": [
       "[<matplotlib.lines.Line2D at 0x7fb6776449a0>]"
      ]
     },
     "execution_count": 73,
     "metadata": {},
     "output_type": "execute_result"
    },
    {
     "data": {
      "image/png": "[encoded data removed]",
      "text/plain": [
       "<Figure size 432x288 with 1 Axes>"
      ]
     },
     "metadata": {
      "needs_background": "light"
     },
     "output_type": "display_data"
    }
   ],
   "source": [
    "plt.plot(res)"
   ]
  },
  {
   "cell_type": "markdown",
   "metadata": {},
   "source": [
    "## All in one (or at least 2-4 in one)"
   ]
  },
  {
   "cell_type": "code",
   "execution_count": 75,
   "metadata": {},
   "outputs": [
    {
     "data": {
      "image/png": "[encoded data removed]",
      "text/plain": [
       "<Figure size 432x288 with 1 Axes>"
      ]
     },
     "metadata": {
      "needs_background": "light"
     },
     "output_type": "display_data"
    }
   ],
   "source": [
    "cISmEuGd = [.15, .057, .2]\n",
    "smEuGdData = df.loc[:, ['Sm', 'Eu', 'Gd']].dropna(0) / cISmEuGd\n",
    "\n",
    "res = []\n",
    "\n",
    "for n in range(len(smEuGdData)):\n",
    "    l = smEuGdData.iloc[n].tolist()\n",
    "    euAn = ((l[1] / ((l[0] + l[2]) / 2)) - 1) * 100\n",
    "    res.append(round(euAn))\n",
    "    \n",
    "plt.plot(res)\n",
    "plt.show()"
   ]
  }
 ],
 "metadata": {
  "kernelspec": {
   "display_name": "Python 3",
   "language": "python",
   "name": "python3"
  },
  "language_info": {
   "codemirror_mode": {
    "name": "ipython",
    "version": 3
   },
   "file_extension": ".py",
   "mimetype": "text/x-python",
   "name": "python",
   "nbconvert_exporter": "python",
   "pygments_lexer": "ipython3",
   "version": "3.8.5"
  }
 },
 "nbformat": 4,
 "nbformat_minor": 4
}
