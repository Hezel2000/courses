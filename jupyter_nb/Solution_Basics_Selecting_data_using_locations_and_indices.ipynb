{
 "cells": [
  {
   "cell_type": "markdown",
   "metadata": {},
   "source": [
    "# Solution- Basics- Selecting data using locations and indices"
   ]
  },
  {
   "cell_type": "markdown",
   "metadata": {},
   "source": [
    "## Instant Review & Quiz"
   ]
  },
  {
   "cell_type": "markdown",
   "metadata": {},
   "source": [
    "<b>I1. What is the differnce between index and series name?</b>"
   ]
  },
  {
   "cell_type": "markdown",
   "metadata": {},
   "source": [
    "<font color = darkgreen><b>\n",
    "    Index is an integer number that can be used to refer to a row or column. A series is a pandas object, more specific, a single column with still pandas formating. More than two series togehter then constitute the pandas dataframe.\n",
    "</b></font>"
   ]
  },
  {
   "cell_type": "markdown",
   "metadata": {},
   "source": [
    "<b>Q1. Two methods to select data are called ______</b><br>\n",
    ".iloc() and .loc()<br>\n",
    ".integerloc() and .location()<br>\n",
    ".intergerlocation() and .location()<br>\n",
    ".iloc and .loc"
   ]
  },
  {
   "cell_type": "markdown",
   "metadata": {},
   "source": [
    "<font color = darkgreen><b>\n",
    "    .iloc() and .loc()\n",
    "</b></font>"
   ]
  },
  {
   "cell_type": "markdown",
   "metadata": {},
   "source": [
    "<b>Q2. Pandas is a library.</b><br>\n",
    "True<br>\n",
    "False"
   ]
  },
  {
   "cell_type": "markdown",
   "metadata": {},
   "source": [
    "<font color = darkgreen><b>\n",
    "    True\n",
    "</b></font>"
   ]
  },
  {
   "cell_type": "markdown",
   "metadata": {},
   "source": [
    "## Practise"
   ]
  },
  {
   "cell_type": "markdown",
   "metadata": {},
   "source": [
    "Start with reading the file 'West African Craton.csv' into a variable and displaying the categories in a compact form.<br>\n",
    "Further, display the table, but with only 5 rows and columns"
   ]
  },
  {
   "cell_type": "code",
   "execution_count": 42,
   "metadata": {},
   "outputs": [],
   "source": [
    "import pandas as pd"
   ]
  },
  {
   "cell_type": "code",
   "execution_count": 43,
   "metadata": {},
   "outputs": [
    {
     "name": "stdout",
     "output_type": "stream",
     "text": [
      "['Citations', 'Tectonic Setting', 'Location', 'Location Comment', 'Latitude (Min)', 'Latitude (Max)', 'Longitude (Min)', 'Longitude (Max)', 'Land or Sea', 'Elevation (Min)', 'Elevation (Max)', 'Sample Name', 'Rock Name', 'Age (a, Min)', 'Age (a, Max)', 'Geol', 'Age', 'Eruption Day', 'Eruption Month', 'Eruption Year', 'Rock Texture', 'Rock Type', 'Drill Depth (Min)', 'Drill Depth (Max)', 'Alteration', 'Mineral', 'Material', 'Si', 'Ti', 'B', 'Al', 'Cr', 'Fe3+', 'Fe2+', 'Fetot(2+)', 'Ca', 'Mg', 'Mn', 'Ni', 'K', 'Na', 'P', 'H2O', 'H2OP', 'H2OM', 'H2Otot', 'CO2', 'CO', 'F', 'Cl', 'Cl2', 'OH', 'CH4', 'SO2', 'SO3', 'SO4', 'S', 'LOI', 'Volatiles', 'O', 'Others', 'HE(CCM/G)', 'HE(CCMSTP/G)', 'HE3(CCMSTP/G)', 'HE3(AT/G)', 'HE4(CCM/G)', 'HE4(CCMSTP/G)', 'HE4(AT/G)', 'HE4(MOLE/G)', 'HE4(NCC/G)', 'HE(NCC/G)', 'Li', 'Be', 'B.1', 'C', 'CO2.1', 'F.1', 'Na.1', 'Al.1', 'P.1', 'S.1', 'Cl.1', 'K.1', 'Ca.1', 'Sc', 'Ti.1', 'V', 'Cr.1', 'Mn.1', 'Fe', 'Co', 'Ni.1', 'Cu', 'Zn', 'Ga', 'Ge', 'As', 'Se', 'Br', 'Rb', 'Sr', 'Y', 'Zr', 'Nb', 'Mo', 'Ru', 'Rh', 'Pd', 'Ag', 'Cd', 'In', 'Sn', 'Sb', 'Te', 'I', 'Cs', 'Ba', 'La', 'Ce', 'Pr', 'Nd', 'Sm', 'Eu', 'Gd', 'Tb', 'Dy', 'Ho', 'Er', 'Tm', 'Yb', 'Lu', 'Hf', 'Ta', 'W', 'Re', 'Os', 'Ir', 'Pt', 'Au', 'Hg', 'Tl', 'Pb', 'Bi', 'Th', 'U', 'Nd143/Nd144', 'Nd143/Nd144 initial', 'e Nd', 'Sr87/Sr86', 'SR87_SR86_INI', 'PB206_PB204', 'PB206_PB204_INI', 'PB207_PB204', 'PB207_PB204_INI', 'PB208_PB204', 'PB208_PB204_INI', 'OS184_OS188', 'OS186_OS188', 'OS187_OS186', 'OS187_OS188', 'RE187_OS186', 'RE187_OS188', 'HF176_HF177', 'HE3_HE4', 'HE3_HE4(R/R(A))', 'HE4_HE3', 'HE4_HE3(R/R(A))', 'K40_AR40', 'AR40_K40', 'Unique Id']\n"
     ]
    },
    {
     "data": {
      "text/html": [
       "<div>\n",
       "<style scoped>\n",
       "    .dataframe tbody tr th:only-of-type {\n",
       "        vertical-align: middle;\n",
       "    }\n",
       "\n",
       "    .dataframe tbody tr th {\n",
       "        vertical-align: top;\n",
       "    }\n",
       "\n",
       "    .dataframe thead th {\n",
       "        text-align: right;\n",
       "    }\n",
       "</style>\n",
       "<table border=\"1\" class=\"dataframe\">\n",
       "  <thead>\n",
       "    <tr style=\"text-align: right;\">\n",
       "      <th></th>\n",
       "      <th>Citations</th>\n",
       "      <th>Tectonic Setting</th>\n",
       "      <th>...</th>\n",
       "      <th>AR40_K40</th>\n",
       "      <th>Unique Id</th>\n",
       "    </tr>\n",
       "  </thead>\n",
       "  <tbody>\n",
       "    <tr>\n",
       "      <th>0</th>\n",
       "      <td>[5205]</td>\n",
       "      <td>ARCHEAN CRATON (INCLUDING GREENSTONE BELTS)</td>\n",
       "      <td>...</td>\n",
       "      <td>NaN</td>\n",
       "      <td>184947</td>\n",
       "    </tr>\n",
       "    <tr>\n",
       "      <th>1</th>\n",
       "      <td>[5205]</td>\n",
       "      <td>ARCHEAN CRATON (INCLUDING GREENSTONE BELTS)</td>\n",
       "      <td>...</td>\n",
       "      <td>NaN</td>\n",
       "      <td>184948</td>\n",
       "    </tr>\n",
       "    <tr>\n",
       "      <th>...</th>\n",
       "      <td>...</td>\n",
       "      <td>...</td>\n",
       "      <td>...</td>\n",
       "      <td>...</td>\n",
       "      <td>...</td>\n",
       "    </tr>\n",
       "    <tr>\n",
       "      <th>41</th>\n",
       "      <td>[8624]</td>\n",
       "      <td>ARCHEAN CRATON (INCLUDING GREENSTONE BELTS)</td>\n",
       "      <td>...</td>\n",
       "      <td>NaN</td>\n",
       "      <td>247031</td>\n",
       "    </tr>\n",
       "    <tr>\n",
       "      <th>42</th>\n",
       "      <td>[8624]</td>\n",
       "      <td>ARCHEAN CRATON (INCLUDING GREENSTONE BELTS)</td>\n",
       "      <td>...</td>\n",
       "      <td>NaN</td>\n",
       "      <td>247032</td>\n",
       "    </tr>\n",
       "  </tbody>\n",
       "</table>\n",
       "<p>43 rows × 170 columns</p>\n",
       "</div>"
      ],
      "text/plain": [
       "   Citations                             Tectonic Setting  ... AR40_K40  \\\n",
       "0     [5205]  ARCHEAN CRATON (INCLUDING GREENSTONE BELTS)  ...      NaN   \n",
       "1     [5205]  ARCHEAN CRATON (INCLUDING GREENSTONE BELTS)  ...      NaN   \n",
       "..       ...                                          ...  ...      ...   \n",
       "41    [8624]  ARCHEAN CRATON (INCLUDING GREENSTONE BELTS)  ...      NaN   \n",
       "42    [8624]  ARCHEAN CRATON (INCLUDING GREENSTONE BELTS)  ...      NaN   \n",
       "\n",
       "   Unique Id  \n",
       "0     184947  \n",
       "1     184948  \n",
       "..       ...  \n",
       "41    247031  \n",
       "42    247032  \n",
       "\n",
       "[43 rows x 170 columns]"
      ]
     },
     "execution_count": 43,
     "metadata": {},
     "output_type": "execute_result"
    }
   ],
   "source": [
    "df = pd.read_csv('data/West African Craton.csv')\n",
    "\n",
    "pd.set_option('display.max_rows', 5)\n",
    "pd.set_option('display.max_columns', 5)\n",
    "\n",
    "print(df.columns.tolist())\n",
    "\n",
    "df"
   ]
  },
  {
   "cell_type": "markdown",
   "metadata": {},
   "source": [
    "Select the first 4 dataset."
   ]
  },
  {
   "cell_type": "code",
   "execution_count": 44,
   "metadata": {},
   "outputs": [
    {
     "data": {
      "text/html": [
       "<div>\n",
       "<style scoped>\n",
       "    .dataframe tbody tr th:only-of-type {\n",
       "        vertical-align: middle;\n",
       "    }\n",
       "\n",
       "    .dataframe tbody tr th {\n",
       "        vertical-align: top;\n",
       "    }\n",
       "\n",
       "    .dataframe thead th {\n",
       "        text-align: right;\n",
       "    }\n",
       "</style>\n",
       "<table border=\"1\" class=\"dataframe\">\n",
       "  <thead>\n",
       "    <tr style=\"text-align: right;\">\n",
       "      <th></th>\n",
       "      <th>Citations</th>\n",
       "      <th>Tectonic Setting</th>\n",
       "      <th>...</th>\n",
       "      <th>AR40_K40</th>\n",
       "      <th>Unique Id</th>\n",
       "    </tr>\n",
       "  </thead>\n",
       "  <tbody>\n",
       "    <tr>\n",
       "      <th>0</th>\n",
       "      <td>[5205]</td>\n",
       "      <td>ARCHEAN CRATON (INCLUDING GREENSTONE BELTS)</td>\n",
       "      <td>...</td>\n",
       "      <td>NaN</td>\n",
       "      <td>184947</td>\n",
       "    </tr>\n",
       "    <tr>\n",
       "      <th>1</th>\n",
       "      <td>[5205]</td>\n",
       "      <td>ARCHEAN CRATON (INCLUDING GREENSTONE BELTS)</td>\n",
       "      <td>...</td>\n",
       "      <td>NaN</td>\n",
       "      <td>184948</td>\n",
       "    </tr>\n",
       "    <tr>\n",
       "      <th>2</th>\n",
       "      <td>[5205]</td>\n",
       "      <td>ARCHEAN CRATON (INCLUDING GREENSTONE BELTS)</td>\n",
       "      <td>...</td>\n",
       "      <td>NaN</td>\n",
       "      <td>184949</td>\n",
       "    </tr>\n",
       "    <tr>\n",
       "      <th>3</th>\n",
       "      <td>[5205]</td>\n",
       "      <td>ARCHEAN CRATON (INCLUDING GREENSTONE BELTS)</td>\n",
       "      <td>...</td>\n",
       "      <td>NaN</td>\n",
       "      <td>184950</td>\n",
       "    </tr>\n",
       "  </tbody>\n",
       "</table>\n",
       "<p>4 rows × 170 columns</p>\n",
       "</div>"
      ],
      "text/plain": [
       "  Citations                             Tectonic Setting  ... AR40_K40  \\\n",
       "0    [5205]  ARCHEAN CRATON (INCLUDING GREENSTONE BELTS)  ...      NaN   \n",
       "1    [5205]  ARCHEAN CRATON (INCLUDING GREENSTONE BELTS)  ...      NaN   \n",
       "2    [5205]  ARCHEAN CRATON (INCLUDING GREENSTONE BELTS)  ...      NaN   \n",
       "3    [5205]  ARCHEAN CRATON (INCLUDING GREENSTONE BELTS)  ...      NaN   \n",
       "\n",
       "  Unique Id  \n",
       "0    184947  \n",
       "1    184948  \n",
       "2    184949  \n",
       "3    184950  \n",
       "\n",
       "[4 rows x 170 columns]"
      ]
     },
     "execution_count": 44,
     "metadata": {},
     "output_type": "execute_result"
    }
   ],
   "source": [
    "df.iloc[:4]"
   ]
  },
  {
   "cell_type": "markdown",
   "metadata": {},
   "source": [
    "Select the series number 4, 17, and 99."
   ]
  },
  {
   "cell_type": "code",
   "execution_count": 45,
   "metadata": {},
   "outputs": [
    {
     "data": {
      "text/html": [
       "<div>\n",
       "<style scoped>\n",
       "    .dataframe tbody tr th:only-of-type {\n",
       "        vertical-align: middle;\n",
       "    }\n",
       "\n",
       "    .dataframe tbody tr th {\n",
       "        vertical-align: top;\n",
       "    }\n",
       "\n",
       "    .dataframe thead th {\n",
       "        text-align: right;\n",
       "    }\n",
       "</style>\n",
       "<table border=\"1\" class=\"dataframe\">\n",
       "  <thead>\n",
       "    <tr style=\"text-align: right;\">\n",
       "      <th></th>\n",
       "      <th>Latitude (Min)</th>\n",
       "      <th>Eruption Day</th>\n",
       "      <th>Rb</th>\n",
       "    </tr>\n",
       "  </thead>\n",
       "  <tbody>\n",
       "    <tr>\n",
       "      <th>0</th>\n",
       "      <td>8.5</td>\n",
       "      <td>NaN</td>\n",
       "      <td>0.0</td>\n",
       "    </tr>\n",
       "    <tr>\n",
       "      <th>1</th>\n",
       "      <td>8.5</td>\n",
       "      <td>NaN</td>\n",
       "      <td>0.0</td>\n",
       "    </tr>\n",
       "    <tr>\n",
       "      <th>...</th>\n",
       "      <td>...</td>\n",
       "      <td>...</td>\n",
       "      <td>...</td>\n",
       "    </tr>\n",
       "    <tr>\n",
       "      <th>41</th>\n",
       "      <td>9.5</td>\n",
       "      <td>NaN</td>\n",
       "      <td>4.0</td>\n",
       "    </tr>\n",
       "    <tr>\n",
       "      <th>42</th>\n",
       "      <td>9.5</td>\n",
       "      <td>NaN</td>\n",
       "      <td>39.0</td>\n",
       "    </tr>\n",
       "  </tbody>\n",
       "</table>\n",
       "<p>43 rows × 3 columns</p>\n",
       "</div>"
      ],
      "text/plain": [
       "    Latitude (Min)  Eruption Day    Rb\n",
       "0              8.5           NaN   0.0\n",
       "1              8.5           NaN   0.0\n",
       "..             ...           ...   ...\n",
       "41             9.5           NaN   4.0\n",
       "42             9.5           NaN  39.0\n",
       "\n",
       "[43 rows x 3 columns]"
      ]
     },
     "execution_count": 45,
     "metadata": {},
     "output_type": "execute_result"
    }
   ],
   "source": [
    "df.iloc[:, [4, 17, 99]]"
   ]
  },
  {
   "cell_type": "markdown",
   "metadata": {},
   "source": [
    "What types of rock (-> 'Rock Type') are represented in the database?"
   ]
  },
  {
   "cell_type": "code",
   "execution_count": 46,
   "metadata": {},
   "outputs": [
    {
     "data": {
      "text/plain": [
       "0        VOLCANIC ROCK\n",
       "23    METAMORPHIC ROCK\n",
       "38       PLUTONIC ROCK\n",
       "Name: Rock Type, dtype: object"
      ]
     },
     "execution_count": 46,
     "metadata": {},
     "output_type": "execute_result"
    }
   ],
   "source": [
    "df['Rock Type'].drop_duplicates()"
   ]
  },
  {
   "cell_type": "markdown",
   "metadata": {},
   "source": [
    "Select all metamorphick rocks. (This is a tricky one already.)"
   ]
  },
  {
   "cell_type": "code",
   "execution_count": 47,
   "metadata": {},
   "outputs": [
    {
     "data": {
      "text/html": [
       "<div>\n",
       "<style scoped>\n",
       "    .dataframe tbody tr th:only-of-type {\n",
       "        vertical-align: middle;\n",
       "    }\n",
       "\n",
       "    .dataframe tbody tr th {\n",
       "        vertical-align: top;\n",
       "    }\n",
       "\n",
       "    .dataframe thead th {\n",
       "        text-align: right;\n",
       "    }\n",
       "</style>\n",
       "<table border=\"1\" class=\"dataframe\">\n",
       "  <thead>\n",
       "    <tr style=\"text-align: right;\">\n",
       "      <th></th>\n",
       "      <th>Citations</th>\n",
       "      <th>Tectonic Setting</th>\n",
       "      <th>...</th>\n",
       "      <th>AR40_K40</th>\n",
       "      <th>Unique Id</th>\n",
       "    </tr>\n",
       "    <tr>\n",
       "      <th>Rock Type</th>\n",
       "      <th></th>\n",
       "      <th></th>\n",
       "      <th></th>\n",
       "      <th></th>\n",
       "      <th></th>\n",
       "    </tr>\n",
       "  </thead>\n",
       "  <tbody>\n",
       "    <tr>\n",
       "      <th>VOLCANIC ROCK</th>\n",
       "      <td>[5205]</td>\n",
       "      <td>ARCHEAN CRATON (INCLUDING GREENSTONE BELTS)</td>\n",
       "      <td>...</td>\n",
       "      <td>NaN</td>\n",
       "      <td>184947</td>\n",
       "    </tr>\n",
       "    <tr>\n",
       "      <th>VOLCANIC ROCK</th>\n",
       "      <td>[5205]</td>\n",
       "      <td>ARCHEAN CRATON (INCLUDING GREENSTONE BELTS)</td>\n",
       "      <td>...</td>\n",
       "      <td>NaN</td>\n",
       "      <td>184948</td>\n",
       "    </tr>\n",
       "    <tr>\n",
       "      <th>...</th>\n",
       "      <td>...</td>\n",
       "      <td>...</td>\n",
       "      <td>...</td>\n",
       "      <td>...</td>\n",
       "      <td>...</td>\n",
       "    </tr>\n",
       "    <tr>\n",
       "      <th>METAMORPHIC ROCK</th>\n",
       "      <td>[8624]</td>\n",
       "      <td>ARCHEAN CRATON (INCLUDING GREENSTONE BELTS)</td>\n",
       "      <td>...</td>\n",
       "      <td>NaN</td>\n",
       "      <td>247031</td>\n",
       "    </tr>\n",
       "    <tr>\n",
       "      <th>METAMORPHIC ROCK</th>\n",
       "      <td>[8624]</td>\n",
       "      <td>ARCHEAN CRATON (INCLUDING GREENSTONE BELTS)</td>\n",
       "      <td>...</td>\n",
       "      <td>NaN</td>\n",
       "      <td>247032</td>\n",
       "    </tr>\n",
       "  </tbody>\n",
       "</table>\n",
       "<p>43 rows × 169 columns</p>\n",
       "</div>"
      ],
      "text/plain": [
       "                 Citations                             Tectonic Setting  ...  \\\n",
       "Rock Type                                                                ...   \n",
       "VOLCANIC ROCK       [5205]  ARCHEAN CRATON (INCLUDING GREENSTONE BELTS)  ...   \n",
       "VOLCANIC ROCK       [5205]  ARCHEAN CRATON (INCLUDING GREENSTONE BELTS)  ...   \n",
       "...                    ...                                          ...  ...   \n",
       "METAMORPHIC ROCK    [8624]  ARCHEAN CRATON (INCLUDING GREENSTONE BELTS)  ...   \n",
       "METAMORPHIC ROCK    [8624]  ARCHEAN CRATON (INCLUDING GREENSTONE BELTS)  ...   \n",
       "\n",
       "                 AR40_K40 Unique Id  \n",
       "Rock Type                            \n",
       "VOLCANIC ROCK         NaN    184947  \n",
       "VOLCANIC ROCK         NaN    184948  \n",
       "...                   ...       ...  \n",
       "METAMORPHIC ROCK      NaN    247031  \n",
       "METAMORPHIC ROCK      NaN    247032  \n",
       "\n",
       "[43 rows x 169 columns]"
      ]
     },
     "execution_count": 47,
     "metadata": {},
     "output_type": "execute_result"
    }
   ],
   "source": [
    "df.set_index('Rock Type', inplace = True)\n",
    "\n",
    "df"
   ]
  },
  {
   "cell_type": "code",
   "execution_count": 48,
   "metadata": {},
   "outputs": [
    {
     "data": {
      "text/html": [
       "<div>\n",
       "<style scoped>\n",
       "    .dataframe tbody tr th:only-of-type {\n",
       "        vertical-align: middle;\n",
       "    }\n",
       "\n",
       "    .dataframe tbody tr th {\n",
       "        vertical-align: top;\n",
       "    }\n",
       "\n",
       "    .dataframe thead th {\n",
       "        text-align: right;\n",
       "    }\n",
       "</style>\n",
       "<table border=\"1\" class=\"dataframe\">\n",
       "  <thead>\n",
       "    <tr style=\"text-align: right;\">\n",
       "      <th></th>\n",
       "      <th>Citations</th>\n",
       "      <th>Tectonic Setting</th>\n",
       "      <th>...</th>\n",
       "      <th>AR40_K40</th>\n",
       "      <th>Unique Id</th>\n",
       "    </tr>\n",
       "    <tr>\n",
       "      <th>Rock Type</th>\n",
       "      <th></th>\n",
       "      <th></th>\n",
       "      <th></th>\n",
       "      <th></th>\n",
       "      <th></th>\n",
       "    </tr>\n",
       "  </thead>\n",
       "  <tbody>\n",
       "    <tr>\n",
       "      <th>METAMORPHIC ROCK</th>\n",
       "      <td>[8624]</td>\n",
       "      <td>ARCHEAN CRATON (INCLUDING GREENSTONE BELTS)</td>\n",
       "      <td>...</td>\n",
       "      <td>NaN</td>\n",
       "      <td>247013</td>\n",
       "    </tr>\n",
       "    <tr>\n",
       "      <th>METAMORPHIC ROCK</th>\n",
       "      <td>[8624]</td>\n",
       "      <td>ARCHEAN CRATON (INCLUDING GREENSTONE BELTS)</td>\n",
       "      <td>...</td>\n",
       "      <td>NaN</td>\n",
       "      <td>247014</td>\n",
       "    </tr>\n",
       "    <tr>\n",
       "      <th>...</th>\n",
       "      <td>...</td>\n",
       "      <td>...</td>\n",
       "      <td>...</td>\n",
       "      <td>...</td>\n",
       "      <td>...</td>\n",
       "    </tr>\n",
       "    <tr>\n",
       "      <th>METAMORPHIC ROCK</th>\n",
       "      <td>[8624]</td>\n",
       "      <td>ARCHEAN CRATON (INCLUDING GREENSTONE BELTS)</td>\n",
       "      <td>...</td>\n",
       "      <td>NaN</td>\n",
       "      <td>247031</td>\n",
       "    </tr>\n",
       "    <tr>\n",
       "      <th>METAMORPHIC ROCK</th>\n",
       "      <td>[8624]</td>\n",
       "      <td>ARCHEAN CRATON (INCLUDING GREENSTONE BELTS)</td>\n",
       "      <td>...</td>\n",
       "      <td>NaN</td>\n",
       "      <td>247032</td>\n",
       "    </tr>\n",
       "  </tbody>\n",
       "</table>\n",
       "<p>19 rows × 169 columns</p>\n",
       "</div>"
      ],
      "text/plain": [
       "                 Citations                             Tectonic Setting  ...  \\\n",
       "Rock Type                                                                ...   \n",
       "METAMORPHIC ROCK    [8624]  ARCHEAN CRATON (INCLUDING GREENSTONE BELTS)  ...   \n",
       "METAMORPHIC ROCK    [8624]  ARCHEAN CRATON (INCLUDING GREENSTONE BELTS)  ...   \n",
       "...                    ...                                          ...  ...   \n",
       "METAMORPHIC ROCK    [8624]  ARCHEAN CRATON (INCLUDING GREENSTONE BELTS)  ...   \n",
       "METAMORPHIC ROCK    [8624]  ARCHEAN CRATON (INCLUDING GREENSTONE BELTS)  ...   \n",
       "\n",
       "                 AR40_K40 Unique Id  \n",
       "Rock Type                            \n",
       "METAMORPHIC ROCK      NaN    247013  \n",
       "METAMORPHIC ROCK      NaN    247014  \n",
       "...                   ...       ...  \n",
       "METAMORPHIC ROCK      NaN    247031  \n",
       "METAMORPHIC ROCK      NaN    247032  \n",
       "\n",
       "[19 rows x 169 columns]"
      ]
     },
     "execution_count": 48,
     "metadata": {},
     "output_type": "execute_result"
    }
   ],
   "source": [
    "df.loc['METAMORPHIC ROCK']"
   ]
  },
  {
   "cell_type": "markdown",
   "metadata": {},
   "source": [
    "Again, select all metamorphic rocks, but only display the series 'Mg' and 'Ti'."
   ]
  },
  {
   "cell_type": "code",
   "execution_count": 49,
   "metadata": {},
   "outputs": [
    {
     "data": {
      "text/html": [
       "<div>\n",
       "<style scoped>\n",
       "    .dataframe tbody tr th:only-of-type {\n",
       "        vertical-align: middle;\n",
       "    }\n",
       "\n",
       "    .dataframe tbody tr th {\n",
       "        vertical-align: top;\n",
       "    }\n",
       "\n",
       "    .dataframe thead th {\n",
       "        text-align: right;\n",
       "    }\n",
       "</style>\n",
       "<table border=\"1\" class=\"dataframe\">\n",
       "  <thead>\n",
       "    <tr style=\"text-align: right;\">\n",
       "      <th></th>\n",
       "      <th>Mg</th>\n",
       "      <th>Ti</th>\n",
       "    </tr>\n",
       "    <tr>\n",
       "      <th>Rock Type</th>\n",
       "      <th></th>\n",
       "      <th></th>\n",
       "    </tr>\n",
       "  </thead>\n",
       "  <tbody>\n",
       "    <tr>\n",
       "      <th>METAMORPHIC ROCK</th>\n",
       "      <td>48243.200</td>\n",
       "      <td>6592.740</td>\n",
       "    </tr>\n",
       "    <tr>\n",
       "      <th>METAMORPHIC ROCK</th>\n",
       "      <td>34373.280</td>\n",
       "      <td>10788.120</td>\n",
       "    </tr>\n",
       "    <tr>\n",
       "      <th>...</th>\n",
       "      <td>...</td>\n",
       "      <td>...</td>\n",
       "    </tr>\n",
       "    <tr>\n",
       "      <th>METAMORPHIC ROCK</th>\n",
       "      <td>151845.472</td>\n",
       "      <td>659.274</td>\n",
       "    </tr>\n",
       "    <tr>\n",
       "      <th>METAMORPHIC ROCK</th>\n",
       "      <td>246643.360</td>\n",
       "      <td>1618.218</td>\n",
       "    </tr>\n",
       "  </tbody>\n",
       "</table>\n",
       "<p>19 rows × 2 columns</p>\n",
       "</div>"
      ],
      "text/plain": [
       "                          Mg         Ti\n",
       "Rock Type                              \n",
       "METAMORPHIC ROCK   48243.200   6592.740\n",
       "METAMORPHIC ROCK   34373.280  10788.120\n",
       "...                      ...        ...\n",
       "METAMORPHIC ROCK  151845.472    659.274\n",
       "METAMORPHIC ROCK  246643.360   1618.218\n",
       "\n",
       "[19 rows x 2 columns]"
      ]
     },
     "execution_count": 49,
     "metadata": {},
     "output_type": "execute_result"
    }
   ],
   "source": [
    "df.loc['METAMORPHIC ROCK', ['Mg', 'Ti']]"
   ]
  },
  {
   "cell_type": "markdown",
   "metadata": {},
   "source": [
    "Reset the indices first, then select datasets 10 throughout and including 20, but only with the columns MgO and Cr2O3."
   ]
  },
  {
   "cell_type": "code",
   "execution_count": 50,
   "metadata": {},
   "outputs": [
    {
     "data": {
      "text/html": [
       "<div>\n",
       "<style scoped>\n",
       "    .dataframe tbody tr th:only-of-type {\n",
       "        vertical-align: middle;\n",
       "    }\n",
       "\n",
       "    .dataframe tbody tr th {\n",
       "        vertical-align: top;\n",
       "    }\n",
       "\n",
       "    .dataframe thead th {\n",
       "        text-align: right;\n",
       "    }\n",
       "</style>\n",
       "<table border=\"1\" class=\"dataframe\">\n",
       "  <thead>\n",
       "    <tr style=\"text-align: right;\">\n",
       "      <th></th>\n",
       "      <th>Rock Type</th>\n",
       "      <th>Citations</th>\n",
       "      <th>...</th>\n",
       "      <th>AR40_K40</th>\n",
       "      <th>Unique Id</th>\n",
       "    </tr>\n",
       "  </thead>\n",
       "  <tbody>\n",
       "    <tr>\n",
       "      <th>0</th>\n",
       "      <td>VOLCANIC ROCK</td>\n",
       "      <td>[5205]</td>\n",
       "      <td>...</td>\n",
       "      <td>NaN</td>\n",
       "      <td>184947</td>\n",
       "    </tr>\n",
       "    <tr>\n",
       "      <th>1</th>\n",
       "      <td>VOLCANIC ROCK</td>\n",
       "      <td>[5205]</td>\n",
       "      <td>...</td>\n",
       "      <td>NaN</td>\n",
       "      <td>184948</td>\n",
       "    </tr>\n",
       "    <tr>\n",
       "      <th>...</th>\n",
       "      <td>...</td>\n",
       "      <td>...</td>\n",
       "      <td>...</td>\n",
       "      <td>...</td>\n",
       "      <td>...</td>\n",
       "    </tr>\n",
       "    <tr>\n",
       "      <th>41</th>\n",
       "      <td>METAMORPHIC ROCK</td>\n",
       "      <td>[8624]</td>\n",
       "      <td>...</td>\n",
       "      <td>NaN</td>\n",
       "      <td>247031</td>\n",
       "    </tr>\n",
       "    <tr>\n",
       "      <th>42</th>\n",
       "      <td>METAMORPHIC ROCK</td>\n",
       "      <td>[8624]</td>\n",
       "      <td>...</td>\n",
       "      <td>NaN</td>\n",
       "      <td>247032</td>\n",
       "    </tr>\n",
       "  </tbody>\n",
       "</table>\n",
       "<p>43 rows × 170 columns</p>\n",
       "</div>"
      ],
      "text/plain": [
       "           Rock Type Citations  ... AR40_K40 Unique Id\n",
       "0      VOLCANIC ROCK    [5205]  ...      NaN    184947\n",
       "1      VOLCANIC ROCK    [5205]  ...      NaN    184948\n",
       "..               ...       ...  ...      ...       ...\n",
       "41  METAMORPHIC ROCK    [8624]  ...      NaN    247031\n",
       "42  METAMORPHIC ROCK    [8624]  ...      NaN    247032\n",
       "\n",
       "[43 rows x 170 columns]"
      ]
     },
     "execution_count": 50,
     "metadata": {},
     "output_type": "execute_result"
    }
   ],
   "source": [
    "df.reset_index(inplace = True)\n",
    "\n",
    "df"
   ]
  },
  {
   "cell_type": "code",
   "execution_count": 51,
   "metadata": {},
   "outputs": [
    {
     "data": {
      "text/html": [
       "<div>\n",
       "<style scoped>\n",
       "    .dataframe tbody tr th:only-of-type {\n",
       "        vertical-align: middle;\n",
       "    }\n",
       "\n",
       "    .dataframe tbody tr th {\n",
       "        vertical-align: top;\n",
       "    }\n",
       "\n",
       "    .dataframe thead th {\n",
       "        text-align: right;\n",
       "    }\n",
       "</style>\n",
       "<table border=\"1\" class=\"dataframe\">\n",
       "  <thead>\n",
       "    <tr style=\"text-align: right;\">\n",
       "      <th></th>\n",
       "      <th>Si</th>\n",
       "      <th>Fe</th>\n",
       "      <th>Mn</th>\n",
       "    </tr>\n",
       "  </thead>\n",
       "  <tbody>\n",
       "    <tr>\n",
       "      <th>10</th>\n",
       "      <td>226705.9750</td>\n",
       "      <td>NaN</td>\n",
       "      <td>1626.3618</td>\n",
       "    </tr>\n",
       "    <tr>\n",
       "      <th>11</th>\n",
       "      <td>234699.1135</td>\n",
       "      <td>NaN</td>\n",
       "      <td>1394.0244</td>\n",
       "    </tr>\n",
       "    <tr>\n",
       "      <th>...</th>\n",
       "      <td>...</td>\n",
       "      <td>...</td>\n",
       "      <td>...</td>\n",
       "    </tr>\n",
       "    <tr>\n",
       "      <th>20</th>\n",
       "      <td>230866.1465</td>\n",
       "      <td>NaN</td>\n",
       "      <td>1626.3618</td>\n",
       "    </tr>\n",
       "    <tr>\n",
       "      <th>21</th>\n",
       "      <td>249703.7770</td>\n",
       "      <td>NaN</td>\n",
       "      <td>1936.1450</td>\n",
       "    </tr>\n",
       "  </tbody>\n",
       "</table>\n",
       "<p>12 rows × 3 columns</p>\n",
       "</div>"
      ],
      "text/plain": [
       "             Si  Fe         Mn\n",
       "10  226705.9750 NaN  1626.3618\n",
       "11  234699.1135 NaN  1394.0244\n",
       "..          ...  ..        ...\n",
       "20  230866.1465 NaN  1626.3618\n",
       "21  249703.7770 NaN  1936.1450\n",
       "\n",
       "[12 rows x 3 columns]"
      ]
     },
     "execution_count": 51,
     "metadata": {},
     "output_type": "execute_result"
    }
   ],
   "source": [
    "df.loc[10:21, ['Si', 'Fe', 'Mn']]"
   ]
  }
 ],
 "metadata": {
  "kernelspec": {
   "display_name": "Python 3",
   "language": "python",
   "name": "python3"
  },
  "language_info": {
   "codemirror_mode": {
    "name": "ipython",
    "version": 3
   },
   "file_extension": ".py",
   "mimetype": "text/x-python",
   "name": "python",
   "nbconvert_exporter": "python",
   "pygments_lexer": "ipython3",
   "version": "3.8.5"
  }
 },
 "nbformat": 4,
 "nbformat_minor": 4
}
