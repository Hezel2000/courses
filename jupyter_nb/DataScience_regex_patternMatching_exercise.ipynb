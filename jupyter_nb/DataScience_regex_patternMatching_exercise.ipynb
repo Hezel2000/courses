{
  "nbformat": 4,
  "nbformat_minor": 0,
  "metadata": {
    "colab": {
      "provenance": []
    },
    "kernelspec": {
      "name": "python3",
      "display_name": "Python 3"
    },
    "language_info": {
      "name": "python"
    }
  },
  "cells": [
    {
      "cell_type": "markdown",
      "source": [
        "# Match email address\n",
        "\n",
        "Check interactive regex101 example [here!](https://regex101.com/r/CqvERS/2)"
      ],
      "metadata": {
        "id": "zx9O3J1Kem1w"
      }
    },
    {
      "cell_type": "code",
      "execution_count": null,
      "metadata": {
        "id": "wbMweYMaehwq"
      },
      "outputs": [],
      "source": [
        "import re\n",
        "\n",
        "TEXT = '''Lorem ipsum dolor sit amet, consectetur adipiscing elit, (a@a.de) sed do eiusmod tempor incididunt ut labore et dolore magna aliqua. Ut enim ad minim veniam, quis nostrud exercitation ullamco laboris nisi ut aliquip ex ea commodo consequat. Duis aute irure test@test.com dolor in reprehenderit in voluptate velit esse cillum dolore eu fugiat nulla pariatur. Excepteur sint occaecat cupidatat non proident, sunt in culpa qui officia deserunt mollit anim id est laborum.'''\n",
        "\n",
        "pattern = re.compile(\"\\w+\\@\\w+\\.\\w+\") #any word (1-inf), @ sign, any word (1-inf), dot (escaped!), any word (1-inf)\n",
        "print(pattern.findall(TEXT))"
      ]
    },
    {
      "cell_type": "markdown",
      "source": [
        "## Exercise 1\n",
        "\n",
        "\n",
        "Improve the pattern in order to also match the following mail address properly:\n",
        "user_1337@stud.uni-frankfurt.de\n"
      ],
      "metadata": {
        "id": "ad0yllsWe9Go"
      }
    },
    {
      "cell_type": "markdown",
      "source": [
        "# Match instrument protocol\n",
        "\n",
        "\n",
        "Check interactive regex101 example [here!](https://regex101.com/r/Qj8d7C/1)"
      ],
      "metadata": {
        "id": "lsajIejmewHp"
      }
    },
    {
      "cell_type": "code",
      "source": [
        "import re\n",
        "\n",
        "TEXT = \"\"\"\n",
        "0\t11/1/2018 12:00:00 AM\tProtokoll Neustart\n",
        "0\t11/1/2018 9:36:22 AM\tProtokoll Neustart\n",
        "1\t11/1/2018 9:36:23 AM\tAnlage auf Standby\n",
        "2\t11/1/2018 9:36:24 AM\tAnlage auf Standby\n",
        "13\t11/1/2018 9:36:36 AM\tEiswarnung bestätigt\n",
        "18\t11/1/2018 9:36:41 AM\tAnlage auf Standby\n",
        "31\t11/1/2018 9:39:29 AM\tAutosampler laden\n",
        "1280\t11/1/2018 10:01:52 AM\tAutomatikbetrieb gestartet mit Wartezeit\n",
        "3415\t11/1/2018 10:41:13 AM\tWartezeit verlaengert Ethanol zu kalt\n",
        "3469\t11/1/2018 10:42:13 AM\tWartezeit verlaengert Ethanol zu kalt\n",
        "3523\t11/1/2018 10:43:13 AM\tWartezeit verlaengert Ethanol zu kalt\n",
        "3875\t11/1/2018 10:49:50 AM\tProbe: Carrara drop , Einwaage: 5.7mg   , Methode: 0 gestartet\n",
        "4208\t11/1/2018 10:55:59 AM\tReaktion / Kapsel / Reaktion\n",
        "12572\t11/1/2018 1:32:44 PM\tAufbereitung von Carrara drop normal beendet.\n",
        "13642\t11/1/2018 1:52:07 PM\tAutosampler laden\n",
        "13734\t11/1/2018 1:54:19 PM\tAutosampler laden\n",
        "20360\t11/1/2018 3:57:15 PM\tWartezeit verlaengert Ethanol zu kalt\n",
        "20985\t11/1/2018 4:09:03 PM\tProgramm angehalten\n",
        "20986\t11/1/2018 4:15:57 PM\tProgramm gestartet\n",
        "20994\t11/1/2018 4:16:06 PM\tProbe: HG 100 , Einwaage: mBar , Methode: 1 gestartet\n",
        "21005\t11/1/2018 4:16:19 PM\tProbeaufbereitung abgebrochen\n",
        "21013\t11/1/2018 4:16:35 PM\tAutomatikbetrieb gestartet mit Wartezeit\n",
        "21066\t11/1/2018 4:18:15 PM\tAutomatikbetrieb gestartet mit Wartezeit\n",
        "21067\t11/1/2018 4:18:16 PM\tWartezeit verlaengert Ethanol zu warm\n",
        "21433\t11/1/2018 4:24:52 PM\tProbe: HG 100 , Einwaage: mBar , Methode: 1 gestartet\n",
        "27739\t11/1/2018 6:22:00 PM\tAufbereitung von HG 100 normal beendet.\n",
        "36257\t11/1/2018 9:02:07 PM\tProbe: Carrara , Einwaage: 3.1mg   , Methode: 0 gestartet\n",
        "36584\t11/1/2018 9:08:17 PM\tReaktion / Kapsel / Reaktion\n",
        "42761\t11/1/2018 11:05:07 PM\tAufbereitung von Carrara normal beendet.\n",
        "\"\"\"\n",
        "\n",
        "\n",
        "pattern = re.compile(r'(\\d{,8})\\t(.*)\\t(Probe: .*)\\n')\n",
        "MATCH = pattern.findall(TEXT)\n",
        "\n",
        "for m in MATCH:\n",
        "    print(m)\n",
        "    id,datetime,log = m\n"
      ],
      "metadata": {
        "id": "56J-ZTJjewtS"
      },
      "execution_count": null,
      "outputs": []
    },
    {
      "cell_type": "markdown",
      "source": [
        "## Exercise 2\n",
        "\n",
        "Define a new pattern, which you can use within the loop to extract the sample name and method id from each text string stored in variable `log`\n"
      ],
      "metadata": {
        "id": "hXFlRtBUffBG"
      }
    },
    {
      "cell_type": "code",
      "source": [
        "import re\n",
        "\n",
        "TEXT = \"\"\"\n",
        "0\t11/1/2018 12:00:00 AM\tProtokoll Neustart\n",
        "0\t11/1/2018 9:36:22 AM\tProtokoll Neustart\n",
        "1\t11/1/2018 9:36:23 AM\tAnlage auf Standby\n",
        "2\t11/1/2018 9:36:24 AM\tAnlage auf Standby\n",
        "13\t11/1/2018 9:36:36 AM\tEiswarnung bestätigt\n",
        "18\t11/1/2018 9:36:41 AM\tAnlage auf Standby\n",
        "31\t11/1/2018 9:39:29 AM\tAutosampler laden\n",
        "1280\t11/1/2018 10:01:52 AM\tAutomatikbetrieb gestartet mit Wartezeit\n",
        "3415\t11/1/2018 10:41:13 AM\tWartezeit verlaengert Ethanol zu kalt\n",
        "3469\t11/1/2018 10:42:13 AM\tWartezeit verlaengert Ethanol zu kalt\n",
        "3523\t11/1/2018 10:43:13 AM\tWartezeit verlaengert Ethanol zu kalt\n",
        "3875\t11/1/2018 10:49:50 AM\tProbe: Carrara drop , Einwaage: 5.7mg   , Methode: 0 gestartet\n",
        "4208\t11/1/2018 10:55:59 AM\tReaktion / Kapsel / Reaktion\n",
        "12572\t11/1/2018 1:32:44 PM\tAufbereitung von Carrara drop normal beendet.\n",
        "13642\t11/1/2018 1:52:07 PM\tAutosampler laden\n",
        "13734\t11/1/2018 1:54:19 PM\tAutosampler laden\n",
        "20360\t11/1/2018 3:57:15 PM\tWartezeit verlaengert Ethanol zu kalt\n",
        "20985\t11/1/2018 4:09:03 PM\tProgramm angehalten\n",
        "20986\t11/1/2018 4:15:57 PM\tProgramm gestartet\n",
        "20994\t11/1/2018 4:16:06 PM\tProbe: HG 100 , Einwaage: mBar , Methode: 1 gestartet\n",
        "21005\t11/1/2018 4:16:19 PM\tProbeaufbereitung abgebrochen\n",
        "21013\t11/1/2018 4:16:35 PM\tAutomatikbetrieb gestartet mit Wartezeit\n",
        "21066\t11/1/2018 4:18:15 PM\tAutomatikbetrieb gestartet mit Wartezeit\n",
        "21067\t11/1/2018 4:18:16 PM\tWartezeit verlaengert Ethanol zu warm\n",
        "21433\t11/1/2018 4:24:52 PM\tProbe: HG 100 , Einwaage: mBar , Methode: 1 gestartet\n",
        "27739\t11/1/2018 6:22:00 PM\tAufbereitung von HG 100 normal beendet.\n",
        "36257\t11/1/2018 9:02:07 PM\tProbe: Carrara , Einwaage: 3.1mg   , Methode: 0 gestartet\n",
        "36584\t11/1/2018 9:08:17 PM\tReaktion / Kapsel / Reaktion\n",
        "42761\t11/1/2018 11:05:07 PM\tAufbereitung von Carrara normal beendet.\n",
        "\"\"\"\n",
        "\n",
        "\n",
        "pattern = re.compile(r'(\\d{,8})\\t(.*)\\t(Probe: .*)\\n')\n",
        "MATCH = pattern.findall(TEXT)\n",
        "\n",
        "for m in MATCH:\n",
        "    print(m)\n",
        "    id,datetime,log = m\n",
        "\n",
        "    pattern_sample = re.compile('pattern here...')\n",
        "    sample = pattern_sample.findall(log)\n",
        "    print('sample: ', sample)\n",
        "\n",
        "    pattern_method = re.compile('pattern here...')\n",
        "    method = pattern_method.findall(log)\n",
        "    print('method: ', method)\n"
      ],
      "metadata": {
        "id": "NW203iOpe2FR"
      },
      "execution_count": null,
      "outputs": []
    }
  ]
}