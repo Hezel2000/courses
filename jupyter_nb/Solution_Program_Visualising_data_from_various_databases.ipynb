{
 "cells": [
  {
   "cell_type": "markdown",
   "metadata": {},
   "source": [
    "# Solution- Visualising data from various databases"
   ]
  },
  {
   "cell_type": "markdown",
   "metadata": {},
   "source": [
    "## Instant Review & Quiz"
   ]
  },
  {
   "cell_type": "markdown",
   "metadata": {},
   "source": [
    "<b>I1. What is the simplest way to populate a drop-down menu?</b>"
   ]
  },
  {
   "cell_type": "markdown",
   "metadata": {},
   "source": [
    "<font color = darkgreen><b>\n",
    "    Using a list that contains all the elements that shall be shown in this menu.\n",
    "</b></font>"
   ]
  },
  {
   "cell_type": "markdown",
   "metadata": {},
   "source": [
    "<b>Q1. How manz interacitve elements can be displayed when using interact?</b><br>\n",
    "5<br>\n",
    "10<br>\n",
    "unlimited"
   ]
  },
  {
   "cell_type": "markdown",
   "metadata": {},
   "source": [
    "<font color = darkgreen><b>\n",
    "    unlimited\n",
    "</b></font>"
   ]
  },
  {
   "cell_type": "markdown",
   "metadata": {},
   "source": [
    "<b>Q2. What is commonly the last line in a self-defined command?</b><br>\n",
    "return<br>\n",
    "output<br>\n",
    "res<br>\n",
    "result"
   ]
  },
  {
   "cell_type": "markdown",
   "metadata": {},
   "source": [
    "<font color = darkgreen><b>\n",
    "    The 'return' command.\n",
    "</b></font>"
   ]
  },
  {
   "cell_type": "markdown",
   "metadata": {},
   "source": [
    "## Practise"
   ]
  },
  {
   "cell_type": "markdown",
   "metadata": {},
   "source": [
    "Import what is needed for an interactive plot."
   ]
  },
  {
   "cell_type": "code",
   "execution_count": 26,
   "metadata": {},
   "outputs": [],
   "source": [
    "import pandas as pd\n",
    "import matplotlib.pyplot as plt\n",
    "from ipywidgets import interact"
   ]
  },
  {
   "cell_type": "markdown",
   "metadata": {},
   "source": [
    "Code an interactive plot that allows to select and display one of the selected databases as a simple (or more sophisticated, should you wish) plot."
   ]
  },
  {
   "cell_type": "code",
   "execution_count": 27,
   "metadata": {},
   "outputs": [],
   "source": [
    "localities = ['Bastar Craton', 'West African Craton', 'Tanzania Craton Archean']"
   ]
  },
  {
   "cell_type": "code",
   "execution_count": 28,
   "metadata": {},
   "outputs": [],
   "source": [
    "def pltData(locality, xData, yData):\n",
    "    df = pd.read_csv('data/' + locality + '.csv')\n",
    "    plt.scatter(df[xData] * .00001, df[yData] * .00001)\n",
    "    plt.xlabel(xData + ' (wt%)')\n",
    "    plt.ylabel(yData + ' (wt%)')\n",
    "    return plt.show()"
   ]
  },
  {
   "cell_type": "code",
   "execution_count": 29,
   "metadata": {},
   "outputs": [
    {
     "data": {
      "application/vnd.jupyter.widget-view+json": {
       "model_id": "20d94a4208bc4c7fb14b8c65a4386fcf",
       "version_major": 2,
       "version_minor": 0
      },
      "text/plain": [
       "interactive(children=(Dropdown(description='locality', options=('Bastar Craton', 'West African Craton', 'Tanza…"
      ]
     },
     "metadata": {},
     "output_type": "display_data"
    },
    {
     "data": {
      "text/plain": [
       "<function __main__.pltData(locality, xData, yData)>"
      ]
     },
     "execution_count": 29,
     "metadata": {},
     "output_type": "execute_result"
    }
   ],
   "source": [
    "elements = ['Mg', 'Si', 'Al', 'Na', 'Eu']\n",
    "\n",
    "interact(pltData, locality = localities, xData = elements, yData = elements)"
   ]
  },
  {
   "cell_type": "markdown",
   "metadata": {},
   "source": [
    "I am pretty sure, you succeeded. Now for a real challenge:<br>\n",
    "Adjust the code so that you can choose which databases are shown – but so that they ar shown together, not individually."
   ]
  },
  {
   "cell_type": "code",
   "execution_count": 30,
   "metadata": {},
   "outputs": [],
   "source": [
    "# I will now use pltData2 instead of pltData\n",
    "\n",
    "def pltData2(bastar, westAfrican, tanzania, xData, yData):\n",
    "    if bastar == True:\n",
    "        dfBastar = pd.read_csv('data/' + localities[0] + '.csv')\n",
    "        plt.scatter(dfBastar[xData] * .00001, dfBastar[yData] * .00001, label = 'Bastar')\n",
    "        \n",
    "    if westAfrican == True:\n",
    "        dfWestAfrican = pd.read_csv('data/' + localities[1] + '.csv')\n",
    "        plt.scatter(dfWestAfrican[xData] * .00001, dfWestAfrican[yData] * .00001, label = 'West African')\n",
    "        \n",
    "    if tanzania == True:\n",
    "        dfTanzania = pd.read_csv('data/' + localities[2] + '.csv')\n",
    "        plt.scatter(dfTanzania[xData] * .00001, dfTanzania[yData] * .00001, label = 'Tanzania')\n",
    "    \n",
    "    plt.xlabel(xData + ' (wt%)')\n",
    "    plt.ylabel(yData + ' (wt%)')\n",
    "    plt.legend(loc = 'upper right')\n",
    "    \n",
    "    return plt.show()"
   ]
  },
  {
   "cell_type": "code",
   "execution_count": 31,
   "metadata": {},
   "outputs": [
    {
     "data": {
      "application/vnd.jupyter.widget-view+json": {
       "model_id": "610c0f1fe32e40158c89d67f0adacab4",
       "version_major": 2,
       "version_minor": 0
      },
      "text/plain": [
       "interactive(children=(Checkbox(value=True, description='bastar'), Checkbox(value=False, description='westAfric…"
      ]
     },
     "metadata": {},
     "output_type": "display_data"
    },
    {
     "data": {
      "text/plain": [
       "<function __main__.pltData2(bastar, westAfrican, tanzania, xData, yData)>"
      ]
     },
     "execution_count": 31,
     "metadata": {},
     "output_type": "execute_result"
    }
   ],
   "source": [
    "elements = ['Mg', 'Si', 'Al', 'Na', 'Eu']\n",
    "\n",
    "interact(pltData2, bastar = True, westAfrican = False, tanzania = False, xData = elements, yData = elements)"
   ]
  },
  {
   "cell_type": "markdown",
   "metadata": {},
   "source": [
    "That shall be enough. But, of course, as there are 3 similar 'if' statements in the code, this can be made more compact. Another time."
   ]
  },
  {
   "cell_type": "markdown",
   "metadata": {},
   "source": [
    "<font color = 'brown'><b>Although ... one more thing: store the latter command for later use in your 'mineralogyModule.py'.</b></font>"
   ]
  }
 ],
 "metadata": {
  "kernelspec": {
   "display_name": "Python 3",
   "language": "python",
   "name": "python3"
  },
  "language_info": {
   "codemirror_mode": {
    "name": "ipython",
    "version": 3
   },
   "file_extension": ".py",
   "mimetype": "text/x-python",
   "name": "python",
   "nbconvert_exporter": "python",
   "pygments_lexer": "ipython3",
   "version": "3.8.5"
  }
 },
 "nbformat": 4,
 "nbformat_minor": 4
}
