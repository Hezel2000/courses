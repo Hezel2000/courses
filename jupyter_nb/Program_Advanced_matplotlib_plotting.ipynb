{
 "cells": [
  {
   "cell_type": "markdown",
   "metadata": {},
   "source": [
    "# Advanced matplotlib plotting"
   ]
  },
  {
   "cell_type": "code",
   "execution_count": 34,
   "metadata": {},
   "outputs": [
    {
     "data": {
      "text/plain": [
       "['Bastar Craton.csv',\n",
       " 'Easter Seamount Chain Salas Y Gomez Ridge.csv',\n",
       " 'Ninetyeast Ridge.csv',\n",
       " 'Baical Rift Zone.csv',\n",
       " 'Emeishan.csv',\n",
       " 'Galapagos Islands.csv',\n",
       " 'Tanzania Craton Archean.csv',\n",
       " 'Emeishan.xlsx',\n",
       " 'Seychelles.csv',\n",
       " 'Banda Arc.csv',\n",
       " 'Karoo Province - Africa.csv',\n",
       " 'Baical Rift Zone.xlsx',\n",
       " 'Karoo Province - Africa.xlsx',\n",
       " 'North American Cordillera - Paleozoic.csv',\n",
       " 'Hyblean or Iblean Plateau, Sicily.csv',\n",
       " 'McDonald Islands.csv']"
      ]
     },
     "execution_count": 34,
     "metadata": {},
     "output_type": "execute_result"
    }
   ],
   "source": [
    "import matplotlib.pyplot as plt\n",
    "import pandas as pd\n",
    "import os\n",
    "\n",
    "os.listdir('data/georoc data')"
   ]
  },
  {
   "cell_type": "code",
   "execution_count": 37,
   "metadata": {},
   "outputs": [],
   "source": [
    "df1 = pd.read_csv('data/georoc data/Bastar Craton.csv')\n",
    "df2 = pd.read_csv('data/georoc data/Banda Arc.csv')\n",
    "df3 = pd.read_csv('data/georoc data/Ninetyeast Ridge.csv')\n",
    "df4 = pd.read_csv('data/georoc data/McDonald Islands.csv')\n"
   ]
  },
  {
   "cell_type": "code",
   "execution_count": 46,
   "metadata": {},
   "outputs": [
    {
     "data": {
      "image/png": "[encoded data removed]",
      "text/plain": [
       "<Figure size 432x288 with 4 Axes>"
      ]
     },
     "metadata": {
      "needs_background": "light"
     },
     "output_type": "display_data"
    }
   ],
   "source": [
    "xEl = 'Al'\n",
    "yEl = 'Mg'\n",
    "fac = .0001\n",
    "\n",
    "fig, ((ax1, ax2), (ax3, ax4)) = plt.subplots(2, 2, sharex = True, sharey = True)\n",
    "fig.subplots_adjust(hspace = 0, wspace = 0)\n",
    "\n",
    "ax1.scatter(df1[xEl] * fac, df1[yEl] * fac)\n",
    "ax2.scatter(df2[xEl] * fac, df2[yEl] * fac)\n",
    "ax3.scatter(df3[xEl] * fac, df3[yEl] * fac)\n",
    "ax4.scatter(df4[xEl] * fac, df4[yEl] * fac)\n",
    "ax1.set(ylabel = yEl + ' wt%')\n",
    "ax3.set(xlabel = xEl + ' wt%', ylabel = yEl + ' wt%')\n",
    "ax4.set(xlabel = xEl + ' wt%')\n",
    "ax1.xaxis.set_ticks_position('both')\n",
    "ax1.yaxis.set_ticks_position('both')\n",
    "ax2.xaxis.set_ticks_position('both')\n",
    "ax2.yaxis.set_ticks_position('both')\n",
    "ax1.minorticks_on()\n",
    "ax2.minorticks_on()\n",
    "ax1.tick_params(which = 'major', length = 7, width = 1, direction = 'in')\n",
    "ax1.tick_params(which = 'minor', length = 4, width = 1, direction = 'in')\n",
    "\n",
    "fig.savefig('test.pdf')"
   ]
  }
 ],
 "metadata": {
  "kernelspec": {
   "display_name": "Python 3",
   "language": "python",
   "name": "python3"
  },
  "language_info": {
   "codemirror_mode": {
    "name": "ipython",
    "version": 3
   },
   "file_extension": ".py",
   "mimetype": "text/x-python",
   "name": "python",
   "nbconvert_exporter": "python",
   "pygments_lexer": "ipython3",
   "version": "3.8.5"
  }
 },
 "nbformat": 4,
 "nbformat_minor": 4
}
