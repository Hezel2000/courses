{
 "cells": [
  {
   "cell_type": "markdown",
   "metadata": {},
   "source": [
    "# Building a complex, interactive figure"
   ]
  },
  {
   "cell_type": "code",
   "execution_count": 7,
   "metadata": {},
   "outputs": [],
   "source": [
    "import pandas as pd\n",
    "import geopandas as gpd\n",
    "import matplotlib.pyplot as plt\n",
    "import modules.mineralogyModule as mm\n",
    "from ipywidgets import interact"
   ]
  },
  {
   "cell_type": "code",
   "execution_count": 8,
   "metadata": {},
   "outputs": [],
   "source": [
    "# Load the world map into the parameter world_data\n",
    "world_data = gpd.read_file(gpd.datasets.get_path('naturalearth_lowres'))\n",
    "\n",
    "#define two lists that are used in interact to populate the respective drop-down menus\n",
    "elList = ['Si', 'Ti', 'Al', 'Cr', 'Mg', 'Fe', 'Mn', 'Na', 'K']\n",
    "dataFiles = mm.dirFiles('data/georoc data/', '.csv')\n",
    "\n",
    "\n",
    "#command to read a selected data file – note(!) that I return the df AND the df_geo in one list\n",
    "def readfile(file):\n",
    "    df = pd.read_csv('data/georoc data/' + file)\n",
    "    df_geo = gpd.GeoDataFrame(df, geometry = gpd.points_from_xy(df['Longitude (Min)'], df['Latitude (Min)']))\n",
    "    return [df, df_geo]\n",
    "\n",
    "#command for interact that displays the complex plot\n",
    "def complexPlot(data2, xElP2, yElP2, data3, xElP3, yElP3, data4, xElP4, yElP4, data5, xElP5, yElP5):\n",
    "    fig = plt.figure()\n",
    "    #the height and width of the entire figure\n",
    "    fig.set_figheight(10)\n",
    "    fig.set_figwidth(10)\n",
    "\n",
    "    #shape, position, and across how many columns this single plot spans\n",
    "    ax1 = plt.subplot2grid(shape = (3, 3), loc = (0, 0), colspan = 2) \n",
    "    ax2 = plt.subplot2grid(shape = (3, 3), loc = (0, 2), colspan = 1)\n",
    "    ax3 = plt.subplot2grid(shape = (3, 3), loc = (1, 0), colspan = 1)\n",
    "    #short notation for the same\n",
    "    ax4 = plt.subplot2grid((3, 3), (1, 1))\n",
    "    ax5 = plt.subplot2grid((3, 3), (1, 2))\n",
    "\n",
    "    #I call these dat2 to dat5, because the first plot ist the map\n",
    "    #using the above readfile command to read the data file\n",
    "    dat2 = readfile(data2)\n",
    "    dat3 = readfile(data3)\n",
    "    dat4 = readfile(data4)\n",
    "    dat5 = readfile(data5)\n",
    "    fac = .0001    #a factor to convert wt-ppm in wt%\n",
    "\n",
    "    #This paragraph is for plotting the map and data locations from 5 files on this map\n",
    "    #plotting the world_map data, i.e., the world\n",
    "    axis = world_data.plot(ax = ax1, color = 'lightgreen', edgecolor = 'grey', linewidth = .3)\n",
    "    #extracting the first element of the list from readfile (cf. above), i.e., the data points and plot these on the map\n",
    "    dat2[1].plot(ax = axis, color = 'orange', markersize = 20)\n",
    "    dat3[1].plot(ax = axis, color = 'blue', markersize = 20)\n",
    "    dat4[1].plot(ax = axis, color = 'purple', markersize = 20)\n",
    "    dat5[1].plot(ax = axis, color = 'green', markersize = 20)\n",
    "\n",
    "    #The first data plot – called ax2 etc., because the first subplot is the map, 3 lines are just styling of the plot\n",
    "    #The .split('.') splits a string at the position given in the bracket, i.e., in this case at the point into a list. Cf. example at the bottom of this notebook.\n",
    "    ax2.scatter(dat2[0][xElP2] * fac, dat2[0][yElP2] * fac, color = 'orange', label = data2.split('.')[0])\n",
    "    ax2.set_xlabel(xElP2 + (' wt%'))\n",
    "    ax2.set_ylabel(yElP2 + (' wt%'))\n",
    "    ax2.legend(loc = 'upper right')\n",
    "    #second data plot ...\n",
    "    ax3.scatter(dat3[0][xElP3] * fac, dat3[0][yElP3] * fac, color = 'blue', label = data3.split('.')[0])\n",
    "    ax3.set_xlabel(xElP3 + (' wt%'))\n",
    "    ax3.set_ylabel(yElP3 + (' wt%'))\n",
    "    ax3.legend(loc = 'upper right')\n",
    "    #third data plot ...\n",
    "    ax4.scatter(dat4[0][xElP4] * fac, dat4[0][yElP4] * fac, color = 'purple', label = data4.split('.')[0])\n",
    "    ax4.set_xlabel(xElP4 + (' wt%'))\n",
    "    ax4.set_ylabel(yElP4 + (' wt%'))\n",
    "    ax4.legend(loc = 'upper right')\n",
    "    #fourth data plot ...\n",
    "    ax5.scatter(dat5[0][xElP5] * fac, dat5[0][yElP5] * fac, color = 'green', label = data5.split('.')[0])\n",
    "    ax5.set_xlabel(xElP5 + (' wt%'))\n",
    "    ax5.set_ylabel(yElP5 + (' wt%'))\n",
    "    ax5.legend(loc = 'upper right')\n",
    "\n",
    "    #this assures no plot labels overlay\n",
    "    plt.tight_layout()\n",
    "    \n",
    "    #show the plot without additional output\n",
    "    plt.show()"
   ]
  },
  {
   "cell_type": "code",
   "execution_count": 11,
   "metadata": {},
   "outputs": [],
   "source": [
    "interact(complexPlot, data2 = dataFiles, xElP2 = elList, yElP2 = elList, data3 = dataFiles, xElP3 = elList, yElP3 = elList, data4 = dataFiles, xElP4 = elList, yElP4 = elList, data5 = dataFiles, xElP5 = elList, yElP5 = elList)"
   ]
  },
  {
   "cell_type": "markdown",
   "metadata": {},
   "source": [
    "### Example for .split('.')"
   ]
  },
  {
   "cell_type": "code",
   "execution_count": null,
   "metadata": {},
   "outputs": [],
   "source": [
    "filename = 'Bastar Craton.csv'\n",
    "\n",
    "print(filename.split('.'))\n",
    "print(filename.split('.')[0])\n",
    "print(filename.split('.')[1])"
   ]
  }
 ],
 "metadata": {
  "kernelspec": {
   "display_name": "Python 3",
   "language": "python",
   "name": "python3"
  },
  "language_info": {
   "codemirror_mode": {
    "name": "ipython",
    "version": 3
   },
   "file_extension": ".py",
   "mimetype": "text/x-python",
   "name": "python",
   "nbconvert_exporter": "python",
   "pygments_lexer": "ipython3",
   "version": "3.8.5"
  }
 },
 "nbformat": 4,
 "nbformat_minor": 4
}
