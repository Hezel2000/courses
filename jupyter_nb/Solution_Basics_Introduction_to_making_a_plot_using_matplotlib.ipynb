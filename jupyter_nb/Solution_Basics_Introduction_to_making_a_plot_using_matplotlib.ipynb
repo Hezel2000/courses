{
 "cells": [
  {
   "cell_type": "markdown",
   "metadata": {},
   "source": [
    "# Solution- Introduction to making a plot using matplotlib"
   ]
  },
  {
   "cell_type": "markdown",
   "metadata": {},
   "source": [
    "## Instant Review & Quiz"
   ]
  },
  {
   "cell_type": "markdown",
   "metadata": {},
   "source": [
    "<b>I1. Briefly explain what a 'dataframe' is.</b>"
   ]
  },
  {
   "cell_type": "markdown",
   "metadata": {},
   "source": [
    "<font color = darkgreen><b>\n",
    "    This is the name in pandas for a table with pandas specific formatting, indices, structure, etc.\n",
    "</b></font>"
   ]
  },
  {
   "cell_type": "markdown",
   "metadata": {},
   "source": [
    "<b>I2. Describe the difference between a line and a scatter plot.</b>"
   ]
  },
  {
   "cell_type": "markdown",
   "metadata": {},
   "source": [
    "<font color = darkgreen><b>\n",
    "    A line plot has categories on the x-axis and a corresponding value on the y-axis. A category could simply be a number, but also chemical elements, e.g., the REE. The values on the y-axis would then be e.g., their concentrations.<br>\n",
    "    A scatter plot has values on the x- and y-axis, e.g., Mg- and Si- values of a rock or mineral on the x- and y-axes. \n",
    "</b></font>"
   ]
  },
  {
   "cell_type": "markdown",
   "metadata": {},
   "source": [
    "<b>Q1. How do you call the plotting library we use?<br></b>\n",
    "import plt<br>\n",
    "import matplotlib.pyplot as plt<br>\n",
    "import matplotlib as plt<br>\n",
    "import pyplot as plt"
   ]
  },
  {
   "cell_type": "markdown",
   "metadata": {},
   "source": [
    "<font color = darkgreen><b>\n",
    "    import matplotlib.pyplot as plt\n",
    "</b></font>"
   ]
  },
  {
   "cell_type": "markdown",
   "metadata": {},
   "source": [
    "<b>Q2. All data we want to plot from a database need to be in a single file.<br></b>\n",
    "True<br>\n",
    "False"
   ]
  },
  {
   "cell_type": "markdown",
   "metadata": {},
   "source": [
    "<font color = darkgreen><b>\n",
    "    False\n",
    "</b></font>"
   ]
  },
  {
   "cell_type": "markdown",
   "metadata": {},
   "source": [
    "## Practise"
   ]
  },
  {
   "cell_type": "markdown",
   "metadata": {},
   "source": [
    "First, import pandas and the plot library"
   ]
  },
  {
   "cell_type": "code",
   "execution_count": 30,
   "metadata": {},
   "outputs": [],
   "source": [
    "import pandas as pd\n",
    "import matplotlib.pyplot as plt"
   ]
  },
  {
   "cell_type": "markdown",
   "metadata": {},
   "source": [
    "Then read the example file 'Random Example Data.csv', and store it a variable.<br>\n",
    "Display the categories and the data table. Use .tolist() to display the categories in a compact form."
   ]
  },
  {
   "cell_type": "code",
   "execution_count": 31,
   "metadata": {},
   "outputs": [
    {
     "name": "stdout",
     "output_type": "stream",
     "text": [
      "['SiO2', 'TiO2', 'FeO', 'MgO', 'CaO', 'Al2O3', 'Cr2O3', 'Na2O', 'MnO', 'Total']\n"
     ]
    },
    {
     "data": {
      "text/html": [
       "<div>\n",
       "<style scoped>\n",
       "    .dataframe tbody tr th:only-of-type {\n",
       "        vertical-align: middle;\n",
       "    }\n",
       "\n",
       "    .dataframe tbody tr th {\n",
       "        vertical-align: top;\n",
       "    }\n",
       "\n",
       "    .dataframe thead th {\n",
       "        text-align: right;\n",
       "    }\n",
       "</style>\n",
       "<table border=\"1\" class=\"dataframe\">\n",
       "  <thead>\n",
       "    <tr style=\"text-align: right;\">\n",
       "      <th></th>\n",
       "      <th>SiO2</th>\n",
       "      <th>TiO2</th>\n",
       "      <th>FeO</th>\n",
       "      <th>MgO</th>\n",
       "      <th>CaO</th>\n",
       "      <th>Al2O3</th>\n",
       "      <th>Cr2O3</th>\n",
       "      <th>Na2O</th>\n",
       "      <th>MnO</th>\n",
       "      <th>Total</th>\n",
       "    </tr>\n",
       "  </thead>\n",
       "  <tbody>\n",
       "    <tr>\n",
       "      <th>0</th>\n",
       "      <td>35.19</td>\n",
       "      <td>0.0150</td>\n",
       "      <td>40.97</td>\n",
       "      <td>25.29</td>\n",
       "      <td>0.0907</td>\n",
       "      <td>0.0509</td>\n",
       "      <td>0.0505</td>\n",
       "      <td>0.0007</td>\n",
       "      <td>0.2662</td>\n",
       "      <td>101.9240</td>\n",
       "    </tr>\n",
       "    <tr>\n",
       "      <th>1</th>\n",
       "      <td>35.08</td>\n",
       "      <td>0.0044</td>\n",
       "      <td>40.43</td>\n",
       "      <td>25.37</td>\n",
       "      <td>0.2055</td>\n",
       "      <td>0.0314</td>\n",
       "      <td>0.0827</td>\n",
       "      <td>0.0704</td>\n",
       "      <td>0.2579</td>\n",
       "      <td>101.5322</td>\n",
       "    </tr>\n",
       "    <tr>\n",
       "      <th>2</th>\n",
       "      <td>49.75</td>\n",
       "      <td>0.0345</td>\n",
       "      <td>13.46</td>\n",
       "      <td>10.67</td>\n",
       "      <td>22.1800</td>\n",
       "      <td>1.4095</td>\n",
       "      <td>0.1287</td>\n",
       "      <td>0.3530</td>\n",
       "      <td>0.1570</td>\n",
       "      <td>98.1427</td>\n",
       "    </tr>\n",
       "    <tr>\n",
       "      <th>3</th>\n",
       "      <td>34.76</td>\n",
       "      <td>0.0161</td>\n",
       "      <td>39.74</td>\n",
       "      <td>26.81</td>\n",
       "      <td>0.2047</td>\n",
       "      <td>0.2735</td>\n",
       "      <td>0.1989</td>\n",
       "      <td>0.0367</td>\n",
       "      <td>0.2356</td>\n",
       "      <td>102.2754</td>\n",
       "    </tr>\n",
       "    <tr>\n",
       "      <th>4</th>\n",
       "      <td>35.83</td>\n",
       "      <td>0.0855</td>\n",
       "      <td>40.61</td>\n",
       "      <td>24.82</td>\n",
       "      <td>0.1599</td>\n",
       "      <td>0.2131</td>\n",
       "      <td>0.0901</td>\n",
       "      <td>0.0419</td>\n",
       "      <td>0.2512</td>\n",
       "      <td>102.1016</td>\n",
       "    </tr>\n",
       "    <tr>\n",
       "      <th>...</th>\n",
       "      <td>...</td>\n",
       "      <td>...</td>\n",
       "      <td>...</td>\n",
       "      <td>...</td>\n",
       "      <td>...</td>\n",
       "      <td>...</td>\n",
       "      <td>...</td>\n",
       "      <td>...</td>\n",
       "      <td>...</td>\n",
       "      <td>...</td>\n",
       "    </tr>\n",
       "    <tr>\n",
       "      <th>57</th>\n",
       "      <td>28.96</td>\n",
       "      <td>0.0902</td>\n",
       "      <td>35.32</td>\n",
       "      <td>20.78</td>\n",
       "      <td>0.9423</td>\n",
       "      <td>1.9800</td>\n",
       "      <td>0.4728</td>\n",
       "      <td>0.1257</td>\n",
       "      <td>0.2124</td>\n",
       "      <td>88.8835</td>\n",
       "    </tr>\n",
       "    <tr>\n",
       "      <th>58</th>\n",
       "      <td>29.20</td>\n",
       "      <td>0.0735</td>\n",
       "      <td>34.48</td>\n",
       "      <td>19.28</td>\n",
       "      <td>2.6800</td>\n",
       "      <td>1.7124</td>\n",
       "      <td>0.2802</td>\n",
       "      <td>0.1212</td>\n",
       "      <td>0.1868</td>\n",
       "      <td>88.0142</td>\n",
       "    </tr>\n",
       "    <tr>\n",
       "      <th>59</th>\n",
       "      <td>28.40</td>\n",
       "      <td>0.0773</td>\n",
       "      <td>35.82</td>\n",
       "      <td>20.75</td>\n",
       "      <td>0.5427</td>\n",
       "      <td>2.0200</td>\n",
       "      <td>0.5183</td>\n",
       "      <td>0.1126</td>\n",
       "      <td>0.1830</td>\n",
       "      <td>88.4240</td>\n",
       "    </tr>\n",
       "    <tr>\n",
       "      <th>60</th>\n",
       "      <td>27.01</td>\n",
       "      <td>0.0810</td>\n",
       "      <td>36.73</td>\n",
       "      <td>19.84</td>\n",
       "      <td>0.4147</td>\n",
       "      <td>2.2000</td>\n",
       "      <td>0.4777</td>\n",
       "      <td>0.1172</td>\n",
       "      <td>0.2060</td>\n",
       "      <td>87.0767</td>\n",
       "    </tr>\n",
       "    <tr>\n",
       "      <th>61</th>\n",
       "      <td>29.86</td>\n",
       "      <td>0.0889</td>\n",
       "      <td>34.22</td>\n",
       "      <td>20.35</td>\n",
       "      <td>1.8600</td>\n",
       "      <td>1.8843</td>\n",
       "      <td>0.4374</td>\n",
       "      <td>0.1280</td>\n",
       "      <td>0.1982</td>\n",
       "      <td>89.0268</td>\n",
       "    </tr>\n",
       "  </tbody>\n",
       "</table>\n",
       "<p>62 rows × 10 columns</p>\n",
       "</div>"
      ],
      "text/plain": [
       "     SiO2    TiO2    FeO    MgO      CaO   Al2O3   Cr2O3    Na2O     MnO  \\\n",
       "0   35.19  0.0150  40.97  25.29   0.0907  0.0509  0.0505  0.0007  0.2662   \n",
       "1   35.08  0.0044  40.43  25.37   0.2055  0.0314  0.0827  0.0704  0.2579   \n",
       "2   49.75  0.0345  13.46  10.67  22.1800  1.4095  0.1287  0.3530  0.1570   \n",
       "3   34.76  0.0161  39.74  26.81   0.2047  0.2735  0.1989  0.0367  0.2356   \n",
       "4   35.83  0.0855  40.61  24.82   0.1599  0.2131  0.0901  0.0419  0.2512   \n",
       "..    ...     ...    ...    ...      ...     ...     ...     ...     ...   \n",
       "57  28.96  0.0902  35.32  20.78   0.9423  1.9800  0.4728  0.1257  0.2124   \n",
       "58  29.20  0.0735  34.48  19.28   2.6800  1.7124  0.2802  0.1212  0.1868   \n",
       "59  28.40  0.0773  35.82  20.75   0.5427  2.0200  0.5183  0.1126  0.1830   \n",
       "60  27.01  0.0810  36.73  19.84   0.4147  2.2000  0.4777  0.1172  0.2060   \n",
       "61  29.86  0.0889  34.22  20.35   1.8600  1.8843  0.4374  0.1280  0.1982   \n",
       "\n",
       "       Total  \n",
       "0   101.9240  \n",
       "1   101.5322  \n",
       "2    98.1427  \n",
       "3   102.2754  \n",
       "4   102.1016  \n",
       "..       ...  \n",
       "57   88.8835  \n",
       "58   88.0142  \n",
       "59   88.4240  \n",
       "60   87.0767  \n",
       "61   89.0268  \n",
       "\n",
       "[62 rows x 10 columns]"
      ]
     },
     "execution_count": 31,
     "metadata": {},
     "output_type": "execute_result"
    }
   ],
   "source": [
    "df = pd.read_csv('data/Random Example Data.csv')\n",
    "\n",
    "print(df.columns.tolist())\n",
    "\n",
    "df"
   ]
  },
  {
   "cell_type": "markdown",
   "metadata": {},
   "source": [
    "Then plot the FeO data on the y-axis and label it with FeO.<br>\n",
    "Make the code flexibel, so that FeO can be quickly replaced by another oxide."
   ]
  },
  {
   "cell_type": "code",
   "execution_count": 32,
   "metadata": {},
   "outputs": [
    {
     "data": {
      "image/png": "[encoded data removed]",
      "text/plain": [
       "<Figure size 432x288 with 1 Axes>"
      ]
     },
     "metadata": {
      "needs_background": "light"
     },
     "output_type": "display_data"
    }
   ],
   "source": [
    "el = 'FeO'\n",
    "\n",
    "plt.plot(df[el])\n",
    "plt.ylabel(el)\n",
    "\n",
    "plt.show()"
   ]
  },
  {
   "cell_type": "markdown",
   "metadata": {},
   "source": [
    "Now, plot two oxides against each other, again flexible, and add a legend."
   ]
  },
  {
   "cell_type": "code",
   "execution_count": 33,
   "metadata": {},
   "outputs": [
    {
     "data": {
      "image/png": "[encoded data removed]",
      "text/plain": [
       "<Figure size 432x288 with 1 Axes>"
      ]
     },
     "metadata": {
      "needs_background": "light"
     },
     "output_type": "display_data"
    }
   ],
   "source": [
    "el1 = 'MnO'\n",
    "el2 = 'FeO'\n",
    "\n",
    "plt.scatter(df[el1], df[el2], label = 'Random Data')\n",
    "plt.xlabel(el1)\n",
    "plt.ylabel(el2)\n",
    "plt.legend(loc = 'lower right')\n",
    "\n",
    "plt.show()"
   ]
  },
  {
   "cell_type": "markdown",
   "metadata": {},
   "source": [
    "Finally, add data from the file 'Mineral Data.xlsx' to the latter plot."
   ]
  },
  {
   "cell_type": "code",
   "execution_count": 34,
   "metadata": {},
   "outputs": [],
   "source": [
    "minData = pd.read_excel('data/Mineral Data.xlsx')"
   ]
  },
  {
   "cell_type": "code",
   "execution_count": 35,
   "metadata": {},
   "outputs": [
    {
     "data": {
      "image/png": "[encoded data removed]",
      "text/plain": [
       "<Figure size 432x288 with 1 Axes>"
      ]
     },
     "metadata": {
      "needs_background": "light"
     },
     "output_type": "display_data"
    }
   ],
   "source": [
    "el1 = 'MnO'\n",
    "el2 = 'FeO'\n",
    "\n",
    "plt.scatter(df[el1], df[el2], label = 'Random Data')\n",
    "plt.scatter(minData[el1], minData[el2], label = 'Mineral Data')\n",
    "plt.xlabel(el1)\n",
    "plt.ylabel(el2)\n",
    "plt.legend(loc = 'upper left')\n",
    "\n",
    "plt.show()"
   ]
  }
 ],
 "metadata": {
  "kernelspec": {
   "display_name": "Python 3",
   "language": "python",
   "name": "python3"
  },
  "language_info": {
   "codemirror_mode": {
    "name": "ipython",
    "version": 3
   },
   "file_extension": ".py",
   "mimetype": "text/x-python",
   "name": "python",
   "nbconvert_exporter": "python",
   "pygments_lexer": "ipython3",
   "version": "3.8.5"
  }
 },
 "nbformat": 4,
 "nbformat_minor": 4
}
