{
 "cells": [
  {
   "cell_type": "markdown",
   "metadata": {},
   "source": [
    "# Solution- Plotting geolocations using geopandas"
   ]
  },
  {
   "cell_type": "markdown",
   "metadata": {},
   "source": [
    "## Instant Review & Quiz"
   ]
  },
  {
   "cell_type": "markdown",
   "metadata": {},
   "source": [
    "<b>I1. What does the command 'GeoDataFrame()' do?</b>"
   ]
  },
  {
   "cell_type": "markdown",
   "metadata": {},
   "source": [
    "<font color = darkgreen><b>\n",
    "    It adds an additional column at the end of a dataframe, which will be named 'geometry'.\n",
    "</b></font>"
   ]
  },
  {
   "cell_type": "markdown",
   "metadata": {},
   "source": [
    "<b>Q1. Data points need to be converted into a GeoDataFrame, before these can be plotted on a map.</b><br>\n",
    "True<br>\n",
    "False"
   ]
  },
  {
   "cell_type": "markdown",
   "metadata": {},
   "source": [
    "<font color = darkgreen><b>\n",
    "    False\n",
    "</b></font>"
   ]
  },
  {
   "cell_type": "markdown",
   "metadata": {},
   "source": [
    "<b>Q2. Data on a map are basically overlaying data points on a coordiante system with a map plot.</b><br>\n",
    "True<br>\n",
    "False"
   ]
  },
  {
   "cell_type": "markdown",
   "metadata": {},
   "source": [
    "<font color = darkgreen><b>\n",
    "    True\n",
    "</b></font>"
   ]
  },
  {
   "cell_type": "markdown",
   "metadata": {},
   "source": [
    "## Practise"
   ]
  },
  {
   "cell_type": "markdown",
   "metadata": {},
   "source": [
    "Plot the locations of two different datasets (e.g., GeoRoc files) on a map."
   ]
  },
  {
   "cell_type": "code",
   "execution_count": 53,
   "metadata": {},
   "outputs": [],
   "source": []
  },
  {
   "cell_type": "markdown",
   "metadata": {},
   "source": [
    "## What's wrong with this code?"
   ]
  },
  {
   "cell_type": "markdown",
   "metadata": {},
   "source": [
    "### <font color = brown><b>Try answering before executing the code!</b></font>"
   ]
  },
  {
   "cell_type": "code",
   "execution_count": null,
   "metadata": {},
   "outputs": [],
   "source": [
    "import pandas as pd\n",
    "import geopandas as gpd\n",
    "\n",
    "world_data = gpd.read_file(gpd.datasets.get_path('naturalearth_lowres'))\n",
    "axis = world_data.plot(color = 'yellow', edgecolor = 'grey', linewidth = .1)\n",
    "\n",
    "df = gpd.read_csv('data/georoc data/Karoo Province - Africa.csv')\n",
    "\n",
    "df_geo = gpd.GeoDataFrame(df, geometry = gpd.points_from_xy(df['Longitude (Min)'],df['Latitude (Min)']))\n",
    "\n",
    "df_geo.plot(color = 'brown', markersize = .1)"
   ]
  },
  {
   "cell_type": "code",
   "execution_count": null,
   "metadata": {},
   "outputs": [],
   "source": [
    "import pandas as pd\n",
    "import geopandas as gpd\n",
    "\n",
    "world_data = gpd.read_file(gpd.datasets.get_path('naturalearth_lowres'))\n",
    "axis = world_data.plot(color = 'yellow', edgecolor = 'grey', linewidth = .1)\n",
    "\n",
    "df = pd.read_csv('data/georoc data/Karoo Province - Africa.csv')\n",
    "\n",
    "df_geo = gpd.GeoDataFrame(df, geometry = gpd.points_from_xy(df['Longitude (Min)'],df['Latitude (Min)']))\n",
    "\n",
    "df_geo.plot(ax = axis, color = 'brown', markersize = .1)"
   ]
  }
 ],
 "metadata": {
  "kernelspec": {
   "display_name": "Python 3",
   "language": "python",
   "name": "python3"
  },
  "language_info": {
   "codemirror_mode": {
    "name": "ipython",
    "version": 3
   },
   "file_extension": ".py",
   "mimetype": "text/x-python",
   "name": "python",
   "nbconvert_exporter": "python",
   "pygments_lexer": "ipython3",
   "version": "3.8.5"
  }
 },
 "nbformat": 4,
 "nbformat_minor": 4
}
