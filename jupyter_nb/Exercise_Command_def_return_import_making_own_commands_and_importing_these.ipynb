{
 "cells": [
  {
   "cell_type": "markdown",
   "metadata": {},
   "source": [
    "# Exercise- def, return, import & making own commands and importing these "
   ]
  },
  {
   "cell_type": "markdown",
   "metadata": {},
   "source": [
    "## Instant Review & Quiz"
   ]
  },
  {
   "cell_type": "markdown",
   "metadata": {},
   "source": [
    "I1. What is the main purpose of 'def'?"
   ]
  },
  {
   "cell_type": "markdown",
   "metadata": {},
   "source": [
    "<font color = darkgreen><b>\n",
    "    Insert your solution here.\n",
    "</b></font>"
   ]
  },
  {
   "cell_type": "markdown",
   "metadata": {},
   "source": [
    "I2. Provide a brief explanation of what a 'library' is."
   ]
  },
  {
   "cell_type": "markdown",
   "metadata": {},
   "source": [
    "<font color = darkgreen><b>\n",
    "    Insert your solution here.\n",
    "</b></font>"
   ]
  },
  {
   "cell_type": "markdown",
   "metadata": {},
   "source": [
    "Q1. The length of code within the def command is limited.<br>\n",
    "True<br>\n",
    "False<br>"
   ]
  },
  {
   "cell_type": "markdown",
   "metadata": {},
   "source": [
    "<font color = darkgreen><b>\n",
    "    Insert your solution here.\n",
    "</b></font>"
   ]
  },
  {
   "cell_type": "markdown",
   "metadata": {},
   "source": [
    "Q2. It is possible to only import individual commandsfrom a library<br>\n",
    "True<br>\n",
    "False"
   ]
  },
  {
   "cell_type": "markdown",
   "metadata": {},
   "source": [
    "<font color = darkgreen><b>\n",
    "    Insert your solution here.\n",
    "</b></font>"
   ]
  },
  {
   "cell_type": "markdown",
   "metadata": {},
   "source": [
    "## Practise"
   ]
  },
  {
   "cell_type": "markdown",
   "metadata": {},
   "source": [
    "We start with a command that multiplies the two given (or any other two) numbers together, and returns the result with two decimals.<br>\n",
    "Name the command 'multiplyTwo'."
   ]
  },
  {
   "cell_type": "code",
   "execution_count": 1,
   "metadata": {},
   "outputs": [],
   "source": [
    "nr1 = 0.87498435\n",
    "nr2 = 1.3987872\n",
    "\n"
   ]
  },
  {
   "cell_type": "markdown",
   "metadata": {},
   "source": [
    "<b>A little challenge:</b><br>\n",
    "We have a list of Cr concentrations and want a command that multiplies each element with a user defined number.<br>\n",
    "The output shall be a list, in which each value has 2 decimals.<br>\n",
    "Name the command 'multiplyEachBy'."
   ]
  },
  {
   "cell_type": "code",
   "execution_count": 2,
   "metadata": {},
   "outputs": [],
   "source": [
    "crData = [1.8273403, 2.7294852, 1.0824893, 2.1934598]\n",
    "\n"
   ]
  },
  {
   "cell_type": "markdown",
   "metadata": {},
   "source": [
    "Another challenge (if the previous was difficult, look up the result, and try this one)<br>\n",
    "You measured oxygen isotope ratios given in the list. The standard V-SMOW ratio is also given. Now code a command named 'delta_values' with which you can calculate the 18/16 and 17/16 delta-values of your measured ratios and depending on wich ratios are input.<br>\n",
    "In case you forgot, the formula is: delta = ((sample_ratio / standard_ratio) - 1) * 1000"
   ]
  },
  {
   "cell_type": "code",
   "execution_count": 3,
   "metadata": {},
   "outputs": [],
   "source": [
    "smpRatios18_16 = [0.002010, 0.0020041, 0.0019910, 0.0019983, 0.0020079, 0.0020051]\n",
    "smpRatios17_16 = [0.00038036, 0.0003798, 0.0003786, 0.00037924, 0.00038016, 0.00037989]\n",
    "vSMOWRatio18_16 = 0.0020052\n",
    "vSMOWRatio17_16 = 0.0003799\n",
    "\n"
   ]
  },
  {
   "cell_type": "markdown",
   "metadata": {},
   "source": [
    "Finally store this formule in your mineralogyModule by simply open your module as a Jupyter Notebook and copy and paste this command into it.<br>\n",
    "First, import your module and use the formula.<br>\n",
    "To check whether it really works, choos in the Menu 'Kernel', and there 'Restart & Clear Output'"
   ]
  },
  {
   "cell_type": "code",
   "execution_count": null,
   "metadata": {},
   "outputs": [],
   "source": []
  },
  {
   "cell_type": "code",
   "execution_count": 4,
   "metadata": {},
   "outputs": [],
   "source": [
    "smpRatios18_16 = [0.002010, 0.0020041, 0.0019910, 0.0019983, 0.0020079, 0.0020051]\n",
    "smpRatios17_16 = [0.00038036, 0.0003798, 0.0003786, 0.00037924, 0.00038016, 0.00037989]\n",
    "vSMOWRatio18_16 = 0.0020052\n",
    "vSMOWRatio17_16 = 0.0003799\n",
    "\n"
   ]
  }
 ],
 "metadata": {
  "kernelspec": {
   "display_name": "Python 3",
   "language": "python",
   "name": "python3"
  },
  "language_info": {
   "codemirror_mode": {
    "name": "ipython",
    "version": 3
   },
   "file_extension": ".py",
   "mimetype": "text/x-python",
   "name": "python",
   "nbconvert_exporter": "python",
   "pygments_lexer": "ipython3",
   "version": "3.8.5"
  }
 },
 "nbformat": 4,
 "nbformat_minor": 4
}
