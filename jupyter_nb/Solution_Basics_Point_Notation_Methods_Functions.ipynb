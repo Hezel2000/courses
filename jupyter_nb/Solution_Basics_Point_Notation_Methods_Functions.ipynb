{
 "cells": [
  {
   "cell_type": "markdown",
   "metadata": {},
   "source": [
    "# Solution- Point Notation, Methods & Functions"
   ]
  },
  {
   "cell_type": "markdown",
   "metadata": {},
   "source": [
    "## Instant Review & Quiz"
   ]
  },
  {
   "cell_type": "markdown",
   "metadata": {},
   "source": [
    "I1. Which two fundamental programming paradigm exist?"
   ]
  },
  {
   "cell_type": "markdown",
   "metadata": {},
   "source": [
    "<font color = darkgreen><b>\n",
    "    Functional Programming and Object Oriented Programming\n",
    "</b></font>"
   ]
  },
  {
   "cell_type": "markdown",
   "metadata": {},
   "source": [
    "Q1. Assumme the command: si.append(14.83) – what is the part append(14.83) called?<br>\n",
    "variable<br>\n",
    "function<br>\n",
    "method<br>\n",
    "attribute"
   ]
  },
  {
   "cell_type": "markdown",
   "metadata": {},
   "source": [
    "<font color = darkgreen><b>\n",
    "    method\n",
    "</b></font>"
   ]
  },
  {
   "cell_type": "markdown",
   "metadata": {},
   "source": [
    "Q2. Assumme the command: len([12.31, 24.21, 17.55]) – what is this command called?<br>\n",
    "variable<br>\n",
    "function<br>\n",
    "method<br>\n",
    "attribute"
   ]
  },
  {
   "cell_type": "markdown",
   "metadata": {},
   "source": [
    "<font color = darkgreen><b>\n",
    "    function\n",
    "</b></font>"
   ]
  },
  {
   "cell_type": "markdown",
   "metadata": {},
   "source": [
    "## Practise"
   ]
  },
  {
   "cell_type": "markdown",
   "metadata": {},
   "source": [
    "We have the following list of Cr concentrations:"
   ]
  },
  {
   "cell_type": "code",
   "execution_count": 53,
   "metadata": {},
   "outputs": [],
   "source": [
    "crData = [[0.87498435, 1.3987872, 0.9900238, 2.01092781],[0.87498435, 1.3987872, 0.9900238, 2.01092781]]"
   ]
  },
  {
   "cell_type": "markdown",
   "metadata": {},
   "source": [
    "First, we have new measurements and want to append these as a third element to alData, and then display the content of alData."
   ]
  },
  {
   "cell_type": "code",
   "execution_count": 54,
   "metadata": {},
   "outputs": [
    {
     "data": {
      "text/plain": [
       "[[0.87498435, 1.3987872, 0.9900238, 2.01092781],\n",
       " [0.87498435, 1.3987872, 0.9900238, 2.01092781],\n",
       " [1.8273403, 2.7294852, 1.0824893, 2.1934598]]"
      ]
     },
     "execution_count": 54,
     "metadata": {},
     "output_type": "execute_result"
    }
   ],
   "source": [
    "newCrData = [1.8273403, 2.7294852, 1.0824893, 2.1934598]\n",
    "\n",
    "crData.append(newCrData)\n",
    "\n",
    "crData"
   ]
  },
  {
   "cell_type": "markdown",
   "metadata": {},
   "source": [
    "We then want to know the length of alData, and a single element within alData."
   ]
  },
  {
   "cell_type": "code",
   "execution_count": 32,
   "metadata": {},
   "outputs": [
    {
     "name": "stdout",
     "output_type": "stream",
     "text": [
      "3\n",
      "4\n"
     ]
    }
   ],
   "source": [
    "# number of elements in alData\n",
    "print(len(crData))\n",
    "\n",
    "# number of elements in a single element of alData\n",
    "print(len(crData[0]))"
   ]
  },
  {
   "cell_type": "markdown",
   "metadata": {},
   "source": [
    "We then want to know the length of alData, and a single element within alData. Display the result with 2 decimal digits."
   ]
  },
  {
   "cell_type": "code",
   "execution_count": 77,
   "metadata": {},
   "outputs": [
    {
     "name": "stdout",
     "output_type": "stream",
     "text": [
      "5.27\n"
     ]
    },
    {
     "data": {
      "text/plain": [
       "5.27"
      ]
     },
     "execution_count": 77,
     "metadata": {},
     "output_type": "execute_result"
    }
   ],
   "source": [
    "res = sum(crData[1])\n",
    "print(round(res, 2))\n",
    "\n",
    "# OR, in one line\n",
    "round(sum(crData[1]), 2)"
   ]
  },
  {
   "cell_type": "markdown",
   "metadata": {},
   "source": [
    "Produce a list with 5 values and store it in the variable 'test'.<br>\n",
    "Choose (or change) the values so that the command 'test.count(5)' displays the result 3.<br>\n",
    "Then, clear the list, and display the empty list."
   ]
  },
  {
   "cell_type": "code",
   "execution_count": 71,
   "metadata": {},
   "outputs": [
    {
     "name": "stdout",
     "output_type": "stream",
     "text": [
      "3\n",
      "[]\n"
     ]
    }
   ],
   "source": [
    "test = [5, 4, 5, 8, 5]\n",
    "\n",
    "print(test.count(5))\n",
    "\n",
    "test.clear()\n",
    "\n",
    "print(test)"
   ]
  },
  {
   "cell_type": "markdown",
   "metadata": {},
   "source": [
    "Finally, sort the elements (=values) in the last element of crData – and display the enire crData list, in which the last element is then sorted.<br>\n",
    "Try to do this using (i) a function and using (ii) a method. Which one do you prefer, and why?"
   ]
  },
  {
   "cell_type": "code",
   "execution_count": 61,
   "metadata": {},
   "outputs": [
    {
     "name": "stdout",
     "output_type": "stream",
     "text": [
      "[1.0824893, 1.8273403, 2.1934598, 2.7294852]\n"
     ]
    },
    {
     "data": {
      "text/plain": [
       "[[0.87498435, 1.3987872, 0.9900238, 2.01092781],\n",
       " [0.87498435, 1.3987872, 0.9900238, 2.01092781],\n",
       " [1.0824893, 1.8273403, 2.1934598, 2.7294852]]"
      ]
     },
     "execution_count": 61,
     "metadata": {},
     "output_type": "execute_result"
    }
   ],
   "source": [
    "# using a function it is possible to sort the last element,\n",
    "#but it would then require a number of additional steps\n",
    "#to replace the current last element with the newly sorted\n",
    "#last element. I will not follow this up, as this is simpler\n",
    "#done using a method.\n",
    "print(sorted(crData[2]))\n",
    "\n",
    "# using a method\n",
    "crData[2].sort()\n",
    "crData"
   ]
  }
 ],
 "metadata": {
  "kernelspec": {
   "display_name": "Python 3",
   "language": "python",
   "name": "python3"
  },
  "language_info": {
   "codemirror_mode": {
    "name": "ipython",
    "version": 3
   },
   "file_extension": ".py",
   "mimetype": "text/x-python",
   "name": "python",
   "nbconvert_exporter": "python",
   "pygments_lexer": "ipython3",
   "version": "3.8.5"
  }
 },
 "nbformat": 4,
 "nbformat_minor": 4
}
