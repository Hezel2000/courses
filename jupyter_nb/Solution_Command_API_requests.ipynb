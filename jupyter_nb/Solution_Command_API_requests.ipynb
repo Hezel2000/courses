{
 "cells": [
  {
   "cell_type": "markdown",
   "metadata": {},
   "source": [
    "# Solution- API requests"
   ]
  },
  {
   "cell_type": "markdown",
   "metadata": {},
   "source": [
    "## Instant Review & Quiz"
   ]
  },
  {
   "cell_type": "markdown",
   "metadata": {},
   "source": [
    "<b>I1. What is an API?</b>"
   ]
  },
  {
   "cell_type": "markdown",
   "metadata": {},
   "source": [
    "<font color = darkgreen><b>\n",
    "    It is a web-address to connect to a database server to e.g., request data for download. API means application interface.\n",
    "</b></font>"
   ]
  },
  {
   "cell_type": "markdown",
   "metadata": {},
   "source": [
    "<b>I2. Write down the general strucutre of an API.</b>"
   ]
  },
  {
   "cell_type": "markdown",
   "metadata": {},
   "source": [
    "<font color = darkgreen><b>\n",
    "    https://api.mineralogydata.org/version1/minerals?q=tourmaline&appid=mystrongpassword123\n",
    "</b></font>"
   ]
  },
  {
   "cell_type": "markdown",
   "metadata": {},
   "source": [
    "<b>Q1. Database results are best converted into a ______</b><br>\n",
    "excel file<br>\n",
    "list<br>\n",
    "dictionary<br>"
   ]
  },
  {
   "cell_type": "markdown",
   "metadata": {},
   "source": [
    "<font color = darkgreen><b>\n",
    "    dictionary\n",
    "</b></font>"
   ]
  },
  {
   "cell_type": "markdown",
   "metadata": {},
   "source": [
    "<b>Q2. An API is basically a web address.</b><br>\n",
    "True<br>\n",
    "False"
   ]
  },
  {
   "cell_type": "markdown",
   "metadata": {},
   "source": [
    "<font color = darkgreen><b>\n",
    "    True\n",
    "</b></font>"
   ]
  },
  {
   "cell_type": "markdown",
   "metadata": {},
   "source": [
    "## Practise"
   ]
  },
  {
   "cell_type": "markdown",
   "metadata": {},
   "source": [
    "Find a free/open API, e.g., on: https://www.geosamples.org. If you chose this, use SampleType, and from the list choose the last 'sample'.<br>\n",
    "Import the required commands."
   ]
  },
  {
   "cell_type": "code",
   "execution_count": 10,
   "metadata": {},
   "outputs": [],
   "source": [
    "import requests, json"
   ]
  },
  {
   "cell_type": "markdown",
   "metadata": {},
   "source": [
    "Make the API flexible, i.e., with the above example make the sample name flexible."
   ]
  },
  {
   "cell_type": "code",
   "execution_count": null,
   "metadata": {},
   "outputs": [],
   "source": [
    "sampleType = 'basalt'\n",
    "\n",
    "url = 'https://api.geosamples.org/v1/samples?name=' + sampleType"
   ]
  },
  {
   "cell_type": "markdown",
   "metadata": {},
   "source": [
    "Use the api url to make a request. Check whether you get a correct response."
   ]
  },
  {
   "cell_type": "code",
   "execution_count": 12,
   "metadata": {},
   "outputs": [
    {
     "name": "stdout",
     "output_type": "stream",
     "text": [
      "[{\"sampleId\":3621565,\"collectionMethod\":\"Manipulator\",\"collectionMethodDescr\":\"depth=-2195 m\",\"collectionStartDate\":\"2009-06-16\",\"collector\":\"Germanovich_Leonid; Holden_James; Kelley_Deborah\",\"cruiseFieldPrgrm\":\"AT15-47\",\"currentArchive\":\"Not Provided\",\"externalSampleId\":\"329732\",\"igsn\":\"MGD0009H8\",\"latitude\":47.950318,\"launchId\":\"4517\",\"launchPlatformName\":\"Alvin\",\"longitude\":-129.097384,\"name\":\"4517-basalt\",\"platformName\":\"Alvin\",\"platformType\":\"Ship\",\"primaryLocationName\":\"JdF:Endeavour:MEF:Hulk\",\"primaryLocationType\":\"Vent\",\"publishDate\":\"2012-02-29\",\"registrationDate\":\"2012-02-29\",\"material\":\"Rock\",\"launchTypeName\":\"HOV\",\"navigationType\":\"DVL/LBL\",\"sampleType\":\"Individual Sample\",\"sesarUserCode\":\"MGD\",\"status\":\"Public\"},{\"sampleId\":3627942,\"city\":\"Not Applicable\",\"collectionDatePrecision\":\"day\",\"collectionMethod\":\"Manipulator\",\"collectionMethodDescr\":\"Collection\",\"collectionStartDate\":\"2007-11-17\",\"collector\":\"Lauren Mullineaux/Monika Bright\",\"county\":\"Not Applicable\",\"cruiseFieldPrgrm\":\"AT15-26\",\"description\":\"Basalt, bare\",\"externalSampleId\":\"4366-Basalt-2\",\"geologicalAge\":\"Not Applicable\",\"geologicalUnit\":\"Not Applicable\",\"igsn\":\"MGD000BRP\",\"latitude\":9.837856,\"launchId\":\"4366\",\"launchPlatformName\":\"Alvin\",\"longitude\":-104.291239,\"name\":\"4366-Basalt-2\",\"platformName\":\"Alvin\",\"platformType\":\"Ship\",\"primaryLocationName\":\"EPR:9N:P\",\"primaryLocationType\":\"Vent\",\"province\":\"Not Applicable\",\"publishDate\":\"2012-03-29\",\"registrationDate\":\"2012-03-29\",\"sampleComment\":\"Marker # = L-O; Position on vent = Bare basalt; Vehicle heading (deg) = 73; Temp. max (degC) = 10.3;\",\"material\":\"Rock\",\"country\":\"Not Applicable\",\"launchTypeName\":\"HOV\",\"navigationType\":\"DVL/LBL\",\"sampleType\":\"Individual Sample\",\"sesarUserCode\":\"MGD\",\"status\":\"Public\"},{\"sampleId\":3627941,\"city\":\"Not Applicable\",\"collectionDatePrecision\":\"day\",\"collectionMethod\":\"Manipulator\",\"collectionMethodDescr\":\"Collection\",\"collectionStartDate\":\"2007-11-17\",\"collector\":\"Lauren Mullineaux/Monika Bright\",\"county\":\"Not Applicable\",\"cruiseFieldPrgrm\":\"AT15-26\",\"description\":\"Basalt w/ Tevnia, limpets\",\"externalSampleId\":\"4366-Basalt-1\",\"geologicalAge\":\"Not Applicable\",\"geologicalUnit\":\"Not Applicable\",\"igsn\":\"MGD000BRO\",\"latitude\":9.837901,\"launchId\":\"4366\",\"launchPlatformName\":\"Alvin\",\"longitude\":-104.291202,\"name\":\"4366-Basalt-1\",\"platformName\":\"Alvin\",\"platformType\":\"Ship\",\"primaryLocationName\":\"EPR:9N:P\",\"primaryLocationType\":\"Vent\",\"province\":\"Not Applicable\",\"publishDate\":\"2012-03-29\",\"registrationDate\":\"2012-03-29\",\"sampleComment\":\"Marker # = L-O; Position on vent = tubeworm; Vehicle heading (deg) = 78; Temp. max (degC) = 10;\",\"material\":\"Rock\",\"country\":\"Not Applicable\",\"launchTypeName\":\"HOV\",\"navigationType\":\"DVL/LBL\",\"sampleType\":\"Individual Sample\",\"sesarUserCode\":\"MGD\",\"status\":\"Public\"},{\"sampleId\":3628012,\"city\":\"Not Applicable\",\"collectionDatePrecision\":\"day\",\"collectionMethod\":\"Manipulator\",\"collectionMethodDescr\":\"Collection\",\"collectionStartDate\":\"2007-11-22\",\"collector\":\"Lauren Mullineaux/Monika Bright\",\"county\":\"Not Applicable\",\"cruiseFieldPrgrm\":\"AT15-26\",\"description\":\"Basalt\",\"externalSampleId\":\"4369-Basalt-6\",\"igsn\":\"MGD000BTN\",\"latitude\":9.840089,\"launchId\":\"4369\",\"launchPlatformName\":\"Alvin\",\"longitude\":-104.291584,\"name\":\"4369-Basalt-6\",\"platformName\":\"Alvin\",\"platformType\":\"Ship\",\"primaryLocationName\":\"EPR:9N:Tica\",\"primaryLocationType\":\"Vent\",\"province\":\"Not Applicable\",\"publishDate\":\"2012-03-29\",\"registrationDate\":\"2012-03-29\",\"sampleComment\":\"Marker # = L-R; Position on vent = 4-10C; Vehicle heading (deg) = 44; Temp. max (degC) = 4.46;\",\"material\":\"Rock\",\"country\":\"Not Applicable\",\"launchTypeName\":\"HOV\",\"navigationType\":\"DVL/LBL\",\"sampleType\":\"Individual Sample\",\"sesarUserCode\":\"MGD\",\"status\":\"Public\"},{\"sampleId\":3628010,\"city\":\"Not Applicable\",\"collectionDatePrecision\":\"day\",\"collectionMethod\":\"Manipulator\",\"collectionMethodDescr\":\"Collection\",\"collectionStartDate\":\"2007-11-22\",\"collector\":\"Lauren Mullineaux/Monika Bright\",\"county\":\"Not Applicable\",\"cruiseFieldPrgrm\":\"AT15-26\",\"description\":\"Basalt\",\"externalSampleId\":\"4369-Basalt-4\",\"igsn\":\"MGD000BTL\",\"latitude\":9.840089,\"launchId\":\"4369\",\"launchPlatformName\":\"Alvin\",\"longitude\":-104.291584,\"name\":\"4369-Basalt-4\",\"platformName\":\"Alvin\",\"platformType\":\"Ship\",\"primaryLocationName\":\"EPR:9N:Tica\",\"primaryLocationType\":\"Vent\",\"province\":\"Not Applicable\",\"publishDate\":\"2012-03-29\",\"registrationDate\":\"2012-03-29\",\"sampleComment\":\"Marker # = L-R; Position on vent = 4-10C; Vehicle heading (deg) = 44; Temp. max (degC) = 2.47 - 2.54;\",\"material\":\"Rock\",\"country\":\"Not Applicable\",\"launchTypeName\":\"HOV\",\"navigationType\":\"DVL/LBL\",\"sampleType\":\"Individual Sample\",\"sesarUserCode\":\"MGD\",\"status\":\"Public\"},{\"sampleId\":3628011,\"city\":\"Not Applicable\",\"collectionDatePrecision\":\"day\",\"collectionMethod\":\"Manipulator\",\"collectionMethodDescr\":\"Collection\",\"collectionStartDate\":\"2007-11-22\",\"collector\":\"Lauren Mullineaux/Monika Bright\",\"county\":\"Not Applicable\",\"cruiseFieldPrgrm\":\"AT15-26\",\"description\":\"Basalt\",\"externalSampleId\":\"4369-Basalt-5\",\"igsn\":\"MGD000BTM\",\"latitude\":9.840089,\"launchId\":\"4369\",\"launchPlatformName\":\"Alvin\",\"longitude\":-104.291584,\"name\":\"4369-Basalt-5\",\"platformName\":\"Alvin\",\"platformType\":\"Ship\",\"primaryLocationName\":\"EPR:9N:Tica\",\"primaryLocationType\":\"Vent\",\"province\":\"Not Applicable\",\"publishDate\":\"2012-03-29\",\"registrationDate\":\"2012-03-29\",\"sampleComment\":\"Marker # = L-R; Position on vent = 4-10C; Vehicle heading (deg) = 44; Temp. max (degC) = 2.46 - 2.61;\",\"material\":\"Rock\",\"country\":\"Not Applicable\",\"launchTypeName\":\"HOV\",\"navigationType\":\"DVL/LBL\",\"sampleType\":\"Individual Sample\",\"sesarUserCode\":\"MGD\",\"status\":\"Public\"},{\"sampleId\":3628009,\"city\":\"Not Applicable\",\"collectionDatePrecision\":\"day\",\"collectionMethod\":\"Manipulator\",\"collectionMethodDescr\":\"Collection\",\"collectionStartDate\":\"2007-11-22\",\"collector\":\"Lauren Mullineaux/Monika Bright\",\"county\":\"Not Applicable\",\"cruiseFieldPrgrm\":\"AT15-26\",\"description\":\"Basalt\",\"externalSampleId\":\"4369-Basalt-3\",\"igsn\":\"MGD000BTK\",\"latitude\":9.840134,\"launchId\":\"4369\",\"launchPlatformName\":\"Alvin\",\"longitude\":-104.291621,\"name\":\"4369-Basalt-3\",\"platformName\":\"Alvin\",\"platformType\":\"Ship\",\"primaryLocationName\":\"EPR:9N:Tica\",\"primaryLocationType\":\"Vent\",\"province\":\"Not Applicable\",\"publishDate\":\"2012-03-29\",\"registrationDate\":\"2012-03-29\",\"sampleComment\":\"Marker # = L-R; Position on vent = 2-4C; Vehicle heading (deg) = 48; Temp. max (degC) = 5.08 -  >6   ;\",\"material\":\"Rock\",\"country\":\"Not Applicable\",\"launchTypeName\":\"HOV\",\"navigationType\":\"DVL/LBL\",\"sampleType\":\"Individual Sample\",\"sesarUserCode\":\"MGD\",\"status\":\"Public\"},{\"sampleId\":3628008,\"city\":\"Not Applicable\",\"collectionDatePrecision\":\"day\",\"collectionMethod\":\"Manipulator\",\"collectionMethodDescr\":\"Collection\",\"collectionStartDate\":\"2007-11-22\",\"collector\":\"Lauren Mullineaux/Monika Bright\",\"county\":\"Not Applicable\",\"cruiseFieldPrgrm\":\"AT15-26\",\"description\":\"Basalt\",\"externalSampleId\":\"4369-Basalt-2\",\"igsn\":\"MGD000BTJ\",\"latitude\":9.840134,\"launchId\":\"4369\",\"launchPlatformName\":\"Alvin\",\"longitude\":-104.291621,\"name\":\"4369-Basalt-2\",\"platformName\":\"Alvin\",\"platformType\":\"Ship\",\"primaryLocationName\":\"EPR:9N:Tica\",\"primaryLocationType\":\"Vent\",\"province\":\"Not Applicable\",\"publishDate\":\"2012-03-29\",\"registrationDate\":\"2012-03-29\",\"sampleComment\":\"Marker # = L-R; Position on vent = 2-4C; Vehicle heading (deg) = 48; Temp. max (degC) = 5.39 - 8.32;\",\"material\":\"Rock\",\"country\":\"Not Applicable\",\"launchTypeName\":\"HOV\",\"navigationType\":\"DVL/LBL\",\"sampleType\":\"Individual Sample\",\"sesarUserCode\":\"MGD\",\"status\":\"Public\"},{\"sampleId\":3628007,\"city\":\"Not Applicable\",\"collectionDatePrecision\":\"day\",\"collectionMethod\":\"Manipulator\",\"collectionMethodDescr\":\"Collection\",\"collectionStartDate\":\"2007-11-22\",\"collector\":\"Lauren Mullineaux/Monika Bright\",\"county\":\"Not Applicable\",\"cruiseFieldPrgrm\":\"AT15-26\",\"description\":\"Basalt\",\"externalSampleId\":\"4369-Basalt-1\",\"igsn\":\"MGD000BTI\",\"latitude\":9.840134,\"launchId\":\"4369\",\"launchPlatformName\":\"Alvin\",\"longitude\":-104.291621,\"name\":\"4369-Basalt-1\",\"platformName\":\"Alvin\",\"platformType\":\"Ship\",\"primaryLocationName\":\"EPR:9N:Tica\",\"primaryLocationType\":\"Vent\",\"province\":\"Not Applicable\",\"publishDate\":\"2012-03-29\",\"registrationDate\":\"2012-03-29\",\"sampleComment\":\"Marker # = L-R; Position on vent = 2-4C; Vehicle heading (deg) = 48; Temp. max (degC) = 5.08 - 7.96;\",\"material\":\"Rock\",\"country\":\"Not Applicable\",\"launchTypeName\":\"HOV\",\"navigationType\":\"DVL/LBL\",\"sampleType\":\"Individual Sample\",\"sesarUserCode\":\"MGD\",\"status\":\"Public\"},{\"sampleId\":3628053,\"city\":\"Not Applicable\",\"collectionDatePrecision\":\"day\",\"collectionMethod\":\"Sampler:Biology:ColonizationSubstrate\",\"collectionMethodDescr\":\"Collection\",\"collectionStartDate\":\"2007-11-26\",\"collector\":\"Lauren Mullineaux/Monika Bright\",\"county\":\"Not Applicable\",\"cruiseFieldPrgrm\":\"AT15-26\",\"description\":\"Basalt\",\"externalSampleId\":\"4371-Basalt-1\",\"geologicalAge\":\"Not Applicable\",\"geologicalUnit\":\"Not Applicable\",\"igsn\":\"MGD000BUS\",\"latitude\":9.840063,\"launchId\":\"4371\",\"launchPlatformName\":\"Alvin\",\"longitude\":-104.291655,\"name\":\"4371-Basalt-1\",\"platformName\":\"Alvin\",\"platformType\":\"Ship\",\"primaryLocationName\":\"EPR:9N:Tica\",\"primaryLocationType\":\"Vent\",\"province\":\"Not Applicable\",\"publishDate\":\"2012-03-29\",\"registrationDate\":\"2012-03-29\",\"sampleComment\":\"Marker # = L-R; Position on vent = tubeworm; Vehicle heading (deg) = 57; Temp. max (degC) = 13.2;\",\"material\":\"Biology\",\"country\":\"Not Applicable\",\"launchTypeName\":\"HOV\",\"navigationType\":\"DVL/LBL\",\"sampleType\":\"Individual Sample\",\"sesarUserCode\":\"MGD\",\"status\":\"Public\"},{\"sampleId\":3628055,\"city\":\"Not Applicable\",\"collectionDatePrecision\":\"day\",\"collectionMethod\":\"Manipulator\",\"collectionMethodDescr\":\"Collection\",\"collectionStartDate\":\"2007-11-26\",\"collector\":\"Lauren Mullineaux/Monika Bright\",\"county\":\"Not Applicable\",\"cruiseFieldPrgrm\":\"AT15-26\",\"description\":\"Basalt\",\"externalSampleId\":\"4371-Basalt-3\",\"igsn\":\"MGD000BUU\",\"latitude\":9.838389,\"launchId\":\"4371\",\"launchPlatformName\":\"Alvin\",\"longitude\":-104.291412,\"name\":\"4371-Basalt-3\",\"platformName\":\"Alvin\",\"platformType\":\"Ship\",\"primaryLocationName\":\"EPR:9N:Bio9\",\"primaryLocationType\":\"Vent\",\"province\":\"Not Applicable\",\"publishDate\":\"2012-03-29\",\"registrationDate\":\"2012-03-29\",\"sampleComment\":\"Marker # = 2; Position on vent = Periphery; Vehicle heading (deg) = 25; Temp. max (degC) = not taken;\",\"material\":\"Rock\",\"country\":\"Not Applicable\",\"launchTypeName\":\"HOV\",\"navigationType\":\"DVL/LBL\",\"sampleType\":\"Individual Sample\",\"sesarUserCode\":\"MGD\",\"status\":\"Public\"},{\"sampleId\":3628082,\"city\":\"Not Applicable\",\"collectionDatePrecision\":\"day\",\"collectionMethod\":\"Manipulator\",\"collectionMethodDescr\":\"Collection\",\"collectionStartDate\":\"2007-11-27\",\"collector\":\"Lauren Mullineaux/Monika Bright\",\"county\":\"Not Applicable\",\"cruiseFieldPrgrm\":\"AT15-26\",\"description\":\"Basalt\",\"externalSampleId\":\"4372-Basalt-2\",\"igsn\":\"MGD000BVL\",\"latitude\":9.828599,\"launchId\":\"4372\",\"launchPlatformName\":\"Alvin\",\"longitude\":-104.28987,\"name\":\"4372-Basalt-2\",\"platformName\":\"Alvin\",\"platformType\":\"Ship\",\"primaryLocationName\":\"EPR:9N:Sketchy\",\"primaryLocationType\":\"Vent\",\"province\":\"Not Applicable\",\"publishDate\":\"2012-03-29\",\"registrationDate\":\"2012-03-29\",\"sampleComment\":\"Marker # = 35; Position on vent = Tevnia; Vehicle heading (deg) = 19; Temp. max (degC) = 13-22;\",\"material\":\"Rock\",\"country\":\"Not Applicable\",\"launchTypeName\":\"HOV\",\"navigationType\":\"DVL/LBL\",\"sampleType\":\"Individual Sample\",\"sesarUserCode\":\"MGD\",\"status\":\"Public\"},{\"sampleId\":3628081,\"city\":\"Not Applicable\",\"collectionDatePrecision\":\"day\",\"collectionMethod\":\"Manipulator\",\"collectionMethodDescr\":\"Collection\",\"collectionStartDate\":\"2007-11-27\",\"collector\":\"Lauren Mullineaux/Monika Bright\",\"county\":\"Not Applicable\",\"cruiseFieldPrgrm\":\"AT15-26\",\"description\":\"Basalt\",\"externalSampleId\":\"4372-Basalt-1\",\"igsn\":\"MGD000BVK\",\"latitude\":9.834266,\"launchId\":\"4372\",\"launchPlatformName\":\"Alvin\",\"longitude\":-104.290747,\"name\":\"4372-Basalt-1\",\"platformName\":\"Alvin\",\"platformType\":\"Ship\",\"primaryLocationName\":\"EPR:9N:Sketchy\",\"primaryLocationType\":\"Vent\",\"province\":\"Not Applicable\",\"publishDate\":\"2012-03-29\",\"registrationDate\":\"2012-03-29\",\"sampleComment\":\"Marker # = L-S; Position on vent = 2-4C; Vehicle heading (deg) = 148; Temp. max (degC) = 2;\",\"material\":\"Rock\",\"country\":\"Not Applicable\",\"launchTypeName\":\"HOV\",\"navigationType\":\"DVL/LBL\",\"sampleType\":\"Individual Sample\",\"sesarUserCode\":\"MGD\",\"status\":\"Public\"},{\"sampleId\":3628102,\"city\":\"Not Applicable\",\"collectionDatePrecision\":\"day\",\"collectionMethod\":\"Manipulator\",\"collectionMethodDescr\":\"Collection\",\"collectionStartDate\":\"2007-11-30\",\"collector\":\"Lauren Mullineaux/Monika Bright\",\"county\":\"Not Applicable\",\"cruiseFieldPrgrm\":\"AT15-26\",\"description\":\"Basalt\",\"externalSampleId\":\"4373-Basalt-4\",\"igsn\":\"MGD000BW5\",\"latitude\":9.849365,\"launchId\":\"4373\",\"launchPlatformName\":\"Alvin\",\"longitude\":-104.293304,\"name\":\"4373-Basalt-4\",\"platformName\":\"Alvin\",\"platformType\":\"Ship\",\"primaryLocationName\":\"EPR:9N:Perseverance\",\"primaryLocationType\":\"Vent\",\"province\":\"Not Applicable\",\"publishDate\":\"2012-03-29\",\"registrationDate\":\"2012-03-29\",\"sampleComment\":\"Marker # = n/a; Position on vent = n/a; Vehicle heading (deg) = 230; Temp. max (degC) = not taken;\",\"material\":\"Rock\",\"country\":\"Not Applicable\",\"launchTypeName\":\"HOV\",\"navigationType\":\"DVL/LBL\",\"sampleType\":\"Individual Sample\",\"sesarUserCode\":\"MGD\",\"status\":\"Public\"},{\"sampleId\":3628101,\"city\":\"Not Applicable\",\"collectionDatePrecision\":\"day\",\"collectionMethod\":\"Manipulator\",\"collectionMethodDescr\":\"Collection\",\"collectionStartDate\":\"2007-11-30\",\"collector\":\"Lauren Mullineaux/Monika Bright\",\"county\":\"Not Applicable\",\"cruiseFieldPrgrm\":\"AT15-26\",\"description\":\"Basalt\",\"externalSampleId\":\"4373-Basalt-3\",\"igsn\":\"MGD000BW4\",\"latitude\":9.849387,\"launchId\":\"4373\",\"launchPlatformName\":\"Alvin\",\"longitude\":-104.293513,\"name\":\"4373-Basalt-3\",\"platformName\":\"Alvin\",\"platformType\":\"Ship\",\"primaryLocationName\":\"EPR:9N:Biovent\",\"primaryLocationType\":\"Vent\",\"province\":\"Not Applicable\",\"publishDate\":\"2012-03-29\",\"registrationDate\":\"2012-03-29\",\"sampleComment\":\"Marker # = n/a; Position on vent = n/a; Vehicle heading (deg) = 259; Temp. max (degC) = not taken;\",\"material\":\"Rock\",\"country\":\"Not Applicable\",\"launchTypeName\":\"HOV\",\"navigationType\":\"DVL/LBL\",\"sampleType\":\"Individual Sample\",\"sesarUserCode\":\"MGD\",\"status\":\"Public\"},{\"sampleId\":3628100,\"city\":\"Not Applicable\",\"collectionDatePrecision\":\"day\",\"collectionMethod\":\"Manipulator\",\"collectionMethodDescr\":\"Collection\",\"collectionStartDate\":\"2007-11-30\",\"collector\":\"Lauren Mullineaux/Monika Bright\",\"county\":\"Not Applicable\",\"cruiseFieldPrgrm\":\"AT15-26\",\"description\":\"Basalt\",\"externalSampleId\":\"4373-Basalt-2\",\"igsn\":\"MGD000BW3\",\"latitude\":9.84224,\"launchId\":\"4373\",\"launchPlatformName\":\"Alvin\",\"longitude\":-104.291788,\"name\":\"4373-Basalt-2\",\"platformName\":\"Alvin\",\"platformType\":\"Ship\",\"primaryLocationName\":\"EPR:9N:EastWall\",\"primaryLocationType\":\"Vent\",\"province\":\"Not Applicable\",\"publishDate\":\"2012-03-29\",\"registrationDate\":\"2012-03-29\",\"sampleComment\":\"Marker # = n/a; Position on vent = mussel patch; Vehicle heading (deg) = 114; Temp. max (degC) = not taken;\",\"material\":\"Rock\",\"country\":\"Not Applicable\",\"launchTypeName\":\"HOV\",\"navigationType\":\"DVL/LBL\",\"sampleType\":\"Individual Sample\",\"sesarUserCode\":\"MGD\",\"status\":\"Public\"},{\"sampleId\":1097,\"city\":\"Not Applicable\",\"collectionDatePrecision\":\"day\",\"collectionMethod\":\"Manipulator\",\"collectionStartDate\":\"2007-01-02\",\"collector\":\"Bright_Monika\",\"county\":\"Not Applicable\",\"cruiseFieldPrgrm\":\"AT15-14\",\"currentArchive\":\"Not Provided\",\"externalSampleId\":\"263488\",\"igsn\":\"MGD000305\",\"latitude\":9.8424488,\"launchPlatformName\":\"Alvin\",\"longitude\":-104.2918755,\"name\":\"basalt-1b\",\"platformName\":\"Alvin\",\"platformType\":\"Ship\",\"primaryLocationName\":\"EPR:9N:EastWall\",\"primaryLocationType\":\"Vent\",\"province\":\"Not Applicable\",\"publishDate\":\"2010-12-10\",\"registrationDate\":\"2007-09-21\",\"sampleComment\":\"basalt from periphery\",\"size\":\" \",\"material\":\"Rock\",\"country\":\"Not Applicable\",\"launchTypeName\":\"HOV\",\"navigationType\":\"DVL/LBL\",\"sampleType\":\"Individual Sample\",\"sesarUserCode\":\"MGD\",\"status\":\"Public\"},{\"sampleId\":1090,\"city\":\"Not Applicable\",\"collectionMethod\":\"Manipulator\",\"collector\":\"Bright_Monika\",\"county\":\"Not Applicable\",\"cruiseFieldPrgrm\":\"AT15-12\",\"currentArchive\":\"Not Provided\",\"externalSampleId\":\"262706\",\"igsn\":\"MGD0002Z8\",\"latitude\":9.8377922,\"launchPlatformName\":\"Alvin\",\"longitude\":-104.2912387,\"name\":\"old basalt\",\"platformName\":\"Alvin\",\"platformType\":\"Ship\",\"primaryLocationName\":\"EPR:9N\",\"primaryLocationType\":\"RidgeSegment\",\"province\":\"Not Applicable\",\"publishDate\":\"2010-12-10\",\"registrationDate\":\"2007-09-21\",\"sampleComment\":\"Sample location=off-axis. Sample type = rock.\",\"size\":\" \",\"material\":\"Rock\",\"country\":\"Not Applicable\",\"launchTypeName\":\"HOV\",\"navigationType\":\"DVL/LBL\",\"sampleType\":\"Individual Sample\",\"sesarUserCode\":\"MGD\",\"status\":\"Public\"},{\"sampleId\":3627988,\"city\":\"Not Applicable\",\"collectionDatePrecision\":\"day\",\"collectionMethod\":\"Manipulator\",\"collectionMethodDescr\":\"Collection\",\"collectionStartDate\":\"2007-11-21\",\"collector\":\"Lauren Mullineaux/Monika Bright\",\"county\":\"Not Applicable\",\"cruiseFieldPrgrm\":\"AT15-26\",\"description\":\"Basalt\",\"externalSampleId\":\"4368-Basalt-2\",\"igsn\":\"MGD000BSZ\",\"latitude\":9.788315,\"launchId\":\"4368\",\"launchPlatformName\":\"Alvin\",\"longitude\":-104.282752,\"name\":\"4368-Basalt-2\",\"platformName\":\"Alvin\",\"platformType\":\"Ship\",\"primaryLocationName\":\"EPR:9N:V\",\"primaryLocationType\":\"Vent\",\"province\":\"Not Applicable\",\"publishDate\":\"2012-03-29\",\"registrationDate\":\"2012-03-29\",\"sampleComment\":\"Marker # = L-W; Position on vent = Periphery; Vehicle heading (deg) = 269; Temp. max (degC) = not taken;\",\"material\":\"Rock\",\"country\":\"Not Applicable\",\"launchTypeName\":\"HOV\",\"navigationType\":\"DVL/LBL\",\"sampleType\":\"Individual Sample\",\"sesarUserCode\":\"MGD\",\"status\":\"Public\"},{\"sampleId\":3621533,\"collectionMethod\":\"Manipulator\",\"collectionMethodDescr\":\"depth=-2195 m\",\"collectionStartDate\":\"2008-08-23\",\"collector\":\"Kelley_Deborah; Germanovich_Leonid\",\"cruiseFieldPrgrm\":\"AT15-36\",\"currentArchive\":\"Not Provided\",\"externalSampleId\":\"298151\",\"igsn\":\"MGD0009GC\",\"latitude\":47.951127,\"launchId\":\"4440\",\"launchPlatformName\":\"Alvin\",\"longitude\":-129.097009,\"name\":\"4440-basalt\",\"platformName\":\"Alvin\",\"platformType\":\"Ship\",\"primaryLocationName\":\"JdF:Endeavour:MEF:Hulk\",\"primaryLocationType\":\"Vent\",\"publishDate\":\"2012-02-29\",\"registrationDate\":\"2012-02-29\",\"sampleComment\":\"Altitude: 0. Heading: 306.\",\"material\":\"Rock\",\"launchTypeName\":\"HOV\",\"navigationType\":\"DVL/LBL\",\"sampleType\":\"Individual Sample\",\"sesarUserCode\":\"MGD\",\"status\":\"Public\"},{\"sampleId\":3628054,\"city\":\"Not Applicable\",\"collectionDatePrecision\":\"day\",\"collectionMethod\":\"Manipulator\",\"collectionMethodDescr\":\"Collection\",\"collectionStartDate\":\"2007-11-26\",\"collector\":\"Lauren Mullineaux/Monika Bright\",\"county\":\"Not Applicable\",\"cruiseFieldPrgrm\":\"AT15-26\",\"description\":\"Basalt\",\"externalSampleId\":\"4371-Basalt-2\",\"igsn\":\"MGD000BUT\",\"latitude\":9.840044,\"launchId\":\"4371\",\"launchPlatformName\":\"Alvin\",\"longitude\":-104.291666,\"name\":\"4371-Basalt-2\",\"platformName\":\"Alvin\",\"platformType\":\"Ship\",\"primaryLocationName\":\"EPR:9N:Tica\",\"primaryLocationType\":\"Vent\",\"province\":\"Not Applicable\",\"publishDate\":\"2012-03-29\",\"registrationDate\":\"2012-03-29\",\"sampleComment\":\"Marker # = CAV; Position on vent = ?; Vehicle heading (deg) = 136; Temp. max (degC) = not taken;\",\"material\":\"Rock\",\"country\":\"Not Applicable\",\"launchTypeName\":\"HOV\",\"navigationType\":\"DVL/LBL\",\"sampleType\":\"Individual Sample\",\"sesarUserCode\":\"MGD\",\"status\":\"Public\"},{\"sampleId\":3621558,\"collectionMethod\":\"Manipulator\",\"collectionStartDate\":\"2009-06-21\",\"collector\":\"Germanovich_Leonid; Holden_James; Kelley_Deborah\",\"cruiseFieldPrgrm\":\"AT15-47\",\"currentArchive\":\"Not Provided\",\"externalSampleId\":\"329722\",\"igsn\":\"MGD0009H1\",\"launchId\":\"4522\",\"launchPlatformName\":\"Alvin\",\"name\":\"4522-basalt\",\"platformName\":\"Alvin\",\"platformType\":\"Ship\",\"primaryLocationName\":\"JdF:Axial\",\"primaryLocationType\":\"Seamount\",\"publishDate\":\"2012-02-29\",\"registrationDate\":\"2012-02-29\",\"material\":\"Rock\",\"launchTypeName\":\"HOV\",\"navigationType\":\"DVL/LBL\",\"sampleType\":\"Individual Sample\",\"sesarUserCode\":\"MGD\",\"status\":\"Public\"},{\"sampleId\":3628099,\"city\":\"Not Applicable\",\"collectionDatePrecision\":\"day\",\"collectionMethod\":\"Manipulator\",\"collectionMethodDescr\":\"Collection\",\"collectionStartDate\":\"2007-11-30\",\"collector\":\"Lauren Mullineaux/Monika Bright\",\"county\":\"Not Applicable\",\"cruiseFieldPrgrm\":\"AT15-26\",\"description\":\"Basalt\",\"externalSampleId\":\"4373-Basalt-1\",\"igsn\":\"MGD000BW2\",\"latitude\":9.842242,\"launchId\":\"4373\",\"launchPlatformName\":\"Alvin\",\"longitude\":-104.291753,\"name\":\"4373-Basalt-1\",\"platformName\":\"Alvin\",\"platformType\":\"Ship\",\"primaryLocationName\":\"EPR:9N:EastWall\",\"primaryLocationType\":\"Vent\",\"province\":\"Not Applicable\",\"publishDate\":\"2012-03-29\",\"registrationDate\":\"2012-03-29\",\"sampleComment\":\"Marker # = n/a; Position on vent = tubeworm; Vehicle heading (deg) = 255; Temp. max (degC) = not taken;\",\"material\":\"Rock\",\"country\":\"Not Applicable\",\"launchTypeName\":\"HOV\",\"navigationType\":\"DVL/LBL\",\"sampleType\":\"Individual Sample\",\"sesarUserCode\":\"MGD\",\"status\":\"Public\"},{\"sampleId\":4347670,\"city\":\"Big Pine\",\"collectionMethod\":\"surface collection\",\"collector\":\"Graham Andrews\",\"currentArchive\":\"National Energy Technology Laboratory, 3610 Collins Ferry Road, P.O. Box 880, B17, Morgantown, WV, 26507\",\"currentArchiveContact\":\"Sarah Brown Sarah.Brown@netl.doe.gov\",\"description\":\"Surface outcrop sample of basalt from the Pleistocene-Holocene Big Pine volcanic field\",\"easting\":\"387028.19\",\"externalSampleId\":\"Rel_Perm Basalt\",\"fieldName\":\"Basalt for rel perm\",\"igsn\":\"IENTL0189\",\"name\":\"Rel_Perm Basalt\",\"northing\":\"4110375.71\",\"province\":\"CA\",\"publishDate\":\"2019-01-11\",\"purpose\":\"To use for experiments involving creating a relative permeability database\",\"registrationDate\":\"2019-01-11\",\"zone\":\"11S\",\"classification\":\"Igneous>Volcanic\",\"material\":\"Rock\",\"country\":\"United States\",\"sampleType\":\"Core\",\"sesarUserCode\":\"IENTL\",\"status\":\"Public\",\"otherName\":[\"from the northeastern flank of Crater Mountain\"]},{\"sampleId\":4334089,\"collectionEndDate\":\"2013-11-29\",\"collectionStartDate\":\"2013-11-29\",\"collector\":\"Javier ESCARTIN\",\"cruiseFieldPrgrm\":\"ODEMAR\",\"currentArchive\":\"IPGP, Chambon la Forêt\",\"currentArchiveContact\":\"lithotheque@ipgp.fr\",\"description\":\"bag of unsorted samples\",\"elevation\":-2643.0,\"elevationEnd\":-2313.0,\"elevationUnit\":\"meters\",\"externalSampleId\":\"ODM_DR06 vrac cataclastic metabasalt\",\"fieldName\":\"cataclastic metabasalt breccia\",\"igsn\":\"CNRS0000000673\",\"latitude\":13.314833333333,\"latitudeEnd\":13.314833333333,\"longitude\":-44.9295,\"longitudeEnd\":-44.925,\"name\":\"ODM_DR06 vrac cataclastic metabasalt\",\"primaryLocationName\":\"Mid-Atlantic Ridge\",\"primaryLocationType\":\"mid-ocean ridge\",\"publishDate\":\"2018-09-10\",\"registrationDate\":\"2018-09-10\",\"classification\":\"Igneous>Volcanic>Mafic\",\"material\":\"Rock\",\"parentIGSN\":\"CNRS0000000455\",\"siblingIGSN\":[\"CNRS0000000621\",\"CNRS0000000622\",\"CNRS0000000623\",\"CNRS0000000624\",\"CNRS0000000626\",\"CNRS0000000627\",\"CNRS0000000628\",\"CNRS0000000629\",\"CNRS0000000630\",\"CNRS0000000631\",\"CNRS0000000632\",\"CNRS0000000633\",\"CNRS0000000634\",\"CNRS0000000635\",\"CNRS0000000636\",\"CNRS0000000637\",\"CNRS0000000638\",\"CNRS0000000639\",\"CNRS0000000640\",\"CNRS0000000642\",\"CNRS0000000643\",\"CNRS0000000644\",\"CNRS0000000645\",\"CNRS0000000646\",\"CNRS0000000647\",\"CNRS0000000648\",\"CNRS0000000649\",\"CNRS0000000650\",\"CNRS0000000651\",\"CNRS0000000652\",\"CNRS0000000654\",\"CNRS0000000655\",\"CNRS0000000656\",\"CNRS0000000657\",\"CNRS0000000658\",\"CNRS0000000659\",\"CNRS0000000660\",\"CNRS0000000661\",\"CNRS0000000662\",\"CNRS0000000663\",\"CNRS0000000664\",\"CNRS0000000665\",\"CNRS0000000666\",\"CNRS0000000667\",\"CNRS0000000668\",\"CNRS0000000669\",\"CNRS0000000670\",\"CNRS0000000671\",\"CNRS0000000672\",\"CNRS0000000674\",\"CNRS0000000625\",\"CNRS0000000641\",\"CNRS0000000653\"],\"sampleType\":\"Dredge\",\"sesarUserCode\":\"CNR\",\"status\":\"Public\"},{\"sampleId\":4334234,\"collectionEndDate\":\"2013-12-11\",\"collectionStartDate\":\"2013-12-11\",\"collector\":\"Javier ESCARTIN\",\"cruiseFieldPrgrm\":\"ODEMAR\",\"currentArchive\":\"IPGP, Chambon la Forêt\",\"currentArchiveContact\":\"lithotheque@ipgp.fr\",\"description\":\"bag of unsorted samples\",\"elevation\":-2495.0,\"elevationEnd\":-2273.0,\"elevationUnit\":\"meters\",\"externalSampleId\":\"ODM_DR14 Type1 basalt  vrac\",\"fieldName\":\"basalt\",\"igsn\":\"CNRS0000000818\",\"latitude\":13.5175,\"latitudeEnd\":13.5135,\"longitude\":-44.944333333333,\"longitudeEnd\":-44.946333333333,\"name\":\"ODM_DR14 Type1 basalt  vrac\",\"primaryLocationName\":\"Mid-Atlantic Ridge\",\"primaryLocationType\":\"mid-ocean ridge\",\"publishDate\":\"2018-09-10\",\"registrationDate\":\"2018-09-10\",\"classification\":\"Igneous>Volcanic>Mafic\",\"material\":\"Rock\",\"parentIGSN\":\"CNRS0000000462\",\"siblingIGSN\":[\"CNRS0000000794\",\"CNRS0000000795\",\"CNRS0000000796\",\"CNRS0000000797\",\"CNRS0000000798\",\"CNRS0000000799\",\"CNRS0000000800\",\"CNRS0000000801\",\"CNRS0000000802\",\"CNRS0000000803\",\"CNRS0000000804\",\"CNRS0000000805\",\"CNRS0000000806\",\"CNRS0000000807\",\"CNRS0000000809\",\"CNRS0000000810\",\"CNRS0000000811\",\"CNRS0000000812\",\"CNRS0000000813\",\"CNRS0000000814\",\"CNRS0000000815\",\"CNRS0000000816\",\"CNRS0000000817\",\"CNRS0000000819\",\"CNRS0000000820\",\"CNRS0000000821\",\"CNRS0000000808\"],\"sampleType\":\"Dredge\",\"sesarUserCode\":\"CNR\",\"status\":\"Public\"},{\"sampleId\":3627987,\"city\":\"Not Applicable\",\"collectionDatePrecision\":\"day\",\"collectionMethod\":\"Manipulator\",\"collectionMethodDescr\":\"Collection\",\"collectionStartDate\":\"2007-11-21\",\"collector\":\"Lauren Mullineaux/Monika Bright\",\"county\":\"Not Applicable\",\"cruiseFieldPrgrm\":\"AT15-26\",\"description\":\"Basalt\",\"externalSampleId\":\"4368-Basalt-1\",\"igsn\":\"MGD000BSY\",\"latitude\":9.787772,\"launchId\":\"4368\",\"launchPlatformName\":\"Alvin\",\"longitude\":-104.282905,\"name\":\"4368-Basalt-1\",\"platformName\":\"Alvin\",\"platformType\":\"Ship\",\"primaryLocationName\":\"EPR:9N:V\",\"primaryLocationType\":\"Vent\",\"province\":\"Not Applicable\",\"publishDate\":\"2012-03-29\",\"registrationDate\":\"2012-03-29\",\"sampleComment\":\"Marker # = L-W; Position on vent = Tevnia; Vehicle heading (deg) = 269; Temp. max (degC) = not taken;\",\"material\":\"Rock\",\"country\":\"Not Applicable\",\"launchTypeName\":\"HOV\",\"navigationType\":\"DVL/LBL\",\"sampleType\":\"Individual Sample\",\"sesarUserCode\":\"MGD\",\"status\":\"Public\"},{\"sampleId\":3621535,\"collectionMethod\":\"Manipulator\",\"collectionMethodDescr\":\"depth=-2195 m\",\"collectionStartDate\":\"2008-08-24\",\"collector\":\"Kelley_Deborah; Germanovich_Leonid\",\"cruiseFieldPrgrm\":\"AT15-36\",\"currentArchive\":\"Not Provided\",\"externalSampleId\":\"298153\",\"igsn\":\"MGD0009GE\",\"latitude\":47.949185,\"launchId\":\"4441\",\"launchPlatformName\":\"Alvin\",\"longitude\":-129.098012,\"name\":\"4441-basalt\",\"platformName\":\"Alvin\",\"platformType\":\"Ship\",\"primaryLocationName\":\"JdF:Endeavour:MEF:Dante\",\"primaryLocationType\":\"Vent\",\"publishDate\":\"2012-02-29\",\"registrationDate\":\"2012-02-29\",\"sampleComment\":\"Altitude: 0. Heading: 75.\",\"material\":\"Rock\",\"launchTypeName\":\"HOV\",\"navigationType\":\"DVL/LBL\",\"sampleType\":\"Individual Sample\",\"sesarUserCode\":\"MGD\",\"status\":\"Public\"},{\"sampleId\":1089,\"city\":\"Not Applicable\",\"collectionMethod\":\"Manipulator\",\"collectionStartDate\":\"2006-11-04\",\"collector\":\"Bright_Monika\",\"county\":\"Not Applicable\",\"cruiseFieldPrgrm\":\"AT15-12\",\"currentArchive\":\"Not Provided\",\"externalSampleId\":\"262705\",\"igsn\":\"MGD0002Z7\",\"latitude\":9.8377922,\"launchPlatformName\":\"Alvin\",\"longitude\":-104.2912387,\"name\":\"new basalt\",\"platformName\":\"Alvin\",\"platformType\":\"Ship\",\"primaryLocationName\":\"EPR:9N\",\"primaryLocationType\":\"RidgeSegment\",\"province\":\"Not Applicable\",\"publishDate\":\"2010-12-10\",\"registrationDate\":\"2007-09-21\",\"sampleComment\":\"Sample location=off-axis.Sample type = rock.\",\"size\":\" \",\"material\":\"Rock\",\"country\":\"Not Applicable\",\"launchTypeName\":\"HOV\",\"navigationType\":\"DVL/LBL\",\"sampleType\":\"Individual Sample\",\"sesarUserCode\":\"MGD\",\"status\":\"Public\"},{\"sampleId\":4125442,\"cruiseFieldPrgrm\":\"Reynolds Critical Zone Observatory (CZO)\",\"externalSampleId\":\"Basalt Profile (S. Upper Sheep Creek)\",\"igsn\":\"IERRR00AH\",\"latitude\":43.1171,\"longitude\":-116.7258,\"name\":\"Basalt Profile (S. Upper Sheep Creek)\",\"province\":\"Idaho\",\"publishDate\":\"2016-11-08\",\"registrationDate\":\"2016-11-10\",\"country\":\"United States\",\"parentIGSN\":\"IERRR00A4\",\"childIGSN\":[\"IERRR00AX\"],\"siblingIGSN\":[\"IERRR00AG\"],\"sampleType\":\"Site\",\"sesarUserCode\":\"IERRR\",\"status\":\"Public\",\"otherName\":[\"BSLT\"]},{\"sampleId\":4126154,\"collectionDatePrecision\":\"day\",\"collectionStartDate\":\"2016-06-16\",\"collector\":\"Kathleen Lohse\",\"collectorDetail\":\"klohse@isu.edu\",\"cruiseFieldPrgrm\":\"Reynolds Critical Zone Observatory (CZO)\",\"externalSampleId\":\"Basalt Profile (S. Upper Sheep Creek)\",\"igsn\":\"IERRR00AX\",\"latitude\":43.1171,\"longitude\":-116.7258,\"name\":\"Basalt Profile (S. Upper Sheep Creek)\",\"province\":\"Idaho\",\"publishDate\":\"2016-11-10\",\"registrationDate\":\"2016-11-16\",\"size\":\"109\",\"sizeUnit\":\"cm\",\"material\":\"Soil\",\"country\":\"United States\",\"parentIGSN\":\"IERRR00AH\",\"childIGSN\":[\"IERRR00CE\",\"IERRR00CF\",\"IERRR00CG\",\"IERRR00CH\",\"IERRR00C8\",\"IERRR00C9\",\"IERRR00CA\",\"IERRR00CB\",\"IERRR00CD\",\"IERRR00CI\",\"IERRR00CC\"],\"sampleType\":\"Core\",\"sesarUserCode\":\"IERRR\",\"status\":\"Public\",\"otherName\":[\"BSLT\"]},{\"sampleId\":3703519,\"collector\":\"R.L. Fisher\",\"description\":\"Igneous>Volcanic>Mafic Extrusive>Basalt\",\"externalSampleId\":\"CIRCE 93 basalt\",\"geologicalAge\":\"Unknown\",\"igsn\":\"GRD028XS0\",\"name\":\"CIRCE 93 basalt\",\"publishDate\":\"2020-01-01\",\"registrationDate\":\"2015-02-13\",\"sampleComment\":\"Large (~10x9x11 cm) sampleDark, fine-grained porphyritic basaltoccasional euhedral to subhedral feldspar crystals and subhedral olivine crystalsSample has had cores drilled in three places.\",\"classification\":\"Igneous\",\"material\":\"Rock\",\"sampleType\":\"Individual Sample\",\"sesarUserCode\":\"GRD\",\"status\":\"Public\"},{\"sampleId\":1088,\"city\":\"Not Applicable\",\"collectionMethod\":\"Manipulator\",\"collectionStartDate\":\"2006-11-01\",\"collector\":\"Bright_Monika\",\"county\":\"Not Applicable\",\"cruiseFieldPrgrm\":\"AT15-12\",\"currentArchive\":\"Not Provided\",\"elevation\":-2508.0,\"elevationUnit\":\"meters\",\"externalSampleId\":\"262739\",\"igsn\":\"MGD0002Z6\",\"latitude\":9.8377922,\"launchPlatformName\":\"Alvin\",\"longitude\":-104.2912387,\"name\":\"basalt periphery-1\",\"platformName\":\"Alvin\",\"platformType\":\"Ship\",\"primaryLocationName\":\"EPR:9N:P\",\"primaryLocationType\":\"Vent\",\"province\":\"Not Applicable\",\"publishDate\":\"2010-12-10\",\"registrationDate\":\"2007-09-21\",\"sampleComment\":\"Sample location=M5. Sample type = rock.\",\"size\":\" \",\"material\":\"Rock\",\"country\":\"Not Applicable\",\"launchTypeName\":\"HOV\",\"navigationType\":\"DVL/LBL\",\"sampleType\":\"Individual Sample\",\"sesarUserCode\":\"MGD\",\"status\":\"Public\"},{\"sampleId\":4399048,\"collectionMethodDescr\":\"Discreet sample from a dredge haul\",\"collectionStartDate\":\"2019-08-28\",\"currentArchive\":\"University of Erlangen-Nuremberg\",\"currentArchiveContact\":\"John O’Connor\",\"externalSampleId\":\"MV16-003RD_Basalt\",\"fieldName\":\"Basalt\",\"igsn\":\"DSR000R7E\",\"name\":\"MV16-003RD_Basalt\",\"originalArchive\":\"LDCR\",\"originalArchiveContact\":\"Nichole Anest\",\"publishDate\":\"2019-11-25\",\"purpose\":\"origin of volcanic flux variations along Pacific hotspot tracks\",\"registrationDate\":\"2019-11-25\",\"sampleComment\":\"Types I, II, III, IV (small), V (small)\",\"size\":\"100\",\"sizeUnit\":\"g\",\"parentIGSN\":\"DSR0005RX\",\"siblingIGSN\":[\"DSR000R3P\",\"DSR000R3O\",\"DSR000R3N\",\"DSR000R3M\",\"DSR000R3L\",\"DSR000R3K\",\"DSR000R7D\"],\"sampleType\":\"Dredge\",\"sesarUserCode\":\"DSR\",\"status\":\"Public\"},{\"sampleId\":4399053,\"collectionMethodDescr\":\"Discreet sample from a dredge haul\",\"collectionStartDate\":\"2019-08-28\",\"currentArchive\":\"University of Erlangen-Nuremberg\",\"currentArchiveContact\":\"John O’Connor\",\"externalSampleId\":\"MV16-005RD_Basalt\",\"fieldName\":\"Basalt\",\"igsn\":\"DSR000R7J\",\"name\":\"MV16-005RD_Basalt\",\"originalArchive\":\"LDCR\",\"originalArchiveContact\":\"Nichole Anest\",\"publishDate\":\"2019-11-25\",\"purpose\":\"origin of volcanic flux variations along Pacific hotspot tracks\",\"registrationDate\":\"2019-11-25\",\"size\":\"100\",\"sizeUnit\":\"g\",\"parentIGSN\":\"DSR0000RD\",\"siblingIGSN\":[\"DSR000R7I\"],\"sampleType\":\"Dredge\",\"sesarUserCode\":\"DSR\",\"status\":\"Public\"},{\"sampleId\":4399055,\"collectionMethodDescr\":\"Discreet sample from a dredge haul\",\"collectionStartDate\":\"2019-08-28\",\"currentArchive\":\"University of Erlangen-Nuremberg\",\"currentArchiveContact\":\"John O’Connor\",\"externalSampleId\":\"MV16-006RD_Basalt\",\"fieldName\":\"Basalt\",\"igsn\":\"DSR000R7L\",\"name\":\"MV16-006RD_Basalt\",\"originalArchive\":\"LDCR\",\"originalArchiveContact\":\"Nichole Anest\",\"publishDate\":\"2019-11-25\",\"purpose\":\"origin of volcanic flux variations along Pacific hotspot tracks\",\"registrationDate\":\"2019-11-25\",\"size\":\"100\",\"sizeUnit\":\"g\",\"parentIGSN\":\"DSR0005RY\",\"siblingIGSN\":[\"DSR000R3T\",\"DSR000R3S\",\"DSR000R7K\"],\"sampleType\":\"Dredge\",\"sesarUserCode\":\"DSR\",\"status\":\"Public\"},{\"sampleId\":4399059,\"collectionMethodDescr\":\"Discreet sample from a dredge haul\",\"collectionStartDate\":\"2019-08-28\",\"currentArchive\":\"University of Erlangen-Nuremberg\",\"currentArchiveContact\":\"John O’Connor\",\"externalSampleId\":\"MV16-015RD_Basalt\",\"fieldName\":\"Basalt\",\"igsn\":\"DSR000R7P\",\"name\":\"MV16-015RD_Basalt\",\"originalArchive\":\"LDCR\",\"originalArchiveContact\":\"Nichole Anest\",\"publishDate\":\"2019-11-25\",\"purpose\":\"origin of volcanic flux variations along Pacific hotspot tracks\",\"registrationDate\":\"2019-11-25\",\"sampleComment\":\"type I\",\"size\":\"100\",\"sizeUnit\":\"g\",\"parentIGSN\":\"DSR0005SB\",\"siblingIGSN\":[\"DSR000R4G\",\"DSR000R4I\",\"DSR000R4H\",\"DSR000R4F\",\"DSR000R4E\",\"DSR000R7O\"],\"sampleType\":\"Dredge\",\"sesarUserCode\":\"DSR\",\"status\":\"Public\"},{\"sampleId\":4399061,\"collectionMethodDescr\":\"Discreet sample from a dredge haul\",\"collectionStartDate\":\"2019-08-28\",\"currentArchive\":\"University of Erlangen-Nuremberg\",\"currentArchiveContact\":\"John O’Connor\",\"externalSampleId\":\"MV16-016RD_Basalt\",\"fieldName\":\"Basalt\",\"igsn\":\"DSR000R7R\",\"name\":\"MV16-016RD_Basalt\",\"originalArchive\":\"LDCR\",\"originalArchiveContact\":\"Nichole Anest\",\"publishDate\":\"2019-11-25\",\"purpose\":\"origin of volcanic flux variations along Pacific hotspot tracks\",\"registrationDate\":\"2019-11-25\",\"sampleComment\":\"type I\",\"size\":\"100\",\"sizeUnit\":\"g\",\"parentIGSN\":\"DSR0000RG\",\"siblingIGSN\":[\"DSR000R4K\",\"DSR000R4J\",\"DSR000R7Q\"],\"sampleType\":\"Dredge\",\"sesarUserCode\":\"DSR\",\"status\":\"Public\"},{\"sampleId\":4399051,\"collectionMethodDescr\":\"Discreet sample from a dredge haul\",\"collectionStartDate\":\"2019-08-28\",\"currentArchive\":\"University of Erlangen-Nuremberg\",\"currentArchiveContact\":\"John O’Connor\",\"externalSampleId\":\"MV16-004RD_Basalt\",\"fieldName\":\"Basalt\",\"igsn\":\"DSR000R7H\",\"name\":\"MV16-004RD_Basalt\",\"originalArchive\":\"LDCR\",\"originalArchiveContact\":\"Nichole Anest\",\"publishDate\":\"2019-11-25\",\"purpose\":\"origin of volcanic flux variations along Pacific hotspot tracks\",\"registrationDate\":\"2019-11-25\",\"size\":\"100\",\"sizeUnit\":\"g\",\"parentIGSN\":\"DSR0000RC\",\"siblingIGSN\":[\"DSR000R3R\",\"DSR000R3Q\",\"DSR000R7F\",\"DSR000R7G\"],\"sampleType\":\"Dredge\",\"sesarUserCode\":\"DSR\",\"status\":\"Public\"},{\"sampleId\":4399057,\"collectionMethodDescr\":\"Discreet sample from a dredge haul\",\"collectionStartDate\":\"2019-08-28\",\"currentArchive\":\"University of Erlangen-Nuremberg\",\"currentArchiveContact\":\"John O’Connor\",\"externalSampleId\":\"MV16-009RD_Basalt\",\"fieldName\":\"Basalt\",\"igsn\":\"DSR000R7N\",\"name\":\"MV16-009RD_Basalt\",\"originalArchive\":\"LDCR\",\"originalArchiveContact\":\"Nichole Anest\",\"publishDate\":\"2019-11-25\",\"purpose\":\"origin of volcanic flux variations along Pacific hotspot tracks\",\"registrationDate\":\"2019-11-25\",\"sampleComment\":\"type I\",\"size\":\"100\",\"sizeUnit\":\"g\",\"parentIGSN\":\"DSR0005SA\",\"siblingIGSN\":[\"DSR000R4A\",\"DSR000R7M\"],\"sampleType\":\"Dredge\",\"sesarUserCode\":\"DSR\",\"status\":\"Public\"},{\"sampleId\":4601085,\"collectionMethod\":\"Coring\",\"collector\":\"Prof. Dr. H. Brückner\",\"currentArchive\":\"University of Cologne, Institute of Geography\",\"currentArchiveContact\":\"dgademann@outlook.de\",\"externalSampleId\":\"GAR4-OBEN Basalt\",\"igsn\":\"IEDAI0495\",\"name\":\"GAR4-OBEN Basalt\",\"publishDate\":\"2021-03-16\",\"purpose\":\"Paleoenvironmental reconstruciton\",\"registrationDate\":\"2021-03-16\",\"material\":\"Sediment\",\"country\":\"Morocco\",\"sampleType\":\"Individual Sample\",\"sesarUserCode\":\"IEDAI\",\"status\":\"Public\"},{\"sampleId\":3610977,\"city\":\"Not Applicable\",\"collectionDatePrecision\":\"day\",\"collectionMethod\":\"Sampler:Biology:Pump\",\"collectionStartDate\":\"2006-10-31\",\"collector\":\"Bright_Monika\",\"county\":\"Not Applicable\",\"cruiseFieldPrgrm\":\"AT15-12\",\"currentArchive\":\"Not Provided\",\"elevation\":-2507.0,\"elevationUnit\":\"meters\",\"externalSampleId\":\"262911\",\"geologicalAge\":\"Not Applicable\",\"geologicalUnit\":\"Not Applicable\",\"igsn\":\"MGD00033C\",\"latitude\":9.8342975,\"launchPlatformName\":\"Alvin\",\"longitude\":-104.2907382,\"name\":\"pelagic pump sample above basalt\",\"platformName\":\"Alvin\",\"platformType\":\"Ship\",\"primaryLocationName\":\"EPR:9N:Ty\",\"primaryLocationType\":\"Vent\",\"province\":\"Not Applicable\",\"publishDate\":\"2011-09-24\",\"registrationDate\":\"2011-10-07\",\"sampleComment\":\"Sample location=Ty/Io, Sample type = fluid.\",\"material\":\"Liquid>aqueous\",\"country\":\"Not Applicable\",\"launchTypeName\":\"HOV\",\"navigationType\":\"DVL/LBL\",\"sampleType\":\"Individual Sample\",\"sesarUserCode\":\"MGD\",\"status\":\"Public\"},{\"sampleId\":3610975,\"city\":\"Not Applicable\",\"collectionDatePrecision\":\"day\",\"collectionMethod\":\"Sampler:Biology:Pump\",\"collectionStartDate\":\"2006-11-08\",\"collector\":\"Bright_Monika\",\"county\":\"Not Applicable\",\"cruiseFieldPrgrm\":\"AT15-12\",\"currentArchive\":\"Not Provided\",\"elevation\":-2502.0,\"elevationUnit\":\"meters\",\"externalSampleId\":\"262847\",\"geologicalAge\":\"Not Applicable\",\"geologicalUnit\":\"Not Applicable\",\"igsn\":\"MGD00033A\",\"latitude\":9.8456858,\"launchPlatformName\":\"Alvin\",\"longitude\":-104.2930483,\"name\":\"pelagic pump at broken basalt \",\"platformName\":\"Alvin\",\"platformType\":\"Ship\",\"primaryLocationName\":\"EPR:9N:Q\",\"primaryLocationType\":\"Vent\",\"province\":\"Not Applicable\",\"publishDate\":\"2011-09-24\",\"registrationDate\":\"2011-10-07\",\"sampleComment\":\"Sample type = fluid.\",\"material\":\"Liquid>aqueous\",\"country\":\"Not Applicable\",\"launchTypeName\":\"HOV\",\"navigationType\":\"DVL/LBL\",\"sampleType\":\"Individual Sample\",\"sesarUserCode\":\"MGD\",\"status\":\"Public\"},{\"sampleId\":3625053,\"city\":\"Not Applicable\",\"collectionMethod\":\"Manipulator\",\"collector\":\"Mullineaux_Lauren\",\"county\":\"Not Applicable\",\"cruiseFieldPrgrm\":\"AT15-12\",\"currentArchive\":\"Not Provided\",\"elevation\":-2512.0,\"elevationUnit\":\"meters\",\"externalSampleId\":\"262776\",\"geologicalAge\":\"Not Applicable\",\"geologicalUnit\":\"Not Applicable\",\"igsn\":\"MGD0008Z6\",\"latitude\":9.838226,\"launchPlatformName\":\"Alvin\",\"longitude\":-104.291293,\"name\":\"basalt with Tevnia/Riftia\",\"platformName\":\"Alvin\",\"platformType\":\"Ship\",\"primaryLocationName\":\"EPR:9N:Q\",\"primaryLocationType\":\"Vent\",\"province\":\"Not Applicable\",\"publishDate\":\"2012-03-10\",\"registrationDate\":\"2012-03-10\",\"material\":\"Biology\",\"country\":\"Not Applicable\",\"launchTypeName\":\"HOV\",\"navigationType\":\"DVL/LBL\",\"sampleType\":\"Individual Sample\",\"sesarUserCode\":\"MGD\",\"status\":\"Public\"},{\"sampleId\":3625050,\"city\":\"Not Applicable\",\"collectionDatePrecision\":\"day\",\"collectionMethod\":\"Manipulator\",\"collectionStartDate\":\"2006-11-04\",\"collector\":\"Mullineaux_Lauren\",\"county\":\"Not Applicable\",\"cruiseFieldPrgrm\":\"AT15-12\",\"currentArchive\":\"Not Provided\",\"elevation\":-2510.0,\"elevationUnit\":\"meters\",\"externalSampleId\":\"262716\",\"geologicalAge\":\"Not Applicable\",\"geologicalUnit\":\"Not Applicable\",\"igsn\":\"MGD0008Z3\",\"latitude\":9.8400798,\"launchPlatformName\":\"Alvin\",\"longitude\":-104.2916935,\"name\":\"basalt with Tevnia\",\"platformName\":\"Alvin\",\"platformType\":\"Ship\",\"primaryLocationName\":\"EPR:9N:Tica\",\"primaryLocationType\":\"Vent\",\"province\":\"Not Applicable\",\"publishDate\":\"2012-03-10\",\"registrationDate\":\"2012-03-10\",\"material\":\"Biology\",\"country\":\"Not Applicable\",\"launchTypeName\":\"HOV\",\"navigationType\":\"DVL/LBL\",\"sampleType\":\"Individual Sample\",\"sesarUserCode\":\"MGD\",\"status\":\"Public\"},{\"sampleId\":3625134,\"city\":\"Not Applicable\",\"collectionMethod\":\"Sampler:Biology:ColonizationSubstrate\",\"collectionStartDate\":\"2006-12-28\",\"collector\":\"Bright_Monika; Pradillion_Florence\",\"county\":\"Not Applicable\",\"cruiseFieldPrgrm\":\"AT15-14\",\"currentArchive\":\"Not Provided\",\"elevation\":-2513.0,\"elevationUnit\":\"meters\",\"externalSampleId\":\"262312\",\"geologicalAge\":\"Not Applicable\",\"geologicalUnit\":\"Not Applicable\",\"igsn\":\"MGD00091F\",\"latitude\":9.840134,\"launchPlatformName\":\"Not Applicable\",\"longitude\":-104.2916207,\"name\":\"basalt block-126\",\"platformName\":\"Not Applicable\",\"platformType\":\"Ship\",\"primaryLocationName\":\"EPR:9N:Tica\",\"primaryLocationType\":\"Vent\",\"province\":\"Not Applicable\",\"publishDate\":\"2012-03-10\",\"registrationDate\":\"2012-03-10\",\"sampleComment\":\"Marker = L-R; Position on vent=low T; Additional comments = recovery, deployed during LADDER 1 (AT15-12) cruise.\",\"material\":\"Biology\",\"country\":\"Not Applicable\",\"launchTypeName\":\"Not Applicable\",\"navigationType\":\"DVL/LBL\",\"sampleType\":\"Individual Sample\",\"sesarUserCode\":\"MGD\",\"status\":\"Public\"},{\"sampleId\":3625132,\"city\":\"Not Applicable\",\"collectionMethod\":\"Sampler:Biology:ColonizationSubstrate\",\"collectionStartDate\":\"2006-12-28\",\"collector\":\"Bright_Monika; Pradillion_Florence\",\"county\":\"Not Applicable\",\"cruiseFieldPrgrm\":\"AT15-14\",\"currentArchive\":\"Not Provided\",\"elevation\":-2513.0,\"elevationUnit\":\"meters\",\"externalSampleId\":\"262310\",\"geologicalAge\":\"Not Applicable\",\"geologicalUnit\":\"Not Applicable\",\"igsn\":\"MGD00091D\",\"latitude\":9.840134,\"launchPlatformName\":\"Not Applicable\",\"longitude\":-104.2916207,\"name\":\"basalt block-95\",\"platformName\":\"Not Applicable\",\"platformType\":\"Ship\",\"primaryLocationName\":\"EPR:9N:Tica\",\"primaryLocationType\":\"Vent\",\"province\":\"Not Applicable\",\"publishDate\":\"2012-03-10\",\"registrationDate\":\"2012-03-10\",\"sampleComment\":\"Marker = L-R; Position on vent=low T; Additional comments = recovery, deployed during LADDER 1 (AT15-12) cruise.\",\"material\":\"Biology\",\"country\":\"Not Applicable\",\"launchTypeName\":\"Not Applicable\",\"navigationType\":\"DVL/LBL\",\"sampleType\":\"Individual Sample\",\"sesarUserCode\":\"MGD\",\"status\":\"Public\"},{\"sampleId\":3625154,\"city\":\"Not Applicable\",\"collectionMethod\":\"Sampler:Biology:ColonizationSubstrate\",\"collectionStartDate\":\"2006-12-30\",\"collector\":\"Bright_Monika; Pradillion_Florence\",\"county\":\"Not Applicable\",\"cruiseFieldPrgrm\":\"AT15-14\",\"currentArchive\":\"Not Provided\",\"elevation\":-2512.0,\"elevationUnit\":\"meters\",\"externalSampleId\":\"262469\",\"geologicalAge\":\"Not Applicable\",\"geologicalUnit\":\"Not Applicable\",\"igsn\":\"MGD00091Z\",\"latitude\":9.840116,\"launchPlatformName\":\"Not Applicable\",\"longitude\":-104.2916753,\"name\":\"basalt-273\",\"platformName\":\"Not Applicable\",\"platformType\":\"Ship\",\"primaryLocationName\":\"EPR:9N:Tica\",\"primaryLocationType\":\"Vent\",\"province\":\"Not Applicable\",\"publishDate\":\"2012-03-10\",\"registrationDate\":\"2012-03-10\",\"sampleComment\":\"Marker = L-R; Position on vent=tubeworm; Additional comments = recovery, deployed during LADDER 1 (AT15-12) cruise.\",\"material\":\"Biology\",\"country\":\"Not Applicable\",\"launchTypeName\":\"Not Applicable\",\"navigationType\":\"DVL/LBL\",\"sampleType\":\"Individual Sample\",\"sesarUserCode\":\"MGD\",\"status\":\"Public\"},{\"sampleId\":3625152,\"city\":\"Not Applicable\",\"collectionMethod\":\"Sampler:Biology:ColonizationSubstrate\",\"collectionStartDate\":\"2006-12-30\",\"collector\":\"Bright_Monika; Pradillion_Florence\",\"county\":\"Not Applicable\",\"cruiseFieldPrgrm\":\"AT15-14\",\"currentArchive\":\"Not Provided\",\"elevation\":-2512.0,\"elevationUnit\":\"meters\",\"externalSampleId\":\"262460\",\"geologicalAge\":\"Not Applicable\",\"geologicalUnit\":\"Not Applicable\",\"igsn\":\"MGD00091X\",\"latitude\":9.840116,\"launchPlatformName\":\"Not Applicable\",\"longitude\":-104.2916753,\"name\":\"basalt-1\",\"platformName\":\"Not Applicable\",\"platformType\":\"Ship\",\"primaryLocationName\":\"EPR:9N:Tica\",\"primaryLocationType\":\"Vent\",\"province\":\"Not Applicable\",\"publishDate\":\"2012-03-10\",\"registrationDate\":\"2012-03-10\",\"sampleComment\":\"Marker = L-R; Position on vent=tubeworm; Additional comments = recovery, deployed during LADDER 1 (AT15-12) cruise.\",\"material\":\"Biology\",\"country\":\"Not Applicable\",\"launchTypeName\":\"Not Applicable\",\"navigationType\":\"DVL/LBL\",\"sampleType\":\"Individual Sample\",\"sesarUserCode\":\"MGD\",\"status\":\"Public\"},{\"sampleId\":3625179,\"city\":\"Not Applicable\",\"collectionMethod\":\"Sampler:Biology:ColonizationSubstrate\",\"collectionStartDate\":\"2007-01-01\",\"collector\":\"Bright_Monika; Pradillion_Florence\",\"county\":\"Not Applicable\",\"cruiseFieldPrgrm\":\"AT15-14\",\"currentArchive\":\"Not Provided\",\"elevation\":-2511.0,\"elevationUnit\":\"meters\",\"externalSampleId\":\"262663\",\"geologicalAge\":\"Not Applicable\",\"geologicalUnit\":\"Not Applicable\",\"igsn\":\"MGD00092O\",\"latitude\":9.8400888,\"launchPlatformName\":\"Not Applicable\",\"longitude\":-104.2915843,\"name\":\"basalt-173\",\"platformName\":\"Not Applicable\",\"platformType\":\"Ship\",\"primaryLocationName\":\"EPR:9N:Tica\",\"primaryLocationType\":\"Vent\",\"province\":\"Not Applicable\",\"publishDate\":\"2012-03-10\",\"registrationDate\":\"2012-03-10\",\"sampleComment\":\"Marker = L-R; Position on vent=intermed. T; Additional comments = recovery, deployed during LADDER 1 (AT15-12) cruise.\",\"material\":\"Biology\",\"country\":\"Not Applicable\",\"launchTypeName\":\"Not Applicable\",\"navigationType\":\"DVL/LBL\",\"sampleType\":\"Individual Sample\",\"sesarUserCode\":\"MGD\",\"status\":\"Public\"},{\"sampleId\":1091,\"city\":\"Not Applicable\",\"collectionDatePrecision\":\"day\",\"collectionMethod\":\"Manipulator\",\"collectionStartDate\":\"2006-11-06\",\"collector\":\"Bright_Monika\",\"county\":\"Not Applicable\",\"cruiseFieldPrgrm\":\"AT15-12\",\"currentArchive\":\"Not Provided\",\"elevation\":-2508.0,\"elevationUnit\":\"meters\",\"externalSampleId\":\"263734\",\"igsn\":\"MGD0002Z9\",\"latitude\":9.8383167,\"launchPlatformName\":\"Alvin\",\"longitude\":-104.2913478,\"name\":\"basalt periphery-2\",\"platformName\":\"Alvin\",\"platformType\":\"Ship\",\"primaryLocationName\":\"EPR:9N:Bio9\",\"primaryLocationType\":\"Vent\",\"province\":\"Not Applicable\",\"publishDate\":\"2010-12-10\",\"registrationDate\":\"2007-09-21\",\"size\":\" \",\"material\":\"Rock\",\"country\":\"Not Applicable\",\"launchTypeName\":\"HOV\",\"navigationType\":\"DVL/LBL\",\"sampleType\":\"Individual Sample\",\"sesarUserCode\":\"MGD\",\"status\":\"Public\"},{\"sampleId\":1093,\"city\":\"Not Applicable\",\"collectionDatePrecision\":\"day\",\"collectionMethod\":\"Manipulator\",\"collectionStartDate\":\"2006-11-08\",\"collector\":\"Bright_Monika\",\"county\":\"Not Applicable\",\"cruiseFieldPrgrm\":\"AT15-12\",\"currentArchive\":\"Not Provided\",\"elevation\":-2502.0,\"elevationUnit\":\"meters\",\"externalSampleId\":\"262886\",\"igsn\":\"MGD000301\",\"latitude\":9.8456858,\"launchPlatformName\":\"Alvin\",\"longitude\":-104.2930483,\"name\":\"basalt periphery-3\",\"platformName\":\"Alvin\",\"platformType\":\"Ship\",\"primaryLocationName\":\"EPR:9N:Q\",\"primaryLocationType\":\"Vent\",\"province\":\"Not Applicable\",\"publishDate\":\"2010-12-10\",\"registrationDate\":\"2007-09-21\",\"size\":\" \",\"material\":\"Rock\",\"country\":\"Not Applicable\",\"launchTypeName\":\"HOV\",\"navigationType\":\"DVL/LBL\",\"sampleType\":\"Individual Sample\",\"sesarUserCode\":\"MGD\",\"status\":\"Public\"},{\"sampleId\":1096,\"city\":\"Not Applicable\",\"collectionDatePrecision\":\"day\",\"collectionMethod\":\"Manipulator\",\"collectionStartDate\":\"2006-11-13\",\"collector\":\"Bright_Monika\",\"county\":\"Not Applicable\",\"cruiseFieldPrgrm\":\"AT15-12\",\"currentArchive\":\"Not Provided\",\"elevation\":-2510.0,\"elevationUnit\":\"meters\",\"externalSampleId\":\"262816\",\"igsn\":\"MGD000304\",\"latitude\":9.8400798,\"launchPlatformName\":\"Alvin\",\"longitude\":-104.2916935,\"name\":\"basalt periphery-5\",\"platformName\":\"Alvin\",\"platformType\":\"Ship\",\"primaryLocationName\":\"EPR:9N:Tica\",\"primaryLocationType\":\"Vent\",\"province\":\"Not Applicable\",\"publishDate\":\"2010-12-10\",\"registrationDate\":\"2007-09-21\",\"size\":\" \",\"material\":\"Rock\",\"country\":\"Not Applicable\",\"launchTypeName\":\"HOV\",\"navigationType\":\"DVL/LBL\",\"sampleType\":\"Individual Sample\",\"sesarUserCode\":\"MGD\",\"status\":\"Public\"},{\"sampleId\":3625180,\"city\":\"Not Applicable\",\"collectionMethod\":\"Sampler:Biology:ColonizationSubstrate\",\"collectionStartDate\":\"2007-01-01\",\"collector\":\"Bright_Monika; Pradillion_Florence\",\"county\":\"Not Applicable\",\"cruiseFieldPrgrm\":\"AT15-14\",\"currentArchive\":\"Not Provided\",\"elevation\":-2511.0,\"elevationUnit\":\"meters\",\"externalSampleId\":\"262664\",\"geologicalAge\":\"Not Applicable\",\"geologicalUnit\":\"Not Applicable\",\"igsn\":\"MGD00092P\",\"latitude\":9.8400888,\"launchPlatformName\":\"Not Applicable\",\"longitude\":-104.2915843,\"name\":\"basalt-11\",\"platformName\":\"Not Applicable\",\"platformType\":\"Ship\",\"primaryLocationName\":\"EPR:9N:Tica\",\"primaryLocationType\":\"Vent\",\"province\":\"Not Applicable\",\"publishDate\":\"2012-03-10\",\"registrationDate\":\"2012-03-10\",\"sampleComment\":\"Marker = L-R; Position on vent=intermed. T; Additional comments = recovery, deployed during LADDER 1 (AT15-12) cruise.\",\"material\":\"Biology\",\"country\":\"Not Applicable\",\"launchTypeName\":\"Not Applicable\",\"navigationType\":\"DVL/LBL\",\"sampleType\":\"Individual Sample\",\"sesarUserCode\":\"MGD\",\"status\":\"Public\"},{\"sampleId\":3625178,\"city\":\"Not Applicable\",\"collectionMethod\":\"Sampler:Biology:ColonizationSubstrate\",\"collectionStartDate\":\"2007-01-01\",\"collector\":\"Bright_Monika; Pradillion_Florence\",\"county\":\"Not Applicable\",\"cruiseFieldPrgrm\":\"AT15-14\",\"currentArchive\":\"Not Provided\",\"elevation\":-2511.0,\"elevationUnit\":\"meters\",\"externalSampleId\":\"262658\",\"geologicalAge\":\"Not Applicable\",\"geologicalUnit\":\"Not Applicable\",\"igsn\":\"MGD00092N\",\"latitude\":9.8400888,\"launchPlatformName\":\"Not Applicable\",\"longitude\":-104.2915843,\"name\":\"basalt-133\",\"platformName\":\"Not Applicable\",\"platformType\":\"Ship\",\"primaryLocationName\":\"EPR:9N:Tica\",\"primaryLocationType\":\"Vent\",\"province\":\"Not Applicable\",\"publishDate\":\"2012-03-10\",\"registrationDate\":\"2012-03-10\",\"sampleComment\":\"Marker = L-R; Position on vent=intermed. T; Additional comments = recovery, deployed during LADDER 1 (AT15-12) cruise.\",\"material\":\"Biology\",\"country\":\"Not Applicable\",\"launchTypeName\":\"Not Applicable\",\"navigationType\":\"DVL/LBL\",\"sampleType\":\"Individual Sample\",\"sesarUserCode\":\"MGD\",\"status\":\"Public\"},{\"sampleId\":3625153,\"city\":\"Not Applicable\",\"collectionMethod\":\"Sampler:Biology:ColonizationSubstrate\",\"collectionStartDate\":\"2006-12-30\",\"collector\":\"Bright_Monika; Pradillion_Florence\",\"county\":\"Not Applicable\",\"cruiseFieldPrgrm\":\"AT15-14\",\"currentArchive\":\"Not Provided\",\"elevation\":-2512.0,\"elevationUnit\":\"meters\",\"externalSampleId\":\"262464\",\"geologicalAge\":\"Not Applicable\",\"geologicalUnit\":\"Not Applicable\",\"igsn\":\"MGD00091Y\",\"latitude\":9.840116,\"launchPlatformName\":\"Not Applicable\",\"longitude\":-104.2916753,\"name\":\"basalt-163\",\"platformName\":\"Not Applicable\",\"platformType\":\"Ship\",\"primaryLocationName\":\"EPR:9N:Tica\",\"primaryLocationType\":\"Vent\",\"province\":\"Not Applicable\",\"publishDate\":\"2012-03-10\",\"registrationDate\":\"2012-03-10\",\"sampleComment\":\"Marker = L-R; Position on vent=tubeworm; Additional comments = recovery, deployed during LADDER 1 (AT15-12) cruise.\",\"material\":\"Biology\",\"country\":\"Not Applicable\",\"launchTypeName\":\"Not Applicable\",\"navigationType\":\"DVL/LBL\",\"sampleType\":\"Individual Sample\",\"sesarUserCode\":\"MGD\",\"status\":\"Public\"},{\"sampleId\":3625135,\"city\":\"Not Applicable\",\"collectionMethod\":\"Sampler:Biology:ColonizationSubstrate\",\"collectionStartDate\":\"2006-12-28\",\"collector\":\"Bright_Monika; Pradillion_Florence\",\"county\":\"Not Applicable\",\"cruiseFieldPrgrm\":\"AT15-14\",\"currentArchive\":\"Not Provided\",\"elevation\":-2513.0,\"elevationUnit\":\"meters\",\"externalSampleId\":\"262320\",\"geologicalAge\":\"Not Applicable\",\"geologicalUnit\":\"Not Applicable\",\"igsn\":\"MGD00091G\",\"latitude\":9.840134,\"launchPlatformName\":\"Not Applicable\",\"longitude\":-104.2916207,\"name\":\"basalt block-219\",\"platformName\":\"Not Applicable\",\"platformType\":\"Ship\",\"primaryLocationName\":\"EPR:9N:Tica\",\"primaryLocationType\":\"Vent\",\"province\":\"Not Applicable\",\"publishDate\":\"2012-03-10\",\"registrationDate\":\"2012-03-10\",\"sampleComment\":\"Marker = L-R; Position on vent=low T; Additional comments = recovery, deployed during LADDER 1 (AT15-12) cruise.\",\"material\":\"Biology\",\"country\":\"Not Applicable\",\"launchTypeName\":\"Not Applicable\",\"navigationType\":\"DVL/LBL\",\"sampleType\":\"Individual Sample\",\"sesarUserCode\":\"MGD\",\"status\":\"Public\"},{\"sampleId\":3610973,\"city\":\"Not Applicable\",\"collectionDatePrecision\":\"day\",\"collectionMethod\":\"Sampler:Biology:Pump\",\"collectionStartDate\":\"2006-11-13\",\"collector\":\"Bright_Monika\",\"county\":\"Not Applicable\",\"cruiseFieldPrgrm\":\"AT15-12\",\"currentArchive\":\"Not Provided\",\"elevation\":-2510.0,\"elevationUnit\":\"meters\",\"externalSampleId\":\"262795\",\"geologicalAge\":\"Not Applicable\",\"geologicalUnit\":\"Not Applicable\",\"igsn\":\"MGD00032Y\",\"latitude\":9.8400798,\"launchPlatformName\":\"Alvin\",\"longitude\":-104.2916935,\"name\":\"pelagic pump sample above basalt \",\"platformName\":\"Alvin\",\"platformType\":\"Ship\",\"primaryLocationName\":\"EPR:9N:Tica\",\"primaryLocationType\":\"Vent\",\"province\":\"Not Applicable\",\"publishDate\":\"2011-09-24\",\"registrationDate\":\"2011-10-07\",\"sampleComment\":\"Sample type = fluid. Devices are TASCs (tubeworm artificial settlement cubes = babytraps) and Sponges (meiobenthic artificical devices = plastic kitchen sponges) with piece of bucket lid with number, MB, and Austrian flag for identification.\",\"material\":\"Liquid>aqueous\",\"country\":\"Not Applicable\",\"launchTypeName\":\"HOV\",\"navigationType\":\"DVL/LBL\",\"sampleType\":\"Individual Sample\",\"sesarUserCode\":\"MGD\",\"status\":\"Public\"},{\"sampleId\":3625038,\"city\":\"Not Applicable\",\"collectionDatePrecision\":\"day\",\"collectionMethod\":\"Manipulator\",\"collectionStartDate\":\"2006-11-01\",\"collector\":\"Mullineaux_Lauren\",\"county\":\"Not Applicable\",\"cruiseFieldPrgrm\":\"AT15-12\",\"currentArchive\":\"Not Provided\",\"elevation\":-2508.0,\"elevationUnit\":\"meters\",\"externalSampleId\":\"261439\",\"geologicalAge\":\"Not Applicable\",\"geologicalUnit\":\"Not Applicable\",\"igsn\":\"MGD0008YR\",\"latitude\":9.8377922,\"launchPlatformName\":\"Alvin\",\"longitude\":-104.2912387,\"name\":\"basalt with Tevnia\",\"platformName\":\"Alvin\",\"platformType\":\"Ship\",\"primaryLocationName\":\"EPR:9N:P\",\"primaryLocationType\":\"Vent\",\"province\":\"Not Applicable\",\"publishDate\":\"2012-03-10\",\"registrationDate\":\"2012-03-10\",\"sampleComment\":\"Sample location=P-vent, M5. Sample type = biology?.\",\"material\":\"Biology\",\"country\":\"Not Applicable\",\"launchTypeName\":\"HOV\",\"navigationType\":\"DVL/LBL\",\"sampleType\":\"Individual Sample\",\"sesarUserCode\":\"MGD\",\"status\":\"Public\"},{\"sampleId\":1095,\"city\":\"Not Applicable\",\"collectionDatePrecision\":\"day\",\"collectionMethod\":\"Manipulator\",\"collectionStartDate\":\"2006-11-09\",\"collector\":\"Bright_Monika\",\"county\":\"Not Applicable\",\"cruiseFieldPrgrm\":\"AT15-12\",\"currentArchive\":\"Not Provided\",\"elevation\":-2507.0,\"elevationUnit\":\"meters\",\"externalSampleId\":\"262713\",\"igsn\":\"MGD000303\",\"latitude\":9.8342975,\"launchPlatformName\":\"Alvin\",\"longitude\":-104.2907382,\"name\":\"basalt periphery-4\",\"platformName\":\"Alvin\",\"platformType\":\"Ship\",\"primaryLocationName\":\"EPR:9N:Ty\",\"primaryLocationType\":\"Vent\",\"province\":\"Not Applicable\",\"publishDate\":\"2010-12-10\",\"registrationDate\":\"2007-09-21\",\"sampleComment\":\"Sample location=Ty/Io. Sample type = rock.\",\"size\":\" \",\"material\":\"Rock\",\"country\":\"Not Applicable\",\"launchTypeName\":\"HOV\",\"navigationType\":\"DVL/LBL\",\"sampleType\":\"Individual Sample\",\"sesarUserCode\":\"MGD\",\"status\":\"Public\"},{\"sampleId\":3610970,\"city\":\"Not Applicable\",\"collectionDatePrecision\":\"day\",\"collectionMethod\":\"Sampler:Biology:Pump\",\"collectionStartDate\":\"2006-11-01\",\"collector\":\"Bright_Monika\",\"county\":\"Not Applicable\",\"cruiseFieldPrgrm\":\"AT15-12\",\"currentArchive\":\"Not Provided\",\"elevation\":-2508.0,\"elevationUnit\":\"meters\",\"externalSampleId\":\"262738\",\"geologicalAge\":\"Not Applicable\",\"geologicalUnit\":\"Not Applicable\",\"igsn\":\"MGD00032V\",\"latitude\":9.8377922,\"launchPlatformName\":\"Alvin\",\"longitude\":-104.2912387,\"name\":\"pelagic pump sample above basalt\",\"platformName\":\"Alvin\",\"platformType\":\"Ship\",\"primaryLocationName\":\"EPR:9N:P\",\"primaryLocationType\":\"Vent\",\"province\":\"Not Applicable\",\"publishDate\":\"2011-09-24\",\"registrationDate\":\"2011-10-07\",\"sampleComment\":\"Sample location=M5, Sample type = fluid.\",\"material\":\"Liquid>aqueous\",\"country\":\"Not Applicable\",\"launchTypeName\":\"HOV\",\"navigationType\":\"DVL/LBL\",\"sampleType\":\"Individual Sample\",\"sesarUserCode\":\"MGD\",\"status\":\"Public\"},{\"sampleId\":3610980,\"city\":\"Not Applicable\",\"collectionDatePrecision\":\"day\",\"collectionMethod\":\"Sampler:Biology:Pump\",\"collectionStartDate\":\"2006-11-06\",\"collector\":\"Bright_Monika\",\"county\":\"Not Applicable\",\"cruiseFieldPrgrm\":\"AT15-12\",\"currentArchive\":\"Not Provided\",\"elevation\":-2508.0,\"elevationUnit\":\"meters\",\"externalSampleId\":\"263727\",\"geologicalAge\":\"Not Applicable\",\"geologicalUnit\":\"Not Applicable\",\"igsn\":\"MGD00033F\",\"latitude\":9.8383167,\"launchPlatformName\":\"Alvin\",\"longitude\":-104.2913478,\"name\":\"pelagic pump above basalt periphery\",\"platformName\":\"Alvin\",\"platformType\":\"Ship\",\"primaryLocationName\":\"EPR:9N:Bio9\",\"primaryLocationType\":\"Vent\",\"province\":\"Not Applicable\",\"publishDate\":\"2011-09-24\",\"registrationDate\":\"2011-10-07\",\"material\":\"Liquid>aqueous\",\"country\":\"Not Applicable\",\"launchTypeName\":\"HOV\",\"navigationType\":\"DVL/LBL\",\"sampleType\":\"Individual Sample\",\"sesarUserCode\":\"MGD\",\"status\":\"Public\"},{\"sampleId\":3625056,\"city\":\"Not Applicable\",\"collectionDatePrecision\":\"day\",\"collectionMethod\":\"Manipulator\",\"collectionStartDate\":\"2006-11-05\",\"collector\":\"Mullineaux_Lauren\",\"county\":\"Not Applicable\",\"cruiseFieldPrgrm\":\"AT15-12\",\"currentArchive\":\"Not Provided\",\"elevation\":-2500.0,\"elevationUnit\":\"meters\",\"externalSampleId\":\"263516\",\"geologicalAge\":\"Not Applicable\",\"geologicalUnit\":\"Not Applicable\",\"igsn\":\"MGD0008Z9\",\"latitude\":9.8424488,\"launchPlatformName\":\"Alvin\",\"longitude\":-104.2918755,\"name\":\"basalt with dead tubeworms/mussels\",\"platformName\":\"Alvin\",\"platformType\":\"Ship\",\"primaryLocationName\":\"EPR:9N:EastWall\",\"primaryLocationType\":\"Vent\",\"province\":\"Not Applicable\",\"publishDate\":\"2012-03-10\",\"registrationDate\":\"2012-03-10\",\"sampleComment\":\"Sample type = biology.\",\"material\":\"Biology\",\"country\":\"Not Applicable\",\"launchTypeName\":\"HOV\",\"navigationType\":\"DVL/LBL\",\"sampleType\":\"Individual Sample\",\"sesarUserCode\":\"MGD\",\"status\":\"Public\"},{\"sampleId\":3625055,\"city\":\"Not Applicable\",\"collectionDatePrecision\":\"day\",\"collectionMethod\":\"Manipulator\",\"collectionStartDate\":\"2006-10-31\",\"collector\":\"Mullineaux_Lauren\",\"county\":\"Not Applicable\",\"cruiseFieldPrgrm\":\"AT15-12\",\"currentArchive\":\"Not Provided\",\"elevation\":-2507.0,\"elevationUnit\":\"meters\",\"externalSampleId\":\"262909\",\"geologicalAge\":\"Not Applicable\",\"geologicalUnit\":\"Not Applicable\",\"igsn\":\"MGD0008Z8\",\"latitude\":9.8342975,\"launchPlatformName\":\"Alvin\",\"longitude\":-104.2907382,\"name\":\"basalt with Tevnia\",\"platformName\":\"Alvin\",\"platformType\":\"Ship\",\"primaryLocationName\":\"EPR:9N:Ty\",\"primaryLocationType\":\"Vent\",\"province\":\"Not Applicable\",\"publishDate\":\"2012-03-10\",\"registrationDate\":\"2012-03-10\",\"sampleComment\":\"Sample location=Ty/Io, Sample type = biology?.\",\"material\":\"Biology\",\"country\":\"Not Applicable\",\"launchTypeName\":\"HOV\",\"navigationType\":\"DVL/LBL\",\"sampleType\":\"Individual Sample\",\"sesarUserCode\":\"MGD\",\"status\":\"Public\"}]\n"
     ]
    }
   ],
   "source": [
    "r = requests.get(url)\n",
    "\n",
    "print(r.text)"
   ]
  },
  {
   "cell_type": "markdown",
   "metadata": {},
   "source": [
    "Select one sample and convert the data in json."
   ]
  },
  {
   "cell_type": "code",
   "execution_count": 13,
   "metadata": {},
   "outputs": [
    {
     "data": {
      "text/plain": [
       "{'sampleId': 3628055,\n",
       " 'city': 'Not Applicable',\n",
       " 'collectionDatePrecision': 'day',\n",
       " 'collectionMethod': 'Manipulator',\n",
       " 'collectionMethodDescr': 'Collection',\n",
       " 'collectionStartDate': '2007-11-26',\n",
       " 'collector': 'Lauren Mullineaux/Monika Bright',\n",
       " 'county': 'Not Applicable',\n",
       " 'cruiseFieldPrgrm': 'AT15-26',\n",
       " 'description': 'Basalt',\n",
       " 'externalSampleId': '4371-Basalt-3',\n",
       " 'igsn': 'MGD000BUU',\n",
       " 'latitude': 9.838389,\n",
       " 'launchId': '4371',\n",
       " 'launchPlatformName': 'Alvin',\n",
       " 'longitude': -104.291412,\n",
       " 'name': '4371-Basalt-3',\n",
       " 'platformName': 'Alvin',\n",
       " 'platformType': 'Ship',\n",
       " 'primaryLocationName': 'EPR:9N:Bio9',\n",
       " 'primaryLocationType': 'Vent',\n",
       " 'province': 'Not Applicable',\n",
       " 'publishDate': '2012-03-29',\n",
       " 'registrationDate': '2012-03-29',\n",
       " 'sampleComment': 'Marker # = 2; Position on vent = Periphery; Vehicle heading (deg) = 25; Temp. max (degC) = not taken;',\n",
       " 'material': 'Rock',\n",
       " 'country': 'Not Applicable',\n",
       " 'launchTypeName': 'HOV',\n",
       " 'navigationType': 'DVL/LBL',\n",
       " 'sampleType': 'Individual Sample',\n",
       " 'sesarUserCode': 'MGD',\n",
       " 'status': 'Public'}"
      ]
     },
     "execution_count": 13,
     "metadata": {},
     "output_type": "execute_result"
    }
   ],
   "source": [
    "res = r.json()\n",
    "\n",
    "res[10]"
   ]
  },
  {
   "cell_type": "markdown",
   "metadata": {},
   "source": [
    "Display a sensible selection of the result."
   ]
  },
  {
   "cell_type": "code",
   "execution_count": 14,
   "metadata": {},
   "outputs": [
    {
     "name": "stdout",
     "output_type": "stream",
     "text": [
      "Basalt\n",
      "Vent\n",
      "Alvin\n",
      "Marker # = 2; Position on vent = Periphery; Vehicle heading (deg) = 25; Temp. max (degC) = not taken;\n"
     ]
    }
   ],
   "source": [
    "print(res[10]['description'])\n",
    "print(res[10]['primaryLocationType'])\n",
    "print(res[10]['launchPlatformName'])\n",
    "print(res[10]['sampleComment'])"
   ]
  },
  {
   "cell_type": "markdown",
   "metadata": {},
   "source": [
    "Extract longitude and latitude from the 10 first samples into a list. Then from all samples."
   ]
  },
  {
   "cell_type": "code",
   "execution_count": 15,
   "metadata": {},
   "outputs": [
    {
     "data": {
      "text/plain": [
       "[[47.950318, -129.097384],\n",
       " [9.837856, -104.291239],\n",
       " [9.837901, -104.291202],\n",
       " [9.840089, -104.291584],\n",
       " [9.840089, -104.291584],\n",
       " [9.840089, -104.291584],\n",
       " [9.840134, -104.291621],\n",
       " [9.840134, -104.291621],\n",
       " [9.840134, -104.291621],\n",
       " [9.840063, -104.291655]]"
      ]
     },
     "execution_count": 15,
     "metadata": {},
     "output_type": "execute_result"
    }
   ],
   "source": [
    "latLong = []\n",
    "\n",
    "for i in range(10):\n",
    "    latLong.append([res[i]['latitude'], res[i]['longitude']])\n",
    "    \n",
    "latLong"
   ]
  },
  {
   "cell_type": "markdown",
   "metadata": {},
   "source": [
    "Now for a challenge: Try and extract longitude and latitude from all samples into a list.<br>\n",
    "You will get an error. Find out what the problem is, solve it – and get the list.<br>\n",
    "<font color = grey><b>Hint</b> You will need the – in a general syntax – 'if key in dict:'</font>"
   ]
  },
  {
   "cell_type": "code",
   "execution_count": 16,
   "metadata": {},
   "outputs": [
    {
     "data": {
      "text/plain": [
       "[[47.950318, -129.097384],\n",
       " [9.837856, -104.291239],\n",
       " [9.837901, -104.291202],\n",
       " [9.840089, -104.291584],\n",
       " [9.840089, -104.291584],\n",
       " [9.840089, -104.291584],\n",
       " [9.840134, -104.291621],\n",
       " [9.840134, -104.291621],\n",
       " [9.840134, -104.291621],\n",
       " [9.840063, -104.291655],\n",
       " [9.838389, -104.291412],\n",
       " [9.828599, -104.28987],\n",
       " [9.834266, -104.290747],\n",
       " [9.849365, -104.293304],\n",
       " [9.849387, -104.293513],\n",
       " [9.84224, -104.291788],\n",
       " [9.8424488, -104.2918755],\n",
       " [9.8377922, -104.2912387],\n",
       " [9.788315, -104.282752],\n",
       " [47.951127, -129.097009],\n",
       " [9.840044, -104.291666],\n",
       " [9.842242, -104.291753],\n",
       " [13.314833333333, -44.9295],\n",
       " [13.5175, -44.944333333333],\n",
       " [9.787772, -104.282905],\n",
       " [47.949185, -129.098012],\n",
       " [9.8377922, -104.2912387],\n",
       " [43.1171, -116.7258],\n",
       " [43.1171, -116.7258],\n",
       " [9.8377922, -104.2912387],\n",
       " [9.8342975, -104.2907382],\n",
       " [9.8456858, -104.2930483],\n",
       " [9.838226, -104.291293],\n",
       " [9.8400798, -104.2916935],\n",
       " [9.840134, -104.2916207],\n",
       " [9.840134, -104.2916207],\n",
       " [9.840116, -104.2916753],\n",
       " [9.840116, -104.2916753],\n",
       " [9.8400888, -104.2915843],\n",
       " [9.8383167, -104.2913478],\n",
       " [9.8456858, -104.2930483],\n",
       " [9.8400798, -104.2916935],\n",
       " [9.8400888, -104.2915843],\n",
       " [9.8400888, -104.2915843],\n",
       " [9.840116, -104.2916753],\n",
       " [9.840134, -104.2916207],\n",
       " [9.8400798, -104.2916935],\n",
       " [9.8377922, -104.2912387],\n",
       " [9.8342975, -104.2907382],\n",
       " [9.8377922, -104.2912387],\n",
       " [9.8383167, -104.2913478],\n",
       " [9.8424488, -104.2918755],\n",
       " [9.8342975, -104.2907382]]"
      ]
     },
     "execution_count": 16,
     "metadata": {},
     "output_type": "execute_result"
    }
   ],
   "source": [
    "latLong = []\n",
    "\n",
    "for i in range(len(res)):\n",
    "    if 'latitude' in res[i]:\n",
    "        latLong.append([res[i]['latitude'], res[i]['longitude']])\n",
    "    \n",
    "latLong"
   ]
  },
  {
   "cell_type": "markdown",
   "metadata": {},
   "source": [
    "## What's wrong with this code?"
   ]
  },
  {
   "cell_type": "markdown",
   "metadata": {},
   "source": [
    "### <font color = brown><b>Answer before executing the code!</b></font>"
   ]
  },
  {
   "cell_type": "code",
   "execution_count": 17,
   "metadata": {},
   "outputs": [
    {
     "ename": "NameError",
     "evalue": "name 'result' is not defined",
     "output_type": "error",
     "traceback": [
      "\u001b[0;31m---------------------------------------------------------------------------\u001b[0m",
      "\u001b[0;31mNameError\u001b[0m                                 Traceback (most recent call last)",
      "\u001b[0;32m<ipython-input-17-7fd6f0932a7c>\u001b[0m in \u001b[0;36m<module>\u001b[0;34m\u001b[0m\n\u001b[1;32m      2\u001b[0m     \u001b[0mresult\u001b[0m \u001b[0;34m=\u001b[0m \u001b[0mnumber\u001b[0m \u001b[0;34m+\u001b[0m \u001b[0;36m2\u001b[0m\u001b[0;34m\u001b[0m\u001b[0;34m\u001b[0m\u001b[0m\n\u001b[1;32m      3\u001b[0m \u001b[0;34m\u001b[0m\u001b[0m\n\u001b[0;32m----> 4\u001b[0;31m \u001b[0mresult\u001b[0m\u001b[0;34m\u001b[0m\u001b[0;34m\u001b[0m\u001b[0m\n\u001b[0m",
      "\u001b[0;31mNameError\u001b[0m: name 'result' is not defined"
     ]
    }
   ],
   "source": [
    "def addTwo(number):\n",
    "    result = number + 2\n",
    "\n",
    "result"
   ]
  },
  {
   "cell_type": "markdown",
   "metadata": {},
   "source": [
    "res is a local variable. No result will be displayed. Add a line in def 'return result' and execute the command name -> 'addTwo()' with a value."
   ]
  },
  {
   "cell_type": "code",
   "execution_count": 18,
   "metadata": {},
   "outputs": [
    {
     "ename": "SyntaxError",
     "evalue": "invalid syntax (<ipython-input-18-e7c289b7b1f1>, line 3)",
     "output_type": "error",
     "traceback": [
      "\u001b[0;36m  File \u001b[0;32m\"<ipython-input-18-e7c289b7b1f1>\"\u001b[0;36m, line \u001b[0;32m3\u001b[0m\n\u001b[0;31m    df = pd.DataFrame{\u001b[0m\n\u001b[0m                     ^\u001b[0m\n\u001b[0;31mSyntaxError\u001b[0m\u001b[0;31m:\u001b[0m invalid syntax\n"
     ]
    }
   ],
   "source": [
    "import pandas as pd\n",
    "\n",
    "df = pd.DataFrame{\n",
    "    'student': ['Miriam', 'Jens', 'Jericho'],\n",
    "    'city': ['Flörsheim', 'Bad Soden', 'Eschborn'],\n",
    "    'age': [23, 21, 25]\n",
    "    }"
   ]
  },
  {
   "cell_type": "markdown",
   "metadata": {},
   "source": [
    "Brackets are missing after DataFrame and around the dictionary list -> ( )"
   ]
  },
  {
   "cell_type": "markdown",
   "metadata": {},
   "source": [
    "After you solved the previous, what is the problem with:"
   ]
  },
  {
   "cell_type": "code",
   "execution_count": 19,
   "metadata": {},
   "outputs": [
    {
     "ename": "ValueError",
     "evalue": "Location based indexing can only have [integer, integer slice (START point is INCLUDED, END point is EXCLUDED), listlike of integers, boolean array] types",
     "output_type": "error",
     "traceback": [
      "\u001b[0;31m---------------------------------------------------------------------------\u001b[0m",
      "\u001b[0;31mValueError\u001b[0m                                Traceback (most recent call last)",
      "\u001b[0;32m~/opt/anaconda3/lib/python3.8/site-packages/pandas/core/indexing.py\u001b[0m in \u001b[0;36m_has_valid_tuple\u001b[0;34m(self, key)\u001b[0m\n\u001b[1;32m    701\u001b[0m             \u001b[0;32mtry\u001b[0m\u001b[0;34m:\u001b[0m\u001b[0;34m\u001b[0m\u001b[0;34m\u001b[0m\u001b[0m\n\u001b[0;32m--> 702\u001b[0;31m                 \u001b[0mself\u001b[0m\u001b[0;34m.\u001b[0m\u001b[0m_validate_key\u001b[0m\u001b[0;34m(\u001b[0m\u001b[0mk\u001b[0m\u001b[0;34m,\u001b[0m \u001b[0mi\u001b[0m\u001b[0;34m)\u001b[0m\u001b[0;34m\u001b[0m\u001b[0;34m\u001b[0m\u001b[0m\n\u001b[0m\u001b[1;32m    703\u001b[0m             \u001b[0;32mexcept\u001b[0m \u001b[0mValueError\u001b[0m \u001b[0;32mas\u001b[0m \u001b[0merr\u001b[0m\u001b[0;34m:\u001b[0m\u001b[0;34m\u001b[0m\u001b[0;34m\u001b[0m\u001b[0m\n",
      "\u001b[0;32m~/opt/anaconda3/lib/python3.8/site-packages/pandas/core/indexing.py\u001b[0m in \u001b[0;36m_validate_key\u001b[0;34m(self, key, axis)\u001b[0m\n\u001b[1;32m   1368\u001b[0m         \u001b[0;32melse\u001b[0m\u001b[0;34m:\u001b[0m\u001b[0;34m\u001b[0m\u001b[0;34m\u001b[0m\u001b[0m\n\u001b[0;32m-> 1369\u001b[0;31m             \u001b[0;32mraise\u001b[0m \u001b[0mValueError\u001b[0m\u001b[0;34m(\u001b[0m\u001b[0;34mf\"Can only index by location with a [{self._valid_types}]\"\u001b[0m\u001b[0;34m)\u001b[0m\u001b[0;34m\u001b[0m\u001b[0;34m\u001b[0m\u001b[0m\n\u001b[0m\u001b[1;32m   1370\u001b[0m \u001b[0;34m\u001b[0m\u001b[0m\n",
      "\u001b[0;31mValueError\u001b[0m: Can only index by location with a [integer, integer slice (START point is INCLUDED, END point is EXCLUDED), listlike of integers, boolean array]",
      "\nThe above exception was the direct cause of the following exception:\n",
      "\u001b[0;31mValueError\u001b[0m                                Traceback (most recent call last)",
      "\u001b[0;32m<ipython-input-19-b0d76236d34b>\u001b[0m in \u001b[0;36m<module>\u001b[0;34m\u001b[0m\n\u001b[1;32m      7\u001b[0m     })\n\u001b[1;32m      8\u001b[0m \u001b[0;34m\u001b[0m\u001b[0m\n\u001b[0;32m----> 9\u001b[0;31m \u001b[0mdf\u001b[0m\u001b[0;34m.\u001b[0m\u001b[0miloc\u001b[0m\u001b[0;34m[\u001b[0m\u001b[0;34m[\u001b[0m\u001b[0;36m0\u001b[0m\u001b[0;34m,\u001b[0m \u001b[0;36m2\u001b[0m\u001b[0;34m]\u001b[0m\u001b[0;34m,\u001b[0m \u001b[0;34m'age'\u001b[0m\u001b[0;34m]\u001b[0m\u001b[0;34m\u001b[0m\u001b[0;34m\u001b[0m\u001b[0m\n\u001b[0m",
      "\u001b[0;32m~/opt/anaconda3/lib/python3.8/site-packages/pandas/core/indexing.py\u001b[0m in \u001b[0;36m__getitem__\u001b[0;34m(self, key)\u001b[0m\n\u001b[1;32m    871\u001b[0m                     \u001b[0;31m# AttributeError for IntervalTree get_value\u001b[0m\u001b[0;34m\u001b[0m\u001b[0;34m\u001b[0m\u001b[0;34m\u001b[0m\u001b[0m\n\u001b[1;32m    872\u001b[0m                     \u001b[0;32mpass\u001b[0m\u001b[0;34m\u001b[0m\u001b[0;34m\u001b[0m\u001b[0m\n\u001b[0;32m--> 873\u001b[0;31m             \u001b[0;32mreturn\u001b[0m \u001b[0mself\u001b[0m\u001b[0;34m.\u001b[0m\u001b[0m_getitem_tuple\u001b[0m\u001b[0;34m(\u001b[0m\u001b[0mkey\u001b[0m\u001b[0;34m)\u001b[0m\u001b[0;34m\u001b[0m\u001b[0;34m\u001b[0m\u001b[0m\n\u001b[0m\u001b[1;32m    874\u001b[0m         \u001b[0;32melse\u001b[0m\u001b[0;34m:\u001b[0m\u001b[0;34m\u001b[0m\u001b[0;34m\u001b[0m\u001b[0m\n\u001b[1;32m    875\u001b[0m             \u001b[0;31m# we by definition only have the 0th axis\u001b[0m\u001b[0;34m\u001b[0m\u001b[0;34m\u001b[0m\u001b[0;34m\u001b[0m\u001b[0m\n",
      "\u001b[0;32m~/opt/anaconda3/lib/python3.8/site-packages/pandas/core/indexing.py\u001b[0m in \u001b[0;36m_getitem_tuple\u001b[0;34m(self, tup)\u001b[0m\n\u001b[1;32m   1441\u001b[0m     \u001b[0;32mdef\u001b[0m \u001b[0m_getitem_tuple\u001b[0m\u001b[0;34m(\u001b[0m\u001b[0mself\u001b[0m\u001b[0;34m,\u001b[0m \u001b[0mtup\u001b[0m\u001b[0;34m:\u001b[0m \u001b[0mTuple\u001b[0m\u001b[0;34m)\u001b[0m\u001b[0;34m:\u001b[0m\u001b[0;34m\u001b[0m\u001b[0;34m\u001b[0m\u001b[0m\n\u001b[1;32m   1442\u001b[0m \u001b[0;34m\u001b[0m\u001b[0m\n\u001b[0;32m-> 1443\u001b[0;31m         \u001b[0mself\u001b[0m\u001b[0;34m.\u001b[0m\u001b[0m_has_valid_tuple\u001b[0m\u001b[0;34m(\u001b[0m\u001b[0mtup\u001b[0m\u001b[0;34m)\u001b[0m\u001b[0;34m\u001b[0m\u001b[0;34m\u001b[0m\u001b[0m\n\u001b[0m\u001b[1;32m   1444\u001b[0m         \u001b[0;32mtry\u001b[0m\u001b[0;34m:\u001b[0m\u001b[0;34m\u001b[0m\u001b[0;34m\u001b[0m\u001b[0m\n\u001b[1;32m   1445\u001b[0m             \u001b[0;32mreturn\u001b[0m \u001b[0mself\u001b[0m\u001b[0;34m.\u001b[0m\u001b[0m_getitem_lowerdim\u001b[0m\u001b[0;34m(\u001b[0m\u001b[0mtup\u001b[0m\u001b[0;34m)\u001b[0m\u001b[0;34m\u001b[0m\u001b[0;34m\u001b[0m\u001b[0m\n",
      "\u001b[0;32m~/opt/anaconda3/lib/python3.8/site-packages/pandas/core/indexing.py\u001b[0m in \u001b[0;36m_has_valid_tuple\u001b[0;34m(self, key)\u001b[0m\n\u001b[1;32m    702\u001b[0m                 \u001b[0mself\u001b[0m\u001b[0;34m.\u001b[0m\u001b[0m_validate_key\u001b[0m\u001b[0;34m(\u001b[0m\u001b[0mk\u001b[0m\u001b[0;34m,\u001b[0m \u001b[0mi\u001b[0m\u001b[0;34m)\u001b[0m\u001b[0;34m\u001b[0m\u001b[0;34m\u001b[0m\u001b[0m\n\u001b[1;32m    703\u001b[0m             \u001b[0;32mexcept\u001b[0m \u001b[0mValueError\u001b[0m \u001b[0;32mas\u001b[0m \u001b[0merr\u001b[0m\u001b[0;34m:\u001b[0m\u001b[0;34m\u001b[0m\u001b[0;34m\u001b[0m\u001b[0m\n\u001b[0;32m--> 704\u001b[0;31m                 raise ValueError(\n\u001b[0m\u001b[1;32m    705\u001b[0m                     \u001b[0;34m\"Location based indexing can only have \"\u001b[0m\u001b[0;34m\u001b[0m\u001b[0;34m\u001b[0m\u001b[0m\n\u001b[1;32m    706\u001b[0m                     \u001b[0;34mf\"[{self._valid_types}] types\"\u001b[0m\u001b[0;34m\u001b[0m\u001b[0;34m\u001b[0m\u001b[0m\n",
      "\u001b[0;31mValueError\u001b[0m: Location based indexing can only have [integer, integer slice (START point is INCLUDED, END point is EXCLUDED), listlike of integers, boolean array] types"
     ]
    }
   ],
   "source": [
    "import pandas as pd\n",
    "\n",
    "df = pd.DataFrame({\n",
    "    'student': ['Miriam', 'Jens', 'Jericho'],\n",
    "    'city': ['Flörsheim', 'Bad Soden', 'Eschborn'],\n",
    "    'age': [23, 21, 25]\n",
    "    })\n",
    "\n",
    "df.iloc[[0, 2], 'age']"
   ]
  },
  {
   "cell_type": "markdown",
   "metadata": {},
   "source": [
    "Must be .loc, not iloc when 'age' is used – which is a string."
   ]
  },
  {
   "cell_type": "markdown",
   "metadata": {},
   "source": [
    "And here?"
   ]
  },
  {
   "cell_type": "code",
   "execution_count": 20,
   "metadata": {},
   "outputs": [
    {
     "ename": "KeyError",
     "evalue": "\"Passing list-likes to .loc or [] with any missing labels is no longer supported. The following labels were missing: Int64Index([3], dtype='int64'). See https://pandas.pydata.org/pandas-docs/stable/user_guide/indexing.html#deprecate-loc-reindex-listlike\"",
     "output_type": "error",
     "traceback": [
      "\u001b[0;31m---------------------------------------------------------------------------\u001b[0m",
      "\u001b[0;31mKeyError\u001b[0m                                  Traceback (most recent call last)",
      "\u001b[0;32m<ipython-input-20-163f27766d18>\u001b[0m in \u001b[0;36m<module>\u001b[0;34m\u001b[0m\n\u001b[0;32m----> 1\u001b[0;31m \u001b[0mdf\u001b[0m\u001b[0;34m.\u001b[0m\u001b[0mloc\u001b[0m\u001b[0;34m[\u001b[0m\u001b[0;34m[\u001b[0m\u001b[0;36m0\u001b[0m\u001b[0;34m,\u001b[0m \u001b[0;36m3\u001b[0m\u001b[0;34m]\u001b[0m\u001b[0;34m,\u001b[0m \u001b[0;34m'age'\u001b[0m\u001b[0;34m]\u001b[0m\u001b[0;34m\u001b[0m\u001b[0;34m\u001b[0m\u001b[0m\n\u001b[0m",
      "\u001b[0;32m~/opt/anaconda3/lib/python3.8/site-packages/pandas/core/indexing.py\u001b[0m in \u001b[0;36m__getitem__\u001b[0;34m(self, key)\u001b[0m\n\u001b[1;32m    871\u001b[0m                     \u001b[0;31m# AttributeError for IntervalTree get_value\u001b[0m\u001b[0;34m\u001b[0m\u001b[0;34m\u001b[0m\u001b[0;34m\u001b[0m\u001b[0m\n\u001b[1;32m    872\u001b[0m                     \u001b[0;32mpass\u001b[0m\u001b[0;34m\u001b[0m\u001b[0;34m\u001b[0m\u001b[0m\n\u001b[0;32m--> 873\u001b[0;31m             \u001b[0;32mreturn\u001b[0m \u001b[0mself\u001b[0m\u001b[0;34m.\u001b[0m\u001b[0m_getitem_tuple\u001b[0m\u001b[0;34m(\u001b[0m\u001b[0mkey\u001b[0m\u001b[0;34m)\u001b[0m\u001b[0;34m\u001b[0m\u001b[0;34m\u001b[0m\u001b[0m\n\u001b[0m\u001b[1;32m    874\u001b[0m         \u001b[0;32melse\u001b[0m\u001b[0;34m:\u001b[0m\u001b[0;34m\u001b[0m\u001b[0;34m\u001b[0m\u001b[0m\n\u001b[1;32m    875\u001b[0m             \u001b[0;31m# we by definition only have the 0th axis\u001b[0m\u001b[0;34m\u001b[0m\u001b[0;34m\u001b[0m\u001b[0;34m\u001b[0m\u001b[0m\n",
      "\u001b[0;32m~/opt/anaconda3/lib/python3.8/site-packages/pandas/core/indexing.py\u001b[0m in \u001b[0;36m_getitem_tuple\u001b[0;34m(self, tup)\u001b[0m\n\u001b[1;32m   1042\u001b[0m     \u001b[0;32mdef\u001b[0m \u001b[0m_getitem_tuple\u001b[0m\u001b[0;34m(\u001b[0m\u001b[0mself\u001b[0m\u001b[0;34m,\u001b[0m \u001b[0mtup\u001b[0m\u001b[0;34m:\u001b[0m \u001b[0mTuple\u001b[0m\u001b[0;34m)\u001b[0m\u001b[0;34m:\u001b[0m\u001b[0;34m\u001b[0m\u001b[0;34m\u001b[0m\u001b[0m\n\u001b[1;32m   1043\u001b[0m         \u001b[0;32mtry\u001b[0m\u001b[0;34m:\u001b[0m\u001b[0;34m\u001b[0m\u001b[0;34m\u001b[0m\u001b[0m\n\u001b[0;32m-> 1044\u001b[0;31m             \u001b[0;32mreturn\u001b[0m \u001b[0mself\u001b[0m\u001b[0;34m.\u001b[0m\u001b[0m_getitem_lowerdim\u001b[0m\u001b[0;34m(\u001b[0m\u001b[0mtup\u001b[0m\u001b[0;34m)\u001b[0m\u001b[0;34m\u001b[0m\u001b[0;34m\u001b[0m\u001b[0m\n\u001b[0m\u001b[1;32m   1045\u001b[0m         \u001b[0;32mexcept\u001b[0m \u001b[0mIndexingError\u001b[0m\u001b[0;34m:\u001b[0m\u001b[0;34m\u001b[0m\u001b[0;34m\u001b[0m\u001b[0m\n\u001b[1;32m   1046\u001b[0m             \u001b[0;32mpass\u001b[0m\u001b[0;34m\u001b[0m\u001b[0;34m\u001b[0m\u001b[0m\n",
      "\u001b[0;32m~/opt/anaconda3/lib/python3.8/site-packages/pandas/core/indexing.py\u001b[0m in \u001b[0;36m_getitem_lowerdim\u001b[0;34m(self, tup)\u001b[0m\n\u001b[1;32m    808\u001b[0m                     \u001b[0;32mreturn\u001b[0m \u001b[0msection\u001b[0m\u001b[0;34m\u001b[0m\u001b[0;34m\u001b[0m\u001b[0m\n\u001b[1;32m    809\u001b[0m                 \u001b[0;31m# This is an elided recursive call to iloc/loc\u001b[0m\u001b[0;34m\u001b[0m\u001b[0;34m\u001b[0m\u001b[0;34m\u001b[0m\u001b[0m\n\u001b[0;32m--> 810\u001b[0;31m                 \u001b[0;32mreturn\u001b[0m \u001b[0mgetattr\u001b[0m\u001b[0;34m(\u001b[0m\u001b[0msection\u001b[0m\u001b[0;34m,\u001b[0m \u001b[0mself\u001b[0m\u001b[0;34m.\u001b[0m\u001b[0mname\u001b[0m\u001b[0;34m)\u001b[0m\u001b[0;34m[\u001b[0m\u001b[0mnew_key\u001b[0m\u001b[0;34m]\u001b[0m\u001b[0;34m\u001b[0m\u001b[0;34m\u001b[0m\u001b[0m\n\u001b[0m\u001b[1;32m    811\u001b[0m \u001b[0;34m\u001b[0m\u001b[0m\n\u001b[1;32m    812\u001b[0m         \u001b[0;32mraise\u001b[0m \u001b[0mIndexingError\u001b[0m\u001b[0;34m(\u001b[0m\u001b[0;34m\"not applicable\"\u001b[0m\u001b[0;34m)\u001b[0m\u001b[0;34m\u001b[0m\u001b[0;34m\u001b[0m\u001b[0m\n",
      "\u001b[0;32m~/opt/anaconda3/lib/python3.8/site-packages/pandas/core/indexing.py\u001b[0m in \u001b[0;36m__getitem__\u001b[0;34m(self, key)\u001b[0m\n\u001b[1;32m    877\u001b[0m \u001b[0;34m\u001b[0m\u001b[0m\n\u001b[1;32m    878\u001b[0m             \u001b[0mmaybe_callable\u001b[0m \u001b[0;34m=\u001b[0m \u001b[0mcom\u001b[0m\u001b[0;34m.\u001b[0m\u001b[0mapply_if_callable\u001b[0m\u001b[0;34m(\u001b[0m\u001b[0mkey\u001b[0m\u001b[0;34m,\u001b[0m \u001b[0mself\u001b[0m\u001b[0;34m.\u001b[0m\u001b[0mobj\u001b[0m\u001b[0;34m)\u001b[0m\u001b[0;34m\u001b[0m\u001b[0;34m\u001b[0m\u001b[0m\n\u001b[0;32m--> 879\u001b[0;31m             \u001b[0;32mreturn\u001b[0m \u001b[0mself\u001b[0m\u001b[0;34m.\u001b[0m\u001b[0m_getitem_axis\u001b[0m\u001b[0;34m(\u001b[0m\u001b[0mmaybe_callable\u001b[0m\u001b[0;34m,\u001b[0m \u001b[0maxis\u001b[0m\u001b[0;34m=\u001b[0m\u001b[0maxis\u001b[0m\u001b[0;34m)\u001b[0m\u001b[0;34m\u001b[0m\u001b[0;34m\u001b[0m\u001b[0m\n\u001b[0m\u001b[1;32m    880\u001b[0m \u001b[0;34m\u001b[0m\u001b[0m\n\u001b[1;32m    881\u001b[0m     \u001b[0;32mdef\u001b[0m \u001b[0m_is_scalar_access\u001b[0m\u001b[0;34m(\u001b[0m\u001b[0mself\u001b[0m\u001b[0;34m,\u001b[0m \u001b[0mkey\u001b[0m\u001b[0;34m:\u001b[0m \u001b[0mTuple\u001b[0m\u001b[0;34m)\u001b[0m\u001b[0;34m:\u001b[0m\u001b[0;34m\u001b[0m\u001b[0;34m\u001b[0m\u001b[0m\n",
      "\u001b[0;32m~/opt/anaconda3/lib/python3.8/site-packages/pandas/core/indexing.py\u001b[0m in \u001b[0;36m_getitem_axis\u001b[0;34m(self, key, axis)\u001b[0m\n\u001b[1;32m   1097\u001b[0m                     \u001b[0;32mraise\u001b[0m \u001b[0mValueError\u001b[0m\u001b[0;34m(\u001b[0m\u001b[0;34m\"Cannot index with multidimensional key\"\u001b[0m\u001b[0;34m)\u001b[0m\u001b[0;34m\u001b[0m\u001b[0;34m\u001b[0m\u001b[0m\n\u001b[1;32m   1098\u001b[0m \u001b[0;34m\u001b[0m\u001b[0m\n\u001b[0;32m-> 1099\u001b[0;31m                 \u001b[0;32mreturn\u001b[0m \u001b[0mself\u001b[0m\u001b[0;34m.\u001b[0m\u001b[0m_getitem_iterable\u001b[0m\u001b[0;34m(\u001b[0m\u001b[0mkey\u001b[0m\u001b[0;34m,\u001b[0m \u001b[0maxis\u001b[0m\u001b[0;34m=\u001b[0m\u001b[0maxis\u001b[0m\u001b[0;34m)\u001b[0m\u001b[0;34m\u001b[0m\u001b[0;34m\u001b[0m\u001b[0m\n\u001b[0m\u001b[1;32m   1100\u001b[0m \u001b[0;34m\u001b[0m\u001b[0m\n\u001b[1;32m   1101\u001b[0m             \u001b[0;31m# nested tuple slicing\u001b[0m\u001b[0;34m\u001b[0m\u001b[0;34m\u001b[0m\u001b[0;34m\u001b[0m\u001b[0m\n",
      "\u001b[0;32m~/opt/anaconda3/lib/python3.8/site-packages/pandas/core/indexing.py\u001b[0m in \u001b[0;36m_getitem_iterable\u001b[0;34m(self, key, axis)\u001b[0m\n\u001b[1;32m   1035\u001b[0m \u001b[0;34m\u001b[0m\u001b[0m\n\u001b[1;32m   1036\u001b[0m         \u001b[0;31m# A collection of keys\u001b[0m\u001b[0;34m\u001b[0m\u001b[0;34m\u001b[0m\u001b[0;34m\u001b[0m\u001b[0m\n\u001b[0;32m-> 1037\u001b[0;31m         \u001b[0mkeyarr\u001b[0m\u001b[0;34m,\u001b[0m \u001b[0mindexer\u001b[0m \u001b[0;34m=\u001b[0m \u001b[0mself\u001b[0m\u001b[0;34m.\u001b[0m\u001b[0m_get_listlike_indexer\u001b[0m\u001b[0;34m(\u001b[0m\u001b[0mkey\u001b[0m\u001b[0;34m,\u001b[0m \u001b[0maxis\u001b[0m\u001b[0;34m,\u001b[0m \u001b[0mraise_missing\u001b[0m\u001b[0;34m=\u001b[0m\u001b[0;32mFalse\u001b[0m\u001b[0;34m)\u001b[0m\u001b[0;34m\u001b[0m\u001b[0;34m\u001b[0m\u001b[0m\n\u001b[0m\u001b[1;32m   1038\u001b[0m         return self.obj._reindex_with_indexers(\n\u001b[1;32m   1039\u001b[0m             \u001b[0;34m{\u001b[0m\u001b[0maxis\u001b[0m\u001b[0;34m:\u001b[0m \u001b[0;34m[\u001b[0m\u001b[0mkeyarr\u001b[0m\u001b[0;34m,\u001b[0m \u001b[0mindexer\u001b[0m\u001b[0;34m]\u001b[0m\u001b[0;34m}\u001b[0m\u001b[0;34m,\u001b[0m \u001b[0mcopy\u001b[0m\u001b[0;34m=\u001b[0m\u001b[0;32mTrue\u001b[0m\u001b[0;34m,\u001b[0m \u001b[0mallow_dups\u001b[0m\u001b[0;34m=\u001b[0m\u001b[0;32mTrue\u001b[0m\u001b[0;34m\u001b[0m\u001b[0;34m\u001b[0m\u001b[0m\n",
      "\u001b[0;32m~/opt/anaconda3/lib/python3.8/site-packages/pandas/core/indexing.py\u001b[0m in \u001b[0;36m_get_listlike_indexer\u001b[0;34m(self, key, axis, raise_missing)\u001b[0m\n\u001b[1;32m   1252\u001b[0m             \u001b[0mkeyarr\u001b[0m\u001b[0;34m,\u001b[0m \u001b[0mindexer\u001b[0m\u001b[0;34m,\u001b[0m \u001b[0mnew_indexer\u001b[0m \u001b[0;34m=\u001b[0m \u001b[0max\u001b[0m\u001b[0;34m.\u001b[0m\u001b[0m_reindex_non_unique\u001b[0m\u001b[0;34m(\u001b[0m\u001b[0mkeyarr\u001b[0m\u001b[0;34m)\u001b[0m\u001b[0;34m\u001b[0m\u001b[0;34m\u001b[0m\u001b[0m\n\u001b[1;32m   1253\u001b[0m \u001b[0;34m\u001b[0m\u001b[0m\n\u001b[0;32m-> 1254\u001b[0;31m         \u001b[0mself\u001b[0m\u001b[0;34m.\u001b[0m\u001b[0m_validate_read_indexer\u001b[0m\u001b[0;34m(\u001b[0m\u001b[0mkeyarr\u001b[0m\u001b[0;34m,\u001b[0m \u001b[0mindexer\u001b[0m\u001b[0;34m,\u001b[0m \u001b[0maxis\u001b[0m\u001b[0;34m,\u001b[0m \u001b[0mraise_missing\u001b[0m\u001b[0;34m=\u001b[0m\u001b[0mraise_missing\u001b[0m\u001b[0;34m)\u001b[0m\u001b[0;34m\u001b[0m\u001b[0;34m\u001b[0m\u001b[0m\n\u001b[0m\u001b[1;32m   1255\u001b[0m         \u001b[0;32mreturn\u001b[0m \u001b[0mkeyarr\u001b[0m\u001b[0;34m,\u001b[0m \u001b[0mindexer\u001b[0m\u001b[0;34m\u001b[0m\u001b[0;34m\u001b[0m\u001b[0m\n\u001b[1;32m   1256\u001b[0m \u001b[0;34m\u001b[0m\u001b[0m\n",
      "\u001b[0;32m~/opt/anaconda3/lib/python3.8/site-packages/pandas/core/indexing.py\u001b[0m in \u001b[0;36m_validate_read_indexer\u001b[0;34m(self, key, indexer, axis, raise_missing)\u001b[0m\n\u001b[1;32m   1313\u001b[0m \u001b[0;34m\u001b[0m\u001b[0m\n\u001b[1;32m   1314\u001b[0m                 \u001b[0;32mwith\u001b[0m \u001b[0moption_context\u001b[0m\u001b[0;34m(\u001b[0m\u001b[0;34m\"display.max_seq_items\"\u001b[0m\u001b[0;34m,\u001b[0m \u001b[0;36m10\u001b[0m\u001b[0;34m,\u001b[0m \u001b[0;34m\"display.width\"\u001b[0m\u001b[0;34m,\u001b[0m \u001b[0;36m80\u001b[0m\u001b[0;34m)\u001b[0m\u001b[0;34m:\u001b[0m\u001b[0;34m\u001b[0m\u001b[0;34m\u001b[0m\u001b[0m\n\u001b[0;32m-> 1315\u001b[0;31m                     raise KeyError(\n\u001b[0m\u001b[1;32m   1316\u001b[0m                         \u001b[0;34m\"Passing list-likes to .loc or [] with any missing labels \"\u001b[0m\u001b[0;34m\u001b[0m\u001b[0;34m\u001b[0m\u001b[0m\n\u001b[1;32m   1317\u001b[0m                         \u001b[0;34m\"is no longer supported. \"\u001b[0m\u001b[0;34m\u001b[0m\u001b[0;34m\u001b[0m\u001b[0m\n",
      "\u001b[0;31mKeyError\u001b[0m: \"Passing list-likes to .loc or [] with any missing labels is no longer supported. The following labels were missing: Int64Index([3], dtype='int64'). See https://pandas.pydata.org/pandas-docs/stable/user_guide/indexing.html#deprecate-loc-reindex-listlike\""
     ]
    }
   ],
   "source": [
    "df.loc[[0, 3], 'age']"
   ]
  },
  {
   "cell_type": "markdown",
   "metadata": {},
   "source": [
    "Only 3 series, not 4, and the count starts with 0, i.e, the third column is 2."
   ]
  }
 ],
 "metadata": {
  "kernelspec": {
   "display_name": "Python 3",
   "language": "python",
   "name": "python3"
  },
  "language_info": {
   "codemirror_mode": {
    "name": "ipython",
    "version": 3
   },
   "file_extension": ".py",
   "mimetype": "text/x-python",
   "name": "python",
   "nbconvert_exporter": "python",
   "pygments_lexer": "ipython3",
   "version": "3.8.5"
  }
 },
 "nbformat": 4,
 "nbformat_minor": 4
}
