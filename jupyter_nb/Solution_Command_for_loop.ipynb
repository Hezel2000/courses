{
 "cells": [
  {
   "cell_type": "markdown",
   "metadata": {},
   "source": [
    "# Solution- for loop"
   ]
  },
  {
   "cell_type": "markdown",
   "metadata": {},
   "source": [
    "## Instant Review & Quiz"
   ]
  },
  {
   "cell_type": "markdown",
   "metadata": {},
   "source": [
    "I1. Briefly describe what a for loop is and how it works."
   ]
  },
  {
   "cell_type": "markdown",
   "metadata": {},
   "source": [
    "<font color = darkgreen><b>\n",
    "    A for loop applies an algorithm (=program) to each element of a list.\n",
    "</b></font>"
   ]
  },
  {
   "cell_type": "markdown",
   "metadata": {},
   "source": [
    "Q1. All code lines that are part of the for loop need to be indented<br>\n",
    "True<br>\n",
    "False"
   ]
  },
  {
   "cell_type": "markdown",
   "metadata": {},
   "source": [
    "<font color = darkgreen><b>\n",
    "    True\n",
    "</b></font>"
   ]
  },
  {
   "cell_type": "markdown",
   "metadata": {},
   "source": [
    "Q2. The line with for ... needs to be closed with a ___<br>\n",
    "comma<br>\n",
    "semicolon<br>\n",
    "colon<br>\n",
    "full stop"
   ]
  },
  {
   "cell_type": "markdown",
   "metadata": {},
   "source": [
    "<font color = darkgreen><b>\n",
    "    colon\n",
    "</b></font>"
   ]
  },
  {
   "cell_type": "markdown",
   "metadata": {},
   "source": [
    "## Practise I"
   ]
  },
  {
   "cell_type": "markdown",
   "metadata": {},
   "source": [
    "You measured some isotope data, but when calculating the $\\delta$-value, you forgot to subtract the 1.<br>\n",
    "Code a for loop that subtracts 1 from each value and displays the results. "
   ]
  },
  {
   "cell_type": "code",
   "execution_count": 35,
   "metadata": {},
   "outputs": [
    {
     "name": "stdout",
     "output_type": "stream",
     "text": [
      "-2.1799999999999997\n",
      "0.09000000000000008\n",
      "-1.07\n",
      "-1.74\n",
      "0.22999999999999998\n"
     ]
    }
   ],
   "source": [
    "feIsotopeData = [-1.18, 1.09, -0.07, -0.74, 1.23]\n",
    "\n",
    "for i in feIsotopeData:\n",
    "    res = i - 1\n",
    "    print(res)"
   ]
  },
  {
   "cell_type": "markdown",
   "metadata": {},
   "source": [
    "Now store the recalculated data in a new list called 'recalculatedFeIsoData'.<br>\n",
    "Further, all values shall have only 2 decimals.<br>\n",
    "Display the content of recalculatedFeIsoData."
   ]
  },
  {
   "cell_type": "code",
   "execution_count": 36,
   "metadata": {},
   "outputs": [
    {
     "data": {
      "text/plain": [
       "[-2.18, 0.09, -1.07, -1.74, 0.23]"
      ]
     },
     "execution_count": 36,
     "metadata": {},
     "output_type": "execute_result"
    }
   ],
   "source": [
    "feIsotopeData = [-1.18, 1.09, -0.07, -0.74, 1.23]\n",
    "\n",
    "recalculatedFeIsoData = []\n",
    "\n",
    "for i in feIsotopeData:\n",
    "    res = round(i - 1, 2)\n",
    "    recalculatedFeIsoData.append(res)\n",
    "\n",
    "recalculatedFeIsoData"
   ]
  },
  {
   "cell_type": "markdown",
   "metadata": {},
   "source": [
    "## Practise II"
   ]
  },
  {
   "cell_type": "markdown",
   "metadata": {},
   "source": [
    "Assume a simple list with the following elements:"
   ]
  },
  {
   "cell_type": "code",
   "execution_count": 37,
   "metadata": {},
   "outputs": [],
   "source": [
    "l = [2, 4, 7, 2, 4, 6]"
   ]
  },
  {
   "cell_type": "markdown",
   "metadata": {},
   "source": [
    "We can get the third element using:"
   ]
  },
  {
   "cell_type": "code",
   "execution_count": 38,
   "metadata": {
    "scrolled": true
   },
   "outputs": [
    {
     "data": {
      "text/plain": [
       "7"
      ]
     },
     "execution_count": 38,
     "metadata": {},
     "output_type": "execute_result"
    }
   ],
   "source": [
    "l[2]"
   ]
  },
  {
   "cell_type": "markdown",
   "metadata": {},
   "source": [
    "<font color = teal>\n",
    "    If we want to have the second to fourth element, this is possible using:<br>\n",
    "    <b>Note:</b> As list counting starts with 0, the fourth element is indexed with 3. However, we need to use 4 in this command, as the command means: up to, but not including the fourth elemnt. This is something called 'exclusive'. There are other commands, in which the numbering is inclusive. This is not critical at the moment, but a good occasion for a heads up of this slightly kind of awkwardness.\n",
    "</font>"
   ]
  },
  {
   "cell_type": "code",
   "execution_count": 39,
   "metadata": {
    "scrolled": true
   },
   "outputs": [
    {
     "data": {
      "text/plain": [
       "[4, 7, 2]"
      ]
     },
     "execution_count": 39,
     "metadata": {},
     "output_type": "execute_result"
    }
   ],
   "source": [
    "l[1:4]"
   ]
  },
  {
   "cell_type": "markdown",
   "metadata": {},
   "source": [
    "In a for loop, we can also use range in the following way to get the numbers 0, 1, 2 (btw: this gives some insights into why there is this thing of 'exclusive' – can you guess why?):"
   ]
  },
  {
   "cell_type": "code",
   "execution_count": 40,
   "metadata": {},
   "outputs": [
    {
     "name": "stdout",
     "output_type": "stream",
     "text": [
      "0\n",
      "1\n",
      "2\n"
     ]
    }
   ],
   "source": [
    "for i in range(3):\n",
    "    print(i)"
   ]
  },
  {
   "cell_type": "markdown",
   "metadata": {},
   "source": [
    "<font color = teal>\n",
    "    We can, however, also specify the range, so it does not start with 0:\n",
    "</font>"
   ]
  },
  {
   "cell_type": "code",
   "execution_count": 41,
   "metadata": {},
   "outputs": [
    {
     "name": "stdout",
     "output_type": "stream",
     "text": [
      "1\n",
      "2\n"
     ]
    }
   ],
   "source": [
    "for i in range(1, 3):\n",
    "    print(i)"
   ]
  },
  {
   "cell_type": "markdown",
   "metadata": {},
   "source": [
    "<b>Now a challenge:<br></b>\n",
    "We have two lists of Cr concentrations, each with a different lengths of their elements:"
   ]
  },
  {
   "cell_type": "code",
   "execution_count": 42,
   "metadata": {},
   "outputs": [],
   "source": [
    "crData1 = [[0.87498435, 1.3987872, 0.9900238, 2.01092781],[0.87498435, 1.3987872, 0.9900238, 2.01092781]]\n",
    "crData2 = [[0.23487, 1.7209, 1.29873],[1.79234, 1.082734, 0.78234]]"
   ]
  },
  {
   "cell_type": "markdown",
   "metadata": {},
   "source": [
    "In the following, we are now only interested in the first element of each of the lists (whic itself is also a list).<br>\n",
    "Then, we want the sum of:<br>\n",
    "the sum of the first element of each of the lists (which of course is identical to the value of the first element)<br>\n",
    "the sum of the first two elements of each of the lists<br>\n",
    "the sum of the first three elements of each of the lists<br>\n",
    "the sum of the first four (=all) elements of each of the lists – this, of course, only applies to crData1<br><br>\n",
    "<b>Now, code a program that outputs these sums.</b>"
   ]
  },
  {
   "cell_type": "code",
   "execution_count": 43,
   "metadata": {},
   "outputs": [
    {
     "name": "stdout",
     "output_type": "stream",
     "text": [
      "0.87498435\n",
      "2.2737715499999998\n",
      "3.2637953499999997\n",
      "5.27472316\n"
     ]
    }
   ],
   "source": [
    "for i in range(1, 5):\n",
    "    res = sum(crData1[0][0:i])\n",
    "    print(res)"
   ]
  },
  {
   "cell_type": "markdown",
   "metadata": {},
   "source": [
    "Got it? And up for one more step?<br>\n",
    "Now,<br>\n",
    "1. In the previous program, we hard coded the number of elements in the range command. This time, code it so that the number of elements is automatically determined in the range command.<br>\n",
    "2. In the previous programm, the name of the dataset is part of the for loop. We do not want that any more, in particular if this name might occur multiple times. Therefore, assign the dataset name to the variable 'data', and use this variable in the for loop.<br>\n",
    "3. Let the values only have 2 decimals.<br>\n",
    "4. Store the final results as a list in the variable 'rollingSums', and disply this list."
   ]
  },
  {
   "cell_type": "code",
   "execution_count": 46,
   "metadata": {},
   "outputs": [
    {
     "data": {
      "text/plain": [
       "[0.87, 2.27, 3.26, 5.27]"
      ]
     },
     "execution_count": 46,
     "metadata": {},
     "output_type": "execute_result"
    }
   ],
   "source": [
    "data = crData1\n",
    "\n",
    "rollingSums = []\n",
    "\n",
    "for i in range(1, len(data[0]) + 1):\n",
    "    res = sum(data[0][0:i])\n",
    "    res = round(res, 2)        # it is possible to assign a new value to an already used variable, this line could be included in the previous or next line\n",
    "    rollingSums.append(res)\n",
    "\n",
    "rollingSums"
   ]
  },
  {
   "cell_type": "markdown",
   "metadata": {},
   "source": [
    "<font color = brown><b>\n",
    "    Congrats if you got so far, or almost so far – that was not simple!<br>\n",
    "    You coded a versatile and already complex Python program.\n",
    "</font></b>"
   ]
  }
 ],
 "metadata": {
  "kernelspec": {
   "display_name": "Python 3",
   "language": "python",
   "name": "python3"
  },
  "language_info": {
   "codemirror_mode": {
    "name": "ipython",
    "version": 3
   },
   "file_extension": ".py",
   "mimetype": "text/x-python",
   "name": "python",
   "nbconvert_exporter": "python",
   "pygments_lexer": "ipython3",
   "version": "3.8.5"
  }
 },
 "nbformat": 4,
 "nbformat_minor": 4
}
