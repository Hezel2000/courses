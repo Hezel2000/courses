{
 "cells": [
  {
   "cell_type": "markdown",
   "metadata": {},
   "source": [
    "# Solution- Building a ratio mixing command"
   ]
  },
  {
   "cell_type": "markdown",
   "metadata": {},
   "source": [
    "The following needs to be copied into the file 'mineralogyModule.py' by simply openen it in Jupyter Notebooks and copy and paste the follwing in there."
   ]
  },
  {
   "cell_type": "code",
   "execution_count": null,
   "metadata": {},
   "outputs": [],
   "source": [
    "def mixRatios(r1El1, r1El2, r2El1, r2El2, X1):\n",
    "    res = (r1El1 * X1 + r2El1 * (1 - X1)) / (r1El2 * X1 + r2El2 * (1 - X1)) \n",
    "    return round(res, 2)"
   ]
  },
  {
   "cell_type": "markdown",
   "metadata": {},
   "source": [
    "Then, the following should work"
   ]
  },
  {
   "cell_type": "code",
   "execution_count": 1,
   "metadata": {},
   "outputs": [],
   "source": [
    "import modules.mineralogyModule as mi"
   ]
  },
  {
   "cell_type": "code",
   "execution_count": 5,
   "metadata": {},
   "outputs": [
    {
     "data": {
      "text/plain": [
       "6.41"
      ]
     },
     "execution_count": 5,
     "metadata": {},
     "output_type": "execute_result"
    }
   ],
   "source": [
    "r1El1 = 22.34 # MgO in Rock 1 in wt%\n",
    "r1El2 = 2.58  # FeO in Rock 1 in wt%\n",
    "r2El1 = 25.84 # MgO in Rock 2 in wt%\n",
    "r2El2 = 7.66  # FeO in Rock 2 in wt%\n",
    "\n",
    "mi.mixRatios(r1El1, r1El2, r2El1, r2El2, .8)  # X is the fraction of rock 1"
   ]
  }
 ],
 "metadata": {
  "kernelspec": {
   "display_name": "Python 3 (ipykernel)",
   "language": "python",
   "name": "python3"
  },
  "language_info": {
   "codemirror_mode": {
    "name": "ipython",
    "version": 3
   },
   "file_extension": ".py",
   "mimetype": "text/x-python",
   "name": "python",
   "nbconvert_exporter": "python",
   "pygments_lexer": "ipython3",
   "version": "3.9.12"
  }
 },
 "nbformat": 4,
 "nbformat_minor": 4
}
