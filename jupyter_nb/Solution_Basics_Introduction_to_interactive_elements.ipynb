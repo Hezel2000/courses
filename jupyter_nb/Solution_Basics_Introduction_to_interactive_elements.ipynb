{
 "cells": [
  {
   "cell_type": "markdown",
   "metadata": {},
   "source": [
    "# Solution- Introduction to interactive elements"
   ]
  },
  {
   "cell_type": "markdown",
   "metadata": {},
   "source": [
    "## Instant Review & Quiz"
   ]
  },
  {
   "cell_type": "markdown",
   "metadata": {},
   "source": [
    "<b>I1. What are interactive elements?</b>"
   ]
  },
  {
   "cell_type": "markdown",
   "metadata": {},
   "source": [
    "<font color = darkgreen><b>\n",
    "    Baiscally GUI (graphical user interface) elements, with which a user can interact with the displayed or visualised data.\n",
    "</b></font>"
   ]
  },
  {
   "cell_type": "markdown",
   "metadata": {},
   "source": [
    "<b>Q1. What is required for interactive elements?</b><br>\n",
    "A self-defined method<br>\n",
    "A self-defined for loop<br>\n",
    "A self-defined command<br>\n",
    "Nothing particular"
   ]
  },
  {
   "cell_type": "markdown",
   "metadata": {},
   "source": [
    "<font color = darkgreen><b>\n",
    "    A self-defined command\n",
    "</b></font>"
   ]
  },
  {
   "cell_type": "markdown",
   "metadata": {},
   "source": [
    "<b>Q2. Interact can take a maximum of 5 variables.</b><br>\n",
    "True<br>\n",
    "False"
   ]
  },
  {
   "cell_type": "markdown",
   "metadata": {},
   "source": [
    "<font color = darkgreen><b>\n",
    "    False\n",
    "</b></font>"
   ]
  },
  {
   "cell_type": "markdown",
   "metadata": {},
   "source": [
    "## Practise"
   ]
  },
  {
   "cell_type": "markdown",
   "metadata": {},
   "source": [
    "Import the required libraries to make an interactive plot using a database."
   ]
  },
  {
   "cell_type": "code",
   "execution_count": 25,
   "metadata": {},
   "outputs": [],
   "source": [
    "import pandas as pd\n",
    "import matplotlib.pyplot as plt\n",
    "from ipywidgets import interact"
   ]
  },
  {
   "cell_type": "markdown",
   "metadata": {},
   "source": [
    "As database we want to use 'Tanzania Craton Archean.csv'."
   ]
  },
  {
   "cell_type": "code",
   "execution_count": 26,
   "metadata": {},
   "outputs": [
    {
     "name": "stdout",
     "output_type": "stream",
     "text": [
      "['Citations', 'Tectonic Setting', 'Location', 'Location Comment', 'Latitude (Min)', 'Latitude (Max)', 'Longitude (Min)', 'Longitude (Max)', 'Land or Sea', 'Elevation (Min)', 'Elevation (Max)', 'Sample Name', 'Rock Name', 'Age (a, Min)', 'Age (a, Max)', 'Geol', 'Age', 'Eruption Day', 'Eruption Month', 'Eruption Year', 'Rock Texture', 'Rock Type', 'Drill Depth (Min)', 'Drill Depth (Max)', 'Alteration', 'Mineral', 'Material', 'Si', 'Ti', 'B', 'Al', 'Cr', 'Fe3+', 'Fe2+', 'Fetot(2+)', 'Ca', 'Mg', 'Mn', 'Ni', 'K', 'Na', 'P', 'H2O', 'H2OP', 'H2OM', 'H2Otot', 'CO2', 'CO', 'F', 'Cl', 'Cl2', 'OH', 'CH4', 'SO2', 'SO3', 'SO4', 'S', 'LOI', 'Volatiles', 'O', 'Others', 'HE(CCM/G)', 'HE(CCMSTP/G)', 'HE3(CCMSTP/G)', 'HE3(AT/G)', 'HE4(CCM/G)', 'HE4(CCMSTP/G)', 'HE4(AT/G)', 'HE4(MOLE/G)', 'HE4(NCC/G)', 'HE(NCC/G)', 'Li', 'Be', 'B.1', 'C', 'CO2.1', 'F.1', 'Na.1', 'Al.1', 'P.1', 'S.1', 'Cl.1', 'K.1', 'Ca.1', 'Sc', 'Ti.1', 'V', 'Cr.1', 'Mn.1', 'Fe', 'Co', 'Ni.1', 'Cu', 'Zn', 'Ga', 'Ge', 'As', 'Se', 'Br', 'Rb', 'Sr', 'Y', 'Zr', 'Nb', 'Mo', 'Ru', 'Rh', 'Pd', 'Ag', 'Cd', 'In', 'Sn', 'Sb', 'Te', 'I', 'Cs', 'Ba', 'La', 'Ce', 'Pr', 'Nd', 'Sm', 'Eu', 'Gd', 'Tb', 'Dy', 'Ho', 'Er', 'Tm', 'Yb', 'Lu', 'Hf', 'Ta', 'W', 'Re', 'Os', 'Ir', 'Pt', 'Au', 'Hg', 'Tl', 'Pb', 'Bi', 'Th', 'U', 'Nd143/Nd144', 'Nd143/Nd144 initial', 'e Nd', 'Sr87/Sr86', 'SR87_SR86_INI', 'PB206_PB204', 'PB206_PB204_INI', 'PB207_PB204', 'PB207_PB204_INI', 'PB208_PB204', 'PB208_PB204_INI', 'OS184_OS188', 'OS186_OS188', 'OS187_OS186', 'OS187_OS188', 'RE187_OS186', 'RE187_OS188', 'HF176_HF177', 'HE3_HE4', 'HE3_HE4(R/R(A))', 'HE4_HE3', 'HE4_HE3(R/R(A))', 'K40_AR40', 'AR40_K40', 'Unique Id']\n"
     ]
    },
    {
     "data": {
      "text/html": [
       "<div>\n",
       "<style scoped>\n",
       "    .dataframe tbody tr th:only-of-type {\n",
       "        vertical-align: middle;\n",
       "    }\n",
       "\n",
       "    .dataframe tbody tr th {\n",
       "        vertical-align: top;\n",
       "    }\n",
       "\n",
       "    .dataframe thead th {\n",
       "        text-align: right;\n",
       "    }\n",
       "</style>\n",
       "<table border=\"1\" class=\"dataframe\">\n",
       "  <thead>\n",
       "    <tr style=\"text-align: right;\">\n",
       "      <th></th>\n",
       "      <th>Citations</th>\n",
       "      <th>Tectonic Setting</th>\n",
       "      <th>Location</th>\n",
       "      <th>Location Comment</th>\n",
       "      <th>Latitude (Min)</th>\n",
       "      <th>Latitude (Max)</th>\n",
       "      <th>Longitude (Min)</th>\n",
       "      <th>Longitude (Max)</th>\n",
       "      <th>Land or Sea</th>\n",
       "      <th>Elevation (Min)</th>\n",
       "      <th>...</th>\n",
       "      <th>RE187_OS186</th>\n",
       "      <th>RE187_OS188</th>\n",
       "      <th>HF176_HF177</th>\n",
       "      <th>HE3_HE4</th>\n",
       "      <th>HE3_HE4(R/R(A))</th>\n",
       "      <th>HE4_HE3</th>\n",
       "      <th>HE4_HE3(R/R(A))</th>\n",
       "      <th>K40_AR40</th>\n",
       "      <th>AR40_K40</th>\n",
       "      <th>Unique Id</th>\n",
       "    </tr>\n",
       "  </thead>\n",
       "  <tbody>\n",
       "    <tr>\n",
       "      <th>0</th>\n",
       "      <td>[7534]</td>\n",
       "      <td>ARCHEAN CRATON (INCLUDING GREENSTONE BELTS)</td>\n",
       "      <td>TANZANIA CRATON_ARCHEAN / SUKUMALAND GREENSTON...</td>\n",
       "      <td>ARTISANAL MINING PITS FROM THE RWAMAGAZA AREA,...</td>\n",
       "      <td>-3.0800</td>\n",
       "      <td>-3.2300</td>\n",
       "      <td>32.4000</td>\n",
       "      <td>32.4800</td>\n",
       "      <td>SUBAERIAL</td>\n",
       "      <td>NaN</td>\n",
       "      <td>...</td>\n",
       "      <td>NaN</td>\n",
       "      <td>NaN</td>\n",
       "      <td>NaN</td>\n",
       "      <td>NaN</td>\n",
       "      <td>NaN</td>\n",
       "      <td>NaN</td>\n",
       "      <td>NaN</td>\n",
       "      <td>NaN</td>\n",
       "      <td>NaN</td>\n",
       "      <td>194622</td>\n",
       "    </tr>\n",
       "    <tr>\n",
       "      <th>1</th>\n",
       "      <td>[7534]</td>\n",
       "      <td>ARCHEAN CRATON (INCLUDING GREENSTONE BELTS)</td>\n",
       "      <td>TANZANIA CRATON_ARCHEAN / SUKUMALAND GREENSTON...</td>\n",
       "      <td>ARTISANAL MINING PITS FROM THE RWAMAGAZA AREA,...</td>\n",
       "      <td>-3.0800</td>\n",
       "      <td>-3.2300</td>\n",
       "      <td>32.4000</td>\n",
       "      <td>32.4800</td>\n",
       "      <td>SUBAERIAL</td>\n",
       "      <td>NaN</td>\n",
       "      <td>...</td>\n",
       "      <td>NaN</td>\n",
       "      <td>NaN</td>\n",
       "      <td>NaN</td>\n",
       "      <td>NaN</td>\n",
       "      <td>NaN</td>\n",
       "      <td>NaN</td>\n",
       "      <td>NaN</td>\n",
       "      <td>NaN</td>\n",
       "      <td>NaN</td>\n",
       "      <td>194623</td>\n",
       "    </tr>\n",
       "    <tr>\n",
       "      <th>2</th>\n",
       "      <td>[7534]</td>\n",
       "      <td>ARCHEAN CRATON (INCLUDING GREENSTONE BELTS)</td>\n",
       "      <td>TANZANIA CRATON_ARCHEAN / SUKUMALAND GREENSTON...</td>\n",
       "      <td>ARTISANAL MINING PITS FROM THE RWAMAGAZA AREA,...</td>\n",
       "      <td>-3.0800</td>\n",
       "      <td>-3.2300</td>\n",
       "      <td>32.4000</td>\n",
       "      <td>32.4800</td>\n",
       "      <td>SUBAERIAL</td>\n",
       "      <td>NaN</td>\n",
       "      <td>...</td>\n",
       "      <td>NaN</td>\n",
       "      <td>NaN</td>\n",
       "      <td>NaN</td>\n",
       "      <td>NaN</td>\n",
       "      <td>NaN</td>\n",
       "      <td>NaN</td>\n",
       "      <td>NaN</td>\n",
       "      <td>NaN</td>\n",
       "      <td>NaN</td>\n",
       "      <td>194624</td>\n",
       "    </tr>\n",
       "    <tr>\n",
       "      <th>3</th>\n",
       "      <td>[7534]</td>\n",
       "      <td>ARCHEAN CRATON (INCLUDING GREENSTONE BELTS)</td>\n",
       "      <td>TANZANIA CRATON_ARCHEAN / SUKUMALAND GREENSTON...</td>\n",
       "      <td>ARTISANAL MINING PITS FROM THE RWAMAGAZA AREA,...</td>\n",
       "      <td>-3.0800</td>\n",
       "      <td>-3.2300</td>\n",
       "      <td>32.4000</td>\n",
       "      <td>32.4800</td>\n",
       "      <td>SUBAERIAL</td>\n",
       "      <td>NaN</td>\n",
       "      <td>...</td>\n",
       "      <td>NaN</td>\n",
       "      <td>NaN</td>\n",
       "      <td>NaN</td>\n",
       "      <td>NaN</td>\n",
       "      <td>NaN</td>\n",
       "      <td>NaN</td>\n",
       "      <td>NaN</td>\n",
       "      <td>NaN</td>\n",
       "      <td>NaN</td>\n",
       "      <td>194625</td>\n",
       "    </tr>\n",
       "    <tr>\n",
       "      <th>4</th>\n",
       "      <td>[7534]</td>\n",
       "      <td>ARCHEAN CRATON (INCLUDING GREENSTONE BELTS)</td>\n",
       "      <td>TANZANIA CRATON_ARCHEAN / SUKUMALAND GREENSTON...</td>\n",
       "      <td>ARTISANAL MINING PITS FROM THE RWAMAGAZA AREA,...</td>\n",
       "      <td>-3.0800</td>\n",
       "      <td>-3.2300</td>\n",
       "      <td>32.4000</td>\n",
       "      <td>32.4800</td>\n",
       "      <td>SUBAERIAL</td>\n",
       "      <td>NaN</td>\n",
       "      <td>...</td>\n",
       "      <td>NaN</td>\n",
       "      <td>NaN</td>\n",
       "      <td>NaN</td>\n",
       "      <td>NaN</td>\n",
       "      <td>NaN</td>\n",
       "      <td>NaN</td>\n",
       "      <td>NaN</td>\n",
       "      <td>NaN</td>\n",
       "      <td>NaN</td>\n",
       "      <td>194626</td>\n",
       "    </tr>\n",
       "    <tr>\n",
       "      <th>...</th>\n",
       "      <td>...</td>\n",
       "      <td>...</td>\n",
       "      <td>...</td>\n",
       "      <td>...</td>\n",
       "      <td>...</td>\n",
       "      <td>...</td>\n",
       "      <td>...</td>\n",
       "      <td>...</td>\n",
       "      <td>...</td>\n",
       "      <td>...</td>\n",
       "      <td>...</td>\n",
       "      <td>...</td>\n",
       "      <td>...</td>\n",
       "      <td>...</td>\n",
       "      <td>...</td>\n",
       "      <td>...</td>\n",
       "      <td>...</td>\n",
       "      <td>...</td>\n",
       "      <td>...</td>\n",
       "      <td>...</td>\n",
       "      <td>...</td>\n",
       "    </tr>\n",
       "    <tr>\n",
       "      <th>230</th>\n",
       "      <td>[10897]</td>\n",
       "      <td>ARCHEAN CRATON (INCLUDING GREENSTONE BELTS)</td>\n",
       "      <td>TANZANIA CRATON_ARCHEAN / MUSOMA-MARA GREENSTO...</td>\n",
       "      <td>NaN</td>\n",
       "      <td>1.2772</td>\n",
       "      <td>1.2772</td>\n",
       "      <td>34.0969</td>\n",
       "      <td>34.0969</td>\n",
       "      <td>SUBAERIAL</td>\n",
       "      <td>NaN</td>\n",
       "      <td>...</td>\n",
       "      <td>NaN</td>\n",
       "      <td>NaN</td>\n",
       "      <td>NaN</td>\n",
       "      <td>NaN</td>\n",
       "      <td>NaN</td>\n",
       "      <td>NaN</td>\n",
       "      <td>NaN</td>\n",
       "      <td>NaN</td>\n",
       "      <td>NaN</td>\n",
       "      <td>57999-TA 96</td>\n",
       "    </tr>\n",
       "    <tr>\n",
       "      <th>231</th>\n",
       "      <td>[10897]</td>\n",
       "      <td>ARCHEAN CRATON (INCLUDING GREENSTONE BELTS)</td>\n",
       "      <td>TANZANIA CRATON_ARCHEAN / MUSOMA-MARA GREENSTO...</td>\n",
       "      <td>NaN</td>\n",
       "      <td>1.4008</td>\n",
       "      <td>1.4008</td>\n",
       "      <td>34.2236</td>\n",
       "      <td>34.2236</td>\n",
       "      <td>SUBAERIAL</td>\n",
       "      <td>NaN</td>\n",
       "      <td>...</td>\n",
       "      <td>NaN</td>\n",
       "      <td>NaN</td>\n",
       "      <td>NaN</td>\n",
       "      <td>NaN</td>\n",
       "      <td>NaN</td>\n",
       "      <td>NaN</td>\n",
       "      <td>NaN</td>\n",
       "      <td>NaN</td>\n",
       "      <td>NaN</td>\n",
       "      <td>58007-TA 65</td>\n",
       "    </tr>\n",
       "    <tr>\n",
       "      <th>232</th>\n",
       "      <td>[10897]</td>\n",
       "      <td>ARCHEAN CRATON (INCLUDING GREENSTONE BELTS)</td>\n",
       "      <td>TANZANIA CRATON_ARCHEAN / MUSOMA-MARA GREENSTO...</td>\n",
       "      <td>NaN</td>\n",
       "      <td>1.2481</td>\n",
       "      <td>1.2481</td>\n",
       "      <td>34.2236</td>\n",
       "      <td>34.2236</td>\n",
       "      <td>SUBAERIAL</td>\n",
       "      <td>NaN</td>\n",
       "      <td>...</td>\n",
       "      <td>NaN</td>\n",
       "      <td>NaN</td>\n",
       "      <td>NaN</td>\n",
       "      <td>NaN</td>\n",
       "      <td>NaN</td>\n",
       "      <td>NaN</td>\n",
       "      <td>NaN</td>\n",
       "      <td>NaN</td>\n",
       "      <td>NaN</td>\n",
       "      <td>58016-TA 61</td>\n",
       "    </tr>\n",
       "    <tr>\n",
       "      <th>233</th>\n",
       "      <td>[10897]</td>\n",
       "      <td>ARCHEAN CRATON (INCLUDING GREENSTONE BELTS)</td>\n",
       "      <td>TANZANIA CRATON_ARCHEAN / MUSOMA-MARA GREENSTO...</td>\n",
       "      <td>NaN</td>\n",
       "      <td>1.2817</td>\n",
       "      <td>1.2817</td>\n",
       "      <td>34.3981</td>\n",
       "      <td>34.3981</td>\n",
       "      <td>SUBAERIAL</td>\n",
       "      <td>NaN</td>\n",
       "      <td>...</td>\n",
       "      <td>NaN</td>\n",
       "      <td>NaN</td>\n",
       "      <td>NaN</td>\n",
       "      <td>NaN</td>\n",
       "      <td>NaN</td>\n",
       "      <td>NaN</td>\n",
       "      <td>NaN</td>\n",
       "      <td>NaN</td>\n",
       "      <td>NaN</td>\n",
       "      <td>58018-TA 43</td>\n",
       "    </tr>\n",
       "    <tr>\n",
       "      <th>234</th>\n",
       "      <td>[10897]</td>\n",
       "      <td>ARCHEAN CRATON (INCLUDING GREENSTONE BELTS)</td>\n",
       "      <td>TANZANIA CRATON_ARCHEAN / MUSOMA-MARA GREENSTO...</td>\n",
       "      <td>NaN</td>\n",
       "      <td>1.3378</td>\n",
       "      <td>1.3378</td>\n",
       "      <td>34.3078</td>\n",
       "      <td>34.3078</td>\n",
       "      <td>SUBAERIAL</td>\n",
       "      <td>NaN</td>\n",
       "      <td>...</td>\n",
       "      <td>NaN</td>\n",
       "      <td>NaN</td>\n",
       "      <td>NaN</td>\n",
       "      <td>NaN</td>\n",
       "      <td>NaN</td>\n",
       "      <td>NaN</td>\n",
       "      <td>NaN</td>\n",
       "      <td>NaN</td>\n",
       "      <td>NaN</td>\n",
       "      <td>58029-TA 107</td>\n",
       "    </tr>\n",
       "  </tbody>\n",
       "</table>\n",
       "<p>235 rows × 170 columns</p>\n",
       "</div>"
      ],
      "text/plain": [
       "    Citations                             Tectonic Setting  \\\n",
       "0      [7534]  ARCHEAN CRATON (INCLUDING GREENSTONE BELTS)   \n",
       "1      [7534]  ARCHEAN CRATON (INCLUDING GREENSTONE BELTS)   \n",
       "2      [7534]  ARCHEAN CRATON (INCLUDING GREENSTONE BELTS)   \n",
       "3      [7534]  ARCHEAN CRATON (INCLUDING GREENSTONE BELTS)   \n",
       "4      [7534]  ARCHEAN CRATON (INCLUDING GREENSTONE BELTS)   \n",
       "..        ...                                          ...   \n",
       "230   [10897]  ARCHEAN CRATON (INCLUDING GREENSTONE BELTS)   \n",
       "231   [10897]  ARCHEAN CRATON (INCLUDING GREENSTONE BELTS)   \n",
       "232   [10897]  ARCHEAN CRATON (INCLUDING GREENSTONE BELTS)   \n",
       "233   [10897]  ARCHEAN CRATON (INCLUDING GREENSTONE BELTS)   \n",
       "234   [10897]  ARCHEAN CRATON (INCLUDING GREENSTONE BELTS)   \n",
       "\n",
       "                                              Location  \\\n",
       "0    TANZANIA CRATON_ARCHEAN / SUKUMALAND GREENSTON...   \n",
       "1    TANZANIA CRATON_ARCHEAN / SUKUMALAND GREENSTON...   \n",
       "2    TANZANIA CRATON_ARCHEAN / SUKUMALAND GREENSTON...   \n",
       "3    TANZANIA CRATON_ARCHEAN / SUKUMALAND GREENSTON...   \n",
       "4    TANZANIA CRATON_ARCHEAN / SUKUMALAND GREENSTON...   \n",
       "..                                                 ...   \n",
       "230  TANZANIA CRATON_ARCHEAN / MUSOMA-MARA GREENSTO...   \n",
       "231  TANZANIA CRATON_ARCHEAN / MUSOMA-MARA GREENSTO...   \n",
       "232  TANZANIA CRATON_ARCHEAN / MUSOMA-MARA GREENSTO...   \n",
       "233  TANZANIA CRATON_ARCHEAN / MUSOMA-MARA GREENSTO...   \n",
       "234  TANZANIA CRATON_ARCHEAN / MUSOMA-MARA GREENSTO...   \n",
       "\n",
       "                                      Location Comment  Latitude (Min)  \\\n",
       "0    ARTISANAL MINING PITS FROM THE RWAMAGAZA AREA,...         -3.0800   \n",
       "1    ARTISANAL MINING PITS FROM THE RWAMAGAZA AREA,...         -3.0800   \n",
       "2    ARTISANAL MINING PITS FROM THE RWAMAGAZA AREA,...         -3.0800   \n",
       "3    ARTISANAL MINING PITS FROM THE RWAMAGAZA AREA,...         -3.0800   \n",
       "4    ARTISANAL MINING PITS FROM THE RWAMAGAZA AREA,...         -3.0800   \n",
       "..                                                 ...             ...   \n",
       "230                                                NaN          1.2772   \n",
       "231                                                NaN          1.4008   \n",
       "232                                                NaN          1.2481   \n",
       "233                                                NaN          1.2817   \n",
       "234                                                NaN          1.3378   \n",
       "\n",
       "     Latitude (Max)  Longitude (Min)  Longitude (Max) Land or Sea  \\\n",
       "0           -3.2300          32.4000          32.4800   SUBAERIAL   \n",
       "1           -3.2300          32.4000          32.4800   SUBAERIAL   \n",
       "2           -3.2300          32.4000          32.4800   SUBAERIAL   \n",
       "3           -3.2300          32.4000          32.4800   SUBAERIAL   \n",
       "4           -3.2300          32.4000          32.4800   SUBAERIAL   \n",
       "..              ...              ...              ...         ...   \n",
       "230          1.2772          34.0969          34.0969   SUBAERIAL   \n",
       "231          1.4008          34.2236          34.2236   SUBAERIAL   \n",
       "232          1.2481          34.2236          34.2236   SUBAERIAL   \n",
       "233          1.2817          34.3981          34.3981   SUBAERIAL   \n",
       "234          1.3378          34.3078          34.3078   SUBAERIAL   \n",
       "\n",
       "     Elevation (Min)  ...  RE187_OS186 RE187_OS188 HF176_HF177 HE3_HE4  \\\n",
       "0                NaN  ...          NaN         NaN         NaN     NaN   \n",
       "1                NaN  ...          NaN         NaN         NaN     NaN   \n",
       "2                NaN  ...          NaN         NaN         NaN     NaN   \n",
       "3                NaN  ...          NaN         NaN         NaN     NaN   \n",
       "4                NaN  ...          NaN         NaN         NaN     NaN   \n",
       "..               ...  ...          ...         ...         ...     ...   \n",
       "230              NaN  ...          NaN         NaN         NaN     NaN   \n",
       "231              NaN  ...          NaN         NaN         NaN     NaN   \n",
       "232              NaN  ...          NaN         NaN         NaN     NaN   \n",
       "233              NaN  ...          NaN         NaN         NaN     NaN   \n",
       "234              NaN  ...          NaN         NaN         NaN     NaN   \n",
       "\n",
       "    HE3_HE4(R/R(A)) HE4_HE3 HE4_HE3(R/R(A))  K40_AR40  AR40_K40     Unique Id  \n",
       "0               NaN     NaN             NaN       NaN       NaN        194622  \n",
       "1               NaN     NaN             NaN       NaN       NaN        194623  \n",
       "2               NaN     NaN             NaN       NaN       NaN        194624  \n",
       "3               NaN     NaN             NaN       NaN       NaN        194625  \n",
       "4               NaN     NaN             NaN       NaN       NaN        194626  \n",
       "..              ...     ...             ...       ...       ...           ...  \n",
       "230             NaN     NaN             NaN       NaN       NaN   57999-TA 96  \n",
       "231             NaN     NaN             NaN       NaN       NaN   58007-TA 65  \n",
       "232             NaN     NaN             NaN       NaN       NaN   58016-TA 61  \n",
       "233             NaN     NaN             NaN       NaN       NaN   58018-TA 43  \n",
       "234             NaN     NaN             NaN       NaN       NaN  58029-TA 107  \n",
       "\n",
       "[235 rows x 170 columns]"
      ]
     },
     "execution_count": 26,
     "metadata": {},
     "output_type": "execute_result"
    }
   ],
   "source": [
    "df = pd.read_csv('data/Tanzania Craton Archean.csv')\n",
    "\n",
    "print(df.columns.tolist())\n",
    "\n",
    "df"
   ]
  },
  {
   "cell_type": "markdown",
   "metadata": {},
   "source": [
    "Make a scatter plot including some labelling elements."
   ]
  },
  {
   "cell_type": "code",
   "execution_count": 27,
   "metadata": {},
   "outputs": [
    {
     "data": {
      "image/png": "[encoded data removed]",
      "text/plain": [
       "<Figure size 432x288 with 1 Axes>"
      ]
     },
     "metadata": {
      "needs_background": "light"
     },
     "output_type": "display_data"
    }
   ],
   "source": [
    "xData = 'Na'\n",
    "yData = 'K'\n",
    "\n",
    "plt.scatter(df[xData] * .00001, df[yData] * .00001, label = 'Tanzania Craton')\n",
    "plt.xlabel(xData + ' (wt%)')\n",
    "plt.ylabel(yData + ' (wt%)')\n",
    "plt.legend(loc = 'upper left')\n",
    "\n",
    "plt.show()"
   ]
  },
  {
   "cell_type": "markdown",
   "metadata": {},
   "source": [
    "Now make a command that makes this plot, with the two elements as input variables to the command."
   ]
  },
  {
   "cell_type": "code",
   "execution_count": 28,
   "metadata": {},
   "outputs": [],
   "source": [
    "def pltData(xData, yData):\n",
    "    plt.scatter(df[xData] * .00001, df[yData] * .00001, label = 'Tanzania Craton')\n",
    "    plt.xlabel(xData + ' (wt%)')\n",
    "    plt.ylabel(yData + ' (wt%)')\n",
    "    plt.legend(loc = 'upper left')\n",
    "    return plt.show()"
   ]
  },
  {
   "cell_type": "markdown",
   "metadata": {},
   "source": [
    "Execute the command to test it:"
   ]
  },
  {
   "cell_type": "code",
   "execution_count": 29,
   "metadata": {},
   "outputs": [
    {
     "data": {
      "image/png": "[encoded data removed]",
      "text/plain": [
       "<Figure size 432x288 with 1 Axes>"
      ]
     },
     "metadata": {
      "needs_background": "light"
     },
     "output_type": "display_data"
    }
   ],
   "source": [
    "pltData('Na', 'K')"
   ]
  },
  {
   "cell_type": "markdown",
   "metadata": {},
   "source": [
    "Now use interact to select the elements for the x- and y-axes via drop-down menus.<br>\n",
    "Use a list with elements that will populate the drop-down menus.<br>\n",
    "Finally, test and enjoy that all is working just fine."
   ]
  },
  {
   "cell_type": "code",
   "execution_count": 30,
   "metadata": {},
   "outputs": [
    {
     "data": {
      "application/vnd.jupyter.widget-view+json": {
       "model_id": "e1882d0d76a349af806a2be12fdc870f",
       "version_major": 2,
       "version_minor": 0
      },
      "text/plain": [
       "interactive(children=(Dropdown(description='xData', options=('Si', 'Ti', 'Al', 'Mg', 'Mn', 'Ni', 'Co', 'Na', '…"
      ]
     },
     "metadata": {},
     "output_type": "display_data"
    },
    {
     "data": {
      "text/plain": [
       "<function __main__.pltData(xData, yData)>"
      ]
     },
     "execution_count": 30,
     "metadata": {},
     "output_type": "execute_result"
    }
   ],
   "source": [
    "elements = ['Si', 'Ti', 'Al', 'Mg', 'Mn', 'Ni', 'Co', 'Na', 'K']\n",
    "\n",
    "interact(pltData, xData = elements, yData = elements)"
   ]
  }
 ],
 "metadata": {
  "kernelspec": {
   "display_name": "Python 3",
   "language": "python",
   "name": "python3"
  },
  "language_info": {
   "codemirror_mode": {
    "name": "ipython",
    "version": 3
   },
   "file_extension": ".py",
   "mimetype": "text/x-python",
   "name": "python",
   "nbconvert_exporter": "python",
   "pygments_lexer": "ipython3",
   "version": "3.8.5"
  }
 },
 "nbformat": 4,
 "nbformat_minor": 4
}
